{
 "cells": [
  {
   "cell_type": "markdown",
   "metadata": {},
   "source": [
    "# **SMAI Assignment - 2**\n",
    "##### (Monsoon 2023-24)\n",
    "\n",
    "> **Name**: *Bhav Beri*\n",
    "> \n",
    "> **Roll Number**: *2021111013*\n",
    "\n",
    "## _Problem - 2_"
   ]
  },
  {
   "cell_type": "code",
   "execution_count": 217,
   "metadata": {},
   "outputs": [],
   "source": [
    "import numpy as np\n",
    "import pandas as pd\n",
    "import matplotlib.pyplot as plt\n",
    "from sklearn.datasets import load_wine\n",
    "from tqdm import trange\n",
    "from sklearn.cluster import KMeans\n",
    "from sklearn.metrics import silhouette_score"
   ]
  },
  {
   "cell_type": "code",
   "execution_count": 189,
   "metadata": {},
   "outputs": [],
   "source": [
    "customer_dataset_path = \"../Datasets/SMAI-Dataset-customer-dataset/data.csv\""
   ]
  },
  {
   "cell_type": "code",
   "execution_count": 203,
   "metadata": {},
   "outputs": [],
   "source": [
    "class GMM:\n",
    "    def __init__(self, max_iter=100):\n",
    "        self.k = 3\n",
    "        self.max_iter = max_iter\n",
    "        self.centers = None\n",
    "        self.covs = None\n",
    "        self.pi = None\n",
    "        self.log_likelihoods = None\n",
    "        self.log_likelihood = None\n",
    "\n",
    "    def fit(self, X, k=None, printing=True):\n",
    "        if k is not None:\n",
    "            self.k = k\n",
    "        n, d = X.shape\n",
    "        self.centers = X[np.random.choice(n, self.k, replace=False)]\n",
    "\n",
    "        dataframe = pd.DataFrame(X)\n",
    "        self.covs = np.array([dataframe.cov().to_numpy()] * self.k)\n",
    "        \n",
    "        self.pi = np.array([1 / self.k] * self.k)\n",
    "        self.log_likelihoods = []\n",
    "        self.log_likelihood = None\n",
    "\n",
    "        while(1):\n",
    "            starting=self._compute_log_likelihood(X)\n",
    "            # E-step\n",
    "            gamma = self._expectation(X)\n",
    "            # M-step\n",
    "            self._maximization(X, gamma)\n",
    "            # Compute log-likelihood\n",
    "            self.log_likelihood = self._compute_log_likelihood(X)\n",
    "            ending=self.log_likelihood\n",
    "            if(abs(ending-starting)<1.0e-3):\n",
    "                break\n",
    "            self.log_likelihoods.append(self.log_likelihood)\n",
    "            print(self.log_likelihood)\n",
    "            \n",
    "            if len(self.log_likelihoods) > 1 and np.abs(self.log_likelihoods[-1] - self.log_likelihoods[-2]) < 1e-3:\n",
    "                break\n",
    "        \n",
    "        if printing:\n",
    "            print(\"Centers: \", self.centers)\n",
    "            print(\"Covariances: \", self.covs)\n",
    "            print(\"Pi: \", self.pi)\n",
    "            print(\"Log-likelihood: \", self.log_likelihood)\n",
    "    \n",
    "    def _expectation(self, X):\n",
    "        n, d = X.shape\n",
    "        gamma = np.zeros((n, self.k))\n",
    "        # for i in range(n):\n",
    "        for j in range(self.k):\n",
    "            gamma[:, j] = self.pi[j] * self._gaussian(X, self.centers[j], self.covs[j])\n",
    "        gamma[:] /= np.sum(gamma[:], axis=1).reshape(-1, 1)\n",
    "        return gamma\n",
    "    \n",
    "    def _maximization(self, X, gamma):\n",
    "        n, d = X.shape\n",
    "        gamma = gamma.transpose()\n",
    "        class_responsibilities = np.sum(gamma, axis=1)\n",
    "\n",
    "        for i in range(self.k):\n",
    "            self.pi[i] = class_responsibilities[i] / n\n",
    "\n",
    "            weighted_sum = np.zeros((d,))\n",
    "            for j in range(n):\n",
    "                weighted_sum += gamma[i][j] * X[j]\n",
    "            self.centers[i] = weighted_sum / class_responsibilities[i]\n",
    "\n",
    "            cov_sum = np.zeros((d, d))\n",
    "            for j in range(n):\n",
    "                diff = X[j] - self.centers[i]\n",
    "                cov_sum += (gamma[i][j] / class_responsibilities[i]) * np.outer(diff, diff)\n",
    "            self.covs[i] = cov_sum + np.eye(d) * 1.0e-6\n",
    "\n",
    "    def _compute_log_likelihood(self, X):\n",
    "        n, d = X.shape\n",
    "\n",
    "        temp = np.empty((self.k, X.shape[0]))\n",
    "        for i in range(self.k):\n",
    "            temp[i] = (\n",
    "                self.pi[i]\n",
    "                * self._gaussian(\n",
    "                    X, self.centers[i], self.covs[i]\n",
    "                )\n",
    "            ).T\n",
    "        sum_of_probabilities = np.sum(temp, axis=0)\n",
    "        return np.sum(np.log(sum_of_probabilities))\n",
    "\n",
    "    \n",
    "    def _gaussian(self, x, mean, cov):\n",
    "        d = x.shape[1] \n",
    "        \n",
    "        # Step 1: Calculate the Mahalanobis distances\n",
    "        diff = x - mean \n",
    "        cov_inv = np.linalg.inv(cov)\n",
    "        mahalanobis_dist = np.sum(diff @ cov_inv * diff, axis=1)  # Transpose diff\n",
    "        \n",
    "        # Step 2: Calculate the Gaussian probability densities\n",
    "        exponent = -0.5 * mahalanobis_dist\n",
    "        denominator = np.sqrt((2 * np.pi) ** d * np.linalg.det(cov))\n",
    "        probability_density = np.exp(exponent) / denominator\n",
    "        \n",
    "        return probability_density\n",
    "\n",
    "    def predict(self, X):\n",
    "        n, d = X.shape\n",
    "        cluster_assignments = np.zeros(n, dtype=int)\n",
    "        \n",
    "        likelihoods = np.zeros((n, self.k))\n",
    "        for j in range(self.k):\n",
    "            likelihoods[:, j] = self._gaussian(X, self.centers[j], self.covs[j])\n",
    "        \n",
    "        cluster_assignments = np.argmax(likelihoods, axis=1)\n",
    "        return cluster_assignments\n",
    "\n",
    "    def plot_log_likelihood(self):\n",
    "        plt.plot(self.log_likelihoods)\n",
    "        plt.xlabel('Iteration')\n",
    "        plt.ylabel('Log-likelihood')\n",
    "        plt.show()\n",
    "\n",
    "    def aic(self, data = None):\n",
    "        num_params = self.k * ((data.shape[1] * (data.shape[1] + 1)) / 2) - self.k + self.k * data.shape[1]\n",
    "        return 2 * num_params - 2 * self.log_likelihood\n",
    "    \n",
    "    def bic(self, data = None):\n",
    "        num_params = self.k * ((data.shape[1] * (data.shape[1] + 1)) / 2) - self.k + self.k * data.shape[1]\n",
    "        return np.log(data.shape[0]) * num_params - 2 * self.log_likelihood\n",
    "    \n",
    "    def get_membership(self, data):\n",
    "        num_samples = data.shape[0]\n",
    "        probabilities = np.empty((self.k, num_samples))\n",
    "\n",
    "        for i in range(self.k):\n",
    "            likelihood = self._gaussian(data, self.centers[i], self.covs[i]).T\n",
    "            probabilities[i] = self.pi[i] * likelihood\n",
    "\n",
    "        membership = np.empty(num_samples)\n",
    "        for i in range(num_samples):\n",
    "            membership[i] = np.argmax(probabilities[:, i])\n",
    "\n",
    "        return membership"
   ]
  },
  {
   "cell_type": "code",
   "execution_count": 191,
   "metadata": {},
   "outputs": [
    {
     "name": "stdout",
     "output_type": "stream",
     "text": [
      "-39336.879101335326\n",
      "-39137.78387566254\n",
      "-38598.634651770626\n",
      "-38315.39290079247\n",
      "-37486.667155914154\n",
      "-30148.03213757099\n",
      "-29023.712489646634\n",
      "-28700.964811872436\n",
      "-28482.846596786607\n",
      "-28342.944935052663\n",
      "-28340.706437280664\n",
      "-28338.696016705173\n",
      "-28338.548358051863\n",
      "-28338.585770678954\n",
      "-28338.60654252713\n",
      "-28338.617938351017\n",
      "-28338.612170810422\n",
      "-28338.60682194936\n",
      "-28338.600519586907\n",
      "Centers:  [[     0      0     37      0 140980      1      1]\n",
      " [     0      0     35      1 135194      1      1]\n",
      " [     0      0     34      1  99170      0      0]]\n",
      "Covariances:  [[[ 3.63661471e-01  3.63660471e-01 -8.00791421e-01  4.89787678e-01\n",
      "   -1.59315779e+03  4.96518688e-02  1.05306248e-01]\n",
      "  [ 3.63660471e-01  3.63661471e-01 -8.00791421e-01  4.89787678e-01\n",
      "   -1.59315779e+03  4.96518688e-02  1.05306248e-01]\n",
      "  [-8.00791421e-01 -8.00791421e-01  1.60467182e+02  6.64942001e+00\n",
      "    1.73339261e+05  1.03396188e+00  4.72808152e-01]\n",
      "  [ 4.89787678e-01  4.89787678e-01  6.64942001e+00  1.43061318e+00\n",
      "    6.41179892e+03  2.13574293e-01  3.81980438e-01]\n",
      "  [-1.59315779e+03 -1.59315779e+03  1.73339261e+05  6.41179892e+03\n",
      "    1.43584174e+09  9.34383230e+03  2.70910830e+03]\n",
      "  [ 4.96518688e-02  4.96518688e-02  1.03396188e+00  2.13574293e-01\n",
      "    9.34383230e+03  2.79951676e-01  1.29400202e-01]\n",
      "  [ 1.05306248e-01  1.05306248e-01  4.72808152e-01  3.81980438e-01\n",
      "    2.70910830e+03  1.29400202e-01  4.96536752e-01]]\n",
      "\n",
      " [[ 7.53816720e-02  4.79799884e-06 -9.27830079e-02  5.79917796e-03\n",
      "   -8.44868761e+02  1.15972009e-02  1.75546460e-06]\n",
      "  [ 4.79799884e-06  9.16990874e-01  1.13825817e-01  3.13953399e-01\n",
      "    8.52110641e+02  1.63206501e-01  4.51371707e-01]\n",
      "  [-9.27830079e-02  1.13825817e-01  1.24197775e+02  4.31330270e+00\n",
      "    1.25941269e+05 -1.04661808e-01 -6.65307619e-01]\n",
      "  [ 5.79917796e-03  3.13953399e-01  4.31330270e+00  4.01578962e-01\n",
      "    7.01882890e+03  7.61716370e-02  1.67308615e-01]\n",
      "  [-8.44868761e+02  8.52110641e+02  1.25941269e+05  7.01882890e+03\n",
      "    1.24665016e+09  8.99561457e+03 -1.07427474e+03]\n",
      "  [ 1.15972009e-02  1.63206501e-01 -1.04661808e-01  7.61716370e-02\n",
      "    8.99561457e+03  2.94325028e-01  5.69190418e-02]\n",
      "  [ 1.75546460e-06  4.51371707e-01 -6.65307619e-01  1.67308615e-01\n",
      "   -1.07427474e+03  5.69190418e-02  4.53938515e-01]]\n",
      "\n",
      " [[ 6.16743528e-01  4.40098026e-01 -6.91878449e-01  7.20617087e-02\n",
      "    2.11292947e+01  2.43795850e-01  0.00000000e+00]\n",
      "  [ 4.40098026e-01  5.45922687e-01 -1.11238469e+00  1.01880029e-01\n",
      "    8.83407420e+02  2.46686069e-01  0.00000000e+00]\n",
      "  [-6.91878449e-01 -1.11238469e+00  1.11016628e+02  3.70510617e+00\n",
      "    6.04516586e+04 -4.34093139e-01  0.00000000e+00]\n",
      "  [ 7.20617087e-02  1.01880029e-01  3.70510617e+00  2.84543750e-01\n",
      "    3.68527226e+03  1.13962982e-02  0.00000000e+00]\n",
      "  [ 2.11292947e+01  8.83407420e+02  6.04516586e+04  3.68527226e+03\n",
      "    6.08847426e+08  7.78581845e+03  0.00000000e+00]\n",
      "  [ 2.43795850e-01  2.46686069e-01 -4.34093139e-01  1.13962982e-02\n",
      "    7.78581845e+03  4.14370562e-01  0.00000000e+00]\n",
      "  [ 0.00000000e+00  0.00000000e+00  0.00000000e+00  0.00000000e+00\n",
      "    0.00000000e+00  0.00000000e+00  1.00000000e-06]]]\n",
      "Pi:  [0.44672552 0.08623496 0.46703953]\n",
      "Log-likelihood:  -28338.60049003657\n"
     ]
    }
   ],
   "source": [
    "# Load the Data\n",
    "X = pd.read_csv(customer_dataset_path)\n",
    "X = X.drop(['Index'], axis=1)\n",
    "X = X.to_numpy()\n",
    "\n",
    "# Fit the model\n",
    "model = GMM()\n",
    "model.fit(X, k=3)"
   ]
  },
  {
   "cell_type": "code",
   "execution_count": 192,
   "metadata": {},
   "outputs": [
    {
     "data": {
      "image/png": "[encoded data removed]",
      "text/plain": [
       "<Figure size 640x480 with 1 Axes>"
      ]
     },
     "metadata": {},
     "output_type": "display_data"
    },
    {
     "data": {
      "image/png": "[encoded data removed]",
      "text/plain": [
       "<Figure size 640x480 with 1 Axes>"
      ]
     },
     "metadata": {},
     "output_type": "display_data"
    }
   ],
   "source": [
    "# Plot the log-likelihood\n",
    "model.plot_log_likelihood()\n",
    "\n",
    "# Plot the clusters\n",
    "y = model.predict(X)\n",
    "plt.scatter(X[:, 0], X[:, 1], c=y)\n",
    "plt.show()"
   ]
  },
  {
   "cell_type": "code",
   "execution_count": 193,
   "metadata": {},
   "outputs": [],
   "source": [
    "model = GMM()\n",
    "\n",
    "for i in [2,3,5,7]:\n",
    "    model.fit(X, k=i, printing=False)\n",
    "\n",
    "    # Plot the clusters\n",
    "    y = model.predict(X)\n",
    "    plt.scatter(X[:, 0], X[:, 1], c=y)\n",
    "    plt.title(\"K = \" + str(i))\n",
    "    plt.show()"
   ]
  },
  {
   "cell_type": "markdown",
   "metadata": {},
   "source": [
    "> ##### Observations\n",
    "\n",
    "As we vary the number of clusters (k) in our analysis, we notice a trend in the maximum prior probabilities associated with each cluster – they tend to decrease as k increases. The 'Means' array, which has a dimension of k by 7 (where 7 represents the number of features used in GMM), and the Covariances matrix, with dimensions of k by k by 7, reflect the structure of our data. Furthermore, the dimensions of the Prior Probabilities vector are k by 1, and their sum always equals 1, as expected.\n",
    "\n",
    "It's worth noting that the Covariance Matrix often contains very small values in many places, indicating subtle correlations between the corresponding attributes. The computed means fall within reasonable ranges observed in the dataset, suggesting that the algorithm's results accurately represent the provided data. This, in turn, signifies the effectiveness of the GMM clustering process.\n",
    "\n",
    "Also, with either high or low value of K, the algorithm is not able to cluster the data properly. This is because, with a high value of K, the algorithm tries to fit the data too much, and with a low value of K, the algorithm is not able to fit the data properly."
   ]
  },
  {
   "cell_type": "code",
   "execution_count": 194,
   "metadata": {},
   "outputs": [],
   "source": [
    "data = load_wine()\n",
    "X = data.data"
   ]
  },
  {
   "cell_type": "code",
   "execution_count": 195,
   "metadata": {},
   "outputs": [
    {
     "name": "stdout",
     "output_type": "stream",
     "text": [
      "-3225.162092322911\n",
      "-3188.2543884523016\n",
      "-3171.3599234205117\n",
      "-3163.3485767522425\n",
      "-3152.1113462565195\n",
      "-3135.134282881225\n",
      "-3126.037734096042\n",
      "-3114.6391389132814\n",
      "-3112.4452948908156\n",
      "-3111.6621060742614\n",
      "-3110.3365257081186\n",
      "-3105.534144179658\n",
      "-3090.6352500136963\n",
      "-3066.373052173275\n",
      "-3059.1525041382865\n",
      "-3051.8858195850016\n",
      "-3043.489499885115\n",
      "-3042.832431494675\n",
      "-3042.6132640817677\n",
      "-3042.3759555200786\n",
      "-3041.697210738673\n",
      "-3041.1608290291433\n",
      "-3041.1259910605377\n",
      "-3041.1202496819287\n",
      "-3041.117545119172\n",
      "-3041.115977981033\n",
      "Centers:  [[1.29814496e+01 3.26226838e+00 2.38284942e+00 2.05503789e+01\n",
      "  9.89122888e+01 1.97512139e+00 1.33062522e+00 4.16353704e-01\n",
      "  1.32864539e+00 5.95591532e+00 7.80113492e-01 2.10732068e+00\n",
      "  6.14479441e+02]\n",
      " [1.30148231e+01 1.65017723e+00 2.35441329e+00 1.87127931e+01\n",
      "  1.00356130e+02 2.53224789e+00 2.54701373e+00 3.21465816e-01\n",
      "  1.78524693e+00 4.39273887e+00 1.08886769e+00 2.98545468e+00\n",
      "  8.45021095e+02]]\n",
      "Covariances:  [[[ 4.61479553e-01  1.45780639e-01  4.50415622e-02  5.29952847e-03\n",
      "    1.15618476e+00 -3.75557240e-02 -1.26798610e-01  3.13990498e-03\n",
      "   -3.17111720e-02  9.00229006e-01 -2.92127973e-02 -8.71705366e-02\n",
      "    4.62526101e+01]\n",
      "  [ 1.45780639e-01  1.25159034e+00  3.71511388e-02  7.37942135e-01\n",
      "   -1.97818464e+00 -4.07469794e-02  9.63170833e-03 -4.20893816e-03\n",
      "    1.00349263e-01 -7.44213098e-02 -3.61259667e-02  9.71255610e-02\n",
      "    8.65149294e+00]\n",
      "  [ 4.50415622e-02  3.71511388e-02  6.89025179e-02  5.45437034e-01\n",
      "    1.15909273e+00  1.19942529e-02  3.04485236e-02  4.13514155e-03\n",
      "    9.17359788e-03  2.46352619e-01 -5.99726537e-03  9.13220495e-03\n",
      "    3.98052573e+00]\n",
      "  [ 5.29952847e-03  7.37942135e-01  5.45437034e-01  9.28412226e+00\n",
      "    2.02997479e+00 -1.67924741e-01 -1.82033408e-01  8.50918141e-02\n",
      "    1.85612121e-01  2.61543791e+00 -1.83626780e-01 -3.48553936e-01\n",
      "   -9.02799670e+01]\n",
      "  [ 1.15618476e+00 -1.97818464e+00  1.15909273e+00  2.02997479e+00\n",
      "    1.34898403e+02  6.38616658e-01  2.38659330e+00 -4.51526335e-01\n",
      "    3.83974977e-01  6.13894254e+00  3.16809817e-02  9.80878412e-02\n",
      "    6.32785195e+02]\n",
      "  [-3.75557240e-02 -4.07469794e-02  1.19942529e-02 -1.67924741e-01\n",
      "    6.38616658e-01  3.07624118e-01  4.15647418e-01 -1.68404867e-02\n",
      "    2.23726450e-01 -5.07165570e-01  5.09873113e-02  2.99136343e-01\n",
      "    4.30112418e+00]\n",
      "  [-1.26798610e-01  9.63170833e-03  3.04485236e-02 -1.82033408e-01\n",
      "    2.38659330e+00  4.15647418e-01  8.59668430e-01 -5.82957326e-02\n",
      "    3.46067474e-01 -1.02141007e+00  8.35737577e-02  5.41383531e-01\n",
      "   -6.98113108e+00]\n",
      "  [ 3.13990498e-03 -4.20893816e-03  4.13514155e-03  8.50918141e-02\n",
      "   -4.51526335e-01 -1.68404867e-02 -5.82957326e-02  1.66869893e-02\n",
      "   -1.95291426e-02  8.36146982e-02 -1.87827638e-03 -3.44169945e-02\n",
      "    4.58226374e-01]\n",
      "  [-3.17111720e-02  1.00349263e-01  9.17359788e-03  1.85612121e-01\n",
      "    3.83974977e-01  2.23726450e-01  3.46067474e-01 -1.95291426e-02\n",
      "    3.55558644e-01 -5.10253358e-02  1.33607136e-02  2.29446131e-01\n",
      "   -3.06579029e+00]\n",
      "  [ 9.00229006e-01 -7.44213098e-02  2.46352619e-01  2.61543791e+00\n",
      "    6.13894254e+00 -5.07165570e-01 -1.02141007e+00  8.36146982e-02\n",
      "   -5.10253358e-02  7.52446170e+00 -3.45026391e-01 -1.04831182e+00\n",
      "    1.17128583e+02]\n",
      "  [-2.92127973e-02 -3.61259667e-02 -5.99726537e-03 -1.83626780e-01\n",
      "    3.16809817e-02  5.09873113e-02  8.35737577e-02 -1.87827638e-03\n",
      "    1.33607136e-02 -3.45026391e-01  3.41808511e-02  7.32546083e-02\n",
      "   -2.26553496e+00]\n",
      "  [-8.71705366e-02  9.71255610e-02  9.13220495e-03 -3.48553936e-01\n",
      "    9.80878412e-02  2.99136343e-01  5.41383531e-01 -3.44169945e-02\n",
      "    2.29446131e-01 -1.04831182e+00  7.32546083e-02  4.93310664e-01\n",
      "    2.36698333e+00]\n",
      "  [ 4.62526101e+01  8.65149294e+00  3.98052573e+00 -9.02799670e+01\n",
      "    6.32785195e+02  4.30112418e+00 -6.98113108e+00  4.58226374e-01\n",
      "   -3.06579029e+00  1.17128583e+02 -2.26553496e+00  2.36698333e+00\n",
      "    2.63661839e+04]]\n",
      "\n",
      " [[ 7.98566078e-01  6.30841920e-02  4.85949295e-02 -1.43399842e+00\n",
      "    4.55871073e+00  2.74221464e-01  4.09152498e-01 -2.82541585e-02\n",
      "    1.26981241e-01  1.13532627e+00 -5.78658073e-03  1.24316384e-01\n",
      "    2.47361956e+02]\n",
      "  [ 6.30841920e-02  1.26990323e-01  4.00004197e-02  5.56757761e-02\n",
      "    9.49124179e-01  6.77431184e-03  3.34915338e-02  8.53097845e-03\n",
      "   -5.42510302e-03  9.89455965e-02 -9.50792443e-03  2.42625037e-02\n",
      "    3.48331064e+01]\n",
      "  [ 4.85949295e-02  4.00004197e-02  7.89007837e-02  2.76815520e-01\n",
      "    1.10263423e+00  3.61950424e-02  4.67538708e-02  6.79543756e-03\n",
      "    1.35213512e-03  8.35796781e-02  7.52579164e-05  5.17991067e-03\n",
      "    3.32885656e+01]\n",
      "  [-1.43399842e+00  5.56757761e-02  2.76815520e-01  1.09910669e+01\n",
      "   -7.25650637e+00 -6.01751804e-01 -9.42914596e-01  1.23148009e-01\n",
      "   -4.33421000e-01 -2.90978206e+00  1.55288985e-02 -1.90995010e-01\n",
      "   -5.54979590e+02]\n",
      "  [ 4.55871073e+00  9.49124179e-01  1.10263423e+00 -7.25650637e+00\n",
      "    2.52307915e+02  2.50231622e+00  2.31946679e+00 -3.95785085e-01\n",
      "    2.78113011e+00  7.87330756e+00  9.98807275e-02  5.46411654e-01\n",
      "    2.45230472e+03]\n",
      "  [ 2.74221464e-01  6.77431184e-03  3.61950424e-02 -6.01751804e-01\n",
      "    2.50231622e+00  3.18043870e-01  3.39237500e-01 -2.56919497e-02\n",
      "    1.05725188e-01  6.08030843e-01 -3.59456031e-03  1.08549877e-01\n",
      "    1.12105340e+02]\n",
      "  [ 4.09152498e-01  3.34915338e-02  4.67538708e-02 -9.42914596e-01\n",
      "    2.31946679e+00  3.39237500e-01  4.60488325e-01 -2.34372184e-02\n",
      "    1.53163173e-01  8.75185224e-01 -6.96797064e-03  1.10661371e-01\n",
      "    1.54936335e+02]\n",
      "  [-2.82541585e-02  8.53097845e-03  6.79543756e-03  1.23148009e-01\n",
      "   -3.95785085e-01 -2.56919497e-02 -2.34372184e-02  1.06184686e-02\n",
      "   -1.22034142e-02 -5.56378879e-02  9.27173604e-04 -1.60175145e-02\n",
      "   -1.21563591e+01]\n",
      "  [ 1.26981241e-01 -5.42510302e-03  1.35213512e-03 -4.33421000e-01\n",
      "    2.78113011e+00  1.05725188e-01  1.53163173e-01 -1.22034142e-02\n",
      "    2.14929243e-01  2.83608677e-01 -2.96748885e-03  2.44865525e-02\n",
      "    6.05723567e+01]\n",
      "  [ 1.13532627e+00  9.89455965e-02  8.35796781e-02 -2.90978206e+00\n",
      "    7.87330756e+00  6.08030843e-01  8.75185224e-01 -5.56378879e-02\n",
      "    2.83608677e-01  2.68851256e+00 -1.75927791e-02  1.39174260e-01\n",
      "    4.66115718e+02]\n",
      "  [-5.78658073e-03 -9.50792443e-03  7.52579164e-05  1.55288985e-02\n",
      "    9.98807275e-02 -3.59456031e-03 -6.96797064e-03  9.27173604e-04\n",
      "   -2.96748885e-03 -1.75927791e-02  2.45465003e-02 -1.08157782e-02\n",
      "    8.13822619e-01]\n",
      "  [ 1.24316384e-01  2.42625037e-02  5.17991067e-03 -1.90995010e-01\n",
      "    5.46411654e-01  1.08549877e-01  1.10661371e-01 -1.60175145e-02\n",
      "    2.44865525e-02  1.39174260e-01 -1.08157782e-02  1.78923592e-01\n",
      "    3.31412096e+01]\n",
      "  [ 2.47361956e+02  3.48331064e+01  3.32885656e+01 -5.54979590e+02\n",
      "    2.45230472e+03  1.12105340e+02  1.54936335e+02 -1.21563591e+01\n",
      "    6.05723567e+01  4.66115718e+02  8.13822619e-01  3.31412096e+01\n",
      "    1.29524438e+05]]]\n",
      "Pi:  [0.42564038 0.57435962]\n",
      "Log-likelihood:  -3041.114980971406\n"
     ]
    }
   ],
   "source": [
    "# To check GMM working\n",
    "\n",
    "model = GMM()\n",
    "model.fit(X, k=2)"
   ]
  },
  {
   "cell_type": "code",
   "execution_count": 198,
   "metadata": {},
   "outputs": [
    {
     "name": "stderr",
     "output_type": "stream",
     "text": [
      "  0%|          | 0/149 [00:00<?, ?it/s]"
     ]
    },
    {
     "name": "stdout",
     "output_type": "stream",
     "text": [
      "k =  1\n",
      "-3331.049713401909\n",
      "k =  2\n",
      "-3259.8896832173705\n",
      "-3231.203820212964\n",
      "-3209.939464353668\n",
      "-3199.46408192904\n",
      "-3191.7721078400245\n",
      "-3187.5040270508816\n",
      "-3185.0514279588347\n",
      "-3181.0970002102467\n",
      "-3173.6553232999468\n",
      "-3166.555687915222\n",
      "-3159.614694962438\n",
      "-3149.6004659790638\n",
      "-3142.324717908982\n",
      "-3134.522618830065\n",
      "-3128.8901564757116\n",
      "-3121.9816343216016\n",
      "-3109.955560370196\n",
      "-3092.537645938267\n"
     ]
    },
    {
     "name": "stderr",
     "output_type": "stream",
     "text": [
      "  1%|▏         | 2/149 [00:00<00:26,  5.55it/s]"
     ]
    },
    {
     "name": "stdout",
     "output_type": "stream",
     "text": [
      "-3072.434457518216\n",
      "-3049.916976181328\n",
      "-3043.979765677507\n",
      "-3039.5694859518935\n",
      "-3037.6812133704966\n",
      "-3037.2811021627494\n",
      "-3037.2190896524808\n",
      "-3037.1859908123297\n",
      "-3037.1644810047806\n",
      "-3037.1495386682054\n",
      "-3037.1387844436395\n",
      "-3037.1309149757126\n",
      "-3037.1251514321834\n",
      "-3037.1209730454007\n",
      "-3037.117993167699\n",
      "-3037.115907632152\n",
      "-3037.11447489351\n",
      "k =  3\n",
      "-3166.8967435958934\n",
      "-3072.458904638575\n",
      "-3048.3900428837205\n",
      "-3041.586707813763\n",
      "-3033.1154514432574\n",
      "-3030.0895258945684\n",
      "-3029.5073458513334\n",
      "-3029.4134033861906\n",
      "-3029.3714187495184\n",
      "-3029.340904977609\n",
      "-3029.3032157153375\n",
      "-3029.2246115995063\n",
      "-3028.9811234102217\n",
      "-3028.3497850925496\n",
      "-3027.8609171502094\n",
      "-3027.6752626448265\n",
      "-3027.4752498274393\n",
      "-3027.0122953587243\n",
      "-3026.2127676415603\n",
      "-3025.956851875426\n",
      "-3025.805614118539\n",
      "-3025.3719610639228\n",
      "-3024.2951258636804\n",
      "-3023.9576330699138\n",
      "-3023.942825445921\n",
      "-3023.9381236031372\n",
      "-3023.935284012095\n",
      "-3023.9331545146188\n",
      "-3023.931360178043\n",
      "-3023.9297102551054\n",
      "-3023.928082828673\n",
      "-3023.926384818392\n",
      "-3023.924531196085\n",
      "-3023.9224303694573\n",
      "-3023.9199703596782\n",
      "-3023.9170019069634\n",
      "-3023.913314023471\n",
      "-3023.90859501589\n",
      "-3023.902366464532\n",
      "-3023.8938660633667\n",
      "-3023.8818307660167\n",
      "-3023.8640793730815\n",
      "-3023.8366838553375\n",
      "-3023.792314636695\n",
      "-3023.717147627407\n",
      "-3023.5865914027963\n",
      "-3023.3658250983863\n",
      "-3023.0278940999833\n",
      "-3022.55551739\n",
      "-3021.880865754464\n",
      "-3021.0876984579013\n",
      "-3020.334350120088\n",
      "-3019.28076066915\n",
      "-3017.6118878116704\n",
      "-3015.570052548044\n",
      "-3013.236418525202\n",
      "-3010.794079569572\n",
      "-3009.8701449546943\n",
      "-3009.307107016342\n",
      "-3008.8113489454126\n",
      "-3008.3082828946035\n",
      "-3007.890425326421\n",
      "-3007.6165690311436\n",
      "-3007.34948801268\n",
      "-3007.016120641526\n",
      "-3006.67457170964\n",
      "-3006.4144038016893\n",
      "-3006.2022337678964\n",
      "-3006.0215381561984\n",
      "-3005.878819681976\n",
      "-3005.763489438401\n",
      "-3005.6244968850974\n",
      "-3005.3259307439494\n",
      "-3004.2995725061487\n",
      "-3000.710394815713\n",
      "-2997.010080615135\n",
      "-2995.268835238521\n",
      "-2990.9776413188765\n",
      "-2983.3083617251896\n",
      "-2957.331741621148\n",
      "-2915.034479066074\n",
      "-2888.6005670162695\n",
      "-2879.848370782819\n",
      "-2879.1686709560036\n"
     ]
    },
    {
     "name": "stderr",
     "output_type": "stream",
     "text": [
      "  2%|▏         | 3/149 [00:01<01:50,  1.33it/s]"
     ]
    },
    {
     "name": "stdout",
     "output_type": "stream",
     "text": [
      "-2878.7779112535127\n",
      "-2878.5728330647985\n",
      "-2878.426657914991\n",
      "-2878.293643509125\n",
      "-2878.174017869439\n",
      "-2878.064913843215\n",
      "-2877.9563669308955\n",
      "-2877.8034994720065\n",
      "-2877.459471444082\n",
      "-2876.795070353241\n",
      "-2876.3692866488973\n",
      "-2876.321502813249\n",
      "-2876.319178463522\n",
      "k =  4\n",
      "-3092.7172128723614\n",
      "-2926.23274082753\n",
      "-2829.34561042956\n",
      "-2818.4471441171972\n",
      "-2804.8076093935406\n",
      "-2792.19416457074\n",
      "-2780.4164206503174\n",
      "-2772.497268019124\n",
      "-2770.639921705914\n",
      "-2769.7936520816756\n",
      "-2768.397798571257\n",
      "-2767.0135119977895\n",
      "-2766.355449761565\n",
      "-2765.0167014097683\n",
      "-2763.654153478027\n",
      "-2763.4457287368223\n",
      "-2763.36111623083\n",
      "-2763.2057189933294\n",
      "-2762.8486499172222\n",
      "-2762.263936494773\n",
      "-2761.7300492050285\n",
      "-2761.42972945785\n",
      "-2761.2821192239007\n",
      "-2761.1248407531657\n",
      "-2760.81201020549\n",
      "-2760.006461785906\n",
      "-2758.8843829499574\n",
      "-2757.8692515998127\n",
      "-2754.7640812777236\n",
      "-2744.5432677336103\n",
      "-2740.3993246666637\n",
      "-2740.2951288228974\n",
      "-2740.2309124945114\n",
      "-2740.1936091183443\n",
      "-2740.176298153754\n",
      "-2740.168841131581\n",
      "-2740.165048154925\n",
      "-2740.1625382347675\n",
      "-2740.160489347527\n",
      "-2740.158525538314\n",
      "-2740.1563506991115\n",
      "-2740.1535831209467\n",
      "-2740.149546706588\n",
      "-2740.1427810724654\n",
      "-2740.1296283244046\n",
      "-2740.0997221332436\n",
      "-2740.0222661608636\n",
      "-2739.831720585303\n",
      "-2739.576275898903\n",
      "-2739.4884066034547\n",
      "-2739.475986974225\n",
      "-2739.47154404311\n",
      "-2739.4692797528623\n",
      "-2739.4679933619386\n"
     ]
    },
    {
     "name": "stderr",
     "output_type": "stream",
     "text": [
      "  3%|▎         | 4/149 [00:03<02:08,  1.12it/s]"
     ]
    },
    {
     "name": "stdout",
     "output_type": "stream",
     "text": [
      "k =  5\n",
      "-3055.389937444943\n",
      "-2884.539944298008\n",
      "-2699.0128092892764\n",
      "-2659.2458854437978\n",
      "-2640.275556523028\n",
      "-2626.3673109494603\n",
      "-2612.1882019680825\n",
      "-2609.1489590357505\n",
      "-2608.894576925548\n",
      "-2608.4104427012994\n",
      "-2606.4799445510253\n",
      "-2605.7875279338678\n",
      "-2605.7620471766104\n",
      "-2605.747008000339\n",
      "-2605.7340027429227\n",
      "-2605.7202060398513\n",
      "-2605.7038833370434\n"
     ]
    },
    {
     "name": "stderr",
     "output_type": "stream",
     "text": [
      "  3%|▎         | 5/149 [00:03<01:54,  1.26it/s]"
     ]
    },
    {
     "name": "stdout",
     "output_type": "stream",
     "text": [
      "-2605.6839620972673\n",
      "-2605.6607945210167\n",
      "-2605.6372410001995\n",
      "-2605.617927066085\n",
      "-2605.60574252879\n",
      "-2605.599767132604\n",
      "-2605.5973314825724\n",
      "k =  6\n",
      "-2943.605637464112\n",
      "-2760.020378496624\n",
      "-2674.3415160143927\n",
      "-2634.9404232431407\n",
      "-2616.06563729959\n",
      "-2608.7635718189836\n",
      "-2604.377790116686\n",
      "-2601.4807699194134\n",
      "-2598.8499760568247\n",
      "-2591.205028645745\n",
      "-2589.1172244996405\n",
      "-2588.356421992591\n"
     ]
    },
    {
     "name": "stderr",
     "output_type": "stream",
     "text": [
      "  4%|▍         | 6/149 [00:04<01:44,  1.37it/s]"
     ]
    },
    {
     "name": "stdout",
     "output_type": "stream",
     "text": [
      "-2587.729981900934\n",
      "-2587.641162745027\n",
      "-2587.6373044423117\n",
      "k =  7\n",
      "-2890.47498775874\n",
      "-2598.0435398783993\n",
      "-2367.1944062815164\n",
      "-2273.746054739793\n",
      "-2244.215106750098\n",
      "-2238.1080423950098\n",
      "-2237.233717679018\n",
      "-2235.5523766544884\n",
      "-2235.2929261774625\n",
      "-2235.095431296325\n",
      "-2234.791496524831\n",
      "-2234.6239748235166\n",
      "-2234.604634556322\n"
     ]
    },
    {
     "name": "stderr",
     "output_type": "stream",
     "text": [
      "  5%|▍         | 7/149 [00:04<01:37,  1.45it/s]"
     ]
    },
    {
     "name": "stdout",
     "output_type": "stream",
     "text": [
      "-2234.6036027060036\n",
      "k =  8\n",
      "-2822.320752208699\n",
      "-2293.0900113160387\n",
      "-2041.7282436223682\n",
      "-1979.9241361205293\n",
      "-1969.7711152818574\n",
      "-1958.5359948001076\n",
      "-1953.0182265765238\n",
      "-1947.8013045673783\n",
      "-1942.610179241095\n",
      "-1942.2674625659035\n"
     ]
    },
    {
     "name": "stderr",
     "output_type": "stream",
     "text": [
      "  5%|▌         | 8/149 [00:05<01:39,  1.42it/s]"
     ]
    },
    {
     "name": "stdout",
     "output_type": "stream",
     "text": [
      "-1942.2645547931627\n",
      "k =  9\n",
      "-2772.0424626959675\n",
      "-2172.452974171304\n",
      "-1824.412467819173\n",
      "-1716.3851048005336\n",
      "-1700.8899553328215\n",
      "-1695.6315736594393\n",
      "-1695.3204456389535\n",
      "-1695.3038911072106\n",
      "-1695.2851016087525\n",
      "-1695.223699502647\n",
      "-1694.878446987418\n",
      "-1693.6610994698904\n",
      "-1693.2644850859122\n",
      "-1693.2620599182685\n"
     ]
    },
    {
     "name": "stderr",
     "output_type": "stream",
     "text": [
      "  6%|▌         | 9/149 [00:06<01:35,  1.47it/s]"
     ]
    },
    {
     "name": "stdout",
     "output_type": "stream",
     "text": [
      "k =  10\n",
      "-2724.9379459885877\n",
      "-2136.235266938291\n",
      "-1817.8265560333414\n"
     ]
    },
    {
     "name": "stderr",
     "output_type": "stream",
     "text": [
      "  7%|▋         | 10/149 [00:06<01:24,  1.65it/s]"
     ]
    },
    {
     "name": "stdout",
     "output_type": "stream",
     "text": [
      "-1748.3446225624634\n",
      "-1681.107035495026\n",
      "-1664.563285429252\n",
      "k =  11\n",
      "-2627.6141710365473\n",
      "-1845.8474610328267\n",
      "-1496.2405112722124\n",
      "-1266.8713909304524\n",
      "-1224.8725714143566\n",
      "-1222.291846017883\n",
      "-1221.2635716176246\n",
      "-1220.085996653524\n",
      "-1219.2008848389337\n",
      "-1218.9108063286296\n",
      "-1218.1979115017866\n",
      "-1215.1955116214194\n",
      "-1204.0918320376097\n",
      "-1198.025067726835\n",
      "-1198.0212382568252\n",
      "-1198.018576164789\n",
      "-1198.0166988621422\n"
     ]
    },
    {
     "name": "stderr",
     "output_type": "stream",
     "text": [
      "  7%|▋         | 11/149 [00:07<01:43,  1.33it/s]"
     ]
    },
    {
     "name": "stdout",
     "output_type": "stream",
     "text": [
      "-1198.015384526828\n",
      "k =  12\n",
      "-2616.7554770976085\n",
      "-1823.6250701198703\n",
      "-948.3002049722509\n",
      "-656.1253789290129\n",
      "-621.4641893503542\n",
      "-602.6771975530482\n",
      "-592.0452433735103\n",
      "-591.7661294623636\n",
      "-591.5488910379985\n",
      "-591.4408522852442\n"
     ]
    },
    {
     "name": "stderr",
     "output_type": "stream",
     "text": [
      "  8%|▊         | 12/149 [00:08<01:39,  1.37it/s]"
     ]
    },
    {
     "name": "stdout",
     "output_type": "stream",
     "text": [
      "-591.4173690316977\n",
      "-591.4148266578138\n",
      "k =  13\n",
      "-2556.471502854497\n",
      "-1639.4149124081073\n",
      "-962.0936559195572\n",
      "-731.7854935765072\n",
      "-695.5871731576761\n",
      "-694.9585280352879\n",
      "-694.3396378682772\n",
      "-692.8155320007534\n"
     ]
    },
    {
     "name": "stderr",
     "output_type": "stream",
     "text": [
      "  9%|▊         | 13/149 [00:09<01:43,  1.32it/s]"
     ]
    },
    {
     "name": "stdout",
     "output_type": "stream",
     "text": [
      "-684.4754387085967\n",
      "-684.1815209256547\n",
      "k =  14\n",
      "-2416.3640222803037\n",
      "-1264.8673360122434\n",
      "-688.4806372422238\n",
      "-600.0188860133751\n",
      "-564.038066407575\n"
     ]
    },
    {
     "name": "stderr",
     "output_type": "stream",
     "text": [
      "  9%|▉         | 14/149 [00:09<01:28,  1.52it/s]"
     ]
    },
    {
     "name": "stdout",
     "output_type": "stream",
     "text": [
      "-562.8298502762225\n",
      "k =  15\n",
      "-2622.2232381233393\n",
      "-1757.7329752797123\n",
      "-534.6914258869793\n",
      "136.82584455184576\n",
      "293.0621798123316\n",
      "302.61649246647625\n"
     ]
    },
    {
     "name": "stderr",
     "output_type": "stream",
     "text": [
      " 10%|█         | 15/149 [00:10<01:26,  1.56it/s]"
     ]
    },
    {
     "name": "stdout",
     "output_type": "stream",
     "text": [
      "305.89330748763064\n",
      "306.89878786387027\n",
      "k =  16\n",
      "-2444.64596913231\n",
      "-1410.0799071257516\n",
      "-685.5938156105294\n"
     ]
    },
    {
     "name": "stderr",
     "output_type": "stream",
     "text": [
      " 11%|█         | 16/149 [00:10<01:21,  1.63it/s]"
     ]
    },
    {
     "name": "stdout",
     "output_type": "stream",
     "text": [
      "-265.12460753607184\n",
      "-196.62130688354617\n",
      "-196.61812455521095\n",
      "k =  17\n",
      "-2410.3003288899044\n",
      "-1106.7869149624\n",
      "60.07736073696527\n",
      "529.3855494084418\n"
     ]
    },
    {
     "name": "stderr",
     "output_type": "stream",
     "text": [
      " 11%|█▏        | 17/149 [00:11<01:20,  1.64it/s]"
     ]
    },
    {
     "name": "stdout",
     "output_type": "stream",
     "text": [
      "623.6624357020823\n",
      "627.83758085543\n",
      "k =  18\n",
      "-2421.7911293098723\n",
      "-1200.752557269248\n",
      "321.4830781165243\n"
     ]
    },
    {
     "name": "stderr",
     "output_type": "stream",
     "text": [
      " 12%|█▏        | 18/149 [00:11<01:18,  1.67it/s]"
     ]
    },
    {
     "name": "stdout",
     "output_type": "stream",
     "text": [
      "986.8566296624142\n",
      "1049.902489301683\n",
      "1066.7313679721653\n",
      "k =  19\n",
      "-2233.0148699021147\n",
      "-1101.1091242043456\n",
      "-175.2216935625913\n",
      "544.02974250185\n"
     ]
    },
    {
     "name": "stderr",
     "output_type": "stream",
     "text": [
      " 13%|█▎        | 19/149 [00:12<01:16,  1.70it/s]"
     ]
    },
    {
     "name": "stdout",
     "output_type": "stream",
     "text": [
      "611.2409964058088\n",
      "657.3829088925372\n",
      "657.3858353546561\n",
      "k =  20\n",
      "-2184.353543690191\n",
      "-772.2108878196434\n",
      "919.062627944747\n"
     ]
    },
    {
     "name": "stderr",
     "output_type": "stream",
     "text": [
      " 13%|█▎        | 20/149 [00:13<01:11,  1.81it/s]"
     ]
    },
    {
     "name": "stdout",
     "output_type": "stream",
     "text": [
      "1733.245040948521\n",
      "1783.0789218037005\n",
      "k =  21\n",
      "-2208.473526766482\n",
      "-391.02289924565844\n",
      "1720.511192085654\n",
      "2417.5389364676034\n",
      "2457.351676740801\n",
      "2463.5835886869468\n"
     ]
    },
    {
     "name": "stderr",
     "output_type": "stream",
     "text": [
      " 14%|█▍        | 21/149 [00:13<01:21,  1.57it/s]"
     ]
    },
    {
     "name": "stdout",
     "output_type": "stream",
     "text": [
      "k =  22\n",
      "-2124.6991863355497\n",
      "-357.5425927424203\n",
      "1710.8585326466368\n",
      "2222.015249738191\n",
      "2334.3903101668216\n"
     ]
    },
    {
     "name": "stderr",
     "output_type": "stream",
     "text": [
      " 15%|█▍        | 22/149 [00:14<01:17,  1.64it/s]"
     ]
    },
    {
     "name": "stdout",
     "output_type": "stream",
     "text": [
      "k =  23\n",
      "-2248.839640580816\n",
      "-201.6311607546608\n",
      "2498.8126649960336\n",
      "3325.608542217041\n"
     ]
    },
    {
     "name": "stderr",
     "output_type": "stream",
     "text": [
      " 15%|█▌        | 23/149 [00:14<01:15,  1.68it/s]"
     ]
    },
    {
     "name": "stdout",
     "output_type": "stream",
     "text": [
      "3403.5893195723834\n",
      "k =  24\n",
      "-2023.2165617541468\n",
      "-275.3385780655567\n",
      "2257.9261260088647\n",
      "3014.360140406239\n"
     ]
    },
    {
     "name": "stderr",
     "output_type": "stream",
     "text": [
      " 16%|█▌        | 24/149 [00:15<01:19,  1.56it/s]"
     ]
    },
    {
     "name": "stdout",
     "output_type": "stream",
     "text": [
      "3097.1757206125976\n",
      "3097.330108702322\n",
      "k =  25\n",
      "-2116.2659150519867\n",
      "-78.8022296899964\n",
      "2656.064043139253\n"
     ]
    },
    {
     "name": "stderr",
     "output_type": "stream",
     "text": [
      " 17%|█▋        | 25/149 [00:16<01:19,  1.56it/s]"
     ]
    },
    {
     "name": "stdout",
     "output_type": "stream",
     "text": [
      "3521.121200420642\n",
      "3627.8586489240133\n",
      "k =  26\n",
      "-2174.435119803268\n",
      "215.68486318323335\n",
      "2881.8618924593293\n"
     ]
    },
    {
     "name": "stderr",
     "output_type": "stream",
     "text": [
      " 17%|█▋        | 26/149 [00:16<01:16,  1.62it/s]"
     ]
    },
    {
     "name": "stdout",
     "output_type": "stream",
     "text": [
      "3600.323919544185\n",
      "3714.6334840161558\n",
      "k =  27\n",
      "-2079.36225619582\n",
      "27.777998997836022\n",
      "3259.295537853214\n",
      "4102.073754717601\n",
      "4106.832187639544\n"
     ]
    },
    {
     "name": "stderr",
     "output_type": "stream",
     "text": [
      " 18%|█▊        | 27/149 [00:17<01:20,  1.51it/s]"
     ]
    },
    {
     "name": "stdout",
     "output_type": "stream",
     "text": [
      "k =  28\n",
      "-2050.016502606833\n",
      "307.7597080144226\n",
      "3509.914131604977\n",
      "4264.76253922031\n",
      "4343.413697811515\n",
      "4353.338217990785\n"
     ]
    },
    {
     "name": "stderr",
     "output_type": "stream",
     "text": [
      " 19%|█▉        | 28/149 [00:18<01:25,  1.42it/s]"
     ]
    },
    {
     "name": "stdout",
     "output_type": "stream",
     "text": [
      "k =  29\n",
      "-2028.9954828746365\n",
      "773.2981609778344\n",
      "3986.1891808402142\n",
      "4518.676730553075\n"
     ]
    },
    {
     "name": "stderr",
     "output_type": "stream",
     "text": [
      " 19%|█▉        | 29/149 [00:19<01:24,  1.42it/s]"
     ]
    },
    {
     "name": "stdout",
     "output_type": "stream",
     "text": [
      "4541.099142539785\n",
      "k =  30\n",
      "-2050.0418672694054\n",
      "640.2580750276675\n",
      "4222.846134032381\n",
      "4956.371805060571\n",
      "5019.260226725759\n",
      "5022.5041707393975\n"
     ]
    },
    {
     "name": "stderr",
     "output_type": "stream",
     "text": [
      " 20%|██        | 30/149 [00:20<01:34,  1.25it/s]"
     ]
    },
    {
     "name": "stdout",
     "output_type": "stream",
     "text": [
      "k =  31\n",
      "-1844.3312305819381\n",
      "1184.0380408190344\n",
      "4590.09641728218\n",
      "5119.1625057954525\n",
      "5148.945773691545\n"
     ]
    },
    {
     "name": "stderr",
     "output_type": "stream",
     "text": [
      " 21%|██        | 31/149 [00:20<01:30,  1.30it/s]"
     ]
    },
    {
     "name": "stdout",
     "output_type": "stream",
     "text": [
      "k =  32\n",
      "-1887.2899197802972\n",
      "1006.1193627966816\n",
      "4526.341986503539\n",
      "5235.965848789161\n",
      "5378.31422256206\n",
      "5378.446010051135\n"
     ]
    },
    {
     "name": "stderr",
     "output_type": "stream",
     "text": [
      " 21%|██▏       | 32/149 [00:21<01:40,  1.17it/s]"
     ]
    },
    {
     "name": "stdout",
     "output_type": "stream",
     "text": [
      "k =  33\n",
      "-1850.237893044909\n",
      "1205.427363077262\n",
      "4790.7029754959085\n",
      "5384.759954126077\n",
      "5470.168407747494\n",
      "5480.2613044446825\n",
      "5509.324700872929\n"
     ]
    },
    {
     "name": "stderr",
     "output_type": "stream",
     "text": [
      " 22%|██▏       | 33/149 [00:23<01:47,  1.08it/s]"
     ]
    },
    {
     "name": "stdout",
     "output_type": "stream",
     "text": [
      "k =  34\n",
      "-1850.9692556175821\n",
      "1513.4131852881026\n",
      "5258.377208889326\n",
      "5916.296583512167\n"
     ]
    },
    {
     "name": "stderr",
     "output_type": "stream",
     "text": [
      " 23%|██▎       | 34/149 [00:24<01:47,  1.07it/s]"
     ]
    },
    {
     "name": "stdout",
     "output_type": "stream",
     "text": [
      "5974.501659734305\n",
      "k =  35\n",
      "-1626.6039374792979\n",
      "1911.931648113223\n",
      "5323.525435500265\n",
      "5891.526204281303\n"
     ]
    },
    {
     "name": "stderr",
     "output_type": "stream",
     "text": [
      " 23%|██▎       | 35/149 [00:24<01:41,  1.13it/s]"
     ]
    },
    {
     "name": "stdout",
     "output_type": "stream",
     "text": [
      "5958.868039195129\n",
      "k =  36\n",
      "-1681.2521532105907\n",
      "2258.4112536580014\n",
      "5726.1452988594465\n",
      "6084.107420669944\n",
      "6103.919659090426\n"
     ]
    },
    {
     "name": "stderr",
     "output_type": "stream",
     "text": [
      " 24%|██▍       | 36/149 [00:25<01:43,  1.09it/s]"
     ]
    },
    {
     "name": "stdout",
     "output_type": "stream",
     "text": [
      "6103.923861918845\n",
      "k =  37\n",
      "-1734.9253707663047\n",
      "1618.2385631667619\n",
      "5442.821769829088\n",
      "6205.218745917904\n",
      "6217.966291592671\n",
      "6224.3028739233405\n"
     ]
    },
    {
     "name": "stderr",
     "output_type": "stream",
     "text": [
      " 25%|██▍       | 37/149 [00:26<01:43,  1.09it/s]"
     ]
    },
    {
     "name": "stdout",
     "output_type": "stream",
     "text": [
      "k =  38\n",
      "-1775.479287076174\n",
      "2274.89069636372\n",
      "6244.688861480696\n",
      "6951.102292070681\n",
      "6989.086487018307\n"
     ]
    },
    {
     "name": "stderr",
     "output_type": "stream",
     "text": [
      " 26%|██▌       | 38/149 [00:27<01:37,  1.14it/s]"
     ]
    },
    {
     "name": "stdout",
     "output_type": "stream",
     "text": [
      "k =  39\n",
      "-1500.0123149559406\n",
      "2647.5166189748124\n",
      "6077.108874412552\n",
      "6518.823327501149\n",
      "6600.827582233136\n",
      "6600.82956065203\n"
     ]
    },
    {
     "name": "stderr",
     "output_type": "stream",
     "text": [
      " 26%|██▌       | 39/149 [00:28<01:44,  1.06it/s]"
     ]
    },
    {
     "name": "stdout",
     "output_type": "stream",
     "text": [
      "k =  40\n",
      "-1620.6840282456014\n",
      "2555.9027004483323\n",
      "6277.749625139802\n",
      "6897.9200971150785\n",
      "7012.587783325712\n"
     ]
    },
    {
     "name": "stderr",
     "output_type": "stream",
     "text": [
      " 27%|██▋       | 40/149 [00:29<01:42,  1.06it/s]"
     ]
    },
    {
     "name": "stdout",
     "output_type": "stream",
     "text": [
      "7012.706978710521\n",
      "k =  41\n",
      "-1599.0865653700148\n",
      "2002.5441539970711\n",
      "6315.984420103907\n",
      "6971.775843594035\n"
     ]
    },
    {
     "name": "stderr",
     "output_type": "stream",
     "text": [
      " 28%|██▊       | 41/149 [00:30<01:47,  1.01it/s]"
     ]
    },
    {
     "name": "stdout",
     "output_type": "stream",
     "text": [
      "7045.42589038681\n",
      "k =  42\n",
      "-1672.6808265733125\n",
      "2250.7071337724856\n",
      "6431.511452421517\n",
      "6915.541477683232\n",
      "6975.752379646948\n"
     ]
    },
    {
     "name": "stderr",
     "output_type": "stream",
     "text": [
      " 28%|██▊       | 42/149 [00:31<01:44,  1.02it/s]"
     ]
    },
    {
     "name": "stdout",
     "output_type": "stream",
     "text": [
      "k =  43\n",
      "-1682.6601183195212\n",
      "2658.8463451890875\n",
      "6762.5645297028295\n",
      "7206.590027535426\n",
      "7250.122523051063\n"
     ]
    },
    {
     "name": "stderr",
     "output_type": "stream",
     "text": [
      " 29%|██▉       | 43/149 [00:33<01:58,  1.12s/it]"
     ]
    },
    {
     "name": "stdout",
     "output_type": "stream",
     "text": [
      "k =  44\n",
      "-1530.2068632985029\n",
      "2889.984666094174\n",
      "6804.8454592217695\n",
      "7311.039767542781\n",
      "7375.57052824658\n"
     ]
    },
    {
     "name": "stderr",
     "output_type": "stream",
     "text": [
      " 30%|██▉       | 44/149 [00:34<01:59,  1.14s/it]"
     ]
    },
    {
     "name": "stdout",
     "output_type": "stream",
     "text": [
      "7398.994758216026\n",
      "k =  45\n",
      "-1350.4478395708238\n",
      "3342.4107022278768\n",
      "7005.665505834813\n",
      "7522.191329039844\n"
     ]
    },
    {
     "name": "stderr",
     "output_type": "stream",
     "text": [
      " 30%|███       | 45/149 [00:35<01:55,  1.11s/it]"
     ]
    },
    {
     "name": "stdout",
     "output_type": "stream",
     "text": [
      "7555.526954881458\n",
      "k =  46\n",
      "-1271.2238026677458\n",
      "3119.708590433374\n",
      "7113.892722833723\n",
      "7678.5461815197705\n"
     ]
    },
    {
     "name": "stderr",
     "output_type": "stream",
     "text": [
      " 31%|███       | 46/149 [00:36<01:52,  1.09s/it]"
     ]
    },
    {
     "name": "stdout",
     "output_type": "stream",
     "text": [
      "7749.120644030967\n",
      "k =  47\n",
      "-1409.7810198593422\n",
      "3394.313924781648\n",
      "7323.974489920057\n",
      "7727.418147013087\n",
      "7797.062616035019\n"
     ]
    },
    {
     "name": "stderr",
     "output_type": "stream",
     "text": [
      " 32%|███▏      | 47/149 [00:37<01:58,  1.16s/it]"
     ]
    },
    {
     "name": "stdout",
     "output_type": "stream",
     "text": [
      "7797.125034271334\n",
      "k =  48\n",
      "-1282.5691194986155\n",
      "3497.204103574501\n",
      "6994.829582123695\n",
      "7593.509435340869\n",
      "7688.605799329993\n",
      "7696.755589883094\n"
     ]
    },
    {
     "name": "stderr",
     "output_type": "stream",
     "text": [
      " 32%|███▏      | 48/149 [00:38<01:58,  1.17s/it]"
     ]
    },
    {
     "name": "stdout",
     "output_type": "stream",
     "text": [
      "k =  49\n",
      "-1339.8282360180806\n",
      "4103.3045406523615\n",
      "7521.511870618949\n",
      "8007.2070881307445\n",
      "8072.3159808014025\n",
      "8075.021414647115\n",
      "8088.552321477226\n"
     ]
    },
    {
     "name": "stderr",
     "output_type": "stream",
     "text": [
      " 33%|███▎      | 49/149 [00:40<01:59,  1.19s/it]"
     ]
    },
    {
     "name": "stdout",
     "output_type": "stream",
     "text": [
      "k =  50\n",
      "-1394.9187329151432\n",
      "3404.844058433133\n",
      "7340.385997431266\n",
      "7895.795801147798\n",
      "7937.7676526941605\n",
      "7984.335522809223\n"
     ]
    },
    {
     "name": "stderr",
     "output_type": "stream",
     "text": [
      " 34%|███▎      | 50/149 [00:41<02:05,  1.27s/it]"
     ]
    },
    {
     "name": "stdout",
     "output_type": "stream",
     "text": [
      "7985.5458422168795\n",
      "k =  51\n",
      "-1244.2594313599982\n",
      "3219.6282346700473\n",
      "7304.453599373992\n",
      "8134.743684261013\n"
     ]
    },
    {
     "name": "stderr",
     "output_type": "stream",
     "text": [
      " 34%|███▍      | 51/149 [00:42<01:54,  1.17s/it]"
     ]
    },
    {
     "name": "stdout",
     "output_type": "stream",
     "text": [
      "8225.203568901277\n",
      "k =  52\n",
      "-985.4303966667383\n",
      "3916.442032005809\n",
      "7533.565347575739\n",
      "8060.75243908254\n",
      "8145.220268094221\n",
      "8161.46889724124\n"
     ]
    },
    {
     "name": "stderr",
     "output_type": "stream",
     "text": [
      " 35%|███▍      | 52/149 [00:43<01:56,  1.20s/it]"
     ]
    },
    {
     "name": "stdout",
     "output_type": "stream",
     "text": [
      "8174.9819754515875\n",
      "k =  53\n",
      "-1331.8193803233037\n",
      "3870.9759797574798\n",
      "7866.864563689818\n",
      "8397.38655829435\n"
     ]
    },
    {
     "name": "stderr",
     "output_type": "stream",
     "text": [
      " 36%|███▌      | 53/149 [00:44<01:48,  1.13s/it]"
     ]
    },
    {
     "name": "stdout",
     "output_type": "stream",
     "text": [
      "8445.15114825563\n",
      "k =  54\n",
      "-1245.7660023609565\n",
      "4348.7994588825495\n",
      "7784.129304945243\n",
      "8324.06176431528\n",
      "8449.992720218619\n",
      "8480.000153995057\n"
     ]
    },
    {
     "name": "stderr",
     "output_type": "stream",
     "text": [
      " 36%|███▌      | 54/149 [00:46<02:01,  1.28s/it]"
     ]
    },
    {
     "name": "stdout",
     "output_type": "stream",
     "text": [
      "k =  55\n",
      "-1290.328498337932\n",
      "4080.4758371934736\n",
      "7897.971837726433\n",
      "8409.782563498318\n",
      "8463.3692156219\n",
      "8482.688512214354\n"
     ]
    },
    {
     "name": "stderr",
     "output_type": "stream",
     "text": [
      " 37%|███▋      | 55/149 [00:48<02:25,  1.55s/it]"
     ]
    },
    {
     "name": "stdout",
     "output_type": "stream",
     "text": [
      "k =  56\n",
      "-1324.824184178579\n",
      "4405.601947241998\n",
      "8262.36920287999\n",
      "8655.895942635809\n",
      "8758.948380639107\n"
     ]
    },
    {
     "name": "stderr",
     "output_type": "stream",
     "text": [
      " 38%|███▊      | 56/149 [00:49<02:11,  1.41s/it]"
     ]
    },
    {
     "name": "stdout",
     "output_type": "stream",
     "text": [
      "8774.039301822359\n",
      "k =  57\n",
      "-1214.471204456173\n",
      "4267.51543486428\n",
      "8225.872641059483\n",
      "8704.150151303049\n",
      "8780.722255240702\n"
     ]
    },
    {
     "name": "stderr",
     "output_type": "stream",
     "text": [
      " 38%|███▊      | 57/149 [00:51<02:15,  1.47s/it]"
     ]
    },
    {
     "name": "stdout",
     "output_type": "stream",
     "text": [
      "8815.15318601132\n",
      "k =  58\n",
      "-1015.198074471402\n",
      "4646.19681694624\n",
      "8366.2446552694\n",
      "8831.066852954802\n",
      "8911.700465121194\n"
     ]
    },
    {
     "name": "stderr",
     "output_type": "stream",
     "text": [
      " 39%|███▉      | 58/149 [00:53<02:28,  1.63s/it]"
     ]
    },
    {
     "name": "stdout",
     "output_type": "stream",
     "text": [
      "8911.705361348675\n",
      "k =  59\n",
      "-766.1131438565765\n",
      "5163.335140201003\n",
      "8552.31406467939\n",
      "8893.993099346415\n",
      "8965.267488188538\n"
     ]
    },
    {
     "name": "stderr",
     "output_type": "stream",
     "text": [
      " 40%|███▉      | 59/149 [00:54<02:12,  1.47s/it]"
     ]
    },
    {
     "name": "stdout",
     "output_type": "stream",
     "text": [
      "k =  60\n",
      "-968.6209331964837\n",
      "4785.335932694297\n",
      "8442.85945946262\n",
      "8824.175208184235\n",
      "8872.733463753499\n",
      "8891.84035902733\n"
     ]
    },
    {
     "name": "stderr",
     "output_type": "stream",
     "text": [
      " 40%|████      | 60/149 [00:55<02:12,  1.49s/it]"
     ]
    },
    {
     "name": "stdout",
     "output_type": "stream",
     "text": [
      "k =  61\n",
      "-811.7141178465267\n",
      "5043.286465491681\n",
      "8375.739295022853\n",
      "8852.662344374916\n",
      "8917.36080991912\n",
      "8947.16386830976\n"
     ]
    },
    {
     "name": "stderr",
     "output_type": "stream",
     "text": [
      " 41%|████      | 61/149 [00:57<02:05,  1.42s/it]"
     ]
    },
    {
     "name": "stdout",
     "output_type": "stream",
     "text": [
      "k =  62\n",
      "-958.744015667461\n",
      "4295.105989100075\n",
      "8372.552379659957\n",
      "8868.002084254156\n",
      "8963.635570985265\n",
      "8970.146935614077\n",
      "8975.4779745371\n"
     ]
    },
    {
     "name": "stderr",
     "output_type": "stream",
     "text": [
      " 42%|████▏     | 62/149 [00:58<02:12,  1.53s/it]"
     ]
    },
    {
     "name": "stdout",
     "output_type": "stream",
     "text": [
      "8989.943651417849\n",
      "k =  63\n",
      "-1014.7224040713934\n",
      "5254.385475052291\n",
      "8788.672315212269\n",
      "9280.371127839615\n",
      "9385.351008766665\n",
      "9394.220931201897\n"
     ]
    },
    {
     "name": "stderr",
     "output_type": "stream",
     "text": [
      " 42%|████▏     | 63/149 [01:00<02:12,  1.55s/it]"
     ]
    },
    {
     "name": "stdout",
     "output_type": "stream",
     "text": [
      "9405.619143724049\n",
      "k =  64\n",
      "-1055.3279566677425\n",
      "5045.658122074462\n",
      "8504.75583833085\n",
      "8926.868355307424\n",
      "9018.165861374406\n",
      "9065.962439312601\n",
      "9066.010504205338\n"
     ]
    },
    {
     "name": "stderr",
     "output_type": "stream",
     "text": [
      " 43%|████▎     | 64/149 [01:02<02:22,  1.67s/it]"
     ]
    },
    {
     "name": "stdout",
     "output_type": "stream",
     "text": [
      "k =  65\n",
      "-945.6850237682099\n",
      "5347.851027926343\n",
      "8668.856220204725\n",
      "9051.678564239577\n",
      "9122.62747553344\n",
      "9139.074472586819\n",
      "9146.43827617744\n",
      "9147.278788021626\n",
      "9155.361748766943\n"
     ]
    },
    {
     "name": "stderr",
     "output_type": "stream",
     "text": [
      " 44%|████▎     | 65/149 [01:04<02:36,  1.86s/it]"
     ]
    },
    {
     "name": "stdout",
     "output_type": "stream",
     "text": [
      "9157.494680409232\n",
      "k =  66\n",
      "-643.3814796910444\n",
      "5610.741532094531\n",
      "8756.446606258469\n",
      "9133.017858563768\n",
      "9218.32137574866\n",
      "9234.305084806729\n"
     ]
    },
    {
     "name": "stderr",
     "output_type": "stream",
     "text": [
      " 44%|████▍     | 66/149 [01:06<02:26,  1.76s/it]"
     ]
    },
    {
     "name": "stdout",
     "output_type": "stream",
     "text": [
      "k =  67\n",
      "-795.9211353725163\n",
      "5306.129890656124\n",
      "8612.670519360952\n",
      "9080.713373703222\n",
      "9156.876435521415\n",
      "9180.681721144723\n"
     ]
    },
    {
     "name": "stderr",
     "output_type": "stream",
     "text": [
      " 45%|████▍     | 67/149 [01:08<02:24,  1.77s/it]"
     ]
    },
    {
     "name": "stdout",
     "output_type": "stream",
     "text": [
      "k =  68\n",
      "-1022.0072840656571\n",
      "5484.310279619124\n",
      "8918.76451313696\n",
      "9380.465490415565\n",
      "9440.722856348139\n",
      "9472.490270662393\n",
      "9500.950477445085\n",
      "9505.438369335545\n"
     ]
    },
    {
     "name": "stderr",
     "output_type": "stream",
     "text": [
      " 46%|████▌     | 68/149 [01:10<02:33,  1.90s/it]"
     ]
    },
    {
     "name": "stdout",
     "output_type": "stream",
     "text": [
      "k =  69\n",
      "-860.4931917438239\n",
      "5024.006964232245\n",
      "8854.943883557422\n",
      "9407.848426670465\n",
      "9502.291013654904\n",
      "9514.588883069373\n",
      "9516.977736720906\n"
     ]
    },
    {
     "name": "stderr",
     "output_type": "stream",
     "text": [
      " 46%|████▋     | 69/149 [01:12<02:31,  1.90s/it]"
     ]
    },
    {
     "name": "stdout",
     "output_type": "stream",
     "text": [
      "k =  70\n",
      "-935.8486339050673\n",
      "5662.532155042532\n",
      "8994.808525604449\n",
      "9500.320464643646\n",
      "9551.973692217742\n"
     ]
    },
    {
     "name": "stderr",
     "output_type": "stream",
     "text": [
      " 47%|████▋     | 70/149 [01:13<02:16,  1.72s/it]"
     ]
    },
    {
     "name": "stdout",
     "output_type": "stream",
     "text": [
      "9553.244339390003\n",
      "k =  71\n",
      "-670.9795897515778\n",
      "5933.606890395864\n",
      "9202.789255471564\n",
      "9592.451001932131\n",
      "9631.94182445173\n",
      "9643.383299642599\n"
     ]
    },
    {
     "name": "stderr",
     "output_type": "stream",
     "text": [
      " 48%|████▊     | 71/149 [01:15<02:13,  1.72s/it]"
     ]
    },
    {
     "name": "stdout",
     "output_type": "stream",
     "text": [
      "k =  72\n",
      "-855.7071833599157\n",
      "5530.630084637049\n",
      "8899.915142893431\n",
      "9448.566572775857\n",
      "9519.450076944537\n",
      "9535.934284388717\n"
     ]
    },
    {
     "name": "stderr",
     "output_type": "stream",
     "text": [
      " 48%|████▊     | 72/149 [01:17<02:26,  1.91s/it]"
     ]
    },
    {
     "name": "stdout",
     "output_type": "stream",
     "text": [
      "9544.771509534974\n",
      "k =  73\n",
      "-671.4141408549253\n",
      "5957.757350884605\n",
      "9163.385868773605\n",
      "9549.179090738064\n",
      "9608.187616566718\n",
      "9638.946151779437\n"
     ]
    },
    {
     "name": "stderr",
     "output_type": "stream",
     "text": [
      " 49%|████▉     | 73/149 [01:19<02:24,  1.90s/it]"
     ]
    },
    {
     "name": "stdout",
     "output_type": "stream",
     "text": [
      "9646.083226208686\n",
      "k =  74\n",
      "-656.928627808667\n",
      "6120.795310018683\n",
      "9324.147014639995\n",
      "9737.599465704287\n",
      "9760.562143320341\n",
      "9770.66608362897\n",
      "9780.042745581008\n",
      "9786.26994509187\n",
      "9791.111595499298\n"
     ]
    },
    {
     "name": "stderr",
     "output_type": "stream",
     "text": [
      " 50%|████▉     | 74/149 [01:21<02:31,  2.01s/it]"
     ]
    },
    {
     "name": "stdout",
     "output_type": "stream",
     "text": [
      "k =  75\n",
      "-684.6082181052845\n",
      "6019.840758611588\n",
      "9323.393138518473\n",
      "9710.656721586669\n",
      "9798.63328051274\n",
      "9822.182656381734\n"
     ]
    },
    {
     "name": "stderr",
     "output_type": "stream",
     "text": [
      " 50%|█████     | 75/149 [01:23<02:22,  1.93s/it]"
     ]
    },
    {
     "name": "stdout",
     "output_type": "stream",
     "text": [
      "k =  76\n",
      "-771.4233013792991\n",
      "6324.485400645486\n",
      "9489.015105268387\n",
      "9885.598697579688\n",
      "9927.086761665672\n",
      "9935.700477031374\n"
     ]
    },
    {
     "name": "stderr",
     "output_type": "stream",
     "text": [
      " 51%|█████     | 76/149 [01:25<02:15,  1.86s/it]"
     ]
    },
    {
     "name": "stdout",
     "output_type": "stream",
     "text": [
      "k =  77\n",
      "-701.3279118157091\n",
      "6375.964177238067\n",
      "9626.065458819829\n",
      "9967.225048439457\n",
      "10076.938298729632\n",
      "10131.38961551791\n"
     ]
    },
    {
     "name": "stderr",
     "output_type": "stream",
     "text": [
      " 52%|█████▏    | 77/149 [01:27<02:21,  1.96s/it]"
     ]
    },
    {
     "name": "stdout",
     "output_type": "stream",
     "text": [
      "10139.789241354534\n",
      "k =  78\n",
      "-579.6773644377408\n",
      "6344.425845347294\n",
      "9425.98821629199\n",
      "9875.16357811561\n",
      "9932.382174388866\n",
      "9957.910541339952\n",
      "9958.217419932607\n",
      "9958.572881255495\n",
      "9959.264126997732\n",
      "9963.308306799045\n",
      "9969.592936181452\n"
     ]
    },
    {
     "name": "stderr",
     "output_type": "stream",
     "text": [
      " 52%|█████▏    | 78/149 [01:30<02:36,  2.20s/it]"
     ]
    },
    {
     "name": "stdout",
     "output_type": "stream",
     "text": [
      "k =  79\n",
      "-588.3017207741507\n",
      "6508.26219387898\n",
      "9399.49951671206\n",
      "9828.738027580808\n",
      "9915.247519114564\n",
      "9933.063523852801\n"
     ]
    },
    {
     "name": "stderr",
     "output_type": "stream",
     "text": [
      " 53%|█████▎    | 79/149 [01:31<02:19,  1.99s/it]"
     ]
    },
    {
     "name": "stdout",
     "output_type": "stream",
     "text": [
      "k =  80\n",
      "-490.5875103310877\n",
      "6408.842889254636\n",
      "9492.04457585204\n",
      "9924.59779488414\n",
      "10004.868544247754\n",
      "10018.84379976326\n"
     ]
    },
    {
     "name": "stderr",
     "output_type": "stream",
     "text": [
      " 54%|█████▎    | 80/149 [01:33<02:11,  1.91s/it]"
     ]
    },
    {
     "name": "stdout",
     "output_type": "stream",
     "text": [
      "k =  81\n",
      "-533.7934185253384\n",
      "6590.650773004129\n",
      "9577.604914983323\n",
      "10013.229979190668\n",
      "10080.297309696318\n",
      "10086.161248957378\n"
     ]
    },
    {
     "name": "stderr",
     "output_type": "stream",
     "text": [
      " 54%|█████▍    | 81/149 [01:35<02:10,  1.93s/it]"
     ]
    },
    {
     "name": "stdout",
     "output_type": "stream",
     "text": [
      "k =  82\n",
      "-664.9081327534388\n",
      "6449.483972616619\n",
      "9594.660034907209\n",
      "10090.2436332831\n",
      "10188.23584987085\n",
      "10204.080928076542\n"
     ]
    },
    {
     "name": "stderr",
     "output_type": "stream",
     "text": [
      " 55%|█████▌    | 82/149 [01:37<02:07,  1.91s/it]"
     ]
    },
    {
     "name": "stdout",
     "output_type": "stream",
     "text": [
      "k =  83\n",
      "-394.56170496291395\n",
      "6765.141301407251\n",
      "9606.943513687442\n",
      "10130.572841169163\n",
      "10269.348742571328\n",
      "10270.61120454613\n"
     ]
    },
    {
     "name": "stderr",
     "output_type": "stream",
     "text": [
      " 56%|█████▌    | 83/149 [01:39<02:06,  1.92s/it]"
     ]
    },
    {
     "name": "stdout",
     "output_type": "stream",
     "text": [
      "k =  84\n",
      "-401.8588787581811\n",
      "6750.71093248672\n",
      "9755.122637628026\n",
      "10220.928808544504\n",
      "10298.05371486879\n",
      "10313.586475089185\n"
     ]
    },
    {
     "name": "stderr",
     "output_type": "stream",
     "text": [
      " 56%|█████▋    | 84/149 [01:40<01:58,  1.82s/it]"
     ]
    },
    {
     "name": "stdout",
     "output_type": "stream",
     "text": [
      "k =  85\n",
      "-386.4781190707401\n",
      "6952.4777768939275\n",
      "9768.17256734916\n",
      "10143.150907656927\n",
      "10239.43040377761\n",
      "10269.279176365133\n"
     ]
    },
    {
     "name": "stderr",
     "output_type": "stream",
     "text": [
      " 57%|█████▋    | 85/149 [01:42<02:04,  1.94s/it]"
     ]
    },
    {
     "name": "stdout",
     "output_type": "stream",
     "text": [
      "k =  86\n",
      "-287.4439001547431\n",
      "7145.755490974367\n",
      "9915.402947859762\n",
      "10194.618086169783\n",
      "10261.253609620402\n",
      "10304.68024519572\n"
     ]
    },
    {
     "name": "stderr",
     "output_type": "stream",
     "text": [
      " 58%|█████▊    | 86/149 [01:44<02:03,  1.96s/it]"
     ]
    },
    {
     "name": "stdout",
     "output_type": "stream",
     "text": [
      "k =  87\n",
      "-342.0932710532078\n",
      "6814.746238665148\n",
      "9961.085062489508\n",
      "10323.752358273892\n",
      "10399.532898276855\n",
      "10420.211864622019\n",
      "10425.396164759477\n"
     ]
    },
    {
     "name": "stderr",
     "output_type": "stream",
     "text": [
      " 58%|█████▊    | 87/149 [01:47<02:22,  2.30s/it]"
     ]
    },
    {
     "name": "stdout",
     "output_type": "stream",
     "text": [
      "k =  88\n",
      "-370.285165734199\n",
      "7203.93262238261\n",
      "9742.6450246655\n",
      "10116.914924529789\n",
      "10226.651477158059\n",
      "10267.330816960803\n"
     ]
    },
    {
     "name": "stderr",
     "output_type": "stream",
     "text": [
      " 59%|█████▉    | 88/149 [01:49<02:15,  2.22s/it]"
     ]
    },
    {
     "name": "stdout",
     "output_type": "stream",
     "text": [
      "10267.360280466379\n",
      "k =  89\n",
      "-517.4639644302615\n",
      "7093.49023211349\n",
      "9925.543203078334\n",
      "10266.495295870005\n",
      "10370.848617276974\n",
      "10378.118793668087\n",
      "10391.226005256094\n"
     ]
    },
    {
     "name": "stderr",
     "output_type": "stream",
     "text": [
      " 60%|█████▉    | 89/149 [01:52<02:10,  2.17s/it]"
     ]
    },
    {
     "name": "stdout",
     "output_type": "stream",
     "text": [
      "k =  90\n",
      "-461.9845273629445\n",
      "6877.3384651085935\n",
      "9921.254696870441\n",
      "10324.858001383738\n",
      "10468.71639770614\n",
      "10495.972037255506\n",
      "10498.942026265919\n"
     ]
    },
    {
     "name": "stderr",
     "output_type": "stream",
     "text": [
      " 60%|██████    | 90/149 [01:54<02:06,  2.15s/it]"
     ]
    },
    {
     "name": "stdout",
     "output_type": "stream",
     "text": [
      "k =  91\n",
      "-252.84954226488816\n",
      "7607.037352250207\n",
      "10160.628471768854\n",
      "10576.178640932543\n",
      "10649.875694813869\n",
      "10659.10340758722\n",
      "10666.2119140788\n"
     ]
    },
    {
     "name": "stderr",
     "output_type": "stream",
     "text": [
      " 61%|██████    | 91/149 [01:56<02:01,  2.09s/it]"
     ]
    },
    {
     "name": "stdout",
     "output_type": "stream",
     "text": [
      "k =  92\n",
      "-186.05527832962304\n",
      "7486.033191101112\n",
      "10169.113405108481\n",
      "10533.351406130092\n",
      "10568.875719651476\n",
      "10588.570852888552\n"
     ]
    },
    {
     "name": "stderr",
     "output_type": "stream",
     "text": [
      " 62%|██████▏   | 92/149 [01:57<01:55,  2.02s/it]"
     ]
    },
    {
     "name": "stdout",
     "output_type": "stream",
     "text": [
      "k =  93\n",
      "-92.705438155019\n",
      "7563.699025399003\n",
      "10200.127985720876\n",
      "10509.169707306335\n",
      "10570.193462698247\n",
      "10599.366293620988\n",
      "10616.462644469198\n",
      "10627.02045326453\n"
     ]
    },
    {
     "name": "stderr",
     "output_type": "stream",
     "text": [
      " 62%|██████▏   | 93/149 [02:00<02:08,  2.30s/it]"
     ]
    },
    {
     "name": "stdout",
     "output_type": "stream",
     "text": [
      "k =  94\n",
      "-353.20899770504445\n",
      "7211.036381186605\n",
      "10169.406643613784\n",
      "10570.350607100538\n",
      "10673.74407232009\n",
      "10680.603882701313\n"
     ]
    },
    {
     "name": "stderr",
     "output_type": "stream",
     "text": [
      " 63%|██████▎   | 94/149 [02:03<02:04,  2.27s/it]"
     ]
    },
    {
     "name": "stdout",
     "output_type": "stream",
     "text": [
      "k =  95\n",
      "-226.40577543753554\n",
      "7237.030141288725\n",
      "10117.409006551326\n",
      "10576.408670067482\n",
      "10657.689080619915\n",
      "10674.955478420432\n",
      "10682.446041411167\n",
      "10687.749161751084\n",
      "10694.554025023457\n",
      "10703.120114131503\n"
     ]
    },
    {
     "name": "stderr",
     "output_type": "stream",
     "text": [
      " 64%|██████▍   | 95/149 [02:06<02:16,  2.52s/it]"
     ]
    },
    {
     "name": "stdout",
     "output_type": "stream",
     "text": [
      "k =  96\n",
      "-109.04603532963415\n",
      "7688.58956536785\n",
      "10212.140280450916\n",
      "10631.87367451426\n",
      "10742.30174673618\n",
      "10762.207333869963\n",
      "10771.481234025865\n",
      "10772.4872175042\n",
      "10782.138508229278\n"
     ]
    },
    {
     "name": "stderr",
     "output_type": "stream",
     "text": [
      " 64%|██████▍   | 96/149 [02:09<02:26,  2.76s/it]"
     ]
    },
    {
     "name": "stdout",
     "output_type": "stream",
     "text": [
      "k =  97\n",
      "-77.6430536679203\n",
      "7702.789441379344\n",
      "10418.301079139215\n",
      "10819.93907768232\n",
      "10898.087642209255\n",
      "10901.81827132697\n",
      "10906.564279662474\n"
     ]
    },
    {
     "name": "stderr",
     "output_type": "stream",
     "text": [
      " 65%|██████▌   | 97/149 [02:12<02:23,  2.77s/it]"
     ]
    },
    {
     "name": "stdout",
     "output_type": "stream",
     "text": [
      "k =  98\n",
      "-150.8533082186597\n",
      "7858.750178507866\n",
      "10199.280930667193\n",
      "10529.115028139899\n",
      "10685.365558234522\n",
      "10734.985569241122\n",
      "10753.688401687943\n",
      "10761.846172356796\n"
     ]
    },
    {
     "name": "stderr",
     "output_type": "stream",
     "text": [
      " 66%|██████▌   | 98/149 [02:15<02:25,  2.85s/it]"
     ]
    },
    {
     "name": "stdout",
     "output_type": "stream",
     "text": [
      "k =  99\n",
      "-33.95343910050133\n",
      "8057.679221536189\n",
      "10427.698623007798\n",
      "10800.122842707413\n",
      "10882.484637067966\n",
      "10903.567020867378\n"
     ]
    },
    {
     "name": "stderr",
     "output_type": "stream",
     "text": [
      " 66%|██████▋   | 99/149 [02:17<02:16,  2.74s/it]"
     ]
    },
    {
     "name": "stdout",
     "output_type": "stream",
     "text": [
      "k =  100\n",
      "-130.44377576430696\n",
      "7774.3380163845995\n",
      "10347.130178538331\n",
      "10800.12595244472\n",
      "10933.746428479728\n",
      "10954.128829818666\n",
      "10958.720745668521\n"
     ]
    },
    {
     "name": "stderr",
     "output_type": "stream",
     "text": [
      " 67%|██████▋   | 100/149 [02:20<02:11,  2.68s/it]"
     ]
    },
    {
     "name": "stdout",
     "output_type": "stream",
     "text": [
      "k =  101\n",
      "11.868517873868171\n",
      "7827.081844913944\n",
      "10498.328650503223\n",
      "10858.234561452959\n",
      "10971.09905481177\n",
      "10982.846172354713\n",
      "10995.023761443863\n",
      "11007.113682366275\n"
     ]
    },
    {
     "name": "stderr",
     "output_type": "stream",
     "text": [
      " 68%|██████▊   | 101/149 [02:22<02:05,  2.62s/it]"
     ]
    },
    {
     "name": "stdout",
     "output_type": "stream",
     "text": [
      "k =  102\n",
      "-35.358865865221134\n",
      "7996.306174943921\n",
      "10408.821954621173\n",
      "10811.718426356252\n",
      "10877.248909154972\n",
      "10883.501170786307\n",
      "10893.563297519933\n",
      "10902.652485688104\n"
     ]
    },
    {
     "name": "stderr",
     "output_type": "stream",
     "text": [
      " 68%|██████▊   | 102/149 [02:25<02:10,  2.78s/it]"
     ]
    },
    {
     "name": "stdout",
     "output_type": "stream",
     "text": [
      "k =  103\n",
      "-267.60303062248613\n",
      "7863.907212744791\n",
      "10465.889786622676\n",
      "10766.937018777768\n",
      "10844.404466057927\n",
      "10880.354659230721\n"
     ]
    },
    {
     "name": "stderr",
     "output_type": "stream",
     "text": [
      " 69%|██████▉   | 103/149 [02:28<02:00,  2.62s/it]"
     ]
    },
    {
     "name": "stdout",
     "output_type": "stream",
     "text": [
      "k =  104\n",
      "-338.88862802867914\n",
      "7795.593580760769\n",
      "10403.780114793393\n",
      "10809.402460023504\n",
      "10924.831422971933\n",
      "10935.14717689194\n",
      "10950.60462338827\n",
      "10959.046775713326\n",
      "10960.136381329254\n"
     ]
    },
    {
     "name": "stderr",
     "output_type": "stream",
     "text": [
      " 70%|██████▉   | 104/149 [02:31<02:06,  2.81s/it]"
     ]
    },
    {
     "name": "stdout",
     "output_type": "stream",
     "text": [
      "k =  105\n",
      "113.10380983768275\n",
      "8398.103911106315\n",
      "10554.312086656588\n",
      "10849.088875906436\n",
      "10984.517969713068\n",
      "11039.745364853825\n",
      "11065.080809702436\n"
     ]
    },
    {
     "name": "stderr",
     "output_type": "stream",
     "text": [
      " 70%|███████   | 105/149 [02:34<02:02,  2.78s/it]"
     ]
    },
    {
     "name": "stdout",
     "output_type": "stream",
     "text": [
      "k =  106\n",
      "36.40784771643675\n",
      "8193.538124712348\n",
      "10515.541099641869\n",
      "10963.810060071575\n",
      "11092.15153695349\n",
      "11117.036664545412\n"
     ]
    },
    {
     "name": "stderr",
     "output_type": "stream",
     "text": [
      " 71%|███████   | 106/149 [02:36<01:47,  2.51s/it]"
     ]
    },
    {
     "name": "stdout",
     "output_type": "stream",
     "text": [
      "k =  107\n",
      "-59.96469227847143\n",
      "8094.299660886694\n",
      "10466.739502665205\n",
      "10814.250064516313\n",
      "10930.303902383792\n",
      "10976.527506196224\n"
     ]
    },
    {
     "name": "stderr",
     "output_type": "stream",
     "text": [
      " 72%|███████▏  | 107/149 [02:38<01:46,  2.55s/it]"
     ]
    },
    {
     "name": "stdout",
     "output_type": "stream",
     "text": [
      "k =  108\n",
      "127.88138621469211\n",
      "8453.532382994865\n",
      "10623.599941879498\n",
      "10980.264278109764\n",
      "11129.762173967374\n",
      "11165.298044415627\n",
      "11180.96938985523\n",
      "11185.207080333836\n",
      "11190.35482766414\n"
     ]
    },
    {
     "name": "stderr",
     "output_type": "stream",
     "text": [
      " 72%|███████▏  | 108/149 [02:41<01:47,  2.63s/it]"
     ]
    },
    {
     "name": "stdout",
     "output_type": "stream",
     "text": [
      "k =  109\n",
      "-146.98808074575717\n",
      "8429.007295911339\n",
      "10715.910028709957\n",
      "10982.81285524768\n",
      "11050.661846697934\n",
      "11088.98752303722\n",
      "11100.507140506983\n"
     ]
    },
    {
     "name": "stderr",
     "output_type": "stream",
     "text": [
      " 73%|███████▎  | 109/149 [02:43<01:41,  2.54s/it]"
     ]
    },
    {
     "name": "stdout",
     "output_type": "stream",
     "text": [
      "k =  110\n",
      "10.475577048422593\n",
      "8394.069092115205\n",
      "10720.989403165597\n",
      "11095.363217452072\n",
      "11196.77275550002\n",
      "11205.772465344133\n"
     ]
    },
    {
     "name": "stderr",
     "output_type": "stream",
     "text": [
      " 74%|███████▍  | 110/149 [02:46<01:35,  2.45s/it]"
     ]
    },
    {
     "name": "stdout",
     "output_type": "stream",
     "text": [
      "k =  111\n",
      "79.40820768560476\n",
      "8432.669325689045\n",
      "10764.939533884259\n",
      "11135.962923463376\n",
      "11221.177339002315\n",
      "11248.761648079584\n",
      "11264.658117111092\n",
      "11281.502879542815\n"
     ]
    },
    {
     "name": "stderr",
     "output_type": "stream",
     "text": [
      " 74%|███████▍  | 111/149 [02:48<01:34,  2.48s/it]"
     ]
    },
    {
     "name": "stdout",
     "output_type": "stream",
     "text": [
      "k =  112\n",
      "34.99247187390954\n",
      "8570.024157098715\n",
      "10786.539747979667\n",
      "11191.452041669374\n",
      "11275.487296205836\n",
      "11314.090969048935\n",
      "11314.994921404143\n"
     ]
    },
    {
     "name": "stderr",
     "output_type": "stream",
     "text": [
      " 75%|███████▌  | 112/149 [02:51<01:31,  2.46s/it]"
     ]
    },
    {
     "name": "stdout",
     "output_type": "stream",
     "text": [
      "k =  113\n",
      "198.3861485107246\n",
      "8673.082431459723\n",
      "10821.275899173914\n",
      "11205.49802082086\n",
      "11324.346453708233\n",
      "11340.719416413598\n"
     ]
    },
    {
     "name": "stderr",
     "output_type": "stream",
     "text": [
      " 76%|███████▌  | 113/149 [02:53<01:24,  2.34s/it]"
     ]
    },
    {
     "name": "stdout",
     "output_type": "stream",
     "text": [
      "k =  114\n",
      "116.30145061855099\n",
      "8635.304734122332\n",
      "10941.006548920952\n",
      "11202.218267876357\n",
      "11259.288323571967\n",
      "11279.790781038057\n",
      "11302.578782464272\n",
      "11309.720151323232\n",
      "11314.58701161843\n",
      "11314.80171947629\n",
      "11315.751947740562\n",
      "11325.930047109465\n"
     ]
    },
    {
     "name": "stderr",
     "output_type": "stream",
     "text": [
      " 77%|███████▋  | 114/149 [02:57<01:47,  3.07s/it]"
     ]
    },
    {
     "name": "stdout",
     "output_type": "stream",
     "text": [
      "k =  115\n",
      "105.43837365187949\n",
      "8567.658697834548\n",
      "10868.679175438243\n",
      "11188.509931817882\n",
      "11258.468166745002\n",
      "11278.464842125712\n",
      "11283.5250985429\n"
     ]
    },
    {
     "name": "stderr",
     "output_type": "stream",
     "text": [
      " 77%|███████▋  | 115/149 [03:00<01:42,  3.00s/it]"
     ]
    },
    {
     "name": "stdout",
     "output_type": "stream",
     "text": [
      "k =  116\n",
      "278.49538216784134\n",
      "8722.110824203231\n",
      "10913.523025802779\n",
      "11180.982889237432\n",
      "11287.864368312288\n",
      "11327.673137987036\n",
      "11328.62906782508\n",
      "11333.572634998181\n",
      "11351.879432022708\n",
      "11352.344944642315\n",
      "11354.677434102558\n",
      "11363.043403002717\n"
     ]
    },
    {
     "name": "stderr",
     "output_type": "stream",
     "text": [
      " 78%|███████▊  | 116/149 [03:04<01:49,  3.33s/it]"
     ]
    },
    {
     "name": "stdout",
     "output_type": "stream",
     "text": [
      "k =  117\n",
      "239.48594289769554\n",
      "8646.952403489016\n",
      "10927.072305384354\n",
      "11310.527010694681\n",
      "11429.374724310412\n",
      "11479.402180511952\n",
      "11479.971888054977\n"
     ]
    },
    {
     "name": "stderr",
     "output_type": "stream",
     "text": [
      " 79%|███████▊  | 117/149 [03:07<01:39,  3.10s/it]"
     ]
    },
    {
     "name": "stdout",
     "output_type": "stream",
     "text": [
      "k =  118\n",
      "104.44886259564501\n",
      "8688.375477750713\n",
      "10906.175557363757\n",
      "11286.499660435893\n",
      "11395.529338594766\n",
      "11425.922424788307\n"
     ]
    },
    {
     "name": "stderr",
     "output_type": "stream",
     "text": [
      " 79%|███████▉  | 118/149 [03:09<01:26,  2.78s/it]"
     ]
    },
    {
     "name": "stdout",
     "output_type": "stream",
     "text": [
      "k =  119\n",
      "242.28695286076942\n",
      "8759.656893532156\n",
      "10934.476898460853\n",
      "11256.753809354464\n",
      "11376.344859502884\n",
      "11417.860995360548\n",
      "11433.668456960513\n",
      "11443.538104233117\n"
     ]
    },
    {
     "name": "stderr",
     "output_type": "stream",
     "text": [
      " 80%|███████▉  | 119/149 [03:12<01:25,  2.86s/it]"
     ]
    },
    {
     "name": "stdout",
     "output_type": "stream",
     "text": [
      "k =  120\n",
      "262.66106816223623\n",
      "8762.806289454993\n",
      "11022.604622851584\n",
      "11326.64138303675\n",
      "11424.53945850297\n",
      "11445.500335753735\n",
      "11462.670115257362\n"
     ]
    },
    {
     "name": "stderr",
     "output_type": "stream",
     "text": [
      " 81%|████████  | 120/149 [03:15<01:22,  2.86s/it]"
     ]
    },
    {
     "name": "stdout",
     "output_type": "stream",
     "text": [
      "k =  121\n",
      "456.6103993979782\n",
      "8940.393727213437\n",
      "11001.398417769455\n",
      "11321.271961487531\n",
      "11446.718691215665\n",
      "11489.704373042347\n",
      "11500.14935212251\n",
      "11506.408552252624\n",
      "11517.680532298285\n",
      "11523.118525869799\n"
     ]
    },
    {
     "name": "stderr",
     "output_type": "stream",
     "text": [
      " 81%|████████  | 121/149 [03:19<01:30,  3.22s/it]"
     ]
    },
    {
     "name": "stdout",
     "output_type": "stream",
     "text": [
      "k =  122\n",
      "403.9704743517989\n",
      "8939.345921982876\n",
      "11006.205382004222\n",
      "11337.671821514763\n",
      "11448.687916020386\n",
      "11490.643176552918\n",
      "11501.566317307552\n",
      "11502.649759158176\n",
      "11511.841138560103\n"
     ]
    },
    {
     "name": "stderr",
     "output_type": "stream",
     "text": [
      " 82%|████████▏ | 122/149 [03:23<01:30,  3.34s/it]"
     ]
    },
    {
     "name": "stdout",
     "output_type": "stream",
     "text": [
      "k =  123\n",
      "468.8087015117852\n",
      "9159.62573409193\n",
      "11192.740401674877\n",
      "11505.539217661995\n",
      "11548.469547254394\n",
      "11559.793585376909\n",
      "11566.912389475416\n",
      "11581.14064039518\n"
     ]
    },
    {
     "name": "stderr",
     "output_type": "stream",
     "text": [
      " 83%|████████▎ | 123/149 [03:25<01:23,  3.22s/it]"
     ]
    },
    {
     "name": "stdout",
     "output_type": "stream",
     "text": [
      "k =  124\n",
      "378.3814772502619\n",
      "9053.508747022724\n",
      "11101.257117850271\n",
      "11399.221604663282\n",
      "11462.07116426319\n",
      "11492.80452597111\n",
      "11515.889032573217\n"
     ]
    },
    {
     "name": "stderr",
     "output_type": "stream",
     "text": [
      " 83%|████████▎ | 124/149 [03:28<01:16,  3.06s/it]"
     ]
    },
    {
     "name": "stdout",
     "output_type": "stream",
     "text": [
      "k =  125\n",
      "481.68521328800745\n",
      "9062.565873972955\n",
      "11113.37470498111\n",
      "11449.828459921162\n",
      "11572.740253629847\n",
      "11622.425001623644\n",
      "11642.730526427185\n",
      "11643.45909185983\n",
      "11649.071338173928\n",
      "11659.733500046208\n"
     ]
    },
    {
     "name": "stderr",
     "output_type": "stream",
     "text": [
      " 84%|████████▍ | 125/149 [03:32<01:18,  3.26s/it]"
     ]
    },
    {
     "name": "stdout",
     "output_type": "stream",
     "text": [
      "k =  126\n",
      "579.508488190086\n",
      "9007.341023283683\n",
      "11183.664104357082\n",
      "11482.751690005503\n",
      "11588.759357504834\n",
      "11612.60323099433\n",
      "11632.296334252696\n"
     ]
    },
    {
     "name": "stderr",
     "output_type": "stream",
     "text": [
      " 85%|████████▍ | 126/149 [03:35<01:13,  3.22s/it]"
     ]
    },
    {
     "name": "stdout",
     "output_type": "stream",
     "text": [
      "k =  127\n",
      "536.6064553663116\n",
      "9082.650836104802\n",
      "11239.978400004746\n",
      "11485.51510525242\n",
      "11538.046533589422\n",
      "11562.704810657739\n",
      "11579.297335530948\n",
      "11597.757078671599\n",
      "11604.733414930799\n",
      "11613.453139279249\n"
     ]
    },
    {
     "name": "stderr",
     "output_type": "stream",
     "text": [
      " 85%|████████▌ | 127/149 [03:39<01:13,  3.36s/it]"
     ]
    },
    {
     "name": "stdout",
     "output_type": "stream",
     "text": [
      "k =  128\n",
      "576.2203907329105\n",
      "9158.098135543849\n",
      "11181.27691999642\n",
      "11513.161042700905\n",
      "11602.341439564778\n",
      "11644.684524705779\n",
      "11653.3811167771\n",
      "11658.507413828655\n",
      "11664.123363343926\n",
      "11669.052397106374\n"
     ]
    },
    {
     "name": "stderr",
     "output_type": "stream",
     "text": [
      " 86%|████████▌ | 128/149 [03:42<01:13,  3.48s/it]"
     ]
    },
    {
     "name": "stdout",
     "output_type": "stream",
     "text": [
      "k =  129\n",
      "533.8959965439659\n",
      "9310.000614205659\n",
      "11263.734907232552\n",
      "11578.202439732066\n",
      "11656.879473020419\n",
      "11687.014858654311\n",
      "11695.184546951543\n"
     ]
    },
    {
     "name": "stderr",
     "output_type": "stream",
     "text": [
      " 87%|████████▋ | 129/149 [03:46<01:09,  3.47s/it]"
     ]
    },
    {
     "name": "stdout",
     "output_type": "stream",
     "text": [
      "k =  130\n",
      "413.6013489019841\n",
      "9224.946140273278\n",
      "11277.51932468609\n",
      "11539.396477566803\n",
      "11681.491861932984\n",
      "11715.758737395568\n",
      "11732.64391847967\n"
     ]
    },
    {
     "name": "stderr",
     "output_type": "stream",
     "text": [
      " 87%|████████▋ | 130/149 [03:49<01:01,  3.25s/it]"
     ]
    },
    {
     "name": "stdout",
     "output_type": "stream",
     "text": [
      "k =  131\n",
      "348.56384797412215\n",
      "9172.938921750703\n",
      "11256.212565289903\n",
      "11599.653093089557\n",
      "11695.507339054413\n",
      "11724.9525540809\n",
      "11742.731161470721\n",
      "11756.312834705635\n",
      "11757.462904847085\n",
      "11767.003908014885\n"
     ]
    },
    {
     "name": "stderr",
     "output_type": "stream",
     "text": [
      " 88%|████████▊ | 131/149 [03:53<01:02,  3.49s/it]"
     ]
    },
    {
     "name": "stdout",
     "output_type": "stream",
     "text": [
      "k =  132\n",
      "556.869729563615\n",
      "9284.481178151924\n",
      "11177.413617157541\n",
      "11539.3562912251\n",
      "11688.38358397035\n",
      "11760.505634545401\n",
      "11779.645479958599\n"
     ]
    },
    {
     "name": "stderr",
     "output_type": "stream",
     "text": [
      " 89%|████████▊ | 132/149 [03:56<00:57,  3.37s/it]"
     ]
    },
    {
     "name": "stdout",
     "output_type": "stream",
     "text": [
      "k =  133\n",
      "651.5773820676266\n",
      "9451.452855352334\n",
      "11363.100334488134\n",
      "11675.845802561973\n",
      "11766.525427703345\n",
      "11799.529571791049\n",
      "11811.465206798872\n",
      "11826.305245656946\n",
      "11832.125671378915\n"
     ]
    },
    {
     "name": "stderr",
     "output_type": "stream",
     "text": [
      " 89%|████████▉ | 133/149 [04:00<00:57,  3.61s/it]"
     ]
    },
    {
     "name": "stdout",
     "output_type": "stream",
     "text": [
      "k =  134\n",
      "528.5765954628694\n",
      "9331.78410110197\n",
      "11391.573098003679\n",
      "11641.925128420227\n",
      "11726.765994839341\n",
      "11783.2062416253\n",
      "11811.924046363856\n",
      "11820.758919239164\n"
     ]
    },
    {
     "name": "stderr",
     "output_type": "stream",
     "text": [
      " 90%|████████▉ | 134/149 [04:03<00:52,  3.48s/it]"
     ]
    },
    {
     "name": "stdout",
     "output_type": "stream",
     "text": [
      "k =  135\n",
      "592.4692247930318\n",
      "9440.111338492756\n",
      "11369.57898408074\n",
      "11748.620381674344\n",
      "11906.087870281088\n",
      "11964.45750171801\n",
      "11980.96869030103\n"
     ]
    },
    {
     "name": "stderr",
     "output_type": "stream",
     "text": [
      " 91%|█████████ | 135/149 [04:06<00:47,  3.40s/it]"
     ]
    },
    {
     "name": "stdout",
     "output_type": "stream",
     "text": [
      "k =  136\n",
      "625.2994851691392\n",
      "9519.697271680427\n",
      "11415.033765268035\n",
      "11753.862752659174\n",
      "11904.743096487538\n",
      "11970.786131819063\n",
      "11985.343082177256\n"
     ]
    },
    {
     "name": "stderr",
     "output_type": "stream",
     "text": [
      " 91%|█████████▏| 136/149 [04:10<00:43,  3.38s/it]"
     ]
    },
    {
     "name": "stdout",
     "output_type": "stream",
     "text": [
      "k =  137\n",
      "536.4000946674963\n",
      "9430.659927134639\n",
      "11496.465874876667\n",
      "11806.26461548025\n",
      "11907.917445951854\n",
      "11918.799673828227\n",
      "11928.569593501416\n"
     ]
    },
    {
     "name": "stderr",
     "output_type": "stream",
     "text": [
      " 92%|█████████▏| 137/149 [04:13<00:40,  3.36s/it]"
     ]
    },
    {
     "name": "stdout",
     "output_type": "stream",
     "text": [
      "k =  138\n",
      "505.1446584423003\n",
      "9428.412465246223\n",
      "11352.801884723576\n",
      "11721.809707225591\n",
      "11838.311525919838\n",
      "11874.474661913746\n",
      "11907.449016422386\n",
      "11919.074013205838\n",
      "11927.24772027605\n",
      "11927.959837096596\n",
      "11937.239876520307\n",
      "11942.359321476593\n",
      "11948.589342239331\n"
     ]
    },
    {
     "name": "stderr",
     "output_type": "stream",
     "text": [
      " 93%|█████████▎| 138/149 [04:19<00:44,  4.05s/it]"
     ]
    },
    {
     "name": "stdout",
     "output_type": "stream",
     "text": [
      "k =  139\n",
      "486.0280773817635\n",
      "9192.012731204071\n",
      "11367.322894402894\n",
      "11720.024414383017\n",
      "11833.490943045601\n",
      "11856.482157863382\n",
      "11856.484423694881\n",
      "11859.302175194447\n",
      "11865.880860777532\n",
      "11872.696499147696\n",
      "11874.18088690178\n"
     ]
    },
    {
     "name": "stderr",
     "output_type": "stream",
     "text": [
      " 93%|█████████▎| 139/149 [04:23<00:42,  4.24s/it]"
     ]
    },
    {
     "name": "stdout",
     "output_type": "stream",
     "text": [
      "k =  140\n",
      "675.3301005177948\n",
      "9497.991713498897\n",
      "11456.08495983032\n",
      "11807.344593717757\n",
      "11943.426120683784\n",
      "11997.562916361574\n",
      "12018.276429901034\n",
      "12022.677133850359\n"
     ]
    },
    {
     "name": "stderr",
     "output_type": "stream",
     "text": [
      " 94%|█████████▍| 140/149 [04:27<00:36,  4.10s/it]"
     ]
    },
    {
     "name": "stdout",
     "output_type": "stream",
     "text": [
      "k =  141\n",
      "730.9244818069482\n",
      "9624.945207987672\n",
      "11476.41112812448\n",
      "11839.968027422958\n",
      "11995.875294920796\n",
      "12027.645829304707\n"
     ]
    },
    {
     "name": "stderr",
     "output_type": "stream",
     "text": [
      " 95%|█████████▍| 141/149 [04:30<00:29,  3.68s/it]"
     ]
    },
    {
     "name": "stdout",
     "output_type": "stream",
     "text": [
      "k =  142\n",
      "697.0427345045084\n",
      "9557.802589302299\n",
      "11447.93687540845\n",
      "11823.021741540466\n",
      "11978.776385927953\n",
      "12032.065479504561\n",
      "12068.51404218535\n",
      "12079.193916639628\n",
      "12098.606840802257\n"
     ]
    },
    {
     "name": "stderr",
     "output_type": "stream",
     "text": [
      " 95%|█████████▌| 142/149 [04:34<00:26,  3.82s/it]"
     ]
    },
    {
     "name": "stdout",
     "output_type": "stream",
     "text": [
      "k =  143\n",
      "787.1699121923241\n",
      "9768.012367031495\n",
      "11587.79499482084\n",
      "11886.242669952073\n",
      "12004.355929633562\n",
      "12031.842907394592\n",
      "12039.240821656182\n",
      "12043.517594318404\n",
      "12049.597646335093\n",
      "12059.140022573207\n",
      "12064.45300601182\n",
      "12071.043729324223\n"
     ]
    },
    {
     "name": "stderr",
     "output_type": "stream",
     "text": [
      " 96%|█████████▌| 143/149 [04:39<00:25,  4.20s/it]"
     ]
    },
    {
     "name": "stdout",
     "output_type": "stream",
     "text": [
      "k =  144\n",
      "833.5625257975732\n",
      "9859.824968585006\n",
      "11642.185211487711\n",
      "11922.98120289425\n",
      "12028.353748418376\n",
      "12054.511340245786\n"
     ]
    },
    {
     "name": "stderr",
     "output_type": "stream",
     "text": [
      " 97%|█████████▋| 144/149 [04:42<00:19,  3.85s/it]"
     ]
    },
    {
     "name": "stdout",
     "output_type": "stream",
     "text": [
      "k =  145\n",
      "696.6388977690868\n",
      "9772.741109154984\n",
      "11638.46470092094\n",
      "11949.01316865716\n",
      "12064.410641210943\n",
      "12092.530507898091\n",
      "12103.550158584869\n",
      "12107.85225956861\n"
     ]
    },
    {
     "name": "stderr",
     "output_type": "stream",
     "text": [
      " 97%|█████████▋| 145/149 [04:46<00:14,  3.74s/it]"
     ]
    },
    {
     "name": "stdout",
     "output_type": "stream",
     "text": [
      "k =  146\n",
      "505.45997073508505\n",
      "9712.26814551589\n",
      "11603.639950777091\n",
      "11855.2547565007\n",
      "11943.667160291441\n",
      "11986.912195161702\n",
      "12025.864185866232\n",
      "12055.581558461374\n",
      "12070.732749644703\n",
      "12077.025742256457\n"
     ]
    },
    {
     "name": "stderr",
     "output_type": "stream",
     "text": [
      " 98%|█████████▊| 146/149 [04:50<00:12,  4.08s/it]"
     ]
    },
    {
     "name": "stdout",
     "output_type": "stream",
     "text": [
      "k =  147\n",
      "893.4153847146467\n",
      "9809.562078468136\n",
      "11676.207865259807\n",
      "11938.325794921642\n",
      "12028.858176320207\n",
      "12071.076301450084\n",
      "12083.341712999192\n",
      "12090.53613435934\n"
     ]
    },
    {
     "name": "stderr",
     "output_type": "stream",
     "text": [
      " 99%|█████████▊| 147/149 [04:55<00:08,  4.09s/it]"
     ]
    },
    {
     "name": "stdout",
     "output_type": "stream",
     "text": [
      "k =  148\n",
      "856.2624520777601\n",
      "9943.672279840854\n",
      "11669.238824858634\n",
      "12007.311516134734\n",
      "12097.173875663044\n",
      "12121.454665905065\n",
      "12131.14243953082\n",
      "12133.237026852985\n",
      "12142.643950732065\n"
     ]
    },
    {
     "name": "stderr",
     "output_type": "stream",
     "text": [
      " 99%|█████████▉| 148/149 [05:00<00:04,  4.37s/it]"
     ]
    },
    {
     "name": "stdout",
     "output_type": "stream",
     "text": [
      "k =  149\n",
      "877.7144137756329\n",
      "9985.800880650533\n",
      "11713.144874989588\n",
      "11999.513081895802\n",
      "12123.789922985065\n",
      "12170.1328551818\n",
      "12179.716873805923\n",
      "12187.282168469257\n",
      "12195.530169861697\n",
      "12201.515032347745\n"
     ]
    },
    {
     "name": "stderr",
     "output_type": "stream",
     "text": [
      "100%|██████████| 149/149 [05:04<00:00,  2.04s/it]\n"
     ]
    }
   ],
   "source": [
    "aic, bic = list(), list()\n",
    "max_range = 150\n",
    "\n",
    "for k in trange(1, max_range):\n",
    "    print(\"k = \", k)\n",
    "    model = GMM()\n",
    "    model.fit(X, k=k, printing=False)\n",
    "    aic.append(model.aic(X))\n",
    "    bic.append(model.bic(X))"
   ]
  },
  {
   "cell_type": "code",
   "execution_count": 199,
   "metadata": {},
   "outputs": [
    {
     "data": {
      "image/png": "[encoded data removed]",
      "text/plain": [
       "<Figure size 640x480 with 1 Axes>"
      ]
     },
     "metadata": {},
     "output_type": "display_data"
    }
   ],
   "source": [
    "plt.plot(range(1, max_range), aic, label='AIC')\n",
    "plt.plot(range(1, max_range), bic, label='BIC')\n",
    "plt.legend()\n",
    "plt.xlabel('Number of components')\n",
    "plt.ylabel('Information Criterion')\n",
    "plt.show()"
   ]
  },
  {
   "cell_type": "code",
   "execution_count": 200,
   "metadata": {},
   "outputs": [
    {
     "name": "stdout",
     "output_type": "stream",
     "text": [
      "38\n",
      "38\n"
     ]
    }
   ],
   "source": [
    "choose_aic=np.argmin(np.array(aic))+1\n",
    "print(choose_aic)\n",
    "choose_bic=np.argmin(np.array(aic))+1\n",
    "print(choose_bic)"
   ]
  },
  {
   "cell_type": "code",
   "execution_count": 202,
   "metadata": {},
   "outputs": [
    {
     "data": {
      "image/png": "[encoded data removed]",
      "text/plain": [
       "<Figure size 640x480 with 1 Axes>"
      ]
     },
     "metadata": {},
     "output_type": "display_data"
    }
   ],
   "source": [
    "from sklearn.decomposition import PCA\n",
    "\n",
    "decomposition = PCA(n_components=2)\n",
    "result = decomposition.fit_transform(X)\n",
    "\n",
    "plt.scatter(result[:,1],result[:,0])\n",
    "plt.show()"
   ]
  },
  {
   "cell_type": "code",
   "execution_count": 205,
   "metadata": {},
   "outputs": [
    {
     "name": "stdout",
     "output_type": "stream",
     "text": [
      "-1617.8689248603573\n",
      "1933.6291244914132\n",
      "5466.023223860279\n",
      "6277.883275898667\n",
      "6326.0480807882395\n",
      "-1514.6345060737572\n",
      "2160.305866812303\n",
      "5650.291177803127\n",
      "6231.18239505613\n",
      "6286.2675683089265\n",
      "6334.323111801057\n"
     ]
    },
    {
     "data": {
      "text/plain": [
       "(array([31., 13., 22.,  3., 10.,  3., 20., 31., 20., 24., 26., 26., 22.,\n",
       "        22., 22.,  0.,  3.,  3.,  3., 10., 20., 16., 31., 28., 24., 17.,\n",
       "        10., 34., 10., 20.,  1., 26.,  3.,  3.,  3., 24., 10., 30., 26.,\n",
       "        14., 14., 26., 10., 14., 14., 31., 20., 20.,  3.,  0., 22., 22.,\n",
       "         3.,  3., 31., 23., 20.,  3.,  3.,  5.,  5.,  5.,  5., 11.,  8.,\n",
       "        30., 16., 24.,  5.,  4., 34.,  6., 11.,  7., 28., 19., 19., 19.,\n",
       "        25.,  7., 19., 16., 28., 17., 32., 16.,  8., 24., 18., 28., 30.,\n",
       "        28., 17., 16., 16.,  4., 32., 19., 37.,  7., 19., 28., 21., 11.,\n",
       "        24., 21., 28., 17., 37., 32.,  2., 11.,  8., 30., 21.,  8., 28.,\n",
       "        11., 13., 18., 21., 37.,  7., 14.,  2., 37., 37., 17., 37., 18.,\n",
       "        36., 36., 36., 36., 15., 15., 34., 27., 27.,  6.,  9.,  9.,  6.,\n",
       "        27., 29., 34., 13., 27., 12., 29., 36., 29., 36., 12., 15., 27.,\n",
       "        12.,  1.,  6.,  9., 12.,  6., 27., 34.,  9., 27.,  0., 35., 23.,\n",
       "        33., 35., 35.,  9., 27.,  1.,  0., 35.,  6.]),\n",
       " array([27.,  6., 13., 31., 21., 31., 29., 27., 23., 26., 11., 11., 11.,\n",
       "        23., 23., 36., 13., 13., 11., 35., 35.,  1., 27., 29., 29., 21.,\n",
       "         6., 15., 21., 29., 13., 11., 24., 21., 31., 26.,  6., 15., 15.,\n",
       "        35., 35., 11.,  6.,  2.,  2.,  2.,  2.,  2., 13., 36.,  1.,  1.,\n",
       "        31., 36.,  2., 13., 35., 36., 31., 33., 33., 33.,  9., 17., 32.,\n",
       "        17., 14.,  1., 33., 34., 12., 20.,  9., 28., 17., 32., 14., 32.,\n",
       "        30.,  8., 14.,  1.,  0., 24., 10., 35.,  8.,  0.,  7.,  0., 10.,\n",
       "        10., 10.,  1., 17., 30.,  4., 14.,  5., 23., 32.,  1., 26., 17.,\n",
       "        26., 27.,  1., 12.,  5., 17., 30.,  5., 10., 17.,  5.,  0., 26.,\n",
       "        26.,  6.,  7.,  7.,  5., 21.,  7.,  7.,  5.,  5., 21.,  5.,  7.,\n",
       "         4.,  4.,  4.,  4., 37., 37., 16., 16.,  3.,  3.,  3., 29.,  3.,\n",
       "         3., 19., 12., 16., 25., 25., 19., 20., 19., 20., 37., 37., 16.,\n",
       "        25., 37., 18., 18., 25.,  3.,  3., 16., 19.,  3., 36., 19., 25.,\n",
       "        25., 19., 19., 22., 16., 25., 37., 37., 25.]))"
      ]
     },
     "execution_count": 205,
     "metadata": {},
     "output_type": "execute_result"
    }
   ],
   "source": [
    "gmm_aic = GMM()\n",
    "gmm_aic.fit(X, choose_aic, printing=False)\n",
    "gmm_bic = GMM()\n",
    "gmm_bic.fit(X, choose_bic, printing=False)\n",
    "\n",
    "aic_clustering = gmm_aic.get_membership(X)\n",
    "bic_clustering = gmm_bic.get_membership(X)\n",
    "\n",
    "aic_clustering, bic_clustering"
   ]
  },
  {
   "cell_type": "code",
   "execution_count": 215,
   "metadata": {},
   "outputs": [
    {
     "name": "stderr",
     "output_type": "stream",
     "text": [
      "/home/bhavb/.local/lib/python3.10/site-packages/sklearn/cluster/_kmeans.py:870: FutureWarning: The default value of `n_init` will change from 10 to 'auto' in 1.4. Set the value of `n_init` explicitly to suppress the warning\n",
      "  warnings.warn(\n"
     ]
    },
    {
     "data": {
      "image/png": "[encoded data removed]",
      "text/plain": [
       "<Figure size 640x480 with 1 Axes>"
      ]
     },
     "metadata": {},
     "output_type": "display_data"
    }
   ],
   "source": [
    "kmeans = KMeans().fit(X)\n",
    "plt.scatter(result[:, 0], result[:, 1], c=kmeans.labels_.astype(float))\n",
    "plt.show()"
   ]
  },
  {
   "cell_type": "code",
   "execution_count": 208,
   "metadata": {},
   "outputs": [
    {
     "data": {
      "image/png": "[encoded data removed]",
      "text/plain": [
       "<Figure size 640x480 with 1 Axes>"
      ]
     },
     "metadata": {},
     "output_type": "display_data"
    },
    {
     "data": {
      "image/png": "[encoded data removed]",
      "text/plain": [
       "<Figure size 640x480 with 1 Axes>"
      ]
     },
     "metadata": {},
     "output_type": "display_data"
    }
   ],
   "source": [
    "plt.scatter(result[:,0],result[:,1], c=aic_clustering)\n",
    "plt.xlabel(\"1\")\n",
    "plt.ylabel(\"2\")\n",
    "plt.show()\n",
    "plt.scatter(result[:,0],result[:,1], c=bic_clustering)\n",
    "plt.xlabel(\"1\")\n",
    "plt.ylabel(\"2\")\n",
    "plt.show()"
   ]
  },
  {
   "cell_type": "code",
   "execution_count": 218,
   "metadata": {},
   "outputs": [
    {
     "name": "stdout",
     "output_type": "stream",
     "text": [
      "K-Means: 0.5369954815914436\n",
      "GMM with AIC: -0.5056599713324692\n",
      "GMM with BIC: -0.5549402877029493\n"
     ]
    }
   ],
   "source": [
    "# Perform K-Means clustering and calculate the silhouette score\n",
    "y_means = kmeans.predict(X)\n",
    "silhouette_avg_kmeans = silhouette_score(X, y_means)\n",
    "print(\"K-Means:\", silhouette_avg_kmeans)\n",
    "\n",
    "# Calculate the silhouette score for GMM with AIC\n",
    "y_aic = gmm_aic.get_membership(X)\n",
    "silhouette_avg_aic = silhouette_score(X, y_aic)\n",
    "print(\"GMM with AIC:\", silhouette_avg_aic)\n",
    "\n",
    "# Calculate the silhouette score for GMM with BIC\n",
    "y_bic = gmm_bic.get_membership(X)\n",
    "silhouette_avg_bic = silhouette_score(X, y_bic)\n",
    "print(\"GMM with BIC:\", silhouette_avg_bic)"
   ]
  },
  {
   "cell_type": "code",
   "execution_count": null,
   "metadata": {},
   "outputs": [],
   "source": []
  },
  {
   "cell_type": "markdown",
   "metadata": {},
   "source": [
    "> ##### Observations\n",
    "\n",
    "K-Means tends to create spherical clusters and employs a hard-assignment approach where each data point is assigned exclusively to one cluster. It assumes that each data point strictly belongs to a single cluster at any given time. \n",
    "\n",
    "In contrast, Gaussian Mixture Model (GMM) uses a soft-assignment strategy, assigning probabilistic membership to each data point in relation to multiple clusters. Each data point can belong to a particular cluster with a certain non-zero probability, which is iteratively adjusted during the M-Step of the algorithm. \n",
    "\n",
    "This soft-assignment approach avoids the formation of strictly spherical clusters and leads to the creation of more flexible and appropriate cluster shapes. The key distinction between K-Means and GMM is that K-Means assigns each data point to a specific cluster based on geometric proximity, typically resulting in clusters that form spherical shapes. On the other hand, GMM assigns data points to clusters based on probabilistic considerations, allowing points to belong to clusters even if they are located outside the typical spherical cluster boundaries."
   ]
  }
 ],
 "metadata": {
  "kernelspec": {
   "display_name": "Python 3",
   "language": "python",
   "name": "python3"
  },
  "language_info": {
   "codemirror_mode": {
    "name": "ipython",
    "version": 3
   },
   "file_extension": ".py",
   "mimetype": "text/x-python",
   "name": "python",
   "nbconvert_exporter": "python",
   "pygments_lexer": "ipython3",
   "version": "3.10.12"
  },
  "orig_nbformat": 4
 },
 "nbformat": 4,
 "nbformat_minor": 2
}
