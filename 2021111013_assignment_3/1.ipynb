{
 "cells": [
  {
   "cell_type": "code",
   "execution_count": 272,
   "metadata": {},
   "outputs": [],
   "source": [
    "import wandb\n",
    "import numpy as np\n",
    "import pandas as pd\n",
    "import matplotlib.pyplot as plt\n",
    "from sklearn.impute import SimpleImputer\n",
    "from sklearn.linear_model import LogisticRegression\n",
    "from sklearn.preprocessing import StandardScaler, OneHotEncoder\n",
    "from sklearn.model_selection import train_test_split\n",
    "from sklearn.metrics import classification_report, accuracy_score\n"
   ]
  },
  {
   "cell_type": "code",
   "execution_count": null,
   "metadata": {},
   "outputs": [],
   "source": [
    "dataset_path = \"../Datasets/WineQT.csv\"\n",
    "\n",
    "random_state = 42\n",
    "wandb_log = False"
   ]
  },
  {
   "cell_type": "code",
   "execution_count": 252,
   "metadata": {},
   "outputs": [],
   "source": [
    "lr = 0.01\n",
    "max_epochs = 15"
   ]
  },
  {
   "cell_type": "code",
   "execution_count": null,
   "metadata": {},
   "outputs": [],
   "source": [
    "# if wandb_log:\n",
    "#     config = {\n",
    "#         \"lr\": lr, \n",
    "#         \"model_type\": \"Log_Reg\",\n",
    "#         \"num_epochs\": max_epochs,\n",
    "#         \"batch_size\": batch_size,\n",
    "#         # \"gpu_id\": 0,\n",
    "#         \"wandb_run_name\": \"bhav\" ,\n",
    "#         \"tags\": [\"P3\",]\n",
    "#     }\n",
    "\n",
    "#     wandb.init(entity = \"bhavberi\",   # wandb username. (NOT REQUIRED ARG. ANYMORE, it fetches from initial login)\n",
    "#             project = \"SMAI\",        # wandb project name. New project will be created if given project is missing.\n",
    "#             config = config         # Config dict\n",
    "#             )\n",
    "#     wandb.run.name = f\"{config['optimizer']}_{config['activation']}_{len(config['hidden_layers'])}_{config['lr']}_{config['batch_size']}_{config['num_epochs']}\"\n",
    "#     print(wandb.run.name)"
   ]
  },
  {
   "cell_type": "code",
   "execution_count": null,
   "metadata": {},
   "outputs": [],
   "source": [
    "dataset = pd.read_csv(dataset_path)\n",
    "dataset.head()"
   ]
  },
  {
   "cell_type": "code",
   "execution_count": null,
   "metadata": {},
   "outputs": [],
   "source": [
    "dataset.describe()"
   ]
  },
  {
   "cell_type": "code",
   "execution_count": null,
   "metadata": {},
   "outputs": [],
   "source": [
    "X = dataset.drop(columns=['quality']).to_numpy()\n",
    "y = dataset['quality'].to_numpy()\n",
    "\n",
    "num_classes = 11 # 0-10"
   ]
  },
  {
   "cell_type": "code",
   "execution_count": null,
   "metadata": {},
   "outputs": [],
   "source": [
    "plt.figure(figsize=(8, 6))\n",
    "plt.hist(y, bins=30, color='skyblue', edgecolor='black')\n",
    "plt.title('Distribution of Labels')\n",
    "plt.xlabel('Quality')\n",
    "plt.ylabel('Count')\n",
    "plt.grid(True)\n",
    "\n",
    "plt.show()"
   ]
  },
  {
   "cell_type": "code",
   "execution_count": null,
   "metadata": {},
   "outputs": [],
   "source": [
    "# Count number of missing values in each column\n",
    "missing_values_count = dataset.isnull().sum()\n",
    "\n",
    "missing_values_count"
   ]
  },
  {
   "cell_type": "code",
   "execution_count": null,
   "metadata": {},
   "outputs": [],
   "source": [
    "imputer = SimpleImputer(strategy='mean')\n",
    "X = imputer.fit_transform(X)\n",
    "# To fill in data"
   ]
  },
  {
   "cell_type": "code",
   "execution_count": null,
   "metadata": {},
   "outputs": [],
   "source": [
    "X_train, X_temp, y_train, y_temp = train_test_split(X, y, test_size=0.2, random_state=random_state)\n",
    "X_validation, X_test, y_validation, y_test = train_test_split(X_temp, y_temp, test_size=0.5, random_state=random_state)\n",
    "\n",
    "print(\"Training set shape:\", X_train.shape, y_train.shape)\n",
    "print(\"Validation set shape:\", X_validation.shape, y_validation.shape)\n",
    "print(\"Test set shape:\", X_test.shape, y_test.shape)"
   ]
  },
  {
   "cell_type": "code",
   "execution_count": null,
   "metadata": {},
   "outputs": [],
   "source": [
    "scaler = StandardScaler()\n",
    "X_train_std = scaler.fit_transform(X_train)\n",
    "X_validation_std = scaler.transform(X_validation)\n",
    "X_test_std = scaler.transform(X_test)"
   ]
  },
  {
   "cell_type": "code",
   "execution_count": null,
   "metadata": {},
   "outputs": [],
   "source": [
    "# class LogisticRegression:\n",
    "#     def __init__(self, learning_rate=0.01, num_epochs=1000):\n",
    "#         self.learning_rate = learning_rate\n",
    "#         self.num_epochs = num_epochs\n",
    "#         self.weights = None\n",
    "#         self.bias = None\n",
    "\n",
    "#     def sigmoid(self, z):\n",
    "#         return 1 / (1 + np.exp(-z))\n",
    "    \n",
    "#     def fit(self, X, y, X_val, y_val):\n",
    "#         num_samples, num_features = X.shape\n",
    "#         self.weights = np.zeros(num_features)\n",
    "#         self.bias = 0\n",
    "#         train_loss = []\n",
    "#         val_acc = []\n",
    "\n",
    "#         for i in range(self.num_epochs):\n",
    "#             y_predicted = self.sigmoid(np.dot(X, self.weights) + self.bias)\n",
    "\n",
    "#             dw = (1 / num_samples) * np.dot(X.T, (y_predicted - y))\n",
    "#             db = (1 / num_samples) * np.sum(y_predicted - y)\n",
    "\n",
    "#             self.weights -= self.learning_rate * dw\n",
    "#             self.bias -= self.learning_rate * db\n",
    "\n",
    "#             loss = self.loss(y, y_predicted)\n",
    "#             train_loss.append(loss)\n",
    "\n",
    "#             y_predicted_val = self.predict(X_val)\n",
    "#             val_acc.append(self.accuracy(y_val, y_predicted_val))\n",
    "\n",
    "#             if i % 5 == 0:\n",
    "#                 print(f'epoch {i} loss {loss} val_acc {val_acc[i]}')\n",
    "        \n",
    "#         return train_loss, val_acc\n",
    "    \n",
    "#     def predict(self, X):\n",
    "#         y_predicted = self.sigmoid(np.dot(X, self.weights) + self.bias)\n",
    "#         y_predicted_cls = [1 if i > 0.5 else 0 for i in y_predicted]\n",
    "#         return np.array(y_predicted_cls)\n",
    "    \n",
    "#     def loss(self, y_true, y_pred):\n",
    "#         loss = -(y_true * np.log(y_pred) + (1 - y_true) * np.log(1 - y_pred))\n",
    "#         return loss.mean()\n",
    "    \n",
    "#     def accuracy(self, y_true, y_pred):\n",
    "#         accuracy = np.sum(y_true == y_pred) / len(y_true)\n",
    "#         return accuracy\n",
    "    \n",
    "#     def evaluate(self, X, y):\n",
    "#         y_pred = self.predict(X)\n",
    "#         accuracy = self.accuracy(y, y_pred)\n",
    "#         return accuracy"
   ]
  },
  {
   "cell_type": "code",
   "execution_count": null,
   "metadata": {},
   "outputs": [],
   "source": [
    "# class LogisticRegressionMulticlass:\n",
    "#     def __init__(self, learning_rate=0.01, num_epochs=1000):\n",
    "#         self.learning_rate = learning_rate\n",
    "#         self.num_epochs = num_epochs\n",
    "#         self.classes = range(num_classes)\n",
    "#         self.models = {}\n",
    "\n",
    "#     def fit(self, X, y, X_val, y_val):\n",
    "#         val_accs = []\n",
    "#         for class_label in self.classes:\n",
    "#             binary_y = (y == class_label).astype(int)\n",
    "#             model = LogisticRegression(learning_rate=self.learning_rate, num_epochs=self.num_epochs)\n",
    "#             loss, val_acc = model.fit(X, binary_y, X_val, (y_val == class_label).astype(int))\n",
    "#             self.models[class_label] = model\n",
    "\n",
    "#             acc = model.accuracy((y_val == class_label).astype(int), model.predict(X_val))\n",
    "#             print(f'class {class_label} val_acc {acc}')\n",
    "\n",
    "#             val_accs.append(val_acc)\n",
    "#         return val_accs\n",
    "            \n",
    "#     def predict(self, X):\n",
    "#         predictions = np.zeros((X.shape[0], len(self.classes)))\n",
    "\n",
    "#         for class_label, model in self.models.items():\n",
    "#             predictions[:, class_label] = model.predict(X)\n",
    "\n",
    "#         predicted_classes = np.argmax(predictions, axis=1)\n",
    "#         return predicted_classes\n",
    "    \n",
    "#     def evaluate(self, X, y):\n",
    "#         y_pred = self.predict(X)\n",
    "#         accuracy = self.accuracy(y, y_pred)\n",
    "#         return accuracy\n",
    "    \n",
    "#     def accuracy(self, y_true, y_pred):\n",
    "#         accuracy = np.sum(y_true == y_pred) / len(y_true)\n",
    "#         return accuracy\n",
    "    \n",
    "#     def plot_acc(self, val_accs):\n",
    "#         # val_accs is an array of arrays with shape (num_classes, num_epochs)\n",
    "\n",
    "#         val_accs = np.array(val_accs)\n",
    "#         plt.figure(figsize=(8, 6))\n",
    "#         plt.plot(val_accs.mean(axis=0), label='Average Validation Accuracy')\n",
    "#         plt.title('Validation Accuracy')\n",
    "#         plt.xlabel('Epoch')\n",
    "#         plt.ylabel('Accuracy')\n",
    "#         plt.legend()\n",
    "#         plt.grid(True)\n",
    "#         plt.show()"
   ]
  },
  {
   "cell_type": "code",
   "execution_count": 269,
   "metadata": {},
   "outputs": [],
   "source": [
    "class LogReg:\n",
    "    def __init__(self, learning_rate=0.01, num_epochs=1000):\n",
    "        self.learning_rate = learning_rate\n",
    "        self.num_epochs = num_epochs\n",
    "        self.classes = range(num_classes)\n",
    "        self.weights = [None,] * num_classes\n",
    "        self.bias = [None,] * num_classes\n",
    "\n",
    "        self.val_acc = []\n",
    "        self.train_acc = []\n",
    "\n",
    "    def sigmoid(self, z):\n",
    "        return 1 / (1 + np.exp(-z))\n",
    "    \n",
    "    def softmax(self, z):\n",
    "        return np.exp(z) / np.sum(np.exp(z), axis=0)\n",
    "    \n",
    "    def loss(self, y_true, y_pred):\n",
    "        return -np.sum(y_true * np.log(y_pred)) / len(y_true)\n",
    "    \n",
    "    def fit(self, X, y, X_val, y_val):\n",
    "        num_samples, num_features = X.shape\n",
    "        self.weights = np.zeros((num_features, num_classes))\n",
    "        self.bias = np.zeros(num_classes)\n",
    "        train_loss = []\n",
    "        self.val_acc = []\n",
    "        self.train_acc = []\n",
    "\n",
    "        enc = OneHotEncoder().fit(np.array([[i,] for i in range(num_classes)]))\n",
    "        y_new = enc.transform(y.reshape(-1, 1)).toarray()\n",
    "        \n",
    "        for i in range(self.num_epochs):\n",
    "            z = self.sigmoid(np.dot(X, self.weights) + self.bias[np.newaxis, :])\n",
    "            y_predicted = self.softmax(z)\n",
    "\n",
    "            dw = (1 / num_samples) * np.dot(X.T, (y_predicted - y_new))\n",
    "            db = (1 / num_samples) * np.sum(y_predicted - y_new)\n",
    "\n",
    "            self.weights -= self.learning_rate * dw\n",
    "            self.bias -= self.learning_rate * db\n",
    "\n",
    "            loss = self.loss(y_new, y_predicted)\n",
    "            train_loss.append(loss)\n",
    "\n",
    "            y_predicted_val = self.predict(X_val)\n",
    "            self.val_acc.append(self.accuracy(y_val, y_predicted_val))\n",
    "            y_predicted_train = self.predict(X)\n",
    "            self.train_acc.append(self.accuracy(y, y_predicted_train))\n",
    "\n",
    "            if (i+1) % 10 == 0:\n",
    "                print(f'Epoch {i+1} loss: {loss:.4f}')\n",
    "                print(f'Val Acc: {self.val_acc[-1]*100:.2f} Train Acc: {self.train_acc[-1]*100:.2f}')\n",
    "        \n",
    "        return train_loss\n",
    "    \n",
    "    def predict(self, X):\n",
    "        y_predicted = self.softmax(np.dot(X, self.weights) + self.bias[np.newaxis, :])\n",
    "        y_predicted_cls = np.argmax(y_predicted, axis=1)\n",
    "        return y_predicted_cls\n",
    "    \n",
    "    def accuracy(self, y_true, y_pred):\n",
    "        accuracy = np.sum(y_true == y_pred) / len(y_true)\n",
    "        return accuracy\n",
    "    \n",
    "    def evaluate(self, X, y):\n",
    "        y_pred = self.predict(X)\n",
    "        accuracy = self.accuracy(y, y_pred)\n",
    "        return accuracy\n",
    "    \n",
    "    def plot_loss(self, train_loss):\n",
    "        plt.plot(train_loss, label='Training Loss')\n",
    "        plt.title('Training Loss')\n",
    "        plt.xlabel('Epochs')\n",
    "        plt.ylabel('Loss')\n",
    "        plt.show()\n",
    "\n",
    "    def plot_acc(self):\n",
    "        plt.plot(self.val_acc, label='Validation Accuracy')\n",
    "        plt.plot(self.train_acc, label='Train Accuracy')\n",
    "        plt.xlabel('Epoch')\n",
    "        plt.ylabel('Accuracy')\n",
    "        plt.legend()\n",
    "        plt.grid(True)\n",
    "        plt.show()"
   ]
  },
  {
   "cell_type": "code",
   "execution_count": 282,
   "metadata": {},
   "outputs": [
    {
     "name": "stdout",
     "output_type": "stream",
     "text": [
      "Epoch 10 loss: 6.8140\n",
      "Val Acc: 48.25 Train Acc: 51.86\n",
      "Epoch 20 loss: 6.8099\n",
      "Val Acc: 48.25 Train Acc: 51.42\n"
     ]
    },
    {
     "data": {
      "image/png": "[encoded data removed]",
      "text/plain": [
       "<Figure size 640x480 with 1 Axes>"
      ]
     },
     "metadata": {},
     "output_type": "display_data"
    },
    {
     "data": {
      "image/png": "[encoded data removed]",
      "text/plain": [
       "<Figure size 640x480 with 1 Axes>"
      ]
     },
     "metadata": {},
     "output_type": "display_data"
    },
    {
     "name": "stdout",
     "output_type": "stream",
     "text": [
      "Test Accuracy 58.26086956521739\n"
     ]
    }
   ],
   "source": [
    "model = LogReg(learning_rate=0.01, num_epochs=20)\n",
    "loss = model.fit(X_train_std, y_train, X_validation_std, y_validation)\n",
    "\n",
    "model.plot_loss(loss)\n",
    "model.plot_acc()\n",
    "\n",
    "print(\"Test Accuracy\",model.evaluate(X_test_std, y_test)*100)"
   ]
  },
  {
   "cell_type": "code",
   "execution_count": 280,
   "metadata": {},
   "outputs": [
    {
     "name": "stdout",
     "output_type": "stream",
     "text": [
      "Test Accuracy 66.08695652173913\n",
      "              precision    recall  f1-score   support\n",
      "\n",
      "           4       0.00      0.00      0.00         3\n",
      "           5       0.70      0.76      0.73        50\n",
      "           6       0.63      0.61      0.62        44\n",
      "           7       0.65      0.69      0.67        16\n",
      "           8       0.00      0.00      0.00         2\n",
      "\n",
      "    accuracy                           0.66       115\n",
      "   macro avg       0.40      0.41      0.40       115\n",
      "weighted avg       0.64      0.66      0.65       115\n",
      "\n"
     ]
    }
   ],
   "source": [
    "sklearn_model = LogisticRegression(max_iter=100)\n",
    "sklearn_model.fit(X_train_std, y_train)\n",
    "y_pred = sklearn_model.predict(X_test_std)\n",
    "print(\"Test Accuracy\",accuracy_score(y_test, y_pred)*100)\n",
    "\n",
    "print(classification_report(y_test, y_pred, zero_division=0))"
   ]
  },
  {
   "cell_type": "code",
   "execution_count": 281,
   "metadata": {},
   "outputs": [
    {
     "name": "stdout",
     "output_type": "stream",
     "text": [
      "              precision    recall  f1-score   support\n",
      "\n",
      "           4       0.00      0.00      0.00         3\n",
      "           5       0.69      0.76      0.72        50\n",
      "           6       0.73      0.36      0.48        44\n",
      "           7       0.37      0.81      0.51        16\n",
      "           8       0.00      0.00      0.00         2\n",
      "\n",
      "    accuracy                           0.58       115\n",
      "   macro avg       0.36      0.39      0.34       115\n",
      "weighted avg       0.63      0.58      0.57       115\n",
      "\n"
     ]
    }
   ],
   "source": [
    "print(classification_report(y_test, model.predict(X_test_std), zero_division=0))"
   ]
  },
  {
   "cell_type": "code",
   "execution_count": null,
   "metadata": {},
   "outputs": [],
   "source": [
    "if wandb_log:\n",
    "    wandb.finish()"
   ]
  },
  {
   "cell_type": "code",
   "execution_count": null,
   "metadata": {},
   "outputs": [],
   "source": []
  }
 ],
 "metadata": {
  "kernelspec": {
   "display_name": "Python 3",
   "language": "python",
   "name": "python3"
  },
  "language_info": {
   "codemirror_mode": {
    "name": "ipython",
    "version": 3
   },
   "file_extension": ".py",
   "mimetype": "text/x-python",
   "name": "python",
   "nbconvert_exporter": "python",
   "pygments_lexer": "ipython3",
   "version": "3.10.12"
  }
 },
 "nbformat": 4,
 "nbformat_minor": 2
}
