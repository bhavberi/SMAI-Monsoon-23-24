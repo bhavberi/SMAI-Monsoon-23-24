{
 "cells": [
  {
   "cell_type": "code",
   "execution_count": 25,
   "metadata": {},
   "outputs": [],
   "source": [
    "import os\n",
    "import wandb\n",
    "import numpy as np\n",
    "import pandas as pd\n",
    "import matplotlib.pyplot as plt\n",
    "import plotly.express as px\n",
    "from sklearn.impute import SimpleImputer\n",
    "from sklearn.preprocessing import StandardScaler, OneHotEncoder\n",
    "from sklearn.model_selection import train_test_split\n",
    "from sklearn.metrics import accuracy_score, precision_score, recall_score, f1_score, classification_report\n"
   ]
  },
  {
   "cell_type": "code",
   "execution_count": 2,
   "metadata": {},
   "outputs": [],
   "source": [
    "dataset_path = \"../Datasets/WineQT.csv\"\n",
    "\n",
    "random_state = 42\n",
    "os.environ[\"WANDB_SILENT\"] = \"true\"\n",
    "\n",
    "hyperparameter_tuning = False"
   ]
  },
  {
   "cell_type": "code",
   "execution_count": 3,
   "metadata": {},
   "outputs": [],
   "source": [
    "lr = 0.001\n",
    "max_epochs = 10000\n",
    "optimizer = 'bgd'\n",
    "activation = 'sigmoid'\n",
    "hidden_layers = [8,]\n",
    "batch_size = 32"
   ]
  },
  {
   "cell_type": "code",
   "execution_count": 4,
   "metadata": {},
   "outputs": [],
   "source": [
    "def wandb_init(lr, max_epochs, optimizer, activation, hidden_layers, batch_size):\n",
    "    config = {\n",
    "        \"lr\": lr, \n",
    "        \"model_type\": \"MLP_Classifier\",\n",
    "        \"optimizer\": optimizer, # SGC/BGD/MBGD\n",
    "        \"criterion\": \"mse\",\n",
    "        \"num_epochs\": max_epochs,\n",
    "        \"batch_size\": batch_size,\n",
    "        \"hidden_layers\": hidden_layers,\n",
    "        \"activation\": activation,\n",
    "        # \"gpu_id\": 0,\n",
    "        \"wandb_run_name\": \"bhav\" ,\n",
    "        \"tags\": [\"P2\",]\n",
    "    }\n",
    "\n",
    "    wandb.init(entity = \"bhavberi\",   # wandb username. (NOT REQUIRED ARG. ANYMORE, it fetches from initial login)\n",
    "            project = \"SMAI\",        # wandb project name. New project will be created if given project is missing.\n",
    "            config = config         # Config dict\n",
    "            )\n",
    "    wandb.run.name = f\"P2_{config['optimizer']}_{config['activation']}_{len(config['hidden_layers'])}_{config['lr']}_{config['batch_size']}_{config['num_epochs']}\"\n",
    "    print(wandb.run.name)\n",
    "\n",
    "def wandb_finish():\n",
    "    wandb.finish()"
   ]
  },
  {
   "cell_type": "code",
   "execution_count": 5,
   "metadata": {},
   "outputs": [
    {
     "name": "stdout",
     "output_type": "stream",
     "text": [
      "Index(['fixed acidity', 'volatile acidity', 'citric acid', 'residual sugar',\n",
      "       'chlorides', 'free sulfur dioxide', 'total sulfur dioxide', 'density',\n",
      "       'pH', 'sulphates', 'alcohol', 'quality', 'Id'],\n",
      "      dtype='object')\n"
     ]
    },
    {
     "data": {
      "text/html": [
       "<div>\n",
       "<style scoped>\n",
       "    .dataframe tbody tr th:only-of-type {\n",
       "        vertical-align: middle;\n",
       "    }\n",
       "\n",
       "    .dataframe tbody tr th {\n",
       "        vertical-align: top;\n",
       "    }\n",
       "\n",
       "    .dataframe thead th {\n",
       "        text-align: right;\n",
       "    }\n",
       "</style>\n",
       "<table border=\"1\" class=\"dataframe\">\n",
       "  <thead>\n",
       "    <tr style=\"text-align: right;\">\n",
       "      <th></th>\n",
       "      <th>fixed acidity</th>\n",
       "      <th>volatile acidity</th>\n",
       "      <th>citric acid</th>\n",
       "      <th>residual sugar</th>\n",
       "      <th>chlorides</th>\n",
       "      <th>free sulfur dioxide</th>\n",
       "      <th>total sulfur dioxide</th>\n",
       "      <th>density</th>\n",
       "      <th>pH</th>\n",
       "      <th>sulphates</th>\n",
       "      <th>alcohol</th>\n",
       "      <th>quality</th>\n",
       "    </tr>\n",
       "  </thead>\n",
       "  <tbody>\n",
       "    <tr>\n",
       "      <th>0</th>\n",
       "      <td>7.4</td>\n",
       "      <td>0.70</td>\n",
       "      <td>0.00</td>\n",
       "      <td>1.9</td>\n",
       "      <td>0.076</td>\n",
       "      <td>11.0</td>\n",
       "      <td>34.0</td>\n",
       "      <td>0.9978</td>\n",
       "      <td>3.51</td>\n",
       "      <td>0.56</td>\n",
       "      <td>9.4</td>\n",
       "      <td>5</td>\n",
       "    </tr>\n",
       "    <tr>\n",
       "      <th>1</th>\n",
       "      <td>7.8</td>\n",
       "      <td>0.88</td>\n",
       "      <td>0.00</td>\n",
       "      <td>2.6</td>\n",
       "      <td>0.098</td>\n",
       "      <td>25.0</td>\n",
       "      <td>67.0</td>\n",
       "      <td>0.9968</td>\n",
       "      <td>3.20</td>\n",
       "      <td>0.68</td>\n",
       "      <td>9.8</td>\n",
       "      <td>5</td>\n",
       "    </tr>\n",
       "    <tr>\n",
       "      <th>2</th>\n",
       "      <td>7.8</td>\n",
       "      <td>0.76</td>\n",
       "      <td>0.04</td>\n",
       "      <td>2.3</td>\n",
       "      <td>0.092</td>\n",
       "      <td>15.0</td>\n",
       "      <td>54.0</td>\n",
       "      <td>0.9970</td>\n",
       "      <td>3.26</td>\n",
       "      <td>0.65</td>\n",
       "      <td>9.8</td>\n",
       "      <td>5</td>\n",
       "    </tr>\n",
       "    <tr>\n",
       "      <th>3</th>\n",
       "      <td>11.2</td>\n",
       "      <td>0.28</td>\n",
       "      <td>0.56</td>\n",
       "      <td>1.9</td>\n",
       "      <td>0.075</td>\n",
       "      <td>17.0</td>\n",
       "      <td>60.0</td>\n",
       "      <td>0.9980</td>\n",
       "      <td>3.16</td>\n",
       "      <td>0.58</td>\n",
       "      <td>9.8</td>\n",
       "      <td>6</td>\n",
       "    </tr>\n",
       "    <tr>\n",
       "      <th>4</th>\n",
       "      <td>7.4</td>\n",
       "      <td>0.70</td>\n",
       "      <td>0.00</td>\n",
       "      <td>1.9</td>\n",
       "      <td>0.076</td>\n",
       "      <td>11.0</td>\n",
       "      <td>34.0</td>\n",
       "      <td>0.9978</td>\n",
       "      <td>3.51</td>\n",
       "      <td>0.56</td>\n",
       "      <td>9.4</td>\n",
       "      <td>5</td>\n",
       "    </tr>\n",
       "  </tbody>\n",
       "</table>\n",
       "</div>"
      ],
      "text/plain": [
       "   fixed acidity  volatile acidity  citric acid  residual sugar  chlorides  \\\n",
       "0            7.4              0.70         0.00             1.9      0.076   \n",
       "1            7.8              0.88         0.00             2.6      0.098   \n",
       "2            7.8              0.76         0.04             2.3      0.092   \n",
       "3           11.2              0.28         0.56             1.9      0.075   \n",
       "4            7.4              0.70         0.00             1.9      0.076   \n",
       "\n",
       "   free sulfur dioxide  total sulfur dioxide  density    pH  sulphates  \\\n",
       "0                 11.0                  34.0   0.9978  3.51       0.56   \n",
       "1                 25.0                  67.0   0.9968  3.20       0.68   \n",
       "2                 15.0                  54.0   0.9970  3.26       0.65   \n",
       "3                 17.0                  60.0   0.9980  3.16       0.58   \n",
       "4                 11.0                  34.0   0.9978  3.51       0.56   \n",
       "\n",
       "   alcohol  quality  \n",
       "0      9.4        5  \n",
       "1      9.8        5  \n",
       "2      9.8        5  \n",
       "3      9.8        6  \n",
       "4      9.4        5  "
      ]
     },
     "execution_count": 5,
     "metadata": {},
     "output_type": "execute_result"
    }
   ],
   "source": [
    "dataset = pd.read_csv(dataset_path)\n",
    "print(dataset.columns)\n",
    "dataset.drop(['Id'], axis=1, inplace=True)\n",
    "dataset.head()"
   ]
  },
  {
   "cell_type": "code",
   "execution_count": 6,
   "metadata": {},
   "outputs": [
    {
     "name": "stdout",
     "output_type": "stream",
     "text": [
      "fixed acidity           0\n",
      "volatile acidity        0\n",
      "citric acid             0\n",
      "residual sugar          0\n",
      "chlorides               0\n",
      "free sulfur dioxide     0\n",
      "total sulfur dioxide    0\n",
      "density                 0\n",
      "pH                      0\n",
      "sulphates               0\n",
      "alcohol                 0\n",
      "quality                 0\n",
      "dtype: int64\n"
     ]
    }
   ],
   "source": [
    "print(dataset.isna().sum())"
   ]
  },
  {
   "cell_type": "code",
   "execution_count": 7,
   "metadata": {},
   "outputs": [
    {
     "data": {
      "text/html": [
       "<div>\n",
       "<style scoped>\n",
       "    .dataframe tbody tr th:only-of-type {\n",
       "        vertical-align: middle;\n",
       "    }\n",
       "\n",
       "    .dataframe tbody tr th {\n",
       "        vertical-align: top;\n",
       "    }\n",
       "\n",
       "    .dataframe thead th {\n",
       "        text-align: right;\n",
       "    }\n",
       "</style>\n",
       "<table border=\"1\" class=\"dataframe\">\n",
       "  <thead>\n",
       "    <tr style=\"text-align: right;\">\n",
       "      <th></th>\n",
       "      <th>fixed acidity</th>\n",
       "      <th>volatile acidity</th>\n",
       "      <th>citric acid</th>\n",
       "      <th>residual sugar</th>\n",
       "      <th>chlorides</th>\n",
       "      <th>free sulfur dioxide</th>\n",
       "      <th>total sulfur dioxide</th>\n",
       "      <th>density</th>\n",
       "      <th>pH</th>\n",
       "      <th>sulphates</th>\n",
       "      <th>alcohol</th>\n",
       "      <th>quality</th>\n",
       "    </tr>\n",
       "  </thead>\n",
       "  <tbody>\n",
       "    <tr>\n",
       "      <th>count</th>\n",
       "      <td>1143.000000</td>\n",
       "      <td>1143.000000</td>\n",
       "      <td>1143.000000</td>\n",
       "      <td>1143.000000</td>\n",
       "      <td>1143.000000</td>\n",
       "      <td>1143.000000</td>\n",
       "      <td>1143.000000</td>\n",
       "      <td>1143.000000</td>\n",
       "      <td>1143.000000</td>\n",
       "      <td>1143.000000</td>\n",
       "      <td>1143.000000</td>\n",
       "      <td>1143.000000</td>\n",
       "    </tr>\n",
       "    <tr>\n",
       "      <th>mean</th>\n",
       "      <td>8.311111</td>\n",
       "      <td>0.531339</td>\n",
       "      <td>0.268364</td>\n",
       "      <td>2.532152</td>\n",
       "      <td>0.086933</td>\n",
       "      <td>15.615486</td>\n",
       "      <td>45.914698</td>\n",
       "      <td>0.996730</td>\n",
       "      <td>3.311015</td>\n",
       "      <td>0.657708</td>\n",
       "      <td>10.442111</td>\n",
       "      <td>5.657043</td>\n",
       "    </tr>\n",
       "    <tr>\n",
       "      <th>std</th>\n",
       "      <td>1.747595</td>\n",
       "      <td>0.179633</td>\n",
       "      <td>0.196686</td>\n",
       "      <td>1.355917</td>\n",
       "      <td>0.047267</td>\n",
       "      <td>10.250486</td>\n",
       "      <td>32.782130</td>\n",
       "      <td>0.001925</td>\n",
       "      <td>0.156664</td>\n",
       "      <td>0.170399</td>\n",
       "      <td>1.082196</td>\n",
       "      <td>0.805824</td>\n",
       "    </tr>\n",
       "    <tr>\n",
       "      <th>min</th>\n",
       "      <td>4.600000</td>\n",
       "      <td>0.120000</td>\n",
       "      <td>0.000000</td>\n",
       "      <td>0.900000</td>\n",
       "      <td>0.012000</td>\n",
       "      <td>1.000000</td>\n",
       "      <td>6.000000</td>\n",
       "      <td>0.990070</td>\n",
       "      <td>2.740000</td>\n",
       "      <td>0.330000</td>\n",
       "      <td>8.400000</td>\n",
       "      <td>3.000000</td>\n",
       "    </tr>\n",
       "    <tr>\n",
       "      <th>25%</th>\n",
       "      <td>7.100000</td>\n",
       "      <td>0.392500</td>\n",
       "      <td>0.090000</td>\n",
       "      <td>1.900000</td>\n",
       "      <td>0.070000</td>\n",
       "      <td>7.000000</td>\n",
       "      <td>21.000000</td>\n",
       "      <td>0.995570</td>\n",
       "      <td>3.205000</td>\n",
       "      <td>0.550000</td>\n",
       "      <td>9.500000</td>\n",
       "      <td>5.000000</td>\n",
       "    </tr>\n",
       "    <tr>\n",
       "      <th>50%</th>\n",
       "      <td>7.900000</td>\n",
       "      <td>0.520000</td>\n",
       "      <td>0.250000</td>\n",
       "      <td>2.200000</td>\n",
       "      <td>0.079000</td>\n",
       "      <td>13.000000</td>\n",
       "      <td>37.000000</td>\n",
       "      <td>0.996680</td>\n",
       "      <td>3.310000</td>\n",
       "      <td>0.620000</td>\n",
       "      <td>10.200000</td>\n",
       "      <td>6.000000</td>\n",
       "    </tr>\n",
       "    <tr>\n",
       "      <th>75%</th>\n",
       "      <td>9.100000</td>\n",
       "      <td>0.640000</td>\n",
       "      <td>0.420000</td>\n",
       "      <td>2.600000</td>\n",
       "      <td>0.090000</td>\n",
       "      <td>21.000000</td>\n",
       "      <td>61.000000</td>\n",
       "      <td>0.997845</td>\n",
       "      <td>3.400000</td>\n",
       "      <td>0.730000</td>\n",
       "      <td>11.100000</td>\n",
       "      <td>6.000000</td>\n",
       "    </tr>\n",
       "    <tr>\n",
       "      <th>max</th>\n",
       "      <td>15.900000</td>\n",
       "      <td>1.580000</td>\n",
       "      <td>1.000000</td>\n",
       "      <td>15.500000</td>\n",
       "      <td>0.611000</td>\n",
       "      <td>68.000000</td>\n",
       "      <td>289.000000</td>\n",
       "      <td>1.003690</td>\n",
       "      <td>4.010000</td>\n",
       "      <td>2.000000</td>\n",
       "      <td>14.900000</td>\n",
       "      <td>8.000000</td>\n",
       "    </tr>\n",
       "  </tbody>\n",
       "</table>\n",
       "</div>"
      ],
      "text/plain": [
       "       fixed acidity  volatile acidity  citric acid  residual sugar  \\\n",
       "count    1143.000000       1143.000000  1143.000000     1143.000000   \n",
       "mean        8.311111          0.531339     0.268364        2.532152   \n",
       "std         1.747595          0.179633     0.196686        1.355917   \n",
       "min         4.600000          0.120000     0.000000        0.900000   \n",
       "25%         7.100000          0.392500     0.090000        1.900000   \n",
       "50%         7.900000          0.520000     0.250000        2.200000   \n",
       "75%         9.100000          0.640000     0.420000        2.600000   \n",
       "max        15.900000          1.580000     1.000000       15.500000   \n",
       "\n",
       "         chlorides  free sulfur dioxide  total sulfur dioxide      density  \\\n",
       "count  1143.000000          1143.000000           1143.000000  1143.000000   \n",
       "mean      0.086933            15.615486             45.914698     0.996730   \n",
       "std       0.047267            10.250486             32.782130     0.001925   \n",
       "min       0.012000             1.000000              6.000000     0.990070   \n",
       "25%       0.070000             7.000000             21.000000     0.995570   \n",
       "50%       0.079000            13.000000             37.000000     0.996680   \n",
       "75%       0.090000            21.000000             61.000000     0.997845   \n",
       "max       0.611000            68.000000            289.000000     1.003690   \n",
       "\n",
       "                pH    sulphates      alcohol      quality  \n",
       "count  1143.000000  1143.000000  1143.000000  1143.000000  \n",
       "mean      3.311015     0.657708    10.442111     5.657043  \n",
       "std       0.156664     0.170399     1.082196     0.805824  \n",
       "min       2.740000     0.330000     8.400000     3.000000  \n",
       "25%       3.205000     0.550000     9.500000     5.000000  \n",
       "50%       3.310000     0.620000    10.200000     6.000000  \n",
       "75%       3.400000     0.730000    11.100000     6.000000  \n",
       "max       4.010000     2.000000    14.900000     8.000000  "
      ]
     },
     "execution_count": 7,
     "metadata": {},
     "output_type": "execute_result"
    }
   ],
   "source": [
    "dataset.describe()"
   ]
  },
  {
   "cell_type": "code",
   "execution_count": 8,
   "metadata": {},
   "outputs": [],
   "source": [
    "X = dataset.drop(columns=['quality']).to_numpy()\n",
    "y = dataset['quality'].to_numpy()\n",
    "\n",
    "num_classes = 11 # 0-10"
   ]
  },
  {
   "cell_type": "code",
   "execution_count": 9,
   "metadata": {},
   "outputs": [],
   "source": [
    "imputer = SimpleImputer(strategy='mean')\n",
    "X = imputer.fit_transform(X)\n",
    "# To fill in data"
   ]
  },
  {
   "cell_type": "code",
   "execution_count": 10,
   "metadata": {},
   "outputs": [
    {
     "name": "stdout",
     "output_type": "stream",
     "text": [
      "Training set shape: (914, 11) (914,)\n",
      "Validation set shape: (114, 11) (114,)\n",
      "Test set shape: (115, 11) (115,)\n"
     ]
    }
   ],
   "source": [
    "X_train, X_temp, y_train, y_temp = train_test_split(X, y, test_size=0.2, random_state=random_state)\n",
    "X_validation, X_test, y_validation, y_test = train_test_split(X_temp, y_temp, test_size=0.5, random_state=random_state)\n",
    "\n",
    "print(\"Training set shape:\", X_train.shape, y_train.shape)\n",
    "print(\"Validation set shape:\", X_validation.shape, y_validation.shape)\n",
    "print(\"Test set shape:\", X_test.shape, y_test.shape)"
   ]
  },
  {
   "cell_type": "code",
   "execution_count": 11,
   "metadata": {},
   "outputs": [],
   "source": [
    "scaler = StandardScaler()\n",
    "X_train_std = scaler.fit_transform(X_train)\n",
    "X_validation_std = scaler.transform(X_validation)\n",
    "X_test_std = scaler.transform(X_test)"
   ]
  },
  {
   "cell_type": "code",
   "execution_count": 12,
   "metadata": {},
   "outputs": [],
   "source": [
    "class MLP_Classifier:\n",
    "    def __init__(self, input_size, hidden_layers, num_classes=11, learning_rate=0.01, activation='sigmoid', optimizer='sgd', wandb_log=False, print_every=10):\n",
    "        assert activation.lower() in ['sigmoid', 'relu', 'tanh'], \"Activation function must be either 'sigmoid', 'relu' or 'tanh'\"\n",
    "        assert optimizer.lower() in ['sgd', 'bgd', 'mbgd'], \"Optimizer must be either 'sgd', 'bgd' or 'mbgd'\"\n",
    "        assert input_size > 0, \"Input size must be greater than 0\"\n",
    "        assert num_classes > 0, \"Output size must be greater than 0\"\n",
    "        assert learning_rate > 0, \"Learning rate must be greater than 0\"\n",
    "        assert type(hidden_layers) == list and len(hidden_layers) > 0, \"Hidden layers must be a list of size greater than 0\"\n",
    "\n",
    "        self.input_size = input_size\n",
    "        self.hidden_layers = hidden_layers\n",
    "        self.output_size = num_classes\n",
    "        self.learning_rate = learning_rate\n",
    "        self.optimizer = optimizer\n",
    "        self.activation_func = self._get_activation_func(activation)\n",
    "        self.optimizer_func = self._get_optimizer_func(optimizer)\n",
    "        self.weights, self.biases = self._initialize_weights_and_biases()\n",
    "\n",
    "        self.wandb_log = wandb_log\n",
    "        self.print_every = print_every\n",
    "    \n",
    "    # Activation functions\n",
    "    def _get_activation_func(self, activation):\n",
    "        if activation == 'sigmoid':\n",
    "            return self._sigmoid\n",
    "        elif activation == 'tanh':\n",
    "            return self._tanh\n",
    "        elif activation == 'relu':\n",
    "            return self._relu\n",
    "        else:\n",
    "            raise ValueError(f\"Activation function '{activation}' not supported.\")\n",
    "\n",
    "    def _sigmoid(self, x):\n",
    "        return 1 / (1 + np.exp(-x))\n",
    "\n",
    "    def _tanh(self, x):\n",
    "        return np.tanh(x)\n",
    "\n",
    "    def _relu(self, x):\n",
    "        return np.maximum(0, x)\n",
    "    \n",
    "    # Activation derivative\n",
    "    def _activation_derivative(self, Z):\n",
    "        if self.activation_func == self._sigmoid:\n",
    "            return self._sigmoid_derivative(Z)\n",
    "        elif self.activation_func == self._tanh:\n",
    "            return self._tanh_derivative(Z)\n",
    "        elif self.activation_func == self._relu:\n",
    "            return self._relu_derivative(Z)\n",
    "        else:\n",
    "            raise ValueError(f\"Activation function '{self.activation_func}' not supported.\")\n",
    "    \n",
    "    def _sigmoid_derivative(self, Z):\n",
    "        return self._sigmoid(Z) * (1 - self._sigmoid(Z))\n",
    "    \n",
    "    def _tanh_derivative(self, Z):\n",
    "        return 1 - np.square(self._tanh(Z))\n",
    "    \n",
    "    def _relu_derivative(self, Z):\n",
    "        return np.where(Z > 0, 1, 0)\n",
    "    \n",
    "    ## Optimizers\n",
    "    def _get_optimizer_func(self, optimizer):\n",
    "        if optimizer == 'sgd':\n",
    "            return self._sgd\n",
    "        elif optimizer == 'bgd':\n",
    "            return self._bgd\n",
    "        elif optimizer == 'mbgd':\n",
    "            return self._mbgd\n",
    "        else:\n",
    "            raise ValueError(f\"Optimizer '{optimizer}' not supported.\")\n",
    "    \n",
    "    def _sgd(self, grads):\n",
    "        for i in range(len(self.weights)):\n",
    "            self.weights[i] -= (self.learning_rate * grads['dW'][i])\n",
    "            self.biases[i] -= (self.learning_rate * grads['db'][i])\n",
    "    \n",
    "    def _bgd(self, grads):\n",
    "        for i in range(len(self.weights)):\n",
    "            self.weights[i] -= (self.learning_rate * grads['dW'][i] / self.input_size)\n",
    "            self.biases[i] -= (self.learning_rate * grads['db'][i] / self.input_size)\n",
    "\n",
    "    def _mbgd(self, grads):\n",
    "        for i in range(len(self.weights)):\n",
    "            self.weights[i] -= (self.learning_rate * grads['dW'][i] / grads['dW'][i].shape[1])\n",
    "            self.biases[i] -= (self.learning_rate * grads['db'][i] / grads['db'][i].shape[1])\n",
    "    \n",
    "    # Initialize weights and biases\n",
    "    def _initialize_weights_and_biases(self):\n",
    "        num_layers = len(self.hidden_layers)\n",
    "        weights = []\n",
    "        biases = []\n",
    "\n",
    "        if num_layers == 0:\n",
    "            w = np.random.randn(self.input_size, self.output_size)\n",
    "            b = np.zeros((1, self.output_size))\n",
    "            weights.append(w)\n",
    "            biases.append(b)\n",
    "            return weights, biases\n",
    "        \n",
    "        # Using Github Copilot\n",
    "        for i in range(num_layers + 1):\n",
    "            if i == 0:\n",
    "                w = np.random.randn(self.input_size, self.hidden_layers[0])\n",
    "            elif i == num_layers:\n",
    "                w = np.random.randn(self.hidden_layers[-1], self.output_size)\n",
    "            else:\n",
    "                w = np.random.randn(self.hidden_layers[i - 1], self.hidden_layers[i])\n",
    "            \n",
    "            b = np.zeros((1, w.shape[1]))\n",
    "            weights.append(w)\n",
    "            biases.append(b)\n",
    "\n",
    "        return weights, biases\n",
    "    \n",
    "    # Forward propagation\n",
    "    def _forward_propagation(self, X):\n",
    "        num_layers = len(self.weights)\n",
    "        A = X\n",
    "        caches = []\n",
    "        \n",
    "        for i in range(num_layers):\n",
    "            W = self.weights[i]\n",
    "            b = self.biases[i]\n",
    "            Z = np.dot(A, W) + b\n",
    "            \n",
    "            if Z.shape[1] == 1:\n",
    "                Z = Z.reshape(-1)\n",
    "            caches.append((A, W, b, Z))\n",
    "            # print(A.shape, W.shape, b.shape, Z.shape)\n",
    "\n",
    "            A = self.activation_func(Z)\n",
    "        \n",
    "        if len(A.shape) == 1:\n",
    "            A = A.reshape(-1)\n",
    "        return A, caches\n",
    "\n",
    "    # Backward propagation\n",
    "    def _backward_propagation(self, A, Y, caches):\n",
    "        num_samples = A.shape[0]\n",
    "        num_layers = len(self.weights)\n",
    "        grads = {'dW': [], 'db': []}\n",
    "\n",
    "        delta = A-Y\n",
    "        # print(delta.shape, A.shape, Y.shape)\n",
    "\n",
    "        for i in reversed(range(num_layers)):\n",
    "            A, W, _, Z = caches[i]\n",
    "            # print(\"A\", A.shape, \"W\", W.shape, \"Z\", Z.shape)\n",
    "            \n",
    "            dZ = np.multiply(delta, self._activation_derivative(Z))\n",
    "            if dZ.ndim == 1:\n",
    "                dZ = dZ.reshape((dZ.shape[0], 1))\n",
    "            # print(\"dZ\", dZ.shape)\n",
    "            dW = np.dot(A.T, dZ)\n",
    "            # print(\"dW\", dW.shape)\n",
    "            db = np.sum(dZ, axis=0, keepdims=True)\n",
    "            # print(\"db\", db.shape)\n",
    "\n",
    "            delta = np.dot(dZ, W.T)\n",
    "            # print(\"delta\", delta.shape)\n",
    "\n",
    "            if len(dW.shape) == 1:\n",
    "                dW = dW.reshape(-1, 1)\n",
    "\n",
    "            grads['dW'].append(dW)\n",
    "            grads['db'].append(db)\n",
    "        \n",
    "        grads['dW'].reverse()\n",
    "        grads['db'].reverse()\n",
    "\n",
    "        return grads\n",
    "    \n",
    "    # Calculate cost\n",
    "    def _calculate_cost(self, A, Y):\n",
    "        cost = np.mean(np.not_equal(A, Y))\n",
    "        return cost\n",
    "\n",
    "    # Predict\n",
    "    def predict(self, X):\n",
    "        A, _ = self._forward_propagation(X)\n",
    "\n",
    "        # Apply a softmax to get probabilities & then getting the h9ghest probability\n",
    "        A = np.exp(A) / np.sum(np.exp(A), axis=1, keepdims=True)\n",
    "\n",
    "        A = np.argmax(A,axis=1)\n",
    "        return A\n",
    "\n",
    "    # Train the model\n",
    "    def train(self, X, Y, max_epochs=10, batch_size=32, X_validation=None, y_validation=None):\n",
    "        num_samples = X.shape[0]\n",
    "        costs = []\n",
    "\n",
    "        enc = OneHotEncoder().fit(np.array([[i,] for i in range(num_classes)]))\n",
    "        y_new = enc.transform(Y.reshape(-1, 1)).toarray()\n",
    "        \n",
    "        for i in range(max_epochs):\n",
    "            if self.optimizer == \"bgd\":\n",
    "                batch_size = num_samples\n",
    "                num_batches = 1\n",
    "            elif self.optimizer == \"sgd\":\n",
    "                batch_size = 1\n",
    "                num_batches = num_samples\n",
    "            elif self.optimizer == \"mbgd\":\n",
    "                num_batches = num_samples // batch_size\n",
    "            else:\n",
    "                raise ValueError(f\"Optimizer '{self.optimizer}' not supported.\")\n",
    "\n",
    "            for j in range(num_batches):\n",
    "                start = j * batch_size\n",
    "                end = start + batch_size\n",
    "                \n",
    "                A, caches = self._forward_propagation(X[start:end])\n",
    "                grads = self._backward_propagation(A, y_new[start:end], caches)\n",
    "                self.optimizer_func(grads)\n",
    "            \n",
    "            A = self.predict(X)\n",
    "            cost = self._calculate_cost(A, Y)\n",
    "            costs.append(cost)\n",
    "\n",
    "            data_to_log = {\n",
    "                \"epoch\": i + 1,\n",
    "                \"train_loss\": cost\n",
    "            }\n",
    "\n",
    "            # Calculate validation loss\n",
    "            if X_validation is not None and y_validation is not None:\n",
    "                A = self.predict(X_validation)\n",
    "                val_loss = self._calculate_cost(A, y_validation)\n",
    "                data_to_log[\"val_loss\"] = val_loss\n",
    "\n",
    "            if self.wandb_log:\n",
    "                wandb.log(data_to_log)\n",
    "            \n",
    "            if self.print_every and (i+1) % self.print_every == 0:\n",
    "                print(f\"Cost after {i+1} epochs: {cost}\")\n",
    "        \n",
    "        return costs"
   ]
  },
  {
   "cell_type": "code",
   "execution_count": 13,
   "metadata": {},
   "outputs": [
    {
     "name": "stdout",
     "output_type": "stream",
     "text": [
      "Cost after 100 epochs: 0.8140043763676149\n",
      "Cost after 200 epochs: 0.6575492341356673\n",
      "Cost after 300 epochs: 0.6148796498905909\n",
      "Cost after 400 epochs: 0.6214442013129103\n",
      "Cost after 500 epochs: 0.600656455142232\n",
      "Cost after 600 epochs: 0.5886214442013129\n",
      "Cost after 700 epochs: 0.5601750547045952\n",
      "Cost after 800 epochs: 0.5361050328227571\n",
      "Cost after 900 epochs: 0.5229759299781181\n",
      "Cost after 1000 epochs: 0.5054704595185996\n",
      "Cost after 1100 epochs: 0.48577680525164113\n",
      "Cost after 1200 epochs: 0.48468271334792123\n",
      "Cost after 1300 epochs: 0.47045951859956237\n",
      "Cost after 1400 epochs: 0.4660831509846827\n",
      "Cost after 1500 epochs: 0.4617067833698031\n",
      "Cost after 1600 epochs: 0.45185995623632386\n",
      "Cost after 1700 epochs: 0.44638949671772427\n",
      "Cost after 1800 epochs: 0.4420131291028446\n",
      "Cost after 1900 epochs: 0.4365426695842451\n",
      "Cost after 2000 epochs: 0.43216630196936545\n",
      "Cost after 2100 epochs: 0.42778993435448576\n",
      "Cost after 2200 epochs: 0.4223194748358862\n",
      "Cost after 2300 epochs: 0.4179431072210066\n",
      "Cost after 2400 epochs: 0.4135667396061269\n",
      "Cost after 2500 epochs: 0.4113785557986871\n",
      "Cost after 2600 epochs: 0.4102844638949672\n",
      "Cost after 2700 epochs: 0.4113785557986871\n",
      "Cost after 2800 epochs: 0.4113785557986871\n",
      "Cost after 2900 epochs: 0.41466083150984684\n",
      "Cost after 3000 epochs: 0.41466083150984684\n",
      "Cost after 3100 epochs: 0.4135667396061269\n",
      "Cost after 3200 epochs: 0.4113785557986871\n",
      "Cost after 3300 epochs: 0.40919037199124725\n",
      "Cost after 3400 epochs: 0.40700218818380746\n",
      "Cost after 3500 epochs: 0.40919037199124725\n",
      "Cost after 3600 epochs: 0.40919037199124725\n",
      "Cost after 3700 epochs: 0.40809628008752735\n",
      "Cost after 3800 epochs: 0.40809628008752735\n",
      "Cost after 3900 epochs: 0.4059080962800875\n",
      "Cost after 4000 epochs: 0.4059080962800875\n",
      "Cost after 4100 epochs: 0.4048140043763676\n",
      "Cost after 4200 epochs: 0.4048140043763676\n",
      "Cost after 4300 epochs: 0.4037199124726477\n",
      "Cost after 4400 epochs: 0.4026258205689278\n",
      "Cost after 4500 epochs: 0.4037199124726477\n",
      "Cost after 4600 epochs: 0.40809628008752735\n",
      "Cost after 4700 epochs: 0.40809628008752735\n",
      "Cost after 4800 epochs: 0.4059080962800875\n",
      "Cost after 4900 epochs: 0.4059080962800875\n",
      "Cost after 5000 epochs: 0.4048140043763676\n",
      "Cost after 5100 epochs: 0.4048140043763676\n",
      "Cost after 5200 epochs: 0.4037199124726477\n",
      "Cost after 5300 epochs: 0.4037199124726477\n",
      "Cost after 5400 epochs: 0.40153172866520787\n",
      "Cost after 5500 epochs: 0.40043763676148797\n",
      "Cost after 5600 epochs: 0.3993435448577681\n",
      "Cost after 5700 epochs: 0.3993435448577681\n",
      "Cost after 5800 epochs: 0.40043763676148797\n",
      "Cost after 5900 epochs: 0.40043763676148797\n",
      "Cost after 6000 epochs: 0.3982494529540481\n",
      "Cost after 6100 epochs: 0.3982494529540481\n",
      "Cost after 6200 epochs: 0.3982494529540481\n",
      "Cost after 6300 epochs: 0.3982494529540481\n",
      "Cost after 6400 epochs: 0.3971553610503282\n",
      "Cost after 6500 epochs: 0.3971553610503282\n",
      "Cost after 6600 epochs: 0.3993435448577681\n",
      "Cost after 6700 epochs: 0.3993435448577681\n",
      "Cost after 6800 epochs: 0.3993435448577681\n",
      "Cost after 6900 epochs: 0.3993435448577681\n",
      "Cost after 7000 epochs: 0.40043763676148797\n",
      "Cost after 7100 epochs: 0.40043763676148797\n",
      "Cost after 7200 epochs: 0.40043763676148797\n",
      "Cost after 7300 epochs: 0.40043763676148797\n",
      "Cost after 7400 epochs: 0.40043763676148797\n",
      "Cost after 7500 epochs: 0.40043763676148797\n",
      "Cost after 7600 epochs: 0.40043763676148797\n",
      "Cost after 7700 epochs: 0.3982494529540481\n",
      "Cost after 7800 epochs: 0.3982494529540481\n",
      "Cost after 7900 epochs: 0.3982494529540481\n",
      "Cost after 8000 epochs: 0.3982494529540481\n",
      "Cost after 8100 epochs: 0.3982494529540481\n",
      "Cost after 8200 epochs: 0.3982494529540481\n",
      "Cost after 8300 epochs: 0.3982494529540481\n",
      "Cost after 8400 epochs: 0.3993435448577681\n",
      "Cost after 8500 epochs: 0.3993435448577681\n",
      "Cost after 8600 epochs: 0.3993435448577681\n",
      "Cost after 8700 epochs: 0.3993435448577681\n",
      "Cost after 8800 epochs: 0.3993435448577681\n",
      "Cost after 8900 epochs: 0.3993435448577681\n",
      "Cost after 9000 epochs: 0.3993435448577681\n",
      "Cost after 9100 epochs: 0.40043763676148797\n",
      "Cost after 9200 epochs: 0.40153172866520787\n",
      "Cost after 9300 epochs: 0.3993435448577681\n",
      "Cost after 9400 epochs: 0.40043763676148797\n",
      "Cost after 9500 epochs: 0.40043763676148797\n",
      "Cost after 9600 epochs: 0.40043763676148797\n",
      "Cost after 9700 epochs: 0.40043763676148797\n",
      "Cost after 9800 epochs: 0.40043763676148797\n",
      "Cost after 9900 epochs: 0.3982494529540481\n",
      "Cost after 10000 epochs: 0.3982494529540481\n"
     ]
    }
   ],
   "source": [
    "model = MLP_Classifier(X_train_std.shape[1], hidden_layers, num_classes, learning_rate=lr, activation=activation, optimizer=optimizer, print_every=100)\n",
    "costs = model.train(X_train_std, y_train, max_epochs=max_epochs, batch_size=batch_size, X_validation=X_validation_std, y_validation=y_validation)"
   ]
  },
  {
   "cell_type": "code",
   "execution_count": 14,
   "metadata": {},
   "outputs": [
    {
     "data": {
      "image/png": "[encoded data removed]",
      "text/plain": [
       "<Figure size 800x600 with 1 Axes>"
      ]
     },
     "metadata": {},
     "output_type": "display_data"
    }
   ],
   "source": [
    "plt.figure(figsize=(8, 6))\n",
    "plt.plot(costs)\n",
    "plt.title('Training Loss')\n",
    "plt.xlabel('Epoch')\n",
    "plt.ylabel('Loss')\n",
    "plt.grid(True)\n",
    "plt.show()"
   ]
  },
  {
   "cell_type": "code",
   "execution_count": 15,
   "metadata": {},
   "outputs": [
    {
     "name": "stdout",
     "output_type": "stream",
     "text": [
      "              precision    recall  f1-score   support\n",
      "\n",
      "           4       0.00      0.00      0.00         3\n",
      "           5       0.67      0.78      0.72        50\n",
      "           6       0.50      0.64      0.56        44\n",
      "           7       1.00      0.06      0.12        16\n",
      "           8       0.00      0.00      0.00         2\n",
      "\n",
      "    accuracy                           0.59       115\n",
      "   macro avg       0.43      0.30      0.28       115\n",
      "weighted avg       0.62      0.59      0.54       115\n",
      "\n"
     ]
    }
   ],
   "source": [
    "print(classification_report(y_test, model.predict(X_test_std), zero_division=0))"
   ]
  },
  {
   "cell_type": "code",
   "execution_count": 16,
   "metadata": {},
   "outputs": [],
   "source": [
    "if hyperparameter_tuning:\n",
    "    for optimizer in ['sgd', 'bgd', 'mbgd']:\n",
    "        for activation in ['sigmoid', 'relu', 'tanh']:\n",
    "            for lr in [0.001, 0.01, 0.1]:\n",
    "                max_epochs = 1000\n",
    "                if optimizer == 'mbgd':\n",
    "                    batch_sizes = [32, 64]\n",
    "                else:\n",
    "                    batch_sizes = [32,]\n",
    "                for batch_size in batch_sizes:\n",
    "                    wandb_init(lr, max_epochs, optimizer, activation, hidden_layers, batch_size)\n",
    "                    model = MLP_Classifier(X_train_std.shape[1], hidden_layers, num_classes, learning_rate=lr, activation=activation, optimizer=optimizer, print_every=None, wandb_log=True)\n",
    "                    costs = model.train(X_train_std, y_train, max_epochs=max_epochs, batch_size=batch_size, X_validation=X_validation_std, y_validation=y_validation)\n",
    "                    accuracy = accuracy_score(y_test, model.predict(X_test_std))\n",
    "                    precision = precision_score(y_test, model.predict(X_test_std), average='macro', zero_division=1)\n",
    "                    recall = recall_score(y_test, model.predict(X_test_std), average='macro', zero_division=1)\n",
    "                    f1 = f1_score(y_test, model.predict(X_test_std), average='macro', zero_division=1)\n",
    "                    wandb.log({\n",
    "                        \"accuracy\": accuracy,\n",
    "                        \"precision\": precision,\n",
    "                        \"recall\": recall,\n",
    "                        \"f1\": f1\n",
    "                    })\n",
    "                    wandb_finish()\n"
   ]
  },
  {
   "cell_type": "code",
   "execution_count": 19,
   "metadata": {},
   "outputs": [
    {
     "data": {
      "text/html": [
       "<div>\n",
       "<style scoped>\n",
       "    .dataframe tbody tr th:only-of-type {\n",
       "        vertical-align: middle;\n",
       "    }\n",
       "\n",
       "    .dataframe tbody tr th {\n",
       "        vertical-align: top;\n",
       "    }\n",
       "\n",
       "    .dataframe thead th {\n",
       "        text-align: right;\n",
       "    }\n",
       "</style>\n",
       "<table border=\"1\" class=\"dataframe\">\n",
       "  <thead>\n",
       "    <tr style=\"text-align: right;\">\n",
       "      <th></th>\n",
       "      <th>Name</th>\n",
       "      <th>Runtime</th>\n",
       "      <th>activation</th>\n",
       "      <th>batch_size</th>\n",
       "      <th>lr</th>\n",
       "      <th>optimizer</th>\n",
       "      <th>accuracy</th>\n",
       "      <th>f1</th>\n",
       "      <th>precision</th>\n",
       "      <th>recall</th>\n",
       "      <th>train_loss</th>\n",
       "      <th>val_loss</th>\n",
       "    </tr>\n",
       "  </thead>\n",
       "  <tbody>\n",
       "    <tr>\n",
       "      <th>0</th>\n",
       "      <td>P2_sgd_sigmoid_1_0.01_32_1000</td>\n",
       "      <td>119</td>\n",
       "      <td>sigmoid</td>\n",
       "      <td>32</td>\n",
       "      <td>0.010</td>\n",
       "      <td>sgd</td>\n",
       "      <td>0.678261</td>\n",
       "      <td>0.411827</td>\n",
       "      <td>0.829489</td>\n",
       "      <td>0.405955</td>\n",
       "      <td>0.287746</td>\n",
       "      <td>0.385965</td>\n",
       "    </tr>\n",
       "    <tr>\n",
       "      <th>1</th>\n",
       "      <td>P2_sgd_tanh_1_0.001_32_1000</td>\n",
       "      <td>76</td>\n",
       "      <td>tanh</td>\n",
       "      <td>32</td>\n",
       "      <td>0.001</td>\n",
       "      <td>sgd</td>\n",
       "      <td>0.678261</td>\n",
       "      <td>0.389418</td>\n",
       "      <td>0.799258</td>\n",
       "      <td>0.388409</td>\n",
       "      <td>0.377462</td>\n",
       "      <td>0.403509</td>\n",
       "    </tr>\n",
       "    <tr>\n",
       "      <th>2</th>\n",
       "      <td>P2_mbgd_sigmoid_1_0.01_64_1000</td>\n",
       "      <td>18</td>\n",
       "      <td>sigmoid</td>\n",
       "      <td>64</td>\n",
       "      <td>0.010</td>\n",
       "      <td>mbgd</td>\n",
       "      <td>0.669565</td>\n",
       "      <td>0.390603</td>\n",
       "      <td>0.818413</td>\n",
       "      <td>0.383864</td>\n",
       "      <td>0.376368</td>\n",
       "      <td>0.447368</td>\n",
       "    </tr>\n",
       "    <tr>\n",
       "      <th>3</th>\n",
       "      <td>P2_bgd_sigmoid_1_0.01_32_1000</td>\n",
       "      <td>16</td>\n",
       "      <td>sigmoid</td>\n",
       "      <td>32</td>\n",
       "      <td>0.010</td>\n",
       "      <td>bgd</td>\n",
       "      <td>0.652174</td>\n",
       "      <td>0.391308</td>\n",
       "      <td>0.795139</td>\n",
       "      <td>0.391227</td>\n",
       "      <td>0.385120</td>\n",
       "      <td>0.377193</td>\n",
       "    </tr>\n",
       "    <tr>\n",
       "      <th>4</th>\n",
       "      <td>P2_mbgd_sigmoid_1_0.1_64_1000</td>\n",
       "      <td>18</td>\n",
       "      <td>sigmoid</td>\n",
       "      <td>64</td>\n",
       "      <td>0.100</td>\n",
       "      <td>mbgd</td>\n",
       "      <td>0.652174</td>\n",
       "      <td>0.383345</td>\n",
       "      <td>0.786462</td>\n",
       "      <td>0.384364</td>\n",
       "      <td>0.318381</td>\n",
       "      <td>0.385965</td>\n",
       "    </tr>\n",
       "  </tbody>\n",
       "</table>\n",
       "</div>"
      ],
      "text/plain": [
       "                             Name  Runtime activation  batch_size     lr  \\\n",
       "0   P2_sgd_sigmoid_1_0.01_32_1000      119    sigmoid          32  0.010   \n",
       "1     P2_sgd_tanh_1_0.001_32_1000       76       tanh          32  0.001   \n",
       "2  P2_mbgd_sigmoid_1_0.01_64_1000       18    sigmoid          64  0.010   \n",
       "3   P2_bgd_sigmoid_1_0.01_32_1000       16    sigmoid          32  0.010   \n",
       "4   P2_mbgd_sigmoid_1_0.1_64_1000       18    sigmoid          64  0.100   \n",
       "\n",
       "  optimizer  accuracy        f1  precision    recall  train_loss  val_loss  \n",
       "0       sgd  0.678261  0.411827   0.829489  0.405955    0.287746  0.385965  \n",
       "1       sgd  0.678261  0.389418   0.799258  0.388409    0.377462  0.403509  \n",
       "2      mbgd  0.669565  0.390603   0.818413  0.383864    0.376368  0.447368  \n",
       "3       bgd  0.652174  0.391308   0.795139  0.391227    0.385120  0.377193  \n",
       "4      mbgd  0.652174  0.383345   0.786462  0.384364    0.318381  0.385965  "
      ]
     },
     "execution_count": 19,
     "metadata": {},
     "output_type": "execute_result"
    }
   ],
   "source": [
    "# Import from csv file ../wandb_export_P2.csv\n",
    "\n",
    "wandb_data = pd.read_csv(\"../wandb_export_P2.csv\")\n",
    "wandb_data.head()"
   ]
  },
  {
   "cell_type": "code",
   "execution_count": 22,
   "metadata": {},
   "outputs": [
    {
     "name": "stdout",
     "output_type": "stream",
     "text": [
      "                               Name  accuracy        f1  precision    recall\n",
      "0     P2_sgd_sigmoid_1_0.01_32_1000  0.678261  0.411827   0.829489  0.405955\n",
      "1       P2_sgd_tanh_1_0.001_32_1000  0.678261  0.389418   0.799258  0.388409\n",
      "2    P2_mbgd_sigmoid_1_0.01_64_1000  0.669565  0.390603   0.818413  0.383864\n",
      "3     P2_bgd_sigmoid_1_0.01_32_1000  0.652174  0.391308   0.795139  0.391227\n",
      "4     P2_mbgd_sigmoid_1_0.1_64_1000  0.652174  0.383345   0.786462  0.384364\n",
      "5      P2_bgd_sigmoid_1_0.1_32_1000  0.643478  0.379609   0.775665  0.385591\n",
      "6    P2_sgd_sigmoid_1_0.001_32_1000  0.643478  0.359126   0.797527  0.354864\n",
      "7        P2_sgd_tanh_1_0.01_32_1000  0.626087  0.297461   0.758027  0.316136\n",
      "8        P2_bgd_tanh_1_0.01_32_1000  0.617391  0.358322   0.748457  0.372500\n",
      "9       P2_mbgd_tanh_1_0.01_32_1000  0.617391  0.305187   0.775000  0.314636\n",
      "10   P2_mbgd_sigmoid_1_0.01_32_1000  0.608696  0.305519   0.839297  0.312273\n",
      "11      P2_mbgd_tanh_1_0.01_64_1000  0.600000  0.465156   0.643001  0.291818\n",
      "12       P2_mbgd_tanh_1_0.1_32_1000  0.600000  0.358617   0.788425  0.349682\n",
      "13     P2_sgd_sigmoid_1_0.1_32_1000  0.600000  0.351659   0.759146  0.350773\n",
      "14  P2_mbgd_sigmoid_1_0.001_64_1000  0.600000  0.263000   0.839685  0.291818\n",
      "15      P2_sgd_relu_1_0.001_32_1000  0.600000  0.233194   0.724120  0.409848\n",
      "16    P2_mbgd_sigmoid_1_0.1_32_1000  0.591304  0.345169   0.741309  0.351455\n",
      "17  P2_mbgd_sigmoid_1_0.001_32_1000  0.582609  0.317435   0.761875  0.315091\n",
      "18       P2_mbgd_tanh_1_0.1_64_1000  0.582609  0.291705   0.693187  0.301364\n",
      "19        P2_sgd_tanh_1_0.1_32_1000  0.573913  0.273701   0.847436  0.293227\n",
      "20   P2_bgd_sigmoid_1_0.001_32_1000  0.556522  0.244383   0.822868  0.271273\n",
      "21     P2_mbgd_tanh_1_0.001_32_1000  0.539130  0.197423   0.680205  0.385152\n",
      "22      P2_bgd_tanh_1_0.001_32_1000  0.530435  0.232802   0.812462  0.258182\n",
      "23     P2_mbgd_tanh_1_0.001_64_1000  0.521739  0.360518   0.513017  0.377121\n",
      "24      P2_mbgd_relu_1_0.01_64_1000  0.495652  0.355018   0.543750  0.373485\n",
      "25      P2_mbgd_relu_1_0.01_32_1000  0.486957  0.527579   0.358907  0.363333\n",
      "26        P2_bgd_tanh_1_0.1_32_1000  0.434783  0.164777   0.461966  0.450455\n",
      "27      P2_bgd_relu_1_0.001_32_1000  0.391304  0.174962   0.715201  0.323485\n",
      "28     P2_mbgd_relu_1_0.001_32_1000  0.347826  0.131854   0.592262  0.403506\n",
      "29     P2_mbgd_relu_1_0.001_64_1000  0.295652  0.262800   0.403409  0.502500\n",
      "30       P2_mbgd_relu_1_0.1_32_1000  0.243478  0.118333   0.639818  0.274167\n",
      "31       P2_sgd_relu_1_0.01_32_1000  0.000000  0.166667   0.666667  0.166667\n",
      "32       P2_bgd_relu_1_0.01_32_1000  0.000000  0.000000   0.833333  0.166667\n",
      "33        P2_bgd_relu_1_0.1_32_1000  0.000000  0.000000   0.833333  0.166667\n",
      "34        P2_sgd_relu_1_0.1_32_1000  0.000000  0.000000   0.833333  0.166667\n",
      "35       P2_mbgd_relu_1_0.1_64_1000  0.000000  0.000000   0.714286  0.285714\n"
     ]
    }
   ],
   "source": [
    "columns = [\"Name\", \"accuracy\", \"f1\", \"precision\", \"recall\"]\n",
    "print(wandb_data[columns])"
   ]
  },
  {
   "cell_type": "code",
   "execution_count": 33,
   "metadata": {},
   "outputs": [
    {
     "data": {
      "application/vnd.plotly.v1+json": {
       "config": {
        "plotlyServerURL": "https://plot.ly"
       },
       "data": [
        {
         "hovertemplate": "Learning Rate=%{x}<br>Activation Function=%{y}<br>Optimizer=%{z}<br>Accuracy=%{marker.color}<extra></extra>",
         "legendgroup": "",
         "marker": {
          "color": [
           0.6782608695652174,
           0.6782608695652174,
           0.6695652173913044,
           0.6521739130434783,
           0.6521739130434783,
           0.6434782608695652,
           0.6434782608695652,
           0.6260869565217392,
           0.6173913043478261,
           0.6173913043478261,
           0.6086956521739131,
           0.6,
           0.6,
           0.6,
           0.6,
           0.6,
           0.591304347826087,
           0.5826086956521739,
           0.5826086956521739,
           0.5739130434782609,
           0.5565217391304348,
           0.5391304347826087,
           0.5304347826086957,
           0.5217391304347826,
           0.4956521739130435,
           0.4869565217391304,
           0.4347826086956521,
           0.391304347826087,
           0.3478260869565217,
           0.2956521739130435,
           0.2434782608695652,
           0,
           0,
           0,
           0,
           0
          ],
          "coloraxis": "coloraxis",
          "size": [
           0.6782608695652174,
           0.6782608695652174,
           0.6695652173913044,
           0.6521739130434783,
           0.6521739130434783,
           0.6434782608695652,
           0.6434782608695652,
           0.6260869565217392,
           0.6173913043478261,
           0.6173913043478261,
           0.6086956521739131,
           0.6,
           0.6,
           0.6,
           0.6,
           0.6,
           0.591304347826087,
           0.5826086956521739,
           0.5826086956521739,
           0.5739130434782609,
           0.5565217391304348,
           0.5391304347826087,
           0.5304347826086957,
           0.5217391304347826,
           0.4956521739130435,
           0.4869565217391304,
           0.4347826086956521,
           0.391304347826087,
           0.3478260869565217,
           0.2956521739130435,
           0.2434782608695652,
           0,
           0,
           0,
           0,
           0
          ],
          "sizemode": "area",
          "sizeref": 0.0016956521739130434,
          "symbol": "circle"
         },
         "mode": "markers",
         "name": "",
         "scene": "scene",
         "showlegend": false,
         "type": "scatter3d",
         "x": [
          0.01,
          0.001,
          0.01,
          0.01,
          0.1,
          0.1,
          0.001,
          0.01,
          0.01,
          0.01,
          0.01,
          0.01,
          0.1,
          0.1,
          0.001,
          0.001,
          0.1,
          0.001,
          0.1,
          0.1,
          0.001,
          0.001,
          0.001,
          0.001,
          0.01,
          0.01,
          0.1,
          0.001,
          0.001,
          0.001,
          0.1,
          0.01,
          0.01,
          0.1,
          0.1,
          0.1
         ],
         "y": [
          "sigmoid",
          "tanh",
          "sigmoid",
          "sigmoid",
          "sigmoid",
          "sigmoid",
          "sigmoid",
          "tanh",
          "tanh",
          "tanh",
          "sigmoid",
          "tanh",
          "tanh",
          "sigmoid",
          "sigmoid",
          "relu",
          "sigmoid",
          "sigmoid",
          "tanh",
          "tanh",
          "sigmoid",
          "tanh",
          "tanh",
          "tanh",
          "relu",
          "relu",
          "tanh",
          "relu",
          "relu",
          "relu",
          "relu",
          "relu",
          "relu",
          "relu",
          "relu",
          "relu"
         ],
         "z": [
          "sgd",
          "sgd",
          "mbgd",
          "bgd",
          "mbgd",
          "bgd",
          "sgd",
          "sgd",
          "bgd",
          "mbgd",
          "mbgd",
          "mbgd",
          "mbgd",
          "sgd",
          "mbgd",
          "sgd",
          "mbgd",
          "mbgd",
          "mbgd",
          "sgd",
          "bgd",
          "mbgd",
          "bgd",
          "mbgd",
          "mbgd",
          "mbgd",
          "bgd",
          "bgd",
          "mbgd",
          "mbgd",
          "mbgd",
          "sgd",
          "bgd",
          "bgd",
          "sgd",
          "mbgd"
         ]
        }
       ],
       "layout": {
        "coloraxis": {
         "colorbar": {
          "title": {
           "text": "Accuracy"
          }
         },
         "colorscale": [
          [
           0,
           "#fde725"
          ],
          [
           0.1111111111111111,
           "#b5de2b"
          ],
          [
           0.2222222222222222,
           "#6ece58"
          ],
          [
           0.3333333333333333,
           "#35b779"
          ],
          [
           0.4444444444444444,
           "#1f9e89"
          ],
          [
           0.5555555555555556,
           "#26828e"
          ],
          [
           0.6666666666666666,
           "#31688e"
          ],
          [
           0.7777777777777778,
           "#3e4989"
          ],
          [
           0.8888888888888888,
           "#482878"
          ],
          [
           1,
           "#440154"
          ]
         ]
        },
        "legend": {
         "itemsizing": "constant",
         "tracegroupgap": 0
        },
        "scene": {
         "domain": {
          "x": [
           0,
           1
          ],
          "y": [
           0,
           1
          ]
         },
         "xaxis": {
          "title": {
           "text": "Learning Rate"
          }
         },
         "yaxis": {
          "title": {
           "text": "Activation Function"
          }
         },
         "zaxis": {
          "title": {
           "text": "Optimizer"
          }
         }
        },
        "template": {
         "data": {
          "bar": [
           {
            "error_x": {
             "color": "#2a3f5f"
            },
            "error_y": {
             "color": "#2a3f5f"
            },
            "marker": {
             "line": {
              "color": "#E5ECF6",
              "width": 0.5
             },
             "pattern": {
              "fillmode": "overlay",
              "size": 10,
              "solidity": 0.2
             }
            },
            "type": "bar"
           }
          ],
          "barpolar": [
           {
            "marker": {
             "line": {
              "color": "#E5ECF6",
              "width": 0.5
             },
             "pattern": {
              "fillmode": "overlay",
              "size": 10,
              "solidity": 0.2
             }
            },
            "type": "barpolar"
           }
          ],
          "carpet": [
           {
            "aaxis": {
             "endlinecolor": "#2a3f5f",
             "gridcolor": "white",
             "linecolor": "white",
             "minorgridcolor": "white",
             "startlinecolor": "#2a3f5f"
            },
            "baxis": {
             "endlinecolor": "#2a3f5f",
             "gridcolor": "white",
             "linecolor": "white",
             "minorgridcolor": "white",
             "startlinecolor": "#2a3f5f"
            },
            "type": "carpet"
           }
          ],
          "choropleth": [
           {
            "colorbar": {
             "outlinewidth": 0,
             "ticks": ""
            },
            "type": "choropleth"
           }
          ],
          "contour": [
           {
            "colorbar": {
             "outlinewidth": 0,
             "ticks": ""
            },
            "colorscale": [
             [
              0,
              "#0d0887"
             ],
             [
              0.1111111111111111,
              "#46039f"
             ],
             [
              0.2222222222222222,
              "#7201a8"
             ],
             [
              0.3333333333333333,
              "#9c179e"
             ],
             [
              0.4444444444444444,
              "#bd3786"
             ],
             [
              0.5555555555555556,
              "#d8576b"
             ],
             [
              0.6666666666666666,
              "#ed7953"
             ],
             [
              0.7777777777777778,
              "#fb9f3a"
             ],
             [
              0.8888888888888888,
              "#fdca26"
             ],
             [
              1,
              "#f0f921"
             ]
            ],
            "type": "contour"
           }
          ],
          "contourcarpet": [
           {
            "colorbar": {
             "outlinewidth": 0,
             "ticks": ""
            },
            "type": "contourcarpet"
           }
          ],
          "heatmap": [
           {
            "colorbar": {
             "outlinewidth": 0,
             "ticks": ""
            },
            "colorscale": [
             [
              0,
              "#0d0887"
             ],
             [
              0.1111111111111111,
              "#46039f"
             ],
             [
              0.2222222222222222,
              "#7201a8"
             ],
             [
              0.3333333333333333,
              "#9c179e"
             ],
             [
              0.4444444444444444,
              "#bd3786"
             ],
             [
              0.5555555555555556,
              "#d8576b"
             ],
             [
              0.6666666666666666,
              "#ed7953"
             ],
             [
              0.7777777777777778,
              "#fb9f3a"
             ],
             [
              0.8888888888888888,
              "#fdca26"
             ],
             [
              1,
              "#f0f921"
             ]
            ],
            "type": "heatmap"
           }
          ],
          "heatmapgl": [
           {
            "colorbar": {
             "outlinewidth": 0,
             "ticks": ""
            },
            "colorscale": [
             [
              0,
              "#0d0887"
             ],
             [
              0.1111111111111111,
              "#46039f"
             ],
             [
              0.2222222222222222,
              "#7201a8"
             ],
             [
              0.3333333333333333,
              "#9c179e"
             ],
             [
              0.4444444444444444,
              "#bd3786"
             ],
             [
              0.5555555555555556,
              "#d8576b"
             ],
             [
              0.6666666666666666,
              "#ed7953"
             ],
             [
              0.7777777777777778,
              "#fb9f3a"
             ],
             [
              0.8888888888888888,
              "#fdca26"
             ],
             [
              1,
              "#f0f921"
             ]
            ],
            "type": "heatmapgl"
           }
          ],
          "histogram": [
           {
            "marker": {
             "pattern": {
              "fillmode": "overlay",
              "size": 10,
              "solidity": 0.2
             }
            },
            "type": "histogram"
           }
          ],
          "histogram2d": [
           {
            "colorbar": {
             "outlinewidth": 0,
             "ticks": ""
            },
            "colorscale": [
             [
              0,
              "#0d0887"
             ],
             [
              0.1111111111111111,
              "#46039f"
             ],
             [
              0.2222222222222222,
              "#7201a8"
             ],
             [
              0.3333333333333333,
              "#9c179e"
             ],
             [
              0.4444444444444444,
              "#bd3786"
             ],
             [
              0.5555555555555556,
              "#d8576b"
             ],
             [
              0.6666666666666666,
              "#ed7953"
             ],
             [
              0.7777777777777778,
              "#fb9f3a"
             ],
             [
              0.8888888888888888,
              "#fdca26"
             ],
             [
              1,
              "#f0f921"
             ]
            ],
            "type": "histogram2d"
           }
          ],
          "histogram2dcontour": [
           {
            "colorbar": {
             "outlinewidth": 0,
             "ticks": ""
            },
            "colorscale": [
             [
              0,
              "#0d0887"
             ],
             [
              0.1111111111111111,
              "#46039f"
             ],
             [
              0.2222222222222222,
              "#7201a8"
             ],
             [
              0.3333333333333333,
              "#9c179e"
             ],
             [
              0.4444444444444444,
              "#bd3786"
             ],
             [
              0.5555555555555556,
              "#d8576b"
             ],
             [
              0.6666666666666666,
              "#ed7953"
             ],
             [
              0.7777777777777778,
              "#fb9f3a"
             ],
             [
              0.8888888888888888,
              "#fdca26"
             ],
             [
              1,
              "#f0f921"
             ]
            ],
            "type": "histogram2dcontour"
           }
          ],
          "mesh3d": [
           {
            "colorbar": {
             "outlinewidth": 0,
             "ticks": ""
            },
            "type": "mesh3d"
           }
          ],
          "parcoords": [
           {
            "line": {
             "colorbar": {
              "outlinewidth": 0,
              "ticks": ""
             }
            },
            "type": "parcoords"
           }
          ],
          "pie": [
           {
            "automargin": true,
            "type": "pie"
           }
          ],
          "scatter": [
           {
            "fillpattern": {
             "fillmode": "overlay",
             "size": 10,
             "solidity": 0.2
            },
            "type": "scatter"
           }
          ],
          "scatter3d": [
           {
            "line": {
             "colorbar": {
              "outlinewidth": 0,
              "ticks": ""
             }
            },
            "marker": {
             "colorbar": {
              "outlinewidth": 0,
              "ticks": ""
             }
            },
            "type": "scatter3d"
           }
          ],
          "scattercarpet": [
           {
            "marker": {
             "colorbar": {
              "outlinewidth": 0,
              "ticks": ""
             }
            },
            "type": "scattercarpet"
           }
          ],
          "scattergeo": [
           {
            "marker": {
             "colorbar": {
              "outlinewidth": 0,
              "ticks": ""
             }
            },
            "type": "scattergeo"
           }
          ],
          "scattergl": [
           {
            "marker": {
             "colorbar": {
              "outlinewidth": 0,
              "ticks": ""
             }
            },
            "type": "scattergl"
           }
          ],
          "scattermapbox": [
           {
            "marker": {
             "colorbar": {
              "outlinewidth": 0,
              "ticks": ""
             }
            },
            "type": "scattermapbox"
           }
          ],
          "scatterpolar": [
           {
            "marker": {
             "colorbar": {
              "outlinewidth": 0,
              "ticks": ""
             }
            },
            "type": "scatterpolar"
           }
          ],
          "scatterpolargl": [
           {
            "marker": {
             "colorbar": {
              "outlinewidth": 0,
              "ticks": ""
             }
            },
            "type": "scatterpolargl"
           }
          ],
          "scatterternary": [
           {
            "marker": {
             "colorbar": {
              "outlinewidth": 0,
              "ticks": ""
             }
            },
            "type": "scatterternary"
           }
          ],
          "surface": [
           {
            "colorbar": {
             "outlinewidth": 0,
             "ticks": ""
            },
            "colorscale": [
             [
              0,
              "#0d0887"
             ],
             [
              0.1111111111111111,
              "#46039f"
             ],
             [
              0.2222222222222222,
              "#7201a8"
             ],
             [
              0.3333333333333333,
              "#9c179e"
             ],
             [
              0.4444444444444444,
              "#bd3786"
             ],
             [
              0.5555555555555556,
              "#d8576b"
             ],
             [
              0.6666666666666666,
              "#ed7953"
             ],
             [
              0.7777777777777778,
              "#fb9f3a"
             ],
             [
              0.8888888888888888,
              "#fdca26"
             ],
             [
              1,
              "#f0f921"
             ]
            ],
            "type": "surface"
           }
          ],
          "table": [
           {
            "cells": {
             "fill": {
              "color": "#EBF0F8"
             },
             "line": {
              "color": "white"
             }
            },
            "header": {
             "fill": {
              "color": "#C8D4E3"
             },
             "line": {
              "color": "white"
             }
            },
            "type": "table"
           }
          ]
         },
         "layout": {
          "annotationdefaults": {
           "arrowcolor": "#2a3f5f",
           "arrowhead": 0,
           "arrowwidth": 1
          },
          "autotypenumbers": "strict",
          "coloraxis": {
           "colorbar": {
            "outlinewidth": 0,
            "ticks": ""
           }
          },
          "colorscale": {
           "diverging": [
            [
             0,
             "#8e0152"
            ],
            [
             0.1,
             "#c51b7d"
            ],
            [
             0.2,
             "#de77ae"
            ],
            [
             0.3,
             "#f1b6da"
            ],
            [
             0.4,
             "#fde0ef"
            ],
            [
             0.5,
             "#f7f7f7"
            ],
            [
             0.6,
             "#e6f5d0"
            ],
            [
             0.7,
             "#b8e186"
            ],
            [
             0.8,
             "#7fbc41"
            ],
            [
             0.9,
             "#4d9221"
            ],
            [
             1,
             "#276419"
            ]
           ],
           "sequential": [
            [
             0,
             "#0d0887"
            ],
            [
             0.1111111111111111,
             "#46039f"
            ],
            [
             0.2222222222222222,
             "#7201a8"
            ],
            [
             0.3333333333333333,
             "#9c179e"
            ],
            [
             0.4444444444444444,
             "#bd3786"
            ],
            [
             0.5555555555555556,
             "#d8576b"
            ],
            [
             0.6666666666666666,
             "#ed7953"
            ],
            [
             0.7777777777777778,
             "#fb9f3a"
            ],
            [
             0.8888888888888888,
             "#fdca26"
            ],
            [
             1,
             "#f0f921"
            ]
           ],
           "sequentialminus": [
            [
             0,
             "#0d0887"
            ],
            [
             0.1111111111111111,
             "#46039f"
            ],
            [
             0.2222222222222222,
             "#7201a8"
            ],
            [
             0.3333333333333333,
             "#9c179e"
            ],
            [
             0.4444444444444444,
             "#bd3786"
            ],
            [
             0.5555555555555556,
             "#d8576b"
            ],
            [
             0.6666666666666666,
             "#ed7953"
            ],
            [
             0.7777777777777778,
             "#fb9f3a"
            ],
            [
             0.8888888888888888,
             "#fdca26"
            ],
            [
             1,
             "#f0f921"
            ]
           ]
          },
          "colorway": [
           "#636efa",
           "#EF553B",
           "#00cc96",
           "#ab63fa",
           "#FFA15A",
           "#19d3f3",
           "#FF6692",
           "#B6E880",
           "#FF97FF",
           "#FECB52"
          ],
          "font": {
           "color": "#2a3f5f"
          },
          "geo": {
           "bgcolor": "white",
           "lakecolor": "white",
           "landcolor": "#E5ECF6",
           "showlakes": true,
           "showland": true,
           "subunitcolor": "white"
          },
          "hoverlabel": {
           "align": "left"
          },
          "hovermode": "closest",
          "mapbox": {
           "style": "light"
          },
          "paper_bgcolor": "white",
          "plot_bgcolor": "#E5ECF6",
          "polar": {
           "angularaxis": {
            "gridcolor": "white",
            "linecolor": "white",
            "ticks": ""
           },
           "bgcolor": "#E5ECF6",
           "radialaxis": {
            "gridcolor": "white",
            "linecolor": "white",
            "ticks": ""
           }
          },
          "scene": {
           "xaxis": {
            "backgroundcolor": "#E5ECF6",
            "gridcolor": "white",
            "gridwidth": 2,
            "linecolor": "white",
            "showbackground": true,
            "ticks": "",
            "zerolinecolor": "white"
           },
           "yaxis": {
            "backgroundcolor": "#E5ECF6",
            "gridcolor": "white",
            "gridwidth": 2,
            "linecolor": "white",
            "showbackground": true,
            "ticks": "",
            "zerolinecolor": "white"
           },
           "zaxis": {
            "backgroundcolor": "#E5ECF6",
            "gridcolor": "white",
            "gridwidth": 2,
            "linecolor": "white",
            "showbackground": true,
            "ticks": "",
            "zerolinecolor": "white"
           }
          },
          "shapedefaults": {
           "line": {
            "color": "#2a3f5f"
           }
          },
          "ternary": {
           "aaxis": {
            "gridcolor": "white",
            "linecolor": "white",
            "ticks": ""
           },
           "baxis": {
            "gridcolor": "white",
            "linecolor": "white",
            "ticks": ""
           },
           "bgcolor": "#E5ECF6",
           "caxis": {
            "gridcolor": "white",
            "linecolor": "white",
            "ticks": ""
           }
          },
          "title": {
           "x": 0.05
          },
          "xaxis": {
           "automargin": true,
           "gridcolor": "white",
           "linecolor": "white",
           "ticks": "",
           "title": {
            "standoff": 15
           },
           "zerolinecolor": "white",
           "zerolinewidth": 2
          },
          "yaxis": {
           "automargin": true,
           "gridcolor": "white",
           "linecolor": "white",
           "ticks": "",
           "title": {
            "standoff": 15
           },
           "zerolinecolor": "white",
           "zerolinewidth": 2
          }
         }
        },
        "title": {
         "text": "3D Scatter Plot with Inversely Colored Accuracy"
        }
       }
      }
     },
     "metadata": {},
     "output_type": "display_data"
    }
   ],
   "source": [
    "fig = px.scatter_3d(wandb_data, x='lr', y='activation', z='optimizer', color='accuracy', size='accuracy',\n",
    "                    color_continuous_scale='Viridis_r', labels={'lr': 'Learning Rate', 'activation': 'Activation Function', 'optimizer': 'Optimizer', 'accuracy': 'Accuracy'},\n",
    "                    title='3D Scatter Plot with Inversely Colored Accuracy')\n",
    "\n",
    "fig.update_traces(marker=dict(size=12, opacity=0.8),\n",
    "                  selector=dict(mode='markers+text'))\n",
    "fig.show()"
   ]
  },
  {
   "cell_type": "code",
   "execution_count": 17,
   "metadata": {},
   "outputs": [],
   "source": [
    "best_model_params = ['sgd', 'sigmoid', 1, 0.01, 32, 1000] # optimizer, activation, hidden_layers, lr, batch_size, max_epochs\n",
    "# Taken from hyperparameter tuning"
   ]
  },
  {
   "cell_type": "code",
   "execution_count": 18,
   "metadata": {},
   "outputs": [
    {
     "name": "stdout",
     "output_type": "stream",
     "text": [
      "              precision    recall  f1-score   support\n",
      "\n",
      "           4       0.00      0.00      0.00         3\n",
      "           5       0.70      0.80      0.75        50\n",
      "           6       0.56      0.64      0.60        44\n",
      "           7       0.62      0.31      0.42        16\n",
      "           8       0.00      0.00      0.00         2\n",
      "\n",
      "    accuracy                           0.63       115\n",
      "   macro avg       0.38      0.35      0.35       115\n",
      "weighted avg       0.61      0.63      0.61       115\n",
      "\n"
     ]
    }
   ],
   "source": [
    "best_model = MLP_Classifier(X_train_std.shape[1], hidden_layers, num_classes, learning_rate=best_model_params[3], activation=best_model_params[1], optimizer=best_model_params[0], print_every=None)\n",
    "best_model.train(X_train_std, y_train, max_epochs=best_model_params[5], batch_size=best_model_params[4], X_validation=X_validation_std, y_validation=y_validation)\n",
    "\n",
    "print(classification_report(y_test, best_model.predict(X_test_std), zero_division=0))"
   ]
  },
  {
   "cell_type": "markdown",
   "metadata": {},
   "source": [
    "### Logistic Regression Model\n",
    "\n",
    "![Alt text](../P1.png)"
   ]
  },
  {
   "cell_type": "markdown",
   "metadata": {},
   "source": [
    "So, as we can see that the accuracy for the MLP model > Logistic Regression model. So, we can say that MLP model is the best model for this dataset."
   ]
  }
 ],
 "metadata": {
  "kernelspec": {
   "display_name": "Python 3",
   "language": "python",
   "name": "python3"
  },
  "language_info": {
   "codemirror_mode": {
    "name": "ipython",
    "version": 3
   },
   "file_extension": ".py",
   "mimetype": "text/x-python",
   "name": "python",
   "nbconvert_exporter": "python",
   "pygments_lexer": "ipython3",
   "version": "3.10.12"
  }
 },
 "nbformat": 4,
 "nbformat_minor": 2
}
