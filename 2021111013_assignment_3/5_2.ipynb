{
 "cells": [
  {
   "cell_type": "code",
   "execution_count": 115,
   "metadata": {},
   "outputs": [],
   "source": [
    "import os\n",
    "import torch\n",
    "import torch.nn as nn\n",
    "import torch.utils.data as Data\n",
    "import torch.optim as optim\n",
    "import torchvision\n",
    "import torchvision.transforms as transforms\n",
    "\n",
    "import matplotlib.pyplot as plt\n",
    "from sklearn.metrics import classification_report, accuracy_score, confusion_matrix\n",
    "import numpy as np\n",
    "import pandas as pd\n",
    "import seaborn as sns\n",
    "import wandb\n",
    "\n",
    "os.environ[\"WANDB_SILENT\"] = \"true\"\n",
    "    "
   ]
  },
  {
   "cell_type": "code",
   "execution_count": 116,
   "metadata": {},
   "outputs": [],
   "source": [
    "max_epochs = 25"
   ]
  },
  {
   "cell_type": "code",
   "execution_count": 117,
   "metadata": {},
   "outputs": [],
   "source": [
    "device = torch.device(\"cuda:0\" if torch.cuda.is_available() else \"cpu\")"
   ]
  },
  {
   "cell_type": "code",
   "execution_count": 118,
   "metadata": {},
   "outputs": [],
   "source": [
    "def test_mlp(model, test_loader, print_acc=True, per_class=False, classification=False, confusion=False, misclassified=False):\n",
    "    model.eval()\n",
    "\n",
    "    correct = 0\n",
    "    total = 0\n",
    "\n",
    "    predictions = []\n",
    "    gt = []\n",
    "    misclassified_examples = []\n",
    "\n",
    "    with torch.no_grad():\n",
    "        for data in test_loader:\n",
    "            inputs, labels = data\n",
    "            inputs, labels = inputs.to(device), labels.to(device)\n",
    "            outputs = model(inputs.view(inputs.size(0), -1))\n",
    "            _, predicted = torch.max(outputs.data, 1)\n",
    "            total += labels.size(0)\n",
    "            correct += (predicted == labels).sum().item()\n",
    "\n",
    "            predictions.extend(predicted.tolist())\n",
    "            gt.extend(labels.tolist())\n",
    "\n",
    "            predicted = predicted.tolist()\n",
    "            labels = labels.tolist()\n",
    "\n",
    "            if misclassified:\n",
    "                for i in range(len(labels)):\n",
    "                    if len(misclassified_examples) == 5:\n",
    "                        break\n",
    "                    if labels[i] != predicted[i]:\n",
    "                        misclassified_examples.append((inputs[i].cpu().numpy(), labels[i], predicted[i]))\n",
    "\n",
    "    accuracy = 100 * correct / total\n",
    "    if print_acc:\n",
    "        print(f\"Accuracy on the test dataset: {accuracy:.2f}%\")\n",
    "\n",
    "    if per_class:\n",
    "        per_class_correct = [0] * 10\n",
    "        per_class_total = [0] * 10\n",
    "\n",
    "        for i in range(len(gt)):\n",
    "            class_id = gt[i]\n",
    "            if predictions[i] == class_id:\n",
    "                per_class_correct[class_id] += 1\n",
    "            per_class_total[class_id] += 1\n",
    "\n",
    "        for class_id in range(10):\n",
    "            class_accuracy = (per_class_correct[class_id] / per_class_total[class_id]) * 100\n",
    "            print(f\"Accuracy for class {class_id}: {class_accuracy:.2f}%\")\n",
    "    \n",
    "    class_names = [str(i) for i in range(10)]\n",
    "    classification_rep = classification_report(gt, predictions, target_names=class_names)\n",
    "    if classification:\n",
    "        print(classification_rep)\n",
    "    \n",
    "    if confusion:\n",
    "        conf_matrix = confusion_matrix(gt, predictions)\n",
    "        plt.figure(figsize=(8, 6))\n",
    "        sns.heatmap(conf_matrix, annot=True, fmt=\"d\", cmap=\"Blues\", xticklabels=class_names, yticklabels=class_names)\n",
    "        plt.xlabel('Predicted')\n",
    "        plt.ylabel('Actual')\n",
    "        plt.title('Confusion Matrix')\n",
    "        plt.show()\n",
    "    \n",
    "    if misclassified:\n",
    "        return accuracy, misclassified_examples\n",
    "    \n",
    "    return accuracy"
   ]
  },
  {
   "cell_type": "code",
   "execution_count": 119,
   "metadata": {},
   "outputs": [],
   "source": [
    "def test_cnn(model, test_loader, print_acc=True, per_class=False, classification=False, confusion=False, misclassified=False):\n",
    "    model.eval()\n",
    "\n",
    "    correct = 0\n",
    "    total = 0\n",
    "\n",
    "    predictions = []\n",
    "    gt = []\n",
    "    misclassified_examples = []\n",
    "\n",
    "    with torch.no_grad():\n",
    "        for data in test_loader:\n",
    "            inputs, labels = data\n",
    "            inputs, labels = inputs.to(device), labels.to(device)\n",
    "            outputs = model(inputs)\n",
    "            _, predicted = torch.max(outputs.data, 1)\n",
    "            total += labels.size(0)\n",
    "            correct += (predicted == labels).sum().item()\n",
    "\n",
    "            predictions.extend(predicted.tolist())\n",
    "            gt.extend(labels.tolist())\n",
    "\n",
    "            predicted = predicted.tolist()\n",
    "            labels = labels.tolist()\n",
    "\n",
    "            if misclassified:\n",
    "                for i in range(len(labels)):\n",
    "                    if len(misclassified_examples) == 5:\n",
    "                        break\n",
    "                    if labels[i] != predicted[i]:\n",
    "                        misclassified_examples.append((inputs[i].cpu().numpy(), labels[i], predicted[i]))\n",
    "\n",
    "    accuracy = 100 * correct / total\n",
    "    if print_acc:\n",
    "        print(f\"Accuracy on the test dataset: {accuracy:.2f}%\")\n",
    "\n",
    "    if per_class:\n",
    "        per_class_correct = [0] * 10\n",
    "        per_class_total = [0] * 10\n",
    "\n",
    "        for i in range(len(gt)):\n",
    "            class_id = gt[i]\n",
    "            if predictions[i] == class_id:\n",
    "                per_class_correct[class_id] += 1\n",
    "            per_class_total[class_id] += 1\n",
    "\n",
    "        for class_id in range(10):\n",
    "            class_accuracy = (per_class_correct[class_id] / per_class_total[class_id]) * 100\n",
    "            print(f\"Accuracy for class {class_id}: {class_accuracy:.2f}%\")\n",
    "    \n",
    "    class_names = [str(i) for i in range(10)]\n",
    "    classification_rep = classification_report(gt, predictions, target_names=class_names)\n",
    "    if classification:\n",
    "        print(classification_rep)\n",
    "    \n",
    "    if confusion:\n",
    "        conf_matrix = confusion_matrix(gt, predictions)\n",
    "        plt.figure(figsize=(8, 6))\n",
    "        sns.heatmap(conf_matrix, annot=True, fmt=\"d\", cmap=\"Blues\", xticklabels=class_names, yticklabels=class_names)\n",
    "        plt.xlabel('Predicted')\n",
    "        plt.ylabel('Actual')\n",
    "        plt.title('Confusion Matrix')\n",
    "        plt.show()\n",
    "    \n",
    "    if misclassified:\n",
    "        return accuracy, misclassified_examples\n",
    "    \n",
    "    return accuracy"
   ]
  },
  {
   "cell_type": "code",
   "execution_count": 120,
   "metadata": {},
   "outputs": [],
   "source": [
    "class PermutedMNISTDataset(Data.Dataset):\n",
    "    def __init__(self, permutation_seed, split, transform=None):\n",
    "        self.mnist = torchvision.datasets.MNIST(\"../data/\", train=True, download=True, transform=transform)\n",
    "        self.permutation = self.generate_permutation(permutation_seed)\n",
    "        self.transform = transform\n",
    "\n",
    "        train_size = int(0.8 * len(self.mnist))\n",
    "        val_size = (len(self.mnist) - train_size) // 2\n",
    "        test_size = len(self.mnist) - train_size - val_size\n",
    "\n",
    "        train_set, val_set, test_set = Data.random_split(\n",
    "            self.mnist, [train_size, val_size, test_size]\n",
    "        )\n",
    "\n",
    "        if split == 'train':\n",
    "            self.mnist = train_set\n",
    "        elif split == 'val':\n",
    "            self.mnist = val_set\n",
    "        elif split == 'test':\n",
    "            self.mnist = test_set\n",
    "\n",
    "    def __len__(self):\n",
    "        return len(self.mnist)\n",
    "\n",
    "    def __getitem__(self, idx):\n",
    "        image, label = self.mnist[idx]\n",
    "        permuted_image = self.permute_image(image)\n",
    "        permuted_image = permuted_image.reshape(1, 28, 28)\n",
    "        return permuted_image, label\n",
    "\n",
    "    def generate_permutation(self, permutation_seed):\n",
    "        np.random.seed(permutation_seed)\n",
    "        return torch.tensor(np.random.permutation(28 * 28))\n",
    "\n",
    "    def permute_image(self, image):\n",
    "        return image.view(-1)[self.permutation].view(image.size())"
   ]
  },
  {
   "cell_type": "code",
   "execution_count": 121,
   "metadata": {},
   "outputs": [],
   "source": [
    "transform = transforms.Compose([transforms.ToTensor(), transforms.Normalize((0.5,), (0.5,))])\n",
    "permutation_seed = 42\n",
    "\n",
    "train_dataset = PermutedMNISTDataset(permutation_seed, 'train', transform)\n",
    "val_dataset = PermutedMNISTDataset(permutation_seed, 'val', transform)\n",
    "test_dataset = PermutedMNISTDataset(permutation_seed, 'test', transform)\n",
    "\n",
    "train_loader = Data.DataLoader(train_dataset, batch_size=32, shuffle=True)\n",
    "val_loader = Data.DataLoader(val_dataset, batch_size=32)\n",
    "test_loader = Data.DataLoader(test_dataset, batch_size=32)\n"
   ]
  },
  {
   "cell_type": "code",
   "execution_count": 122,
   "metadata": {},
   "outputs": [],
   "source": [
    "class MLPModel(nn.Module):\n",
    "    def __init__(self, input_size, hidden_sizes, output_size):\n",
    "        super(MLPModel, self).__init__()\n",
    "        layers = []\n",
    "        for hidden_size in hidden_sizes:\n",
    "            layers.append(nn.Linear(input_size, hidden_size))\n",
    "            layers.append(nn.ReLU())\n",
    "            input_size = hidden_size\n",
    "        self.hidden_layers = nn.Sequential(*layers)\n",
    "        self.output_layer = nn.Linear(input_size, output_size)\n",
    "\n",
    "    def forward(self, x):\n",
    "        x = self.hidden_layers(x)\n",
    "        x = self.output_layer(x)\n",
    "        return x"
   ]
  },
  {
   "cell_type": "code",
   "execution_count": 123,
   "metadata": {},
   "outputs": [],
   "source": [
    "input_size = 28 * 28\n",
    "hidden_sizes = [512, 256, 128, 64]\n",
    "output_size = 10\n",
    "\n",
    "# Params using hyperparameter optimization"
   ]
  },
  {
   "cell_type": "code",
   "execution_count": 124,
   "metadata": {},
   "outputs": [],
   "source": [
    "model = MLPModel(input_size, hidden_sizes, output_size)\n",
    "model.to(device)\n",
    "criterion = nn.CrossEntropyLoss()\n",
    "optimizer = optim.Adam(model.parameters(), lr=0.001)"
   ]
  },
  {
   "cell_type": "code",
   "execution_count": 125,
   "metadata": {},
   "outputs": [],
   "source": [
    "def train_mlp(model, train_loader, num_epochs):\n",
    "    model.train()\n",
    "    for epoch in range(num_epochs):\n",
    "        running_loss = 0.0\n",
    "        for inputs, labels in train_loader:\n",
    "            optimizer.zero_grad()\n",
    "            outputs = model(inputs.view(inputs.size(0), -1).to(device))\n",
    "            loss = criterion(outputs, labels.to(device))\n",
    "            loss.backward()\n",
    "            optimizer.step()\n",
    "            running_loss += loss.item()\n",
    "        print(f'Epoch {epoch + 1}/{num_epochs}, Loss: {running_loss / len(train_loader)}')"
   ]
  },
  {
   "cell_type": "code",
   "execution_count": 126,
   "metadata": {},
   "outputs": [
    {
     "name": "stdout",
     "output_type": "stream",
     "text": [
      "Epoch 1/25, Loss: 0.3829633389804512\n"
     ]
    }
   ],
   "source": [
    "train_mlp(model, train_loader, max_epochs)"
   ]
  },
  {
   "cell_type": "code",
   "execution_count": null,
   "metadata": {},
   "outputs": [
    {
     "name": "stdout",
     "output_type": "stream",
     "text": [
      "Accuracy on the test dataset: 98.93%\n",
      "Accuracy on the test dataset: 98.80%\n"
     ]
    },
    {
     "data": {
      "text/plain": [
       "98.8"
      ]
     },
     "execution_count": 104,
     "metadata": {},
     "output_type": "execute_result"
    }
   ],
   "source": [
    "test_mlp(model, train_loader)\n",
    "test_mlp(model, val_loader)"
   ]
  },
  {
   "cell_type": "code",
   "execution_count": null,
   "metadata": {},
   "outputs": [
    {
     "name": "stdout",
     "output_type": "stream",
     "text": [
      "Accuracy on the test dataset: 98.62%\n",
      "              precision    recall  f1-score   support\n",
      "\n",
      "           0       1.00      0.99      1.00       555\n",
      "           1       0.98      1.00      0.99       667\n",
      "           2       0.99      0.98      0.98       600\n",
      "           3       0.99      0.97      0.98       604\n",
      "           4       0.98      1.00      0.99       637\n",
      "           5       0.97      0.99      0.98       546\n",
      "           6       1.00      0.99      0.99       605\n",
      "           7       1.00      0.98      0.99       665\n",
      "           8       0.99      0.98      0.99       571\n",
      "           9       0.97      0.99      0.98       550\n",
      "\n",
      "    accuracy                           0.99      6000\n",
      "   macro avg       0.99      0.99      0.99      6000\n",
      "weighted avg       0.99      0.99      0.99      6000\n",
      "\n"
     ]
    },
    {
     "data": {
      "image/png": "[encoded data removed]",
      "text/plain": [
       "<Figure size 800x600 with 2 Axes>"
      ]
     },
     "metadata": {},
     "output_type": "display_data"
    },
    {
     "data": {
      "text/plain": [
       "98.61666666666666"
      ]
     },
     "execution_count": 105,
     "metadata": {},
     "output_type": "execute_result"
    }
   ],
   "source": [
    "test_mlp(model, test_loader, classification=True, confusion=True)"
   ]
  },
  {
   "cell_type": "code",
   "execution_count": null,
   "metadata": {},
   "outputs": [],
   "source": [
    "class CNN(nn.Module):\n",
    "    def __init__(self, dropout=0.5):\n",
    "        super(CNN, self).__init__()\n",
    "        self.conv1 = nn.Conv2d(1, 32, 3, padding=1)\n",
    "        self.pool = nn.MaxPool2d(2, 2)\n",
    "        self.conv2 = nn.Conv2d(32, 64, 3, padding=1)\n",
    "        self.fc1 = nn.Linear(64 * 7 * 7, 128)\n",
    "        self.fc2 = nn.Linear(128, 10)\n",
    "        self.dropout = nn.Dropout(dropout)\n",
    "        self.softmax = nn.Softmax(dim=1)\n",
    "\n",
    "    def forward(self, x):\n",
    "        x = self.pool(torch.relu(self.conv1(x))) # 32 * 14 * 14\n",
    "        x = self.pool(torch.relu(self.conv2(x))) # 64 * 7 * 7\n",
    "        x = x.view(-1, 64 * 7 * 7)\n",
    "        x = torch.relu(self.fc1(x))\n",
    "        x = self.dropout(x)\n",
    "        x = self.fc2(x)\n",
    "        # x = self.softmax(x)\n",
    "        return x\n",
    "\n",
    "# Params using hyperparameter optimization"
   ]
  },
  {
   "cell_type": "code",
   "execution_count": null,
   "metadata": {},
   "outputs": [],
   "source": [
    "def train_cnn(model, train_loader, num_epochs):\n",
    "    model.train()\n",
    "    for epoch in range(num_epochs):\n",
    "        running_loss = 0.0\n",
    "        for inputs, labels in train_loader:\n",
    "            optimizer.zero_grad()\n",
    "            outputs = model(inputs.to(device))\n",
    "            loss = criterion(outputs, labels.to(device))\n",
    "            loss.backward()\n",
    "            optimizer.step()\n",
    "            running_loss += loss.item()\n",
    "        print(f'Epoch {epoch + 1}/{num_epochs}, Loss: {running_loss / len(train_loader)}')"
   ]
  },
  {
   "cell_type": "code",
   "execution_count": null,
   "metadata": {},
   "outputs": [
    {
     "name": "stdout",
     "output_type": "stream",
     "text": [
      "Epoch 1/15, Loss: 0.546139243957897\n",
      "Epoch 2/15, Loss: 0.2536780025667201\n",
      "Epoch 3/15, Loss: 0.19683173614616195\n",
      "Epoch 4/15, Loss: 0.16750982347068688\n",
      "Epoch 5/15, Loss: 0.1444354662837771\n",
      "Epoch 6/15, Loss: 0.12253582151684289\n",
      "Epoch 7/15, Loss: 0.11188445783096056\n",
      "Epoch 8/15, Loss: 0.1038056889801131\n",
      "Epoch 9/15, Loss: 0.09490211383610343\n",
      "Epoch 10/15, Loss: 0.08973922972959311\n",
      "Epoch 11/15, Loss: 0.08249089283586364\n",
      "Epoch 12/15, Loss: 0.07584009500259223\n",
      "Epoch 13/15, Loss: 0.07421397091265923\n",
      "Epoch 14/15, Loss: 0.06679263434444632\n",
      "Epoch 15/15, Loss: 0.06803068932085686\n"
     ]
    }
   ],
   "source": [
    "cnn_model = CNN()\n",
    "cnn_model.to(device)\n",
    "criterion = nn.CrossEntropyLoss()\n",
    "optimizer = optim.Adam(cnn_model.parameters(), lr=0.001)\n",
    "\n",
    "train_cnn(cnn_model, train_loader, max_epochs)"
   ]
  },
  {
   "cell_type": "code",
   "execution_count": null,
   "metadata": {},
   "outputs": [
    {
     "name": "stdout",
     "output_type": "stream",
     "text": [
      "Accuracy on the test dataset: 99.61%\n",
      "Accuracy on the test dataset: 98.83%\n"
     ]
    },
    {
     "data": {
      "text/plain": [
       "98.83333333333333"
      ]
     },
     "execution_count": 113,
     "metadata": {},
     "output_type": "execute_result"
    }
   ],
   "source": [
    "test_cnn(cnn_model, train_loader)\n",
    "test_cnn(cnn_model, val_loader)"
   ]
  },
  {
   "cell_type": "code",
   "execution_count": null,
   "metadata": {},
   "outputs": [
    {
     "name": "stdout",
     "output_type": "stream",
     "text": [
      "Accuracy on the test dataset: 99.05%\n",
      "              precision    recall  f1-score   support\n",
      "\n",
      "           0       1.00      0.99      0.99       555\n",
      "           1       0.99      1.00      0.99       667\n",
      "           2       0.99      0.99      0.99       600\n",
      "           3       0.99      0.99      0.99       604\n",
      "           4       0.99      0.99      0.99       637\n",
      "           5       0.99      0.99      0.99       546\n",
      "           6       0.98      1.00      0.99       605\n",
      "           7       0.99      0.99      0.99       665\n",
      "           8       0.99      0.99      0.99       571\n",
      "           9       0.98      0.99      0.98       550\n",
      "\n",
      "    accuracy                           0.99      6000\n",
      "   macro avg       0.99      0.99      0.99      6000\n",
      "weighted avg       0.99      0.99      0.99      6000\n",
      "\n"
     ]
    },
    {
     "data": {
      "image/png": "[encoded data removed]",
      "text/plain": [
       "<Figure size 800x600 with 2 Axes>"
      ]
     },
     "metadata": {},
     "output_type": "display_data"
    },
    {
     "data": {
      "text/plain": [
       "99.05"
      ]
     },
     "execution_count": 114,
     "metadata": {},
     "output_type": "execute_result"
    }
   ],
   "source": [
    "test_cnn(cnn_model, test_loader, classification=True, confusion=True)"
   ]
  },
  {
   "cell_type": "code",
   "execution_count": null,
   "metadata": {},
   "outputs": [],
   "source": []
  }
 ],
 "metadata": {
  "kernelspec": {
   "display_name": "Python 3",
   "language": "python",
   "name": "python3"
  },
  "language_info": {
   "codemirror_mode": {
    "name": "ipython",
    "version": 3
   },
   "file_extension": ".py",
   "mimetype": "text/x-python",
   "name": "python",
   "nbconvert_exporter": "python",
   "pygments_lexer": "ipython3",
   "version": "3.10.12"
  }
 },
 "nbformat": 4,
 "nbformat_minor": 2
}
