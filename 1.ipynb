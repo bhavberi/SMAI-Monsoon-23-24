{
 "cells": [
  {
   "cell_type": "markdown",
   "metadata": {},
   "source": [
    "### Imports"
   ]
  },
  {
   "cell_type": "code",
   "execution_count": 157,
   "metadata": {},
   "outputs": [],
   "source": [
    "import time\n",
    "import wandb\n",
    "import numpy as np\n",
    "import pandas as pd\n",
    "import seaborn as sns\n",
    "from tqdm import tqdm\n",
    "import matplotlib.pyplot as plt\n",
    "import plotly.graph_objects as go\n",
    "from sklearn.impute import SimpleImputer\n",
    "from sklearn.preprocessing import StandardScaler, OneHotEncoder\n",
    "from sklearn.metrics import accuracy_score, r2_score, confusion_matrix\n",
    "from sklearn.tree import DecisionTreeClassifier,  DecisionTreeRegressor\n",
    "from sklearn.model_selection import train_test_split, GridSearchCV, KFold\n",
    "\n",
    "import warnings\n",
    "warnings.filterwarnings('ignore')"
   ]
  },
  {
   "cell_type": "markdown",
   "metadata": {},
   "source": [
    "### Utils"
   ]
  },
  {
   "cell_type": "markdown",
   "metadata": {},
   "source": [
    "#### Variables"
   ]
  },
  {
   "cell_type": "code",
   "execution_count": 233,
   "metadata": {},
   "outputs": [],
   "source": [
    "wine_dataset_path = \"./Datasets/WineQT.csv\"\n",
    "housing_dataset_path = \"./Datasets/HousingData.csv\"\n",
    "\n",
    "random_state = 42\n",
    "mlp = False"
   ]
  },
  {
   "cell_type": "markdown",
   "metadata": {},
   "source": [
    "#### Base Models"
   ]
  },
  {
   "cell_type": "code",
   "execution_count": 159,
   "metadata": {},
   "outputs": [],
   "source": [
    "class MLP_Regression:\n",
    "    def __init__(self, input_size, hidden_layers, output_size=1, learning_rate=0.01, activation='sigmoid', optimizer='sgd', print_every=None, wandb_log=False, max_epochs=10, batch_size=32):\n",
    "        assert activation.lower() in ['sigmoid', 'relu', 'tanh'], \"Activation function must be either 'sigmoid', 'relu' or 'tanh'\"\n",
    "        assert optimizer.lower() in ['sgd', 'bgd', 'mbgd'], \"Optimizer must be either 'sgd', 'bgd' or 'mbgd'\"\n",
    "        assert input_size > 0, \"Input size must be greater than 0\"\n",
    "        assert output_size > 0, \"Output size must be greater than 0\"\n",
    "        assert learning_rate > 0, \"Learning rate must be greater than 0\"\n",
    "        assert type(hidden_layers) == list and len(hidden_layers) > 0, \"Hidden layers must be a list of size greater than 0\"\n",
    "\n",
    "        self.input_size = input_size\n",
    "        self.hidden_layers = hidden_layers\n",
    "        self.output_size = output_size\n",
    "        self.learning_rate = learning_rate\n",
    "        self.optimizer = optimizer\n",
    "        self.activation_func = self._get_activation_func(activation)\n",
    "        self.optimizer_func = self._get_optimizer_func(optimizer)\n",
    "        self.weights, self.biases = self._initialize_weights_and_biases()\n",
    "\n",
    "        self.wandb_log = wandb_log\n",
    "        self.print_every = print_every\n",
    "        self.max_epochs = max_epochs\n",
    "        self.batch_size = batch_size\n",
    "\n",
    "    # Activation functions\n",
    "    def _get_activation_func(self, activation):\n",
    "        if activation == \"sigmoid\":\n",
    "            return self._sigmoid\n",
    "        elif activation == \"tanh\":\n",
    "            return self._tanh\n",
    "        elif activation == \"relu\":\n",
    "            return self._relu\n",
    "        else:\n",
    "            raise ValueError(f\"Activation function '{activation}' not supported.\")\n",
    "\n",
    "    def _sigmoid(self, x):\n",
    "        return 1 / (1 + np.exp(-x))\n",
    "\n",
    "    def _tanh(self, x):\n",
    "        return np.tanh(x)\n",
    "\n",
    "    def _relu(self, x):\n",
    "        return np.maximum(0, x)\n",
    "\n",
    "    # Activation derivative\n",
    "    def _activation_derivative(self, Z):\n",
    "        if self.activation_func == self._sigmoid:\n",
    "            return self._sigmoid_derivative(Z)\n",
    "        elif self.activation_func == self._tanh:\n",
    "            return self._tanh_derivative(Z)\n",
    "        elif self.activation_func == self._relu:\n",
    "            return self._relu_derivative(Z)\n",
    "        else:\n",
    "            raise ValueError(\n",
    "                f\"Activation function '{self.activation_func}' not supported.\"\n",
    "            )\n",
    "\n",
    "    def _sigmoid_derivative(self, Z):\n",
    "        return self._sigmoid(Z) * (1 - self._sigmoid(Z))\n",
    "\n",
    "    def _tanh_derivative(self, Z):\n",
    "        return 1 - np.square(self._tanh(Z))\n",
    "\n",
    "    def _relu_derivative(self, Z):\n",
    "        return np.where(Z > 0, 1, 0)\n",
    "\n",
    "    # Optimizers\n",
    "    def _get_optimizer_func(self, optimizer):\n",
    "        if optimizer == \"sgd\":\n",
    "            return self._sgd\n",
    "        elif optimizer == \"bgd\":\n",
    "            return self._bgd\n",
    "        elif optimizer == \"mbgd\":\n",
    "            return self._mbgd\n",
    "        else:\n",
    "            raise ValueError(f\"Optimizer '{optimizer}' not supported.\")\n",
    "\n",
    "    def _sgd(self, grads):\n",
    "        for i in range(len(self.weights)):\n",
    "            self.weights[i] -= self.learning_rate * grads[\"dW\"][i]\n",
    "            self.biases[i] -= self.learning_rate * grads[\"db\"][i]\n",
    "\n",
    "    def _bgd(self, grads):\n",
    "        for i in range(len(self.weights)):\n",
    "            self.weights[i] -= self.learning_rate * grads[\"dW\"][i] / self.input_size\n",
    "            self.biases[i] -= self.learning_rate * grads[\"db\"][i] / self.input_size\n",
    "\n",
    "    def _mbgd(self, grads):\n",
    "        for i in range(len(self.weights)):\n",
    "            self.weights[i] -= (\n",
    "                self.learning_rate * grads[\"dW\"][i] / grads[\"dW\"][i].shape[1]\n",
    "            )\n",
    "            self.biases[i] -= (\n",
    "                self.learning_rate * grads[\"db\"][i] / grads[\"db\"][i].shape[1]\n",
    "            )\n",
    "\n",
    "    # Initialize weights and biases\n",
    "    def _initialize_weights_and_biases(self):\n",
    "        num_layers = len(self.hidden_layers)\n",
    "        weights = []\n",
    "        biases = []\n",
    "\n",
    "        if num_layers == 0:\n",
    "            w = np.random.randn(self.input_size, self.output_size)\n",
    "            b = np.zeros((1, self.output_size))\n",
    "            weights.append(w)\n",
    "            biases.append(b)\n",
    "            return weights, biases\n",
    "\n",
    "        # Using Github Copilot\n",
    "        for i in range(num_layers + 1):\n",
    "            if i == 0:\n",
    "                w = 0.01 * np.random.randn(self.input_size, self.hidden_layers[0])\n",
    "            elif i == num_layers:\n",
    "                w = 0.01 * np.random.randn(self.hidden_layers[-1], self.output_size)\n",
    "            else:\n",
    "                w = 0.01 * np.random.randn(\n",
    "                    self.hidden_layers[i - 1], self.hidden_layers[i]\n",
    "                )\n",
    "\n",
    "            b = np.zeros((1, w.shape[1]))\n",
    "            weights.append(w)\n",
    "            biases.append(b)\n",
    "\n",
    "        return weights, biases\n",
    "\n",
    "    # Forward propagation\n",
    "    def _forward_propagation(self, X):\n",
    "        num_layers = len(self.weights)\n",
    "        A = X\n",
    "        caches = []\n",
    "\n",
    "        for i in range(num_layers):\n",
    "            W = self.weights[i]\n",
    "            b = self.biases[i]\n",
    "\n",
    "            Z = np.dot(A, W) + b\n",
    "\n",
    "            if Z.shape[1] == 1:\n",
    "                Z = Z.reshape(-1)\n",
    "            caches.append((A, W, b, Z))\n",
    "            # print(\"Forward\", A.shape, W.shape, b.shape, Z.shape)\n",
    "\n",
    "            A = self.activation_func(Z)\n",
    "\n",
    "        if len(A.shape) == 1:\n",
    "            A = A.reshape(-1)\n",
    "        return A, caches\n",
    "\n",
    "    # Backward propagation\n",
    "    def _backward_propagation(self, A, Y, caches):\n",
    "        num_samples = A.shape[0]\n",
    "        num_layers = len(self.weights)\n",
    "        grads = {\"dW\": [], \"db\": []}\n",
    "\n",
    "        delta = A - Y\n",
    "        # print(delta.shape, A.shape, Y.shape)\n",
    "\n",
    "        for i in reversed(range(num_layers)):\n",
    "            A, W, _, Z = caches[i]\n",
    "            # print(\"A\", A.shape, \"W\", W.shape, \"Z\", Z.shape)\n",
    "\n",
    "            dZ = np.multiply(delta, self._activation_derivative(Z))\n",
    "            if dZ.ndim == 1:\n",
    "                dZ = dZ.reshape((dZ.shape[0], 1))\n",
    "            # print(\"dZ\", dZ.shape)\n",
    "            dW = np.dot(A.T, dZ)\n",
    "            # print(\"dW\", dW.shape)\n",
    "            db = np.sum(dZ, axis=0, keepdims=True)\n",
    "            # print(\"db\", db.shape)\n",
    "\n",
    "            delta = np.dot(dZ, W.T)\n",
    "            # print(\"delta\", delta.shape)\n",
    "\n",
    "            if len(dW.shape) == 1:\n",
    "                dW = dW.reshape(-1, 1)\n",
    "\n",
    "            grads[\"dW\"].append(dW)\n",
    "            grads[\"db\"].append(db)\n",
    "\n",
    "        grads[\"dW\"].reverse()\n",
    "        grads[\"db\"].reverse()\n",
    "\n",
    "        return grads\n",
    "\n",
    "    # Calculate cost\n",
    "    def _calculate_cost(self, A, Y):\n",
    "        # print(A.shape, Y.shape)\n",
    "        mse = np.mean(np.square(A - Y))\n",
    "        rmse = np.sqrt(mse)\n",
    "        r_squred = 1 - (np.sum(np.square(Y - A)) / np.sum(np.square(Y - np.mean(Y))))\n",
    "        return mse, rmse, r_squred\n",
    "\n",
    "    # Predict\n",
    "    def predict(self, X):\n",
    "        A, _ = self._forward_propagation(X)\n",
    "        return A\n",
    "    \n",
    "    # Evaluate\n",
    "    def evaluate(self, X, Y):\n",
    "        A = self.predict(X)\n",
    "        mse, rmse, r_squared = self._calculate_cost(A, Y)\n",
    "        return mse, rmse, r_squared\n",
    "\n",
    "    def fit(self, X, Y, X_validation=None, y_validation=None):\n",
    "        return self.train(X, Y, X_validation, y_validation)\n",
    "\n",
    "    # Train the model\n",
    "    def train(self, X, Y, X_validation=None, y_validation=None):\n",
    "        num_samples = X.shape[0]\n",
    "        costs = []\n",
    "        max_epochs = self.max_epochs\n",
    "        batch_size = self.batch_size\n",
    "\n",
    "        for i in range(max_epochs):\n",
    "            if self.optimizer == \"bgd\":\n",
    "                batch_size = num_samples\n",
    "                num_batches = 1\n",
    "            elif self.optimizer == \"sgd\":\n",
    "                batch_size = 1\n",
    "                num_batches = num_samples\n",
    "            elif self.optimizer == \"mbgd\":\n",
    "                num_batches = num_samples // batch_size\n",
    "            else:\n",
    "                raise ValueError(f\"Optimizer '{self.optimizer}' not supported.\")\n",
    "\n",
    "            for j in range(num_batches):\n",
    "                start = j * batch_size\n",
    "                end = start + batch_size\n",
    "\n",
    "                A, caches = self._forward_propagation(X[start:end])\n",
    "                grads = self._backward_propagation(A, Y[start:end], caches)\n",
    "                self.optimizer_func(grads)\n",
    "\n",
    "            A = self.predict(X)\n",
    "            mse, rmse, r_squared = self._calculate_cost(A, Y)\n",
    "            costs.append(mse)\n",
    "\n",
    "            data_to_log = {\"epoch\": i + 1, \"train_loss\": mse}\n",
    "\n",
    "            # Calculate validation loss\n",
    "            if X_validation is not None and y_validation is not None:\n",
    "                A = self.predict(X_validation)\n",
    "                val_loss_mse, val_loss_rmse, val_loss_r_squared = self._calculate_cost(A, y_validation)\n",
    "                data_to_log[\"val_loss\"] = val_loss_mse\n",
    "\n",
    "            if self.wandb_log:\n",
    "                wandb.log(data_to_log)\n",
    "\n",
    "            if self.print_every and (i + 1) % self.print_every == 0:\n",
    "                print(f\"Cost after {i+1} epochs: {mse}\")\n",
    "\n",
    "        return costs"
   ]
  },
  {
   "cell_type": "code",
   "execution_count": 196,
   "metadata": {},
   "outputs": [],
   "source": [
    "class MLP_Classifier:\n",
    "    def __init__(self, input_size, hidden_layers, num_classes=11, learning_rate=0.01, activation='sigmoid', optimizer='sgd', wandb_log=False, print_every=None, max_epochs=10, batch_size=32):\n",
    "        assert activation.lower() in ['sigmoid', 'relu', 'tanh'], \"Activation function must be either 'sigmoid', 'relu' or 'tanh'\"\n",
    "        assert optimizer.lower() in ['sgd', 'bgd', 'mbgd'], \"Optimizer must be either 'sgd', 'bgd' or 'mbgd'\"\n",
    "        assert input_size > 0, \"Input size must be greater than 0\"\n",
    "        assert num_classes > 0, \"Output size must be greater than 0\"\n",
    "        assert learning_rate > 0, \"Learning rate must be greater than 0\"\n",
    "        assert type(hidden_layers) == list and len(hidden_layers) > 0, \"Hidden layers must be a list of size greater than 0\"\n",
    "\n",
    "        self.input_size = input_size\n",
    "        self.hidden_layers = hidden_layers\n",
    "        self.output_size = num_classes\n",
    "        self.learning_rate = learning_rate\n",
    "        self.optimizer = optimizer\n",
    "        self.activation_func = self._get_activation_func(activation)\n",
    "        self.optimizer_func = self._get_optimizer_func(optimizer)\n",
    "        self.weights, self.biases = self._initialize_weights_and_biases()\n",
    "\n",
    "        self.wandb_log = wandb_log\n",
    "        self.print_every = print_every\n",
    "        self.max_epochs = max_epochs\n",
    "        self.batch_size = batch_size\n",
    "    \n",
    "    # Activation functions\n",
    "    def _get_activation_func(self, activation):\n",
    "        if activation == 'sigmoid':\n",
    "            return self._sigmoid\n",
    "        elif activation == 'tanh':\n",
    "            return self._tanh\n",
    "        elif activation == 'relu':\n",
    "            return self._relu\n",
    "        else:\n",
    "            raise ValueError(f\"Activation function '{activation}' not supported.\")\n",
    "\n",
    "    def _sigmoid(self, x):\n",
    "        return 1 / (1 + np.exp(-x))\n",
    "\n",
    "    def _tanh(self, x):\n",
    "        return np.tanh(x)\n",
    "\n",
    "    def _relu(self, x):\n",
    "        return np.maximum(0, x)\n",
    "    \n",
    "    # Activation derivative\n",
    "    def _activation_derivative(self, Z):\n",
    "        if self.activation_func == self._sigmoid:\n",
    "            return self._sigmoid_derivative(Z)\n",
    "        elif self.activation_func == self._tanh:\n",
    "            return self._tanh_derivative(Z)\n",
    "        elif self.activation_func == self._relu:\n",
    "            return self._relu_derivative(Z)\n",
    "        else:\n",
    "            raise ValueError(f\"Activation function '{self.activation_func}' not supported.\")\n",
    "    \n",
    "    def _sigmoid_derivative(self, Z):\n",
    "        return self._sigmoid(Z) * (1 - self._sigmoid(Z))\n",
    "    \n",
    "    def _tanh_derivative(self, Z):\n",
    "        return 1 - np.square(self._tanh(Z))\n",
    "    \n",
    "    def _relu_derivative(self, Z):\n",
    "        return np.where(Z > 0, 1, 0)\n",
    "    \n",
    "    ## Optimizers\n",
    "    def _get_optimizer_func(self, optimizer):\n",
    "        if optimizer == 'sgd':\n",
    "            return self._sgd\n",
    "        elif optimizer == 'bgd':\n",
    "            return self._bgd\n",
    "        elif optimizer == 'mbgd':\n",
    "            return self._mbgd\n",
    "        else:\n",
    "            raise ValueError(f\"Optimizer '{optimizer}' not supported.\")\n",
    "    \n",
    "    def _sgd(self, grads):\n",
    "        for i in range(len(self.weights)):\n",
    "            self.weights[i] -= (self.learning_rate * grads['dW'][i])\n",
    "            self.biases[i] -= (self.learning_rate * grads['db'][i])\n",
    "    \n",
    "    def _bgd(self, grads):\n",
    "        for i in range(len(self.weights)):\n",
    "            self.weights[i] -= (self.learning_rate * grads['dW'][i] / self.input_size)\n",
    "            self.biases[i] -= (self.learning_rate * grads['db'][i] / self.input_size)\n",
    "\n",
    "    def _mbgd(self, grads):\n",
    "        for i in range(len(self.weights)):\n",
    "            self.weights[i] -= (self.learning_rate * grads['dW'][i] / grads['dW'][i].shape[1])\n",
    "            self.biases[i] -= (self.learning_rate * grads['db'][i] / grads['db'][i].shape[1])\n",
    "    \n",
    "    # Initialize weights and biases\n",
    "    def _initialize_weights_and_biases(self):\n",
    "        num_layers = len(self.hidden_layers)\n",
    "        weights = []\n",
    "        biases = []\n",
    "\n",
    "        if num_layers == 0:\n",
    "            w = np.random.randn(self.input_size, self.output_size)\n",
    "            b = np.zeros((1, self.output_size))\n",
    "            weights.append(w)\n",
    "            biases.append(b)\n",
    "            return weights, biases\n",
    "        \n",
    "        # Using Github Copilot\n",
    "        for i in range(num_layers + 1):\n",
    "            if i == 0:\n",
    "                w = np.random.randn(self.input_size, self.hidden_layers[0])\n",
    "            elif i == num_layers:\n",
    "                w = np.random.randn(self.hidden_layers[-1], self.output_size)\n",
    "            else:\n",
    "                w = np.random.randn(self.hidden_layers[i - 1], self.hidden_layers[i])\n",
    "            \n",
    "            b = np.zeros((1, w.shape[1]))\n",
    "            weights.append(w)\n",
    "            biases.append(b)\n",
    "\n",
    "        return weights, biases\n",
    "    \n",
    "    # Forward propagation\n",
    "    def _forward_propagation(self, X):\n",
    "        num_layers = len(self.weights)\n",
    "        A = X\n",
    "        caches = []\n",
    "        \n",
    "        for i in range(num_layers):\n",
    "            W = self.weights[i]\n",
    "            b = self.biases[i]\n",
    "            Z = np.dot(A, W) + b\n",
    "            \n",
    "            if Z.shape[1] == 1:\n",
    "                Z = Z.reshape(-1)\n",
    "            caches.append((A, W, b, Z))\n",
    "            # print(A.shape, W.shape, b.shape, Z.shape)\n",
    "\n",
    "            A = self.activation_func(Z)\n",
    "        \n",
    "        if len(A.shape) == 1:\n",
    "            A = A.reshape(-1)\n",
    "        return A, caches\n",
    "\n",
    "    # Backward propagation\n",
    "    def _backward_propagation(self, A, Y, caches):\n",
    "        num_samples = A.shape[0]\n",
    "        num_layers = len(self.weights)\n",
    "        grads = {'dW': [], 'db': []}\n",
    "\n",
    "        delta = A-Y\n",
    "        # print(delta.shape, A.shape, Y.shape)\n",
    "\n",
    "        for i in reversed(range(num_layers)):\n",
    "            A, W, _, Z = caches[i]\n",
    "            # print(\"A\", A.shape, \"W\", W.shape, \"Z\", Z.shape)\n",
    "            \n",
    "            dZ = np.multiply(delta, self._activation_derivative(Z))\n",
    "            if dZ.ndim == 1:\n",
    "                dZ = dZ.reshape((dZ.shape[0], 1))\n",
    "            # print(\"dZ\", dZ.shape)\n",
    "            dW = np.dot(A.T, dZ)\n",
    "            # print(\"dW\", dW.shape)\n",
    "            db = np.sum(dZ, axis=0, keepdims=True)\n",
    "            # print(\"db\", db.shape)\n",
    "\n",
    "            delta = np.dot(dZ, W.T)\n",
    "            # print(\"delta\", delta.shape)\n",
    "\n",
    "            if len(dW.shape) == 1:\n",
    "                dW = dW.reshape(-1, 1)\n",
    "\n",
    "            grads['dW'].append(dW)\n",
    "            grads['db'].append(db)\n",
    "        \n",
    "        grads['dW'].reverse()\n",
    "        grads['db'].reverse()\n",
    "\n",
    "        return grads\n",
    "    \n",
    "    # Calculate cost\n",
    "    def _calculate_cost(self, A, Y):\n",
    "        cost = np.mean(np.not_equal(A, Y))\n",
    "        return cost\n",
    "\n",
    "    # Predict\n",
    "    def predict(self, X, return_prob=False):\n",
    "        A, _ = self._forward_propagation(X)\n",
    "\n",
    "        # Apply a softmax to get probabilities & then getting the h9ghest probability\n",
    "        prob = np.exp(A) / np.sum(np.exp(A), axis=1, keepdims=True)\n",
    "\n",
    "        A = np.argmax(prob,axis=1)\n",
    "\n",
    "        if return_prob:\n",
    "            return A, np.max(prob, axis=1)\n",
    "        return A\n",
    "\n",
    "    def evaluate(self, X, Y):\n",
    "        A = self.predict(X)\n",
    "        return accuracy_score(Y, A)\n",
    "\n",
    "    def fit(self, X, Y, X_validation=None, y_validation=None):\n",
    "        return self.train(X, Y, X_validation, y_validation)\n",
    "\n",
    "    # Train the model\n",
    "    def train(self, X, Y, X_validation=None, y_validation=None):\n",
    "        num_samples = X.shape[0]\n",
    "        costs = []\n",
    "        max_epochs = self.max_epochs\n",
    "        batch_size = self.batch_size\n",
    "\n",
    "        enc = OneHotEncoder().fit(np.array([[i,] for i in range(self.output_size)]))\n",
    "        y_new = enc.transform(Y.reshape(-1, 1)).toarray()\n",
    "        \n",
    "        for i in range(max_epochs):\n",
    "            if self.optimizer == \"bgd\":\n",
    "                batch_size = num_samples\n",
    "                num_batches = 1\n",
    "            elif self.optimizer == \"sgd\":\n",
    "                batch_size = 1\n",
    "                num_batches = num_samples\n",
    "            elif self.optimizer == \"mbgd\":\n",
    "                num_batches = num_samples // batch_size\n",
    "            else:\n",
    "                raise ValueError(f\"Optimizer '{self.optimizer}' not supported.\")\n",
    "\n",
    "            for j in range(num_batches):\n",
    "                start = j * batch_size\n",
    "                end = start + batch_size\n",
    "                \n",
    "                A, caches = self._forward_propagation(X[start:end])\n",
    "                grads = self._backward_propagation(A, y_new[start:end], caches)\n",
    "                self.optimizer_func(grads)\n",
    "            \n",
    "            A = self.predict(X)\n",
    "            cost = self._calculate_cost(A, Y)\n",
    "            costs.append(cost)\n",
    "\n",
    "            data_to_log = {\n",
    "                \"epoch\": i + 1,\n",
    "                \"train_loss\": cost\n",
    "            }\n",
    "\n",
    "            # Calculate validation loss\n",
    "            if X_validation is not None and y_validation is not None:\n",
    "                A = self.predict(X_validation)\n",
    "                val_loss = self._calculate_cost(A, y_validation)\n",
    "                data_to_log[\"val_loss\"] = val_loss\n",
    "\n",
    "            if self.wandb_log:\n",
    "                wandb.log(data_to_log)\n",
    "            \n",
    "            if self.print_every and (i+1) % self.print_every == 0:\n",
    "                print(f\"Cost after {i+1} epochs: {cost}\")\n",
    "        \n",
    "        return costs"
   ]
  },
  {
   "cell_type": "code",
   "execution_count": 161,
   "metadata": {},
   "outputs": [],
   "source": [
    "class Logistic_Regression:\n",
    "    def __init__(self, num_classes=10, learning_rate=0.01, num_epochs=1000, print_every=None, wandb_log=False):\n",
    "        self.learning_rate = learning_rate\n",
    "        self.num_epochs = num_epochs\n",
    "        self.classes = range(num_classes)\n",
    "        self.weights = [None,] * num_classes\n",
    "        self.bias = [None,] * num_classes\n",
    "        self.print_every = print_every\n",
    "        self.wandb_log = wandb_log\n",
    "        self.num_classes = num_classes\n",
    "\n",
    "        self.val_acc = []\n",
    "        self.train_acc = []\n",
    "\n",
    "    def sigmoid(self, z):\n",
    "        return 1 / (1 + np.exp(-z))\n",
    "    \n",
    "    def softmax(self, z):\n",
    "        return np.exp(z) / np.sum(np.exp(z), axis=0)\n",
    "    \n",
    "    def loss(self, y_true, y_pred):\n",
    "        return -np.sum(y_true * np.log(y_pred)) / len(y_true)\n",
    "    \n",
    "    def fit(self, X, y, X_val=None, y_val=None):\n",
    "        num_samples, num_features = X.shape\n",
    "        self.weights = np.zeros((num_features, self.num_classes))\n",
    "        self.bias = np.zeros(self.num_classes)\n",
    "        train_loss = []\n",
    "        self.val_acc = []\n",
    "        self.train_acc = []\n",
    "\n",
    "        enc = OneHotEncoder().fit(np.array([[i,] for i in range(self.num_classes)]))\n",
    "        y_new = enc.transform(y.reshape(-1, 1)).toarray()\n",
    "        \n",
    "        for i in range(self.num_epochs):\n",
    "            z = self.sigmoid(np.dot(X, self.weights) + self.bias[np.newaxis, :])\n",
    "            y_predicted = self.softmax(z)\n",
    "\n",
    "            dw = (1 / num_samples) * np.dot(X.T, (y_predicted - y_new))\n",
    "            db = (1 / num_samples) * np.sum(y_predicted - y_new)\n",
    "\n",
    "            self.weights -= self.learning_rate * dw\n",
    "            self.bias -= self.learning_rate * db\n",
    "\n",
    "            loss = self.loss(y_new, y_predicted)\n",
    "            train_loss.append(loss)\n",
    "\n",
    "            y_predicted_train = self.predict(X)\n",
    "            self.train_acc.append(self.accuracy(y, y_predicted_train))\n",
    "\n",
    "            if X_val is not None and y_val is not None:\n",
    "                y_predicted_val = self.predict(X_val)\n",
    "                self.val_acc.append(self.accuracy(y_val, y_predicted_val))\n",
    "\n",
    "            if self.print_every and (i+1) % self.print_every == 0:\n",
    "                print(f'Epoch {i+1} loss: {loss:.4f}')\n",
    "                if X_val is not None and y_val is not None:\n",
    "                    print(f'Val Acc: {self.val_acc[-1]*100:.2f} Train Acc: {self.train_acc[-1]*100:.2f}')\n",
    "                else:\n",
    "                    print(f'Train Acc: {self.train_acc[-1]*100:.2f}')\n",
    "\n",
    "            if self.wandb_log:\n",
    "                wandb.log({\"epoch\": i+1,\"train_loss\": loss, \"val_acc\": self.val_acc[-1], \"train_acc\": self.train_acc[-1]})\n",
    "        \n",
    "        return train_loss\n",
    "    \n",
    "    def predict(self, X, return_prob=False):\n",
    "        y_predicted = self.softmax(np.dot(X, self.weights) + self.bias[np.newaxis, :])\n",
    "        y_predicted_cls = np.argmax(y_predicted, axis=1)\n",
    "        if return_prob:\n",
    "            return y_predicted_cls, np.max(y_predicted, axis=1)\n",
    "        return y_predicted_cls\n",
    "    \n",
    "    def accuracy(self, y_true, y_pred):\n",
    "        accuracy = np.sum(y_true == y_pred) / len(y_true)\n",
    "        return accuracy\n",
    "    \n",
    "    def evaluate(self, X, y):\n",
    "        y_pred = self.predict(X)\n",
    "        accuracy = self.accuracy(y, y_pred)\n",
    "        return accuracy\n",
    "    \n",
    "    def plot_loss(self, train_loss):\n",
    "        plt.plot(range(1, len(train_loss) + 1), train_loss, label='Training Loss')\n",
    "        plt.title('Training Loss')\n",
    "        plt.xlabel('Epochs')\n",
    "        plt.ylabel('Loss')\n",
    "        plt.show()\n",
    "\n",
    "    def plot_acc(self):\n",
    "        plt.plot(range(1, len(self.val_acc) + 1), self.val_acc, label='Validation Accuracy')\n",
    "        plt.plot(range(1, len(self.train_acc) + 1), self.train_acc, label='Train Accuracy')\n",
    "        plt.xlabel('Epoch')\n",
    "        plt.ylabel('Accuracy')\n",
    "        plt.legend()\n",
    "        plt.grid(True)\n",
    "        plt.show()"
   ]
  },
  {
   "cell_type": "code",
   "execution_count": 162,
   "metadata": {},
   "outputs": [],
   "source": [
    "class Linear_Regression:\n",
    "    def __init__(self, learning_rate=0.01, num_epochs=1000, print_every=None, wandb_log=False):\n",
    "        self.learning_rate = learning_rate\n",
    "        self.num_epochs = num_epochs\n",
    "        self.weights = None\n",
    "        self.bias = None\n",
    "        self.print_every = print_every\n",
    "        self.wandb_log = wandb_log\n",
    "\n",
    "        self.train_loss = []\n",
    "\n",
    "    def fit(self, X, y):\n",
    "        num_samples, num_features = X.shape\n",
    "        self.weights = np.zeros(num_features)\n",
    "        self.bias = 0\n",
    "        self.train_loss = []\n",
    "\n",
    "        for i in range(self.num_epochs):\n",
    "            y_predicted = np.dot(X, self.weights) + self.bias\n",
    "\n",
    "            error = y_predicted - y\n",
    "            dw = (1 / num_samples) * np.dot(X.T, error)\n",
    "            db = (1 / num_samples) * np.sum(error)\n",
    "\n",
    "            self.weights -= self.learning_rate * dw\n",
    "            self.bias -= self.learning_rate * db\n",
    "\n",
    "            loss = self.loss(y, y_predicted)\n",
    "            self.train_loss.append(loss)\n",
    "\n",
    "            if self.print_every and (i+1) % self.print_every == 0:\n",
    "                print(f'Epoch {i+1} loss: {loss:.4f}')\n",
    "\n",
    "            if self.wandb_log:\n",
    "                wandb.log({\"epoch\": i+1,\"train_loss\": loss})\n",
    "        \n",
    "        return self.train_loss\n",
    "    \n",
    "    def predict(self, X):\n",
    "        y_predicted = np.dot(X, self.weights) + self.bias\n",
    "        return y_predicted\n",
    "    \n",
    "    def loss(self, y_true, y_pred):\n",
    "        return np.mean(np.square(y_true - y_pred))\n",
    "    \n",
    "    def evaluate(self, X, y):\n",
    "        y_pred = self.predict(X)\n",
    "        loss = self.loss(y, y_pred)\n",
    "        return loss\n",
    "    \n",
    "    def plot_loss(self):\n",
    "        plt.plot(range(1, len(self.train_loss) + 1), self.train_loss, label='Training Loss')\n",
    "        plt.title('Training Loss')\n",
    "        plt.xlabel('Epochs')\n",
    "        plt.ylabel('Loss')\n",
    "        plt.show()"
   ]
  },
  {
   "cell_type": "markdown",
   "metadata": {},
   "source": [
    "#### Ensemble Models"
   ]
  },
  {
   "cell_type": "code",
   "execution_count": 163,
   "metadata": {},
   "outputs": [],
   "source": [
    "class Bagging:\n",
    "    def __init__(self, base_estimator, best_params, n_estimators=10, fraction=0.15, bootstrap=True, hard_voting=True, classification=True):\n",
    "        assert fraction > 0 and fraction <= 1, \"Fraction must be between 0 and 1\"\n",
    "        assert n_estimators > 0, \"Number of estimators must be greater than 0\"\n",
    "\n",
    "        self.base_estimator = base_estimator\n",
    "        self.best_params = best_params\n",
    "        self.n_estimators = n_estimators\n",
    "        self.fraction = fraction\n",
    "        self.bootstrap = bootstrap\n",
    "        self.hard_voting = hard_voting\n",
    "        self.classification = classification\n",
    "\n",
    "        self.estimators = []\n",
    "        self.estimators_weights = []\n",
    "\n",
    "    def _bootstrap(self, X, y, fraction, n):\n",
    "        data_array = []\n",
    "        for i in range(n):\n",
    "            indices = np.random.choice(range(X.shape[0]), size=int(X.shape[0] * fraction))\n",
    "            data_array.append((X[indices], y[indices]))\n",
    "        return data_array\n",
    "    \n",
    "    def _random_sampling(self, X, y, fraction, n):\n",
    "        data_array = []\n",
    "        permuted_index = np.random.permutation(len(X))\n",
    "        X = X[permuted_index]\n",
    "        y = y[permuted_index]\n",
    "        num_samples = int(X.shape[0] * fraction)\n",
    "        for i in range(num_samples, X.shape[0], num_samples):\n",
    "            data_array.append((X[i-num_samples: i], y[i-num_samples: i]))\n",
    "        return data_array[:n]\n",
    "        \n",
    "    def fit(self, X, y, X_val, y_val):\n",
    "        self.estimators_weights = []\n",
    "        self.estimators = []\n",
    "\n",
    "        if self.bootstrap==False:\n",
    "            assert self.fraction * self.n_estimators <= 1\n",
    "        if self.bootstrap:\n",
    "            Samples = self._bootstrap(X, y, self.fraction, self.n_estimators)\n",
    "        else:\n",
    "            Samples = self._random_sampling(X, y, self.fraction, self.n_estimators)\n",
    "\n",
    "        for i in range(self.n_estimators):\n",
    "            X_sample, y_sample = Samples[i]\n",
    "            \n",
    "            estimator = self.base_estimator(**self.best_params)\n",
    "            estimator.fit(X_sample, y_sample)\n",
    "            self.estimators.append(estimator)\n",
    "\n",
    "            if self.hard_voting:\n",
    "                self.estimators_weights.append(1)\n",
    "            else:\n",
    "                y_pred = estimator.predict(X_val)\n",
    "                if self.classification:\n",
    "                    self.estimators_weights.append(accuracy_score(y_val, y_pred))\n",
    "                else:\n",
    "                    self.estimators_weights.append(r2_score(y_val, y_pred))\n",
    "\n",
    "    def predict(self, X):\n",
    "        predictions = []\n",
    "        probs = np.zeros((X.shape[0], self.n_estimators))\n",
    "        for i, estimator in enumerate(self.estimators):\n",
    "            if self.classification:\n",
    "                if estimator.__class__.__name__ == \"DecisionTreeClassifier\":\n",
    "                    prediction, prob = estimator.predict(X), [1,]*X.shape[0]\n",
    "                else:\n",
    "                    prediction, prob = estimator.predict(X, return_prob=True)\n",
    "                predictions.append(prediction)\n",
    "                probs[:, i] = prob\n",
    "            else:\n",
    "                predictions.append(estimator.predict(X))\n",
    "        predictions = np.array(predictions).T\n",
    "\n",
    "        if self.classification:\n",
    "            final_predictions = []\n",
    "            for i, pred in enumerate(predictions):\n",
    "                final_predictions.append(np.argmax(np.bincount(pred, weights=probs[i, :])))\n",
    "            return np.array(final_predictions)\n",
    "        else:\n",
    "            if self.hard_voting:\n",
    "                return np.mean(predictions, axis=1)\n",
    "            else:\n",
    "                return np.dot(predictions, self.estimators_weights) / np.sum(self.estimators_weights)\n",
    "\n",
    "    def evaluate(self, X, y):\n",
    "        y_pred = self.predict(X)\n",
    "        if self.classification:\n",
    "            return accuracy_score(y, y_pred)\n",
    "        else:\n",
    "            return r2_score(y, y_pred)"
   ]
  },
  {
   "cell_type": "code",
   "execution_count": 164,
   "metadata": {},
   "outputs": [],
   "source": [
    "class Stacking:\n",
    "    def __init__(self, base_estimators, final_estimator, final_estimator_params, method='stacking', classification=True, n_fold = 5):\n",
    "        assert method.lower() in ['stacking', 'blending'], \"Method must be either 'stacking' or 'blending'\"\n",
    "\n",
    "        self.base_estimators = base_estimators\n",
    "        self.final_estimator = final_estimator(**final_estimator_params)\n",
    "        self.method = method\n",
    "        self.classification = classification\n",
    "        self.n_fold = n_fold\n",
    "    \n",
    "    def fit(self, X, y):\n",
    "        kf = KFold(n_splits=self.n_fold)\n",
    "        X_new = X.copy()\n",
    "        no_estimators = len(self.base_estimators)\n",
    "\n",
    "        if self.method == 'stacking':\n",
    "            new_column = np.zeros((X.shape[0], no_estimators))\n",
    "            for train_index, test_index in kf.split(X):\n",
    "                X_train, X_test = X[train_index], X[test_index]\n",
    "                y_train, y_test = y[train_index], y[test_index]\n",
    "\n",
    "                for index, estimator in enumerate(self.base_estimators):\n",
    "                    estimator.fit(X_train, y_train)\n",
    "                    y_pred = estimator.predict(X_test)\n",
    "                    new_column[test_index, index] = y_pred\n",
    "            \n",
    "            for index, estimator in enumerate(self.base_estimators):\n",
    "                estimator.fit(X, y)\n",
    "                \n",
    "            X_new = np.column_stack((X_new, new_column))\n",
    "            \n",
    "            self.final_estimator.fit(X_new[:,-no_estimators:], y)\n",
    "        \n",
    "        elif self.method == 'blending':\n",
    "            new_column = np.zeros((X.shape[0], no_estimators))\n",
    "            for train_index, test_index in kf.split(X):\n",
    "                X_train, X_test = X[train_index], X[test_index]\n",
    "                y_train, y_test = y[train_index], y[test_index]\n",
    "\n",
    "                for index, estimator in enumerate(self.base_estimators):\n",
    "                    estimator.fit(X_train, y_train)\n",
    "                    y_pred = estimator.predict(X_test)\n",
    "                    new_column[test_index, index] = y_pred\n",
    "                break\n",
    "                \n",
    "            X_new = np.column_stack((X_new, new_column))\n",
    "            \n",
    "            self.final_estimator.fit(X_new[test_index, :], y_test)\n",
    "\n",
    "    def predict(self, X):\n",
    "        X_new = X.copy()\n",
    "        no_estimators = len(self.base_estimators)\n",
    "\n",
    "        if self.method == 'stacking':\n",
    "            new_column = np.zeros((X.shape[0], no_estimators))\n",
    "            for index, estimator in enumerate(self.base_estimators):\n",
    "                y_pred = estimator.predict(X)\n",
    "                new_column[:, index] = y_pred\n",
    "            \n",
    "            X_new = np.column_stack((X_new, new_column))\n",
    "            return self.final_estimator.predict(X_new[:,-no_estimators:])\n",
    "\n",
    "        elif self.method == 'blending':\n",
    "            new_column = np.zeros((X.shape[0], no_estimators))\n",
    "            for index, estimator in enumerate(self.base_estimators):\n",
    "                y_pred = estimator.predict(X)\n",
    "                new_column[:, index] = y_pred\n",
    "            \n",
    "            X_new = np.column_stack((X_new, new_column))\n",
    "            return self.final_estimator.predict(X_new)\n",
    "\n",
    "    def evaluate(self, X, y):\n",
    "        y_pred = self.predict(X)\n",
    "        try:\n",
    "            if self.classification:\n",
    "                return accuracy_score(y, y_pred)\n",
    "            else:\n",
    "                return r2_score(y, y_pred)\n",
    "        except:\n",
    "            return 0\n",
    "                \n",
    "        "
   ]
  },
  {
   "cell_type": "code",
   "execution_count": 165,
   "metadata": {},
   "outputs": [],
   "source": [
    "class RandomForest(Bagging):\n",
    "    def __init__(self, best_params, n_estimators=10, classification=True, num_features=None):\n",
    "        if classification:\n",
    "            super().__init__(DecisionTreeClassifier, best_params, n_estimators=n_estimators, classification=classification, hard_voting=True, fraction=0.75)\n",
    "        else:\n",
    "            super().__init__(DecisionTreeRegressor, best_params, n_estimators=n_estimators, classification=classification, hard_voting=True, fraction=0.75)\n",
    "\n",
    "        self.num_features = num_features\n",
    "        self.classification = classification\n",
    "        self.indices = None\n",
    "    \n",
    "    def fit(self, X, y, X_val, y_val):\n",
    "        self.estimators_weights = []\n",
    "        self.estimators = []\n",
    "        self.indices = []\n",
    "\n",
    "        if self.bootstrap==False:\n",
    "            assert self.fraction * self.n_estimators <= 1\n",
    "        if self.bootstrap:\n",
    "            Samples = self._bootstrap(X, y, self.fraction, self.n_estimators)\n",
    "        else:\n",
    "            Samples = self._random_sampling(X, y, self.fraction, self.n_estimators)\n",
    "\n",
    "        for i in range(self.n_estimators):\n",
    "            X_sample, y_sample = Samples[i]\n",
    "\n",
    "            if self.num_features is not None:\n",
    "                indices = np.random.choice(range(X_sample.shape[1]), size=self.num_features)\n",
    "                self.indices.append(indices)\n",
    "                X_sample = X_sample[:, indices]\n",
    "            \n",
    "            estimator = self.base_estimator(**self.best_params)\n",
    "            estimator.fit(X_sample, y_sample)\n",
    "            self.estimators.append(estimator)\n",
    "\n",
    "            if self.hard_voting:\n",
    "                self.estimators_weights.append(1)\n",
    "            else:\n",
    "                y_pred = estimator.predict(X_val)\n",
    "                if self.classification:\n",
    "                    self.estimators_weights.append(accuracy_score(y_val, y_pred))\n",
    "                else:\n",
    "                    self.estimators_weights.append(r2_score(y_val, y_pred))\n",
    "    \n",
    "    def predict(self, X):\n",
    "        predictions = []\n",
    "        probs = np.zeros((X.shape[0], self.n_estimators))\n",
    "        for i, estimator in enumerate(self.estimators):\n",
    "            if self.num_features is not None:\n",
    "                X = X[:, self.indices[i]]\n",
    "            if self.classification:\n",
    "                if estimator.__class__.__name__ == \"DecisionTreeClassifier\":\n",
    "                    prediction, prob = estimator.predict(X), [1,]*X.shape[0]\n",
    "                else:\n",
    "                    prediction, prob = estimator.predict(X, return_prob=True)\n",
    "                predictions.append(prediction)\n",
    "                probs[:, i] = prob\n",
    "            else:\n",
    "                predictions.append(estimator.predict(X))\n",
    "        predictions = np.array(predictions).T\n",
    "\n",
    "        if self.classification:\n",
    "            final_predictions = []\n",
    "            for i, pred in enumerate(predictions):\n",
    "                final_predictions.append(np.argmax(np.bincount(pred, weights=probs[i, :])))\n",
    "            return np.array(final_predictions)\n",
    "        else:\n",
    "            if self.hard_voting:\n",
    "                return np.mean(predictions, axis=1)\n",
    "            else:\n",
    "                return np.dot(predictions, self.estimators_weights) / np.sum(self.estimators_weights)\n",
    "    \n",
    "    def evaluate(self, X, y):\n",
    "        y_pred = self.predict(X)\n",
    "        if self.classification:\n",
    "            return accuracy_score(y, y_pred)\n",
    "        else:\n",
    "            return r2_score(y, y_pred)"
   ]
  },
  {
   "cell_type": "code",
   "execution_count": 166,
   "metadata": {},
   "outputs": [],
   "source": [
    "class AdaBoostClassifier: # Using Basic AdaBoost Algorithm\n",
    "    def __init__(self, T=10, best_params=None):\n",
    "        self.T = T\n",
    "        self.best_params = best_params\n",
    "    \n",
    "    def fit(self, X_train, y_train):\n",
    "        self.N, self.D = X_train.shape\n",
    "        self.X_train = X_train\n",
    "        self.y_train = np.array([1 if y == 1 else -1 for y in y_train])\n",
    "        \n",
    "        self.weights = [1/self.N,] * self.N\n",
    "        self.trees = []\n",
    "        self.alphas = []\n",
    "        self.yhats = np.empty((self.N, self.T))\n",
    "        \n",
    "        for t in range(self.T):\n",
    "            self.T_t = DecisionTreeClassifier(**self.best_params)\n",
    "            self.T_t.fit(self.X_train, self.y_train, self.weights)\n",
    "            self.yhat_t = self.T_t.predict(self.X_train)\n",
    "\n",
    "            self.epsilon_t = sum(self.weights*(self.yhat_t != self.y_train))/sum(self.weights)\n",
    "            self.alpha_t = np.log((1-self.epsilon_t)/self.epsilon_t)\n",
    "            self.weights = np.array([w*(1-self.epsilon_t)/self.epsilon_t if self.yhat_t[i] != self.y_train[i]\n",
    "                                    else w for i, w in enumerate(self.weights)])\n",
    "            \n",
    "            self.trees.append(self.T_t)\n",
    "            self.alphas.append(self.alpha_t)\n",
    "            self.yhats[:,t] = self.yhat_t \n",
    "            \n",
    "        self.yhat = np.sign(np.dot(self.yhats, self.alphas))\n",
    "        self.yhat[self.yhat <= 0] = 0\n",
    "        return self.yhat\n",
    "        \n",
    "    def predict(self, X_test):\n",
    "        yhats = np.zeros(len(X_test))\n",
    "        for t, tree in enumerate(self.trees):\n",
    "            yhats_tree = tree.predict(X_test)\n",
    "            yhats += yhats_tree*self.alphas[t]\n",
    "        yhats = np.sign(yhats)\n",
    "        yhats[yhats <= 0] = 0\n",
    "        return yhats\n",
    "\n",
    "    def evaluate(self, X_test, y_test):\n",
    "        yhat = self.predict(X_test)\n",
    "        return accuracy_score(y_test, yhat)\n",
    "        "
   ]
  },
  {
   "cell_type": "code",
   "execution_count": 167,
   "metadata": {},
   "outputs": [],
   "source": [
    "class AdaBoostRegressor: # Using Adaboost R2 Algotithm\n",
    "    def __init__(self, T=10, best_params=None, random_state = None):\n",
    "        self.T = T\n",
    "        self.best_params = best_params\n",
    "        np.random.seed(random_state)\n",
    "    \n",
    "    def fit(self, X_train, y_train):\n",
    "        self.y_train = y_train\n",
    "        self.X_train = X_train\n",
    "        self.N, self.D = X_train.shape\n",
    "        self.weights = np.repeat(1/self.N, self.N)\n",
    "        \n",
    "        self.trees = []    \n",
    "        self.fitted_values = np.empty((self.N, self.T))\n",
    "        self.betas = []\n",
    "        for t in range(self.T):\n",
    "            bootstrap_indices = np.random.choice(np.arange(self.N), size = self.N, replace = True, p = self.weights)\n",
    "            bootstrap_X = self.X_train[bootstrap_indices]\n",
    "            bootstrap_y = self.y_train[bootstrap_indices]\n",
    "            tree = DecisionTreeRegressor(**self.best_params)\n",
    "            tree.fit(bootstrap_X, bootstrap_y)\n",
    "            self.trees.append(tree)\n",
    "            yhat = tree.predict(X_train)\n",
    "            self.fitted_values[:,t] = yhat\n",
    "            \n",
    "            ## Calculate observation errors\n",
    "            abs_errors_t = np.abs(self.y_train - yhat)\n",
    "            D_t = np.max(abs_errors_t)\n",
    "            L_ts = abs_errors_t/D_t\n",
    "            \n",
    "            ## Calculate model error (and possibly break)\n",
    "            Lbar_t = np.sum(self.weights*L_ts)\n",
    "            if Lbar_t >= 0.5:\n",
    "                self.T = t - 1\n",
    "                self.fitted_values = self.fitted_values[:,:t-1]\n",
    "                self.trees = self.trees[:t-1]\n",
    "                break\n",
    "            \n",
    "            ## Calculate and record beta \n",
    "            beta_t = Lbar_t/(1 - Lbar_t)\n",
    "            self.betas.append(beta_t)\n",
    "            \n",
    "            ## Reweight\n",
    "            Z_t = np.sum(self.weights*beta_t**(1-L_ts))\n",
    "            self.weights *= beta_t**(1-L_ts)/Z_t\n",
    "            \n",
    "        self.model_weights = np.log(1/np.array(self.betas))\n",
    "        self.y_train_hat = np.array([self.weighted_median(self.fitted_values[n], self.model_weights) for n in range(self.N)])\n",
    "\n",
    "    def weighted_median(self, values, weights):\n",
    "        sorted_indices = values.argsort()\n",
    "        values = values[sorted_indices]\n",
    "        weights = weights[sorted_indices]\n",
    "        weights_cumulative_sum = weights.cumsum()\n",
    "        median_weight = np.argmax(weights_cumulative_sum >= sum(weights)/2)\n",
    "        return values[median_weight]\n",
    "        \n",
    "    def predict(self, X_test):\n",
    "        N_test = len(X_test)\n",
    "        fitted_values = np.empty((N_test, self.T))\n",
    "        for t, tree in enumerate(self.trees):\n",
    "            fitted_values[:,t] = tree.predict(X_test)\n",
    "        return np.array([self.weighted_median(fitted_values[n], self.model_weights) for n in range(N_test)]) \n",
    "        \n",
    "    def evaluate(self, X_test, y_test):\n",
    "        yhat = self.predict(X_test)\n",
    "        return r2_score(y_test, yhat)"
   ]
  },
  {
   "cell_type": "code",
   "execution_count": 168,
   "metadata": {},
   "outputs": [],
   "source": [
    "class GradientBoostingRegressor:\n",
    "    def __init__(self, best_params, n_trees=10, learning_rate=0.1, max_depth=3):\n",
    "        self.n_trees=n_trees\n",
    "        self.learning_rate=learning_rate\n",
    "        self.best_params = best_params.copy()\n",
    "        self.best_params['max_depth'] = max_depth\n",
    "        \n",
    "    def fit(self, x, y):\n",
    "        self.trees = []\n",
    "        self.F0 = y.mean()\n",
    "        Fm = self.F0 \n",
    "        for _ in range(self.n_trees):\n",
    "            tree = DecisionTreeRegressor(**self.best_params)\n",
    "            tree.fit(x, y - Fm)\n",
    "            Fm += self.learning_rate * tree.predict(x)\n",
    "            self.trees.append(tree)\n",
    "            \n",
    "    def predict(self, x):\n",
    "        return self.F0 + self.learning_rate * np.sum([tree.predict(x) for tree in self.trees], axis=0)\n",
    "\n",
    "    def evaluate(self, X_test, y_test):\n",
    "        yhat = self.predict(X_test)\n",
    "        return r2_score(y_test, yhat)"
   ]
  },
  {
   "cell_type": "code",
   "execution_count": 169,
   "metadata": {},
   "outputs": [],
   "source": [
    "class GradientBoostingClassifier:\n",
    "    def __init__(self, best_params, n_trees=10, learning_rate=0.1, max_depth=3):\n",
    "        self.n_trees=n_trees\n",
    "        self.learning_rate=learning_rate\n",
    "        self.best_params = best_params.copy()\n",
    "        self.best_params['max_depth'] = max_depth\n",
    "\n",
    "    def log_odds(self, p):\n",
    "        return np.log(p/(1-p))\n",
    "\n",
    "    def fit(self, x, y):\n",
    "        self.trees = []\n",
    "        self.F0 = np.log((y == 1).sum()/(y == 0).sum())\n",
    "        self.F0 = np.exp(self.F0)/(1 + np.exp(self.F0))\n",
    "        Fm = self.F0 \n",
    "        # numerator = 0\n",
    "        # denominator = 0\n",
    "        # p = self.F0\n",
    "        for _ in range(self.n_trees):\n",
    "            tree = DecisionTreeRegressor(**self.best_params)\n",
    "            tree.fit(x, y - Fm)\n",
    "            # numerator += y-tree.predict(x)\n",
    "            # denominator += np.multiply(tree.predict(x), (1-tree.predict(x)))\n",
    "            Fm += self.learning_rate * tree.predict(x)\n",
    "            # p = np.exp(self.log_odds(Fm))/(1 + np.exp(self.log_odds(Fm)))\n",
    "            self.trees.append(tree)\n",
    "\n",
    "    def predict(self, x):\n",
    "        y = self.F0 + self.learning_rate * np.sum([tree.predict(x) for tree in self.trees], axis=0)\n",
    "        return np.where(y > 0.5, 1, 0)\n",
    "    \n",
    "    def evaluate(self, X_test, y_test):\n",
    "        yhat = self.predict(X_test)\n",
    "        return accuracy_score(y_test, yhat)"
   ]
  },
  {
   "cell_type": "markdown",
   "metadata": {},
   "source": [
    "#### Functions"
   ]
  },
  {
   "cell_type": "code",
   "execution_count": 170,
   "metadata": {},
   "outputs": [],
   "source": [
    "def evaluate_all_bagging_models(n_estimators, fraction, bootstrap, hard_voting, mlp=True):\n",
    "    # Bagging with DecisionTreeClassifier\n",
    "    bagging_dt_classifier = Bagging(\n",
    "        DecisionTreeClassifier, best_params_dt_classifier,\n",
    "        n_estimators=n_estimators, fraction=fraction,\n",
    "        bootstrap=bootstrap, hard_voting=hard_voting,\n",
    "        classification=True\n",
    "    )\n",
    "    bagging_dt_classifier.fit(wine_X_train, wine_y_train, wine_X_val, wine_y_val)\n",
    "\n",
    "    # Bagging with DecisionTreeRegressor\n",
    "    bagging_dt_regressor = Bagging(\n",
    "        DecisionTreeRegressor, best_params_dt_regressor,\n",
    "        n_estimators=n_estimators, fraction=fraction,\n",
    "        bootstrap=bootstrap, hard_voting=hard_voting,\n",
    "        classification=False\n",
    "    )\n",
    "    bagging_dt_regressor.fit(housing_X_train, housing_y_train, housing_X_val, housing_y_val)\n",
    "\n",
    "    # Bagging with Logistic Regression\n",
    "    bagging_logreg = Bagging(\n",
    "        Logistic_Regression, best_params_logistic,\n",
    "        n_estimators=n_estimators, fraction=fraction,\n",
    "        bootstrap=bootstrap, hard_voting=hard_voting,\n",
    "        classification=True\n",
    "    )\n",
    "    bagging_logreg.fit(wine_X_train, wine_y_train, wine_X_val, wine_y_val)\n",
    "\n",
    "    # Bagging with Linear Regression\n",
    "    bagging_linreg = Bagging(\n",
    "        Linear_Regression, best_params_linreg,\n",
    "        n_estimators=n_estimators, fraction=fraction,\n",
    "        bootstrap=bootstrap, hard_voting=hard_voting,\n",
    "        classification=False\n",
    "    )\n",
    "    bagging_linreg.fit(housing_X_train, housing_y_train, housing_X_val, housing_y_val)\n",
    "\n",
    "    if mlp:\n",
    "        # Bagging with MLP Classifier\n",
    "        bagging_mlp_classifier = Bagging(\n",
    "            MLP_Classifier, best_params_mlp_classifier,\n",
    "            n_estimators=n_estimators, fraction=fraction,\n",
    "            bootstrap=bootstrap, hard_voting=hard_voting,\n",
    "            classification=True\n",
    "        )\n",
    "        bagging_mlp_classifier.fit(wine_X_train, wine_y_train, wine_X_val, wine_y_val)\n",
    "\n",
    "        # Bagging with MLP Regressor\n",
    "        bagging_mlp_regressor = Bagging(\n",
    "            MLP_Regression, best_params_mlp_regressor,\n",
    "            n_estimators=n_estimators, fraction=fraction,\n",
    "            bootstrap=bootstrap, hard_voting=hard_voting,\n",
    "            classification=False\n",
    "        )\n",
    "        bagging_mlp_regressor.fit(housing_X_train, housing_y_train, housing_X_val, housing_y_val)\n",
    "\n",
    "    # Evaluate all models\n",
    "    bagging_dt_classifier_acc = bagging_dt_classifier.evaluate(wine_X_test, wine_y_test)\n",
    "    bagging_dt_regressor_acc = bagging_dt_regressor.evaluate(housing_X_test, housing_y_test)\n",
    "    bagging_logreg_acc = bagging_logreg.evaluate(wine_X_test, wine_y_test)\n",
    "    bagging_linreg_acc = bagging_linreg.evaluate(housing_X_test, housing_y_test)\n",
    "    if mlp:\n",
    "        bagging_mlp_classifier_acc = bagging_mlp_classifier.evaluate(wine_X_test, wine_y_test)\n",
    "        bagging_mlp_regressor_acc = bagging_mlp_regressor.evaluate(housing_X_test, housing_y_test)\n",
    "    \n",
    "    if not mlp:\n",
    "        return {\n",
    "            \"bagging_dt_classifier\": bagging_dt_classifier_acc,\n",
    "            \"bagging_dt_regressor\": bagging_dt_regressor_acc,\n",
    "            \"bagging_logreg\": bagging_logreg_acc,\n",
    "            \"bagging_linreg\": bagging_linreg_acc,\n",
    "        }\n",
    "    \n",
    "    return {\n",
    "        \"bagging_dt_classifier\": bagging_dt_classifier_acc,\n",
    "        \"bagging_dt_regressor\": bagging_dt_regressor_acc,\n",
    "        \"bagging_logreg\": bagging_logreg_acc,\n",
    "        \"bagging_linreg\": bagging_linreg_acc,\n",
    "        \"bagging_mlp_classifier\": bagging_mlp_classifier_acc,\n",
    "        \"bagging_mlp_regressor\": bagging_mlp_regressor_acc,\n",
    "    }"
   ]
  },
  {
   "cell_type": "code",
   "execution_count": 171,
   "metadata": {},
   "outputs": [],
   "source": [
    "def plotheatmap(accuracies, title):\n",
    "    df = pd.DataFrame(accuracies)\n",
    "    sns.heatmap(df, annot=True, cmap='RdPu', fmt='.2f', cbar_kws={'label': 'Values'}, vmin=0.0, vmax=1.0)\n",
    "    plt.xlabel('Fraction of Samples')\n",
    "    plt.ylabel('Number of Estimators')\n",
    "    plt.title(f'Heatmap of Accuracies for {title}')\n",
    "    plt.show()"
   ]
  },
  {
   "cell_type": "markdown",
   "metadata": {},
   "source": [
    "### Main Code"
   ]
  },
  {
   "cell_type": "markdown",
   "metadata": {},
   "source": [
    "#### Datasets"
   ]
  },
  {
   "cell_type": "code",
   "execution_count": 172,
   "metadata": {},
   "outputs": [
    {
     "data": {
      "text/html": [
       "<div>\n",
       "<style scoped>\n",
       "    .dataframe tbody tr th:only-of-type {\n",
       "        vertical-align: middle;\n",
       "    }\n",
       "\n",
       "    .dataframe tbody tr th {\n",
       "        vertical-align: top;\n",
       "    }\n",
       "\n",
       "    .dataframe thead th {\n",
       "        text-align: right;\n",
       "    }\n",
       "</style>\n",
       "<table border=\"1\" class=\"dataframe\">\n",
       "  <thead>\n",
       "    <tr style=\"text-align: right;\">\n",
       "      <th></th>\n",
       "      <th>fixed acidity</th>\n",
       "      <th>volatile acidity</th>\n",
       "      <th>citric acid</th>\n",
       "      <th>residual sugar</th>\n",
       "      <th>chlorides</th>\n",
       "      <th>free sulfur dioxide</th>\n",
       "      <th>total sulfur dioxide</th>\n",
       "      <th>density</th>\n",
       "      <th>pH</th>\n",
       "      <th>sulphates</th>\n",
       "      <th>alcohol</th>\n",
       "      <th>quality</th>\n",
       "      <th>Id</th>\n",
       "    </tr>\n",
       "  </thead>\n",
       "  <tbody>\n",
       "    <tr>\n",
       "      <th>0</th>\n",
       "      <td>7.4</td>\n",
       "      <td>0.70</td>\n",
       "      <td>0.00</td>\n",
       "      <td>1.9</td>\n",
       "      <td>0.076</td>\n",
       "      <td>11.0</td>\n",
       "      <td>34.0</td>\n",
       "      <td>0.9978</td>\n",
       "      <td>3.51</td>\n",
       "      <td>0.56</td>\n",
       "      <td>9.4</td>\n",
       "      <td>5</td>\n",
       "      <td>0</td>\n",
       "    </tr>\n",
       "    <tr>\n",
       "      <th>1</th>\n",
       "      <td>7.8</td>\n",
       "      <td>0.88</td>\n",
       "      <td>0.00</td>\n",
       "      <td>2.6</td>\n",
       "      <td>0.098</td>\n",
       "      <td>25.0</td>\n",
       "      <td>67.0</td>\n",
       "      <td>0.9968</td>\n",
       "      <td>3.20</td>\n",
       "      <td>0.68</td>\n",
       "      <td>9.8</td>\n",
       "      <td>5</td>\n",
       "      <td>1</td>\n",
       "    </tr>\n",
       "    <tr>\n",
       "      <th>2</th>\n",
       "      <td>7.8</td>\n",
       "      <td>0.76</td>\n",
       "      <td>0.04</td>\n",
       "      <td>2.3</td>\n",
       "      <td>0.092</td>\n",
       "      <td>15.0</td>\n",
       "      <td>54.0</td>\n",
       "      <td>0.9970</td>\n",
       "      <td>3.26</td>\n",
       "      <td>0.65</td>\n",
       "      <td>9.8</td>\n",
       "      <td>5</td>\n",
       "      <td>2</td>\n",
       "    </tr>\n",
       "    <tr>\n",
       "      <th>3</th>\n",
       "      <td>11.2</td>\n",
       "      <td>0.28</td>\n",
       "      <td>0.56</td>\n",
       "      <td>1.9</td>\n",
       "      <td>0.075</td>\n",
       "      <td>17.0</td>\n",
       "      <td>60.0</td>\n",
       "      <td>0.9980</td>\n",
       "      <td>3.16</td>\n",
       "      <td>0.58</td>\n",
       "      <td>9.8</td>\n",
       "      <td>6</td>\n",
       "      <td>3</td>\n",
       "    </tr>\n",
       "    <tr>\n",
       "      <th>4</th>\n",
       "      <td>7.4</td>\n",
       "      <td>0.70</td>\n",
       "      <td>0.00</td>\n",
       "      <td>1.9</td>\n",
       "      <td>0.076</td>\n",
       "      <td>11.0</td>\n",
       "      <td>34.0</td>\n",
       "      <td>0.9978</td>\n",
       "      <td>3.51</td>\n",
       "      <td>0.56</td>\n",
       "      <td>9.4</td>\n",
       "      <td>5</td>\n",
       "      <td>4</td>\n",
       "    </tr>\n",
       "  </tbody>\n",
       "</table>\n",
       "</div>"
      ],
      "text/plain": [
       "   fixed acidity  volatile acidity  citric acid  residual sugar  chlorides  \\\n",
       "0            7.4              0.70         0.00             1.9      0.076   \n",
       "1            7.8              0.88         0.00             2.6      0.098   \n",
       "2            7.8              0.76         0.04             2.3      0.092   \n",
       "3           11.2              0.28         0.56             1.9      0.075   \n",
       "4            7.4              0.70         0.00             1.9      0.076   \n",
       "\n",
       "   free sulfur dioxide  total sulfur dioxide  density    pH  sulphates  \\\n",
       "0                 11.0                  34.0   0.9978  3.51       0.56   \n",
       "1                 25.0                  67.0   0.9968  3.20       0.68   \n",
       "2                 15.0                  54.0   0.9970  3.26       0.65   \n",
       "3                 17.0                  60.0   0.9980  3.16       0.58   \n",
       "4                 11.0                  34.0   0.9978  3.51       0.56   \n",
       "\n",
       "   alcohol  quality  Id  \n",
       "0      9.4        5   0  \n",
       "1      9.8        5   1  \n",
       "2      9.8        5   2  \n",
       "3      9.8        6   3  \n",
       "4      9.4        5   4  "
      ]
     },
     "execution_count": 172,
     "metadata": {},
     "output_type": "execute_result"
    }
   ],
   "source": [
    "wine_dataset = pd.read_csv(wine_dataset_path)\n",
    "wine_dataset.head()"
   ]
  },
  {
   "cell_type": "code",
   "execution_count": 173,
   "metadata": {},
   "outputs": [],
   "source": [
    "wine_X = wine_dataset.drop(columns=['quality']).to_numpy()\n",
    "wine_y = wine_dataset['quality'].to_numpy()\n",
    "\n",
    "wine_num_classes = 11 # 0-10"
   ]
  },
  {
   "cell_type": "code",
   "execution_count": 174,
   "metadata": {},
   "outputs": [],
   "source": [
    "wine_X = StandardScaler().fit_transform(wine_X)"
   ]
  },
  {
   "cell_type": "code",
   "execution_count": 175,
   "metadata": {},
   "outputs": [],
   "source": [
    "wine_X_train, wine_X_test, wine_y_train, wine_y_test = train_test_split(wine_X, wine_y, test_size=0.2, random_state=random_state)\n",
    "wine_X_train, wine_X_val, wine_y_train, wine_y_val = train_test_split(wine_X_train, wine_y_train, test_size=0.25, random_state=random_state)"
   ]
  },
  {
   "cell_type": "code",
   "execution_count": 176,
   "metadata": {},
   "outputs": [
    {
     "data": {
      "text/html": [
       "<div>\n",
       "<style scoped>\n",
       "    .dataframe tbody tr th:only-of-type {\n",
       "        vertical-align: middle;\n",
       "    }\n",
       "\n",
       "    .dataframe tbody tr th {\n",
       "        vertical-align: top;\n",
       "    }\n",
       "\n",
       "    .dataframe thead th {\n",
       "        text-align: right;\n",
       "    }\n",
       "</style>\n",
       "<table border=\"1\" class=\"dataframe\">\n",
       "  <thead>\n",
       "    <tr style=\"text-align: right;\">\n",
       "      <th></th>\n",
       "      <th>CRIM</th>\n",
       "      <th>ZN</th>\n",
       "      <th>INDUS</th>\n",
       "      <th>CHAS</th>\n",
       "      <th>NOX</th>\n",
       "      <th>RM</th>\n",
       "      <th>AGE</th>\n",
       "      <th>DIS</th>\n",
       "      <th>RAD</th>\n",
       "      <th>TAX</th>\n",
       "      <th>PTRATIO</th>\n",
       "      <th>B</th>\n",
       "      <th>LSTAT</th>\n",
       "      <th>MEDV</th>\n",
       "    </tr>\n",
       "  </thead>\n",
       "  <tbody>\n",
       "    <tr>\n",
       "      <th>0</th>\n",
       "      <td>0.00632</td>\n",
       "      <td>18.0</td>\n",
       "      <td>2.31</td>\n",
       "      <td>0.0</td>\n",
       "      <td>0.538</td>\n",
       "      <td>6.575</td>\n",
       "      <td>65.2</td>\n",
       "      <td>4.0900</td>\n",
       "      <td>1</td>\n",
       "      <td>296</td>\n",
       "      <td>15.3</td>\n",
       "      <td>396.90</td>\n",
       "      <td>4.98</td>\n",
       "      <td>24.0</td>\n",
       "    </tr>\n",
       "    <tr>\n",
       "      <th>1</th>\n",
       "      <td>0.02731</td>\n",
       "      <td>0.0</td>\n",
       "      <td>7.07</td>\n",
       "      <td>0.0</td>\n",
       "      <td>0.469</td>\n",
       "      <td>6.421</td>\n",
       "      <td>78.9</td>\n",
       "      <td>4.9671</td>\n",
       "      <td>2</td>\n",
       "      <td>242</td>\n",
       "      <td>17.8</td>\n",
       "      <td>396.90</td>\n",
       "      <td>9.14</td>\n",
       "      <td>21.6</td>\n",
       "    </tr>\n",
       "    <tr>\n",
       "      <th>2</th>\n",
       "      <td>0.02729</td>\n",
       "      <td>0.0</td>\n",
       "      <td>7.07</td>\n",
       "      <td>0.0</td>\n",
       "      <td>0.469</td>\n",
       "      <td>7.185</td>\n",
       "      <td>61.1</td>\n",
       "      <td>4.9671</td>\n",
       "      <td>2</td>\n",
       "      <td>242</td>\n",
       "      <td>17.8</td>\n",
       "      <td>392.83</td>\n",
       "      <td>4.03</td>\n",
       "      <td>34.7</td>\n",
       "    </tr>\n",
       "    <tr>\n",
       "      <th>3</th>\n",
       "      <td>0.03237</td>\n",
       "      <td>0.0</td>\n",
       "      <td>2.18</td>\n",
       "      <td>0.0</td>\n",
       "      <td>0.458</td>\n",
       "      <td>6.998</td>\n",
       "      <td>45.8</td>\n",
       "      <td>6.0622</td>\n",
       "      <td>3</td>\n",
       "      <td>222</td>\n",
       "      <td>18.7</td>\n",
       "      <td>394.63</td>\n",
       "      <td>2.94</td>\n",
       "      <td>33.4</td>\n",
       "    </tr>\n",
       "    <tr>\n",
       "      <th>4</th>\n",
       "      <td>0.06905</td>\n",
       "      <td>0.0</td>\n",
       "      <td>2.18</td>\n",
       "      <td>0.0</td>\n",
       "      <td>0.458</td>\n",
       "      <td>7.147</td>\n",
       "      <td>54.2</td>\n",
       "      <td>6.0622</td>\n",
       "      <td>3</td>\n",
       "      <td>222</td>\n",
       "      <td>18.7</td>\n",
       "      <td>396.90</td>\n",
       "      <td>NaN</td>\n",
       "      <td>36.2</td>\n",
       "    </tr>\n",
       "  </tbody>\n",
       "</table>\n",
       "</div>"
      ],
      "text/plain": [
       "      CRIM    ZN  INDUS  CHAS    NOX     RM   AGE     DIS  RAD  TAX  PTRATIO  \\\n",
       "0  0.00632  18.0   2.31   0.0  0.538  6.575  65.2  4.0900    1  296     15.3   \n",
       "1  0.02731   0.0   7.07   0.0  0.469  6.421  78.9  4.9671    2  242     17.8   \n",
       "2  0.02729   0.0   7.07   0.0  0.469  7.185  61.1  4.9671    2  242     17.8   \n",
       "3  0.03237   0.0   2.18   0.0  0.458  6.998  45.8  6.0622    3  222     18.7   \n",
       "4  0.06905   0.0   2.18   0.0  0.458  7.147  54.2  6.0622    3  222     18.7   \n",
       "\n",
       "        B  LSTAT  MEDV  \n",
       "0  396.90   4.98  24.0  \n",
       "1  396.90   9.14  21.6  \n",
       "2  392.83   4.03  34.7  \n",
       "3  394.63   2.94  33.4  \n",
       "4  396.90    NaN  36.2  "
      ]
     },
     "execution_count": 176,
     "metadata": {},
     "output_type": "execute_result"
    }
   ],
   "source": [
    "housing_dataset = pd.read_csv(housing_dataset_path)\n",
    "housing_dataset.head()"
   ]
  },
  {
   "cell_type": "code",
   "execution_count": 177,
   "metadata": {},
   "outputs": [],
   "source": [
    "housing_X = housing_dataset.drop(columns=['MEDV']).to_numpy()\n",
    "housing_y = housing_dataset['MEDV'].to_numpy()"
   ]
  },
  {
   "cell_type": "code",
   "execution_count": 178,
   "metadata": {},
   "outputs": [],
   "source": [
    "housing_X = StandardScaler().fit_transform(housing_X)"
   ]
  },
  {
   "cell_type": "code",
   "execution_count": 179,
   "metadata": {},
   "outputs": [],
   "source": [
    "imputer = SimpleImputer(strategy='mean')\n",
    "housing_X = imputer.fit_transform(housing_X)\n",
    "# To fill in data"
   ]
  },
  {
   "cell_type": "code",
   "execution_count": 180,
   "metadata": {},
   "outputs": [],
   "source": [
    "housing_X_train, housing_X_test, housing_y_train, housing_y_test = train_test_split(housing_X, housing_y, test_size=0.2, random_state=random_state)\n",
    "housing_X_train, housing_X_val, housing_y_train, housing_y_val = train_test_split(housing_X_train, housing_y_train, test_size=0.25, random_state=random_state)"
   ]
  },
  {
   "cell_type": "markdown",
   "metadata": {},
   "source": [
    "#### Models"
   ]
  },
  {
   "cell_type": "code",
   "execution_count": 181,
   "metadata": {},
   "outputs": [],
   "source": [
    "dt_classifier_param_grid = {\n",
    "    'criterion': ['gini', 'entropy'],\n",
    "    'splitter': ['best', 'random'],\n",
    "    'max_depth': [None, 10, 30, 50],\n",
    "    'min_samples_split': [2, 5, 10],\n",
    "    'min_samples_leaf': [1, 2, 4]\n",
    "}\n",
    "\n",
    "dt_regressor_param_grid = {\n",
    "    'criterion': ['absolute_error', 'friedman_mse', 'poisson', 'squared_error'],\n",
    "    'splitter': ['best', 'random'],\n",
    "    'max_depth': [None, 10, 30, 50],\n",
    "    'min_samples_split': [2, 5, 10],\n",
    "    'min_samples_leaf': [1, 2, 4]\n",
    "}"
   ]
  },
  {
   "cell_type": "code",
   "execution_count": 182,
   "metadata": {},
   "outputs": [
    {
     "name": "stdout",
     "output_type": "stream",
     "text": [
      "Fitting 5 folds for each of 144 candidates, totalling 720 fits\n",
      "Best params: {'criterion': 'gini', 'max_depth': 10, 'min_samples_leaf': 1, 'min_samples_split': 2, 'splitter': 'random'}\n"
     ]
    }
   ],
   "source": [
    "dt_classifier = DecisionTreeClassifier(random_state=random_state)\n",
    "\n",
    "grid_search = GridSearchCV(dt_classifier, dt_classifier_param_grid, cv=5, n_jobs=-1, verbose=1)\n",
    "grid_search.fit(wine_X_train, wine_y_train)\n",
    "\n",
    "dt_classifier = DecisionTreeClassifier(**grid_search.best_params_, random_state=random_state)\n",
    "dt_classifier.fit(wine_X_train, wine_y_train)\n",
    "\n",
    "best_params_dt_classifier = grid_search.best_params_\n",
    "print(f\"Best params: {best_params_dt_classifier}\")"
   ]
  },
  {
   "cell_type": "code",
   "execution_count": 183,
   "metadata": {},
   "outputs": [
    {
     "name": "stdout",
     "output_type": "stream",
     "text": [
      "Fitting 5 folds for each of 288 candidates, totalling 1440 fits\n",
      "Best params: {'criterion': 'absolute_error', 'max_depth': 10, 'min_samples_leaf': 4, 'min_samples_split': 10, 'splitter': 'best'}\n"
     ]
    }
   ],
   "source": [
    "dt_regressor = DecisionTreeRegressor(random_state=random_state)\n",
    "\n",
    "grid_search = GridSearchCV(dt_regressor, dt_regressor_param_grid, cv=5, n_jobs=-1, verbose=1)\n",
    "grid_search.fit(housing_X_train, housing_y_train)\n",
    "\n",
    "dt_regressor = DecisionTreeRegressor(**grid_search.best_params_, random_state=random_state)\n",
    "dt_regressor.fit(housing_X_train, housing_y_train)\n",
    "\n",
    "best_params_dt_regressor = grid_search.best_params_\n",
    "print(f\"Best params: {best_params_dt_regressor}\")"
   ]
  },
  {
   "cell_type": "code",
   "execution_count": 184,
   "metadata": {},
   "outputs": [
    {
     "name": "stdout",
     "output_type": "stream",
     "text": [
      "Best params: {'learning_rate': 0.001, 'num_epochs': 15}\n"
     ]
    }
   ],
   "source": [
    "best_params_logistic = {'learning_rate': 0.001, 'num_epochs': 15} # best values from hyperparameter tuning from Assignment 3\n",
    "\n",
    "logreg = Logistic_Regression(num_classes=wine_num_classes, learning_rate=best_params_logistic['learning_rate'], num_epochs=best_params_logistic['num_epochs'], print_every=None)\n",
    "logreg.fit(wine_X_train, wine_y_train, wine_X_val, wine_y_val)\n",
    "\n",
    "print(f\"Best params: {best_params_logistic}\")"
   ]
  },
  {
   "cell_type": "code",
   "execution_count": 185,
   "metadata": {},
   "outputs": [
    {
     "name": "stdout",
     "output_type": "stream",
     "text": [
      "Best params: {'learning_rate': 0.1, 'num_epochs': 2000}\n"
     ]
    }
   ],
   "source": [
    "linear_params_grid = {\n",
    "    'learning_rate': [0.001, 0.01, 0.1],\n",
    "    'num_epochs': [100, 500, 1000, 2000]\n",
    "}\n",
    "\n",
    "best_linreg = [None, None, np.inf]\n",
    "for lr in linear_params_grid['learning_rate']:\n",
    "    for ne in linear_params_grid['num_epochs']:\n",
    "        linreg = Linear_Regression(learning_rate=lr, num_epochs=ne)\n",
    "        linreg.fit(housing_X_train, housing_y_train)\n",
    "        loss = linreg.evaluate(housing_X_val, housing_y_val)\n",
    "        if loss < best_linreg[2]:\n",
    "            best_linreg = [lr, ne, loss]\n",
    "\n",
    "linreg = Linear_Regression(learning_rate=best_linreg[0], num_epochs=best_linreg[1])\n",
    "linreg.fit(housing_X_train, housing_y_train)\n",
    "\n",
    "best_params_linreg = {'learning_rate': best_linreg[0], 'num_epochs': best_linreg[1]}\n",
    "print(f\"Best params: {best_params_linreg}\")"
   ]
  },
  {
   "cell_type": "markdown",
   "metadata": {},
   "source": [
    "MLP Hyperparameters from Assignment 3"
   ]
  },
  {
   "cell_type": "code",
   "execution_count": 238,
   "metadata": {},
   "outputs": [
    {
     "name": "stdout",
     "output_type": "stream",
     "text": [
      "Best params: {'input_size': 12, 'num_classes': 11, 'optimizer': 'sgd', 'activation': 'sigmoid', 'hidden_layers': [8], 'learning_rate': 0.01, 'batch_size': 32, 'max_epochs': 1000}\n"
     ]
    }
   ],
   "source": [
    "best_params_mlp_classifier = ['sgd', 'sigmoid', [8,], 0.01, 32, 1000] # optimizer, activation, hidden_layers, lr, batch_size, max_epochs\n",
    "\n",
    "mlp_classifier = MLP_Classifier(input_size=wine_X_train.shape[1], hidden_layers=best_params_mlp_classifier[2], num_classes=wine_num_classes, learning_rate=best_params_mlp_classifier[3], optimizer=best_params_mlp_classifier[0], activation=best_params_mlp_classifier[1], max_epochs=best_params_mlp_classifier[5], batch_size=best_params_mlp_classifier[4])\n",
    "mlp_classifier.train(wine_X_train, wine_y_train, X_validation=wine_X_val, y_validation=wine_y_val)\n",
    "\n",
    "best_params_mlp_classifier = {'input_size': wine_X_train.shape[1], 'num_classes': wine_num_classes, 'optimizer': best_params_mlp_classifier[0], 'activation': best_params_mlp_classifier[1], 'hidden_layers': best_params_mlp_classifier[2], 'learning_rate': best_params_mlp_classifier[3], 'batch_size': best_params_mlp_classifier[4], 'max_epochs': best_params_mlp_classifier[5]}\n",
    "print(f\"Best params: {best_params_mlp_classifier}\")"
   ]
  },
  {
   "cell_type": "code",
   "execution_count": 239,
   "metadata": {},
   "outputs": [
    {
     "name": "stdout",
     "output_type": "stream",
     "text": [
      "Best params: {'input_size': 13, 'optimizer': 'sgd', 'activation': 'relu', 'hidden_layers': [8], 'learning_rate': 0.001, 'batch_size': 32, 'max_epochs': 1000}\n"
     ]
    }
   ],
   "source": [
    "best_params_mlp_regressor = ['sgd', 'relu', [8,], 0.001, 32, 1000] # optimizer, activation, hidden_layers, lr, batch_size, max_epochs\n",
    "\n",
    "mlp_regressor = MLP_Regression(input_size=housing_X_train.shape[1], hidden_layers=best_params_mlp_regressor[2], learning_rate=best_params_mlp_regressor[3], optimizer=best_params_mlp_regressor[0], activation=best_params_mlp_regressor[1], max_epochs=best_params_mlp_regressor[5], batch_size=best_params_mlp_regressor[4])\n",
    "mlp_regressor.train(housing_X_train, housing_y_train, X_validation=housing_X_val, y_validation=housing_y_val)\n",
    "\n",
    "best_params_mlp_regressor = {'input_size': housing_X_train.shape[1],'optimizer': best_params_mlp_regressor[0], 'activation': best_params_mlp_regressor[1], 'hidden_layers': best_params_mlp_regressor[2], 'learning_rate': best_params_mlp_regressor[3], 'batch_size': best_params_mlp_regressor[4], 'max_epochs': best_params_mlp_regressor[5]}\n",
    "print(f\"Best params: {best_params_mlp_regressor}\")"
   ]
  },
  {
   "cell_type": "markdown",
   "metadata": {},
   "source": [
    "#### Bagging"
   ]
  },
  {
   "cell_type": "code",
   "execution_count": 188,
   "metadata": {},
   "outputs": [],
   "source": [
    "# bagging_dt_classifier = Bagging(DecisionTreeClassifier, best_params_dt_classifier, n_estimators=10, fraction=0.25, bootstrap=True, hard_voting=True, classification=True)\n",
    "# bagging_dt_classifier.fit(wine_X_train, wine_y_train, wine_X_val, wine_y_val)\n",
    "# # bagging_dt.evaluate(wine_X_test, wine_y_test)\n",
    "\n",
    "# bagging_dt_regressor = Bagging(DecisionTreeRegressor, best_params_dt_regressor, n_estimators=6, fraction=0.15, bootstrap=False, hard_voting=True, classification=False)\n",
    "# bagging_dt_regressor.fit(housing_X_train, housing_y_train, housing_X_val, housing_y_val)\n",
    "# # bagging_dt_regressor.evaluate(housing_X_test, housing_y_test)"
   ]
  },
  {
   "cell_type": "code",
   "execution_count": 189,
   "metadata": {},
   "outputs": [],
   "source": [
    "# bagging_logreg = Bagging(Logistic_Regression, best_params_logistic, n_estimators=10, fraction=0.15, bootstrap=True, hard_voting=True, classification=True)\n",
    "# bagging_logreg.fit(wine_X_train, wine_y_train, wine_X_val, wine_y_val)\n",
    "\n",
    "# bagging_linreg = Bagging(Linear_Regression, best_params_linreg, n_estimators=10, fraction=0.15, bootstrap=True, hard_voting=True, classification=False)\n",
    "# bagging_linreg.fit(housing_X_train, housing_y_train, housing_X_val, housing_y_val)"
   ]
  },
  {
   "cell_type": "code",
   "execution_count": 190,
   "metadata": {},
   "outputs": [],
   "source": [
    "# if mlp:\n",
    "    # bagging_mlp_classifier = Bagging(MLP_Classifier, best_params_mlp_classifier, n_estimators=10, fraction=0.15, bootstrap=True, hard_voting=True, classification=True)\n",
    "    # bagging_mlp_classifier.fit(wine_X_train, wine_y_train, wine_X_val, wine_y_val)\n",
    "\n",
    "    # bagging_mlp_regressor = Bagging(MLP_Regression, best_params_mlp_regressor, n_estimators=10, fraction=0.15, bootstrap=True, hard_voting=True, classification=False)\n",
    "    # bagging_mlp_regressor.fit(housing_X_train, housing_y_train, housing_X_val, housing_y_val)"
   ]
  },
  {
   "cell_type": "code",
   "execution_count": 191,
   "metadata": {},
   "outputs": [],
   "source": [
    "params_dict = {\n",
    "    'n_estimators': [2, 5, 10, 20],\n",
    "    'fraction': [0.15, 0.25, 0.5, 0.75, 1.0],\n",
    "    'bootstrap': [True, False],\n",
    "    'hard_voting': [True, False]\n",
    "}\n",
    "\n",
    "total_runs = len(params_dict['n_estimators']) * len(params_dict['fraction']) * len(params_dict['bootstrap']) * len(params_dict['hard_voting'])\n",
    "\n",
    "best_params_bagging_dt_classifier = [None, None, None, None, -np.inf]\n",
    "best_params_bagging_dt_regressor = [None, None, None, None, -np.inf]\n",
    "best_params_bagging_logreg = [None, None, None, None, -np.inf]\n",
    "best_params_bagging_linreg = [None, None, None, None, -np.inf]\n",
    "best_params_bagging_mlp_classifier = [None, None, None, None, -np.inf]\n",
    "best_params_bagging_mlp_regressor = [None, None, None, None, -np.inf]\n",
    "\n",
    "accuracies_bagging_dt_classifier = dict()\n",
    "accuracies_bagging_dt_regressor = dict()\n",
    "accuracies_bagging_logreg = dict()\n",
    "accuracies_bagging_linreg = dict()\n",
    "accuracies_bagging_mlp_classifier = dict()\n",
    "accuracies_bagging_mlp_regressor = dict()\n",
    "\n",
    "for n_estimators in params_dict['n_estimators']:\n",
    "    accuracies_bagging_dt_classifier[n_estimators] = dict()\n",
    "    accuracies_bagging_dt_regressor[n_estimators] = dict()\n",
    "    accuracies_bagging_logreg[n_estimators] = dict()\n",
    "    accuracies_bagging_linreg[n_estimators] = dict()\n",
    "    accuracies_bagging_mlp_classifier[n_estimators] = dict()\n",
    "    accuracies_bagging_mlp_regressor[n_estimators] = dict()\n",
    "    for fraction in params_dict['fraction']:\n",
    "        accuracies_bagging_dt_classifier[n_estimators][fraction] = 0\n",
    "        accuracies_bagging_dt_regressor[n_estimators][fraction] = 0\n",
    "        accuracies_bagging_logreg[n_estimators][fraction] = 0\n",
    "        accuracies_bagging_linreg[n_estimators][fraction] = 0\n",
    "        accuracies_bagging_mlp_classifier[n_estimators][fraction] = 0\n",
    "        accuracies_bagging_mlp_regressor[n_estimators][fraction] = 0\n",
    "        "
   ]
  },
  {
   "cell_type": "code",
   "execution_count": 234,
   "metadata": {},
   "outputs": [
    {
     "name": "stderr",
     "output_type": "stream",
     "text": [
      "100%|██████████| 80/80 [00:19<00:00,  4.02it/s]"
     ]
    },
    {
     "name": "stdout",
     "output_type": "stream",
     "text": [
      "Best params for bagging with DecisionTreeClassifier: [10, 0.25, True, True, 0.6550218340611353]\n",
      "Best params for bagging with DecisionTreeRegressor: [10, 1.0, True, True, 0.7887964592935023]\n",
      "Best params for bagging with Logistic Regression: [2, 0.5, False, False, 0.5938864628820961]\n",
      "Best params for bagging with Linear Regression: [2, 0.25, True, False, 0.6721829342563804]\n"
     ]
    },
    {
     "name": "stderr",
     "output_type": "stream",
     "text": [
      "\n"
     ]
    }
   ],
   "source": [
    "with tqdm(total=total_runs) as pbar:\n",
    "    for n_estimators in params_dict['n_estimators']:\n",
    "        for fraction in params_dict['fraction']:\n",
    "            for bootstrap in params_dict['bootstrap']:\n",
    "                for hard_voting in params_dict['hard_voting']:\n",
    "                    if bootstrap==False and fraction * n_estimators > 1:\n",
    "                        pbar.update(1)\n",
    "                        continue\n",
    "                    \n",
    "                    # print(f\"n_estimators: {n_estimators}, fraction: {fraction}, bootstrap: {bootstrap}, hard_voting: {hard_voting}\")\n",
    "                    scores = evaluate_all_bagging_models(n_estimators, fraction, bootstrap, hard_voting, mlp=mlp)\n",
    "\n",
    "                    if scores['bagging_dt_classifier'] > best_params_bagging_dt_classifier[-1]:\n",
    "                        best_params_bagging_dt_classifier = [n_estimators, fraction, bootstrap, hard_voting, scores['bagging_dt_classifier']]\n",
    "                    if scores['bagging_dt_regressor'] > best_params_bagging_dt_regressor[-1]:\n",
    "                        best_params_bagging_dt_regressor = [n_estimators, fraction, bootstrap, hard_voting, scores['bagging_dt_regressor']]\n",
    "                    if scores['bagging_logreg'] > best_params_bagging_logreg[-1]:\n",
    "                        best_params_bagging_logreg = [n_estimators, fraction, bootstrap, hard_voting, scores['bagging_logreg']]\n",
    "                    if scores['bagging_linreg'] > best_params_bagging_linreg[-1]:\n",
    "                        best_params_bagging_linreg = [n_estimators, fraction, bootstrap, hard_voting, scores['bagging_linreg']]\n",
    "                    if mlp:\n",
    "                        if scores['bagging_mlp_classifier'] > best_params_bagging_mlp_classifier[-1]:\n",
    "                            best_params_bagging_mlp_classifier = [n_estimators, fraction, bootstrap, hard_voting, scores['bagging_mlp_classifier']]\n",
    "                        if scores['bagging_mlp_regressor'] > best_params_bagging_mlp_regressor[-1]:\n",
    "                            best_params_bagging_mlp_regressor = [n_estimators, fraction, bootstrap, hard_voting, scores['bagging_mlp_regressor']]\n",
    "                    \n",
    "                    pbar.update(1)\n",
    "\n",
    "                    if hard_voting and bootstrap:\n",
    "                        accuracies_bagging_dt_classifier[n_estimators][fraction] = scores['bagging_dt_classifier']\n",
    "                        accuracies_bagging_dt_regressor[n_estimators][fraction] = scores['bagging_dt_regressor']\n",
    "                        accuracies_bagging_logreg[n_estimators][fraction] = scores['bagging_logreg']\n",
    "                        accuracies_bagging_linreg[n_estimators][fraction] = scores['bagging_linreg']\n",
    "                        if mlp:\n",
    "                            accuracies_bagging_mlp_classifier[n_estimators][fraction] = scores['bagging_mlp_classifier']\n",
    "                            accuracies_bagging_mlp_regressor[n_estimators][fraction] = scores['bagging_mlp_regressor']\n",
    "\n",
    "if not mlp: # To add\n",
    "    accuracies_bagging_mlp_classifier = None\n",
    "    accuracies_bagging_mlp_regressor = None\n",
    "    best_params_bagging_mlp_classifier = None\n",
    "    best_params_bagging_mlp_regressor = None\n",
    "\n",
    "print(f\"Best params for bagging with DecisionTreeClassifier: {best_params_bagging_dt_classifier}\")\n",
    "print(f\"Best params for bagging with DecisionTreeRegressor: {best_params_bagging_dt_regressor}\")\n",
    "print(f\"Best params for bagging with Logistic Regression: {best_params_bagging_logreg}\")\n",
    "print(f\"Best params for bagging with Linear Regression: {best_params_bagging_linreg}\")\n",
    "if mlp: # To remove\n",
    "    print(f\"Best params for bagging with MLP Classifier: {best_params_bagging_mlp_classifier}\")\n",
    "    print(f\"Best params for bagging with MLP Regressor: {best_params_bagging_mlp_regressor}\")"
   ]
  },
  {
   "cell_type": "code",
   "execution_count": null,
   "metadata": {},
   "outputs": [],
   "source": [
    "print(accuracies_bagging_mlp_classifier)\n",
    "print(accuracies_bagging_mlp_regressor)"
   ]
  },
  {
   "cell_type": "code",
   "execution_count": 235,
   "metadata": {},
   "outputs": [
    {
     "data": {
      "image/png": "[encoded data removed]",
      "text/plain": [
       "<Figure size 640x480 with 2 Axes>"
      ]
     },
     "metadata": {},
     "output_type": "display_data"
    },
    {
     "data": {
      "image/png": "[encoded data removed]",
      "text/plain": [
       "<Figure size 640x480 with 2 Axes>"
      ]
     },
     "metadata": {},
     "output_type": "display_data"
    },
    {
     "data": {
      "image/png": "[encoded data removed]",
      "text/plain": [
       "<Figure size 640x480 with 2 Axes>"
      ]
     },
     "metadata": {},
     "output_type": "display_data"
    },
    {
     "data": {
      "image/png": "[encoded data removed]",
      "text/plain": [
       "<Figure size 640x480 with 2 Axes>"
      ]
     },
     "metadata": {},
     "output_type": "display_data"
    }
   ],
   "source": [
    "plotheatmap(accuracies_bagging_dt_classifier, 'DecisionTreeClassifier')\n",
    "plotheatmap(accuracies_bagging_dt_regressor, 'DecisionTreeRegressor')\n",
    "plotheatmap(accuracies_bagging_logreg, 'LogisticRegression')\n",
    "plotheatmap(accuracies_bagging_linreg, 'LinearRegression')\n",
    "if mlp: # To remove\n",
    "    plotheatmap(accuracies_bagging_mlp_classifier, 'MLPClassifier')\n",
    "    plotheatmap(accuracies_bagging_mlp_regressor, 'MLPRegressor')"
   ]
  },
  {
   "cell_type": "code",
   "execution_count": 237,
   "metadata": {},
   "outputs": [
    {
     "data": {
      "image/png": "[encoded data removed]",
      "text/plain": [
       "<Figure size 1500x500 with 1 Axes>"
      ]
     },
     "metadata": {},
     "output_type": "display_data"
    }
   ],
   "source": [
    "bins = ['DecisionTreeClassifier', 'DecisionTreeRegressor', 'LogisticClassifier', 'LinearRegression']\n",
    "best_accuracies_bagged = [\n",
    "    best_params_bagging_dt_classifier[-1],\n",
    "    best_params_bagging_dt_regressor[-1],\n",
    "    best_params_bagging_logreg[-1],\n",
    "    best_params_bagging_linreg[-1]\n",
    "]\n",
    "best_accuracy_normal = [\n",
    "    accuracy_score(wine_y_test, dt_classifier.predict(wine_X_test)),\n",
    "    r2_score(housing_y_test, dt_regressor.predict(housing_X_test)),\n",
    "    accuracy_score(wine_y_test, logreg.predict(wine_X_test)),\n",
    "    r2_score(housing_y_test, linreg.predict(housing_X_test))\n",
    "]\n",
    "\n",
    "if mlp: # To remove\n",
    "    bins.extend(['MLPClassifier', 'MLPRegressor'])\n",
    "    best_accuracies_bagged.extend([\n",
    "        best_params_bagging_mlp_classifier[-1],\n",
    "        best_params_bagging_mlp_regressor[-1]\n",
    "    ])\n",
    "    best_accuracy_normal.extend([\n",
    "        mlp_classifier.evaluate(wine_X_test, wine_y_test),\n",
    "        mlp_regressor.evaluate(housing_X_test, housing_y_test)[2]\n",
    "    ])\n",
    "\n",
    "# Using Chat-GPT\n",
    "fig, ax = plt.subplots(figsize=(15, 5))\n",
    "width = 0.35\n",
    "ind = np.arange(len(bins))  # the x locations for the groups\n",
    "\n",
    "rects1 = ax.bar(ind - width/2, best_accuracies_bagged, width, label='Bagged')\n",
    "rects2 = ax.bar(ind + width/2, best_accuracy_normal, width, label='Normal')\n",
    "\n",
    "for i, rect in enumerate(rects1):\n",
    "    height = rect.get_height()\n",
    "    ax.text(rect.get_x() + rect.get_width()/2., height, '%.2f' % best_accuracies_bagged[i],\n",
    "            ha='center', va='bottom')\n",
    "\n",
    "for i, rect in enumerate(rects2):\n",
    "    height = rect.get_height()\n",
    "    ax.text(rect.get_x() + rect.get_width()/2., height, '%.2f' % best_accuracy_normal[i],\n",
    "            ha='center', va='bottom')\n",
    "\n",
    "ax.set_xlabel('Bins')\n",
    "ax.set_ylabel('Values')\n",
    "ax.set_title('Side-by-Side Histograms')\n",
    "ax.set_xticks(ind)\n",
    "ax.set_xticklabels(bins)\n",
    "ax.legend()\n",
    "\n",
    "plt.show()"
   ]
  },
  {
   "cell_type": "markdown",
   "metadata": {},
   "source": [
    "#### Stacking"
   ]
  },
  {
   "cell_type": "code",
   "execution_count": 240,
   "metadata": {},
   "outputs": [],
   "source": [
    "# stacking_classifier = Stacking([dt_classifier, logreg], DecisionTreeClassifier, best_params_dt_classifier, method='stacking', n_fold=3, classification=True)\n",
    "# stacking_classifier.fit(wine_X_train, wine_y_train)\n",
    "# stacking_classifier.evaluate(wine_X_test, wine_y_test)"
   ]
  },
  {
   "cell_type": "code",
   "execution_count": 205,
   "metadata": {},
   "outputs": [],
   "source": [
    "models_classifier = [dt_classifier, logreg, mlp_classifier]\n",
    "models_regressor = [dt_regressor, linreg, mlp_regressor]\n",
    "\n",
    "best_hyperparameter_classifier = {\n",
    "    'method': None,\n",
    "    'n_fold': None,\n",
    "    'level1_model': None,\n",
    "    'level1_params': None,\n",
    "    'accuracy': -np.inf\n",
    "}\n",
    "best_hyperparameter_regressor = {\n",
    "    'method': None,\n",
    "    'n_fold': None,\n",
    "    'level1_model': None,\n",
    "    'level1_params': None,\n",
    "    'accuracy': -np.inf\n",
    "}"
   ]
  },
  {
   "cell_type": "code",
   "execution_count": 206,
   "metadata": {},
   "outputs": [],
   "source": [
    "for method in ['stacking', 'blending']:\n",
    "    for n_fold in [3,5,7]:\n",
    "        stacking_classifier = Stacking(models_classifier, DecisionTreeClassifier, best_params_dt_classifier, method=method, n_fold=n_fold, classification=True)\n",
    "        stacking_classifier.fit(wine_X_train, wine_y_train)\n",
    "        accuracy = stacking_classifier.evaluate(wine_X_test, wine_y_test)\n",
    "\n",
    "        if accuracy > best_hyperparameter_classifier['accuracy']:\n",
    "            best_hyperparameter_classifier = {\n",
    "                'method': method,\n",
    "                'n_fold': n_fold,\n",
    "                'level1_model': 'DecisionTreeClassifier',\n",
    "                'level1_params': best_params_dt_classifier,\n",
    "                'accuracy': accuracy\n",
    "            }\n",
    "        \n",
    "        stacking_classifier = Stacking(models_classifier, Logistic_Regression, best_params_logistic, method=method, n_fold=n_fold, classification=True)\n",
    "        stacking_classifier.fit(wine_X_train, wine_y_train)\n",
    "        accuracy = stacking_classifier.evaluate(wine_X_test, wine_y_test)\n",
    "\n",
    "        if accuracy > best_hyperparameter_classifier['accuracy']:\n",
    "            best_hyperparameter_classifier = {\n",
    "                'method': method,\n",
    "                'n_fold': n_fold,\n",
    "                'level1_model': 'LogisticRegression',\n",
    "                'level1_params': best_params_logistic,\n",
    "                'accuracy': accuracy\n",
    "            }\n",
    "        \n",
    "        stacking_regressor = Stacking(models_regressor, DecisionTreeRegressor, best_params_dt_regressor, method=method, n_fold=n_fold, classification=False)\n",
    "        stacking_regressor.fit(housing_X_train, housing_y_train)\n",
    "        accuracy = stacking_regressor.evaluate(housing_X_test, housing_y_test)\n",
    "\n",
    "        if accuracy > best_hyperparameter_regressor['accuracy']:\n",
    "            best_hyperparameter_regressor = {\n",
    "                'method': method,\n",
    "                'n_fold': n_fold,\n",
    "                'level1_model': 'DecisionTreeRegressor',\n",
    "                'level1_params': best_params_dt_regressor,\n",
    "                'accuracy': accuracy\n",
    "            }\n",
    "        \n",
    "        stacking_regressor = Stacking(models_regressor, Linear_Regression, best_params_linreg, method=method, n_fold=n_fold, classification=False)\n",
    "        stacking_regressor.fit(housing_X_train, housing_y_train)\n",
    "        accuracy = stacking_regressor.evaluate(housing_X_test, housing_y_test)\n",
    "\n",
    "        if accuracy > best_hyperparameter_regressor['accuracy']:\n",
    "            best_hyperparameter_regressor = {\n",
    "                'method': method,\n",
    "                'n_fold': n_fold,\n",
    "                'level1_model': 'LinearRegression',\n",
    "                'level1_params': best_params_linreg,\n",
    "                'accuracy': accuracy\n",
    "            }"
   ]
  },
  {
   "cell_type": "code",
   "execution_count": 207,
   "metadata": {},
   "outputs": [
    {
     "name": "stdout",
     "output_type": "stream",
     "text": [
      "Best hyperparameter for stacking classifier: {'method': 'stacking', 'n_fold': 3, 'level1_model': 'DecisionTreeClassifier', 'level1_params': {'criterion': 'gini', 'max_depth': 10, 'min_samples_leaf': 1, 'min_samples_split': 2, 'splitter': 'random'}, 'accuracy': 0.5938864628820961}\n",
      "Best hyperparameter for stacking regressor: {'method': 'stacking', 'n_fold': 7, 'level1_model': 'DecisionTreeRegressor', 'level1_params': {'criterion': 'absolute_error', 'max_depth': 10, 'min_samples_leaf': 4, 'min_samples_split': 10, 'splitter': 'best'}, 'accuracy': 0.808932655965149}\n"
     ]
    }
   ],
   "source": [
    "print(f\"Best hyperparameter for stacking classifier: {best_hyperparameter_classifier}\")\n",
    "print(f\"Best hyperparameter for stacking regressor: {best_hyperparameter_regressor}\")"
   ]
  },
  {
   "cell_type": "code",
   "execution_count": 208,
   "metadata": {},
   "outputs": [
    {
     "data": {
      "image/png": "[encoded data removed]",
      "text/plain": [
       "<Figure size 1500x500 with 1 Axes>"
      ]
     },
     "metadata": {},
     "output_type": "display_data"
    }
   ],
   "source": [
    "bins = ['DecisionTreeClassifier', 'DecisionTreeRegressor', 'LogisticClassifier', 'LinearRegression']\n",
    "best_accuracies_bagged = [\n",
    "    best_params_bagging_dt_classifier[-1],\n",
    "    best_params_bagging_dt_regressor[-1],\n",
    "    best_params_bagging_logreg[-1],\n",
    "    best_params_bagging_linreg[-1]\n",
    "]\n",
    "best_accuracy_normal = [\n",
    "    accuracy_score(wine_y_test, dt_classifier.predict(wine_X_test)),\n",
    "    r2_score(housing_y_test, dt_regressor.predict(housing_X_test)),\n",
    "    accuracy_score(wine_y_test, logreg.predict(wine_X_test)),\n",
    "    r2_score(housing_y_test, linreg.predict(housing_X_test))\n",
    "]\n",
    "best_accuracies_stack = [\n",
    "    best_hyperparameter_classifier['accuracy'],\n",
    "    best_hyperparameter_regressor['accuracy'],\n",
    "    best_hyperparameter_classifier['accuracy'],\n",
    "    best_hyperparameter_regressor['accuracy']\n",
    "]\n",
    "\n",
    "if mlp: # To remove\n",
    "    bins.extend(['MLPClassifier', 'MLPRegressor'])\n",
    "    best_accuracies_bagged.extend([\n",
    "        best_params_bagging_mlp_classifier[-1],\n",
    "        best_params_bagging_mlp_regressor[-1]\n",
    "    ])\n",
    "    best_accuracy_normal.extend([\n",
    "        mlp_classifier.evaluate(wine_X_test, wine_y_test),\n",
    "        mlp_regressor.evaluate(housing_X_test, housing_y_test)[2]\n",
    "    ])\n",
    "    best_accuracies_stack.extend([\n",
    "        best_hyperparameter_classifier['accuracy'],\n",
    "        best_hyperparameter_regressor['accuracy']\n",
    "    ])\n",
    "\n",
    "# Using Chat-GPT\n",
    "fig, ax = plt.subplots(figsize=(15, 5))\n",
    "width = 0.2\n",
    "ind = np.arange(len(bins))  # the x locations for the groups\n",
    "\n",
    "rects1 = ax.bar(ind - width, best_accuracies_bagged, width, label='Bagged')\n",
    "rects2 = ax.bar(ind, best_accuracy_normal, width, label='Normal')\n",
    "rects3 = ax.bar(ind + width, best_accuracies_stack, width, label='Stacked')\n",
    "\n",
    "for i, rect in enumerate(rects1):\n",
    "    height = rect.get_height()\n",
    "    ax.text(rect.get_x() + rect.get_width()/2., height, '%.2f' % best_accuracies_bagged[i],\n",
    "            ha='center', va='bottom')\n",
    "\n",
    "for i, rect in enumerate(rects2):\n",
    "    height = rect.get_height()\n",
    "    ax.text(rect.get_x() + rect.get_width()/2., height, '%.2f' % best_accuracy_normal[i],\n",
    "            ha='center', va='bottom')\n",
    "\n",
    "for i, rect in enumerate(rects3):\n",
    "    height = rect.get_height()\n",
    "    ax.text(rect.get_x() + rect.get_width()/2., height, '%.2f' % best_accuracies_stack[i],\n",
    "            ha='center', va='bottom')\n",
    "\n",
    "ax.set_xlabel('Bins')\n",
    "ax.set_ylabel('Values')\n",
    "ax.set_title('Side-by-Side Histograms')\n",
    "ax.set_xticks(ind)\n",
    "ax.set_xticklabels(bins)\n",
    "ax.legend()\n",
    "\n",
    "plt.show()"
   ]
  },
  {
   "cell_type": "markdown",
   "metadata": {},
   "source": [
    "#### Random Forest"
   ]
  },
  {
   "cell_type": "code",
   "execution_count": 243,
   "metadata": {},
   "outputs": [],
   "source": [
    "best_params_rf_classifier = 0\n",
    "best_accuracy_rf_classifier = -np.inf\n",
    "best_params_rf_regressor = 0\n",
    "best_accuracy_rf_regressor = -np.inf"
   ]
  },
  {
   "cell_type": "code",
   "execution_count": 244,
   "metadata": {},
   "outputs": [
    {
     "name": "stdout",
     "output_type": "stream",
     "text": [
      "Best n_estimators for RandomForestClassifier: {'n_estimators': 20, 'best_params': {'criterion': 'gini', 'max_depth': 10, 'min_samples_leaf': 1, 'min_samples_split': 2, 'splitter': 'random'}}\n",
      "Accuracy for RandomForestClassifier: 0.6637554585152838\n",
      "Best n_estimators for RandomForestRegressor: {'n_estimators': 20, 'best_params': {'criterion': 'absolute_error', 'max_depth': 10, 'min_samples_leaf': 4, 'min_samples_split': 10, 'splitter': 'best'}}\n",
      "Accuracy for RandomForestRegressor: 0.7801049810228436\n"
     ]
    }
   ],
   "source": [
    "for n_estimators in [2,5,10,20,30]:\n",
    "    model = RandomForest(best_params_dt_classifier, n_estimators=n_estimators, classification=True)\n",
    "    model.fit(wine_X_train, wine_y_train, wine_X_val, wine_y_val)\n",
    "    accuracy = model.evaluate(wine_X_test, wine_y_test)\n",
    "\n",
    "    if accuracy > best_accuracy_rf_classifier:\n",
    "        best_accuracy_rf_classifier = accuracy\n",
    "        best_params_rf_classifier = {'n_estimators': n_estimators, 'best_params': best_params_dt_classifier}\n",
    "    \n",
    "    model = RandomForest(best_params_dt_regressor, n_estimators=n_estimators, classification=False)\n",
    "    model.fit(housing_X_train, housing_y_train, housing_X_val, housing_y_val)\n",
    "    accuracy = model.evaluate(housing_X_test, housing_y_test)\n",
    "\n",
    "    if accuracy > best_accuracy_rf_regressor:\n",
    "        best_accuracy_rf_regressor = accuracy\n",
    "        best_params_rf_regressor = {'n_estimators': n_estimators, 'best_params': best_params_dt_regressor}\n",
    "\n",
    "print(f\"Best n_estimators for RandomForestClassifier: {best_params_rf_classifier}\")\n",
    "print(f\"Accuracy for RandomForestClassifier: {best_accuracy_rf_classifier}\")\n",
    "print(f\"Best n_estimators for RandomForestRegressor: {best_params_rf_regressor}\")  \n",
    "print(f\"Accuracy for RandomForestRegressor: {best_accuracy_rf_regressor}\") "
   ]
  },
  {
   "cell_type": "markdown",
   "metadata": {},
   "source": [
    "#### AdaBoost"
   ]
  },
  {
   "cell_type": "code",
   "execution_count": 245,
   "metadata": {},
   "outputs": [],
   "source": [
    "wine_y_test1 = np.array([0 if y <= 5 else 1 for y in wine_y_test])\n",
    "wine_y_train1 = np.array([0 if y <= 5 else 1 for y in wine_y_train])\n",
    "wine_y_val1 = np.array([0 if y <= 5 else 1 for y in wine_y_val])\n",
    "\n",
    "best_params_dt_classifier1 = best_params_dt_classifier.copy()\n",
    "best_params_dt_classifier1['max_depth'] -= 1"
   ]
  },
  {
   "cell_type": "code",
   "execution_count": 246,
   "metadata": {},
   "outputs": [],
   "source": [
    "no_estimators = [2,5,10,15,20,25,30]"
   ]
  },
  {
   "cell_type": "code",
   "execution_count": 247,
   "metadata": {},
   "outputs": [],
   "source": [
    "accuracy_adaboost_classifier = []\n",
    "time_adaboost_classifier = []\n",
    "accuracy_adaboost_regressor = []\n",
    "time_adaboost_regressor = []\n",
    "\n",
    "for no_estimator in no_estimators:\n",
    "    start_time = time.time()\n",
    "    adaboost_classifier = AdaBoostClassifier(T=no_estimator, best_params=best_params_dt_classifier1)\n",
    "    adaboost_classifier.fit(wine_X_train, wine_y_train1)\n",
    "    accuracy = adaboost_classifier.evaluate(wine_X_test, wine_y_test1)\n",
    "    end_time = time.time()\n",
    "\n",
    "    accuracy_adaboost_classifier.append(accuracy)\n",
    "    time_adaboost_classifier.append(end_time-start_time)\n",
    "\n",
    "    start_time = time.time()\n",
    "    adaboost_regressor = AdaBoostRegressor(T=no_estimator, best_params=best_params_dt_regressor)\n",
    "    adaboost_regressor.fit(housing_X_train, housing_y_train)\n",
    "    accuracy = adaboost_regressor.evaluate(housing_X_test, housing_y_test)\n",
    "    end_time = time.time()\n",
    "\n",
    "    accuracy_adaboost_regressor.append(accuracy)\n",
    "    time_adaboost_regressor.append(end_time-start_time)\n",
    "\n",
    "best_index = np.argmax(accuracy_adaboost_classifier)\n",
    "best_accuracy_adaboost_classifier = accuracy_adaboost_classifier[best_index]\n",
    "best_no_estimator_adaboost_classifier = no_estimators[best_index]\n",
    "\n",
    "best_index = np.argmax(accuracy_adaboost_regressor)\n",
    "best_accuracy_adaboost_regressor = accuracy_adaboost_regressor[best_index]\n",
    "best_no_estimator_adaboost_regressor = no_estimators[best_index]"
   ]
  },
  {
   "cell_type": "code",
   "execution_count": 248,
   "metadata": {},
   "outputs": [
    {
     "name": "stdout",
     "output_type": "stream",
     "text": [
      "Best no. of estimators for AdaBoostClassifier: 25\n",
      "Best accuracy for AdaBoostClassifier: 0.7903930131004366\n"
     ]
    },
    {
     "data": {
      "image/png": "[encoded data removed]",
      "text/plain": [
       "<Figure size 1500x500 with 2 Axes>"
      ]
     },
     "metadata": {},
     "output_type": "display_data"
    }
   ],
   "source": [
    "print(f\"Best no. of estimators for AdaBoostClassifier: {best_no_estimator_adaboost_classifier}\")\n",
    "print(f\"Best accuracy for AdaBoostClassifier: {best_accuracy_adaboost_classifier}\")\n",
    "\n",
    "plt.figure(figsize=(15,5))\n",
    "plt.subplot(1,2,1)\n",
    "plt.plot(no_estimators, accuracy_adaboost_classifier)\n",
    "plt.xlabel('No. of estimators')\n",
    "plt.ylabel('Accuracy')\n",
    "plt.title('Accuracy vs No. of estimators for AdaBoostClassifier')\n",
    "\n",
    "plt.subplot(1,2,2)\n",
    "plt.plot(no_estimators, time_adaboost_classifier)\n",
    "plt.xlabel('No. of estimators')\n",
    "plt.ylabel('Time')\n",
    "plt.title('Time vs No. of estimators for AdaBoostClassifier')\n",
    "plt.show()"
   ]
  },
  {
   "cell_type": "code",
   "execution_count": 249,
   "metadata": {},
   "outputs": [
    {
     "name": "stdout",
     "output_type": "stream",
     "text": [
      "Best no. of estimators for AdaBoostRegressor: 30\n",
      "Best score for AdaBoostRegressor: 0.8991503512325105\n"
     ]
    },
    {
     "data": {
      "image/png": "[encoded data removed]",
      "text/plain": [
       "<Figure size 1500x500 with 2 Axes>"
      ]
     },
     "metadata": {},
     "output_type": "display_data"
    }
   ],
   "source": [
    "print(f\"Best no. of estimators for AdaBoostRegressor: {best_no_estimator_adaboost_regressor}\")\n",
    "print(f\"Best score for AdaBoostRegressor: {best_accuracy_adaboost_regressor}\")\n",
    "\n",
    "plt.figure(figsize=(15,5))\n",
    "plt.subplot(1,2,1)\n",
    "plt.plot(no_estimators, accuracy_adaboost_regressor)\n",
    "plt.xlabel('No. of estimators')\n",
    "plt.ylabel('Score')\n",
    "plt.title('Score vs No. of estimators for AdaBoostRegressor')\n",
    "\n",
    "plt.subplot(1,2,2)\n",
    "plt.plot(no_estimators, time_adaboost_regressor)\n",
    "plt.xlabel('No. of estimators')\n",
    "plt.ylabel('Time')\n",
    "plt.title('Time vs No. of estimators for AdaBoostRegressor')\n",
    "plt.show()"
   ]
  },
  {
   "cell_type": "code",
   "execution_count": 250,
   "metadata": {},
   "outputs": [
    {
     "data": {
      "image/png": "[encoded data removed]",
      "text/plain": [
       "<Figure size 1000x500 with 1 Axes>"
      ]
     },
     "metadata": {},
     "output_type": "display_data"
    }
   ],
   "source": [
    "bins = ['Classifier', 'Regressor']\n",
    "best_accuracies_rf = [\n",
    "    best_accuracy_rf_classifier,\n",
    "    best_accuracy_rf_regressor\n",
    "]\n",
    "best_accuracies_adaboost = [\n",
    "    best_accuracy_adaboost_classifier,\n",
    "    best_accuracy_adaboost_regressor\n",
    "]\n",
    "\n",
    "# Using Chat-GPT\n",
    "fig, ax = plt.subplots(figsize=(10, 5))\n",
    "width = 0.35\n",
    "ind = np.arange(len(bins))  # the x locations for the groups\n",
    "\n",
    "rects1 = ax.bar(ind - width/2, best_accuracies_rf, width, label='RandomForest')\n",
    "rects2 = ax.bar(ind + width/2, best_accuracies_adaboost, width, label='AdaBoost')\n",
    "\n",
    "for i, rect in enumerate(rects1):\n",
    "    height = rect.get_height()\n",
    "    ax.text(rect.get_x() + rect.get_width()/2., height, '%.2f' % best_accuracies_rf[i],\n",
    "            ha='center', va='bottom')\n",
    "\n",
    "for i, rect in enumerate(rects2):\n",
    "    height = rect.get_height()\n",
    "    ax.text(rect.get_x() + rect.get_width()/2., height, '%.2f' % best_accuracies_adaboost[i],\n",
    "            ha='center', va='bottom')\n",
    "\n",
    "ax.set_xlabel('Model Type')\n",
    "ax.set_ylabel('Values')\n",
    "ax.set_title('AdaBoost vs RandomForest')\n",
    "ax.set_xticks(ind)\n",
    "ax.set_xticklabels(bins)\n",
    "ax.legend()\n",
    "\n",
    "plt.show()"
   ]
  },
  {
   "cell_type": "markdown",
   "metadata": {},
   "source": [
    "#### Gradient Boosting"
   ]
  },
  {
   "cell_type": "code",
   "execution_count": null,
   "metadata": {},
   "outputs": [
    {
     "data": {
      "text/plain": [
       "0.7117903930131004"
      ]
     },
     "execution_count": 102,
     "metadata": {},
     "output_type": "execute_result"
    }
   ],
   "source": [
    "# gradient_boosting_classifier = GradientBoostingClassifier(best_params=best_params_dt_regressor, n_trees=50, learning_rate=1.0, max_depth=1)\n",
    "# gradient_boosting_classifier.fit(wine_X_train, wine_y_train1)\n",
    "# gradient_boosting_classifier.evaluate(wine_X_test, wine_y_test1)"
   ]
  },
  {
   "cell_type": "code",
   "execution_count": null,
   "metadata": {},
   "outputs": [
    {
     "data": {
      "text/plain": [
       "0.8165635878084494"
      ]
     },
     "execution_count": 97,
     "metadata": {},
     "output_type": "execute_result"
    }
   ],
   "source": [
    "# gradient_boosting_regre = GradientBoostingRegressor(best_params=best_params_dt_regressor, n_trees=50, learning_rate=0.5)\n",
    "# gradient_boosting_regre.fit(housing_X_train, housing_y_train)\n",
    "# gradient_boosting_regre.evaluate(housing_X_test, housing_y_test)"
   ]
  },
  {
   "cell_type": "code",
   "execution_count": 251,
   "metadata": {},
   "outputs": [],
   "source": [
    "no_trees = [10, 20, 50, 100]\n",
    "learning_rates = [0.1, 0.5, 1.0]"
   ]
  },
  {
   "cell_type": "code",
   "execution_count": 252,
   "metadata": {},
   "outputs": [
    {
     "name": "stderr",
     "output_type": "stream",
     "text": [
      "100%|██████████| 12/12 [00:10<00:00,  1.12it/s]\n"
     ]
    }
   ],
   "source": [
    "accuracy_gb_classifier = []\n",
    "time_gb_classifier = []\n",
    "accuracy_gb_regressor = []\n",
    "time_gb_regressor = []\n",
    "\n",
    "with tqdm(total=len(no_trees)*len(learning_rates)) as pbar:\n",
    "    for no_tree in no_trees:\n",
    "        for learning_rate in learning_rates:\n",
    "            start_time = time.time()\n",
    "            gb_classifier = GradientBoostingClassifier(best_params=best_params_dt_regressor, n_trees=no_tree, learning_rate=learning_rate)\n",
    "            gb_classifier.fit(wine_X_train, wine_y_train1)\n",
    "            accuracy = gb_classifier.evaluate(wine_X_test, wine_y_test1)\n",
    "            end_time = time.time()\n",
    "\n",
    "            accuracy_gb_classifier.append([accuracy, no_tree, learning_rate])\n",
    "            time_gb_classifier.append([end_time-start_time, no_tree, learning_rate])\n",
    "\n",
    "            start_time = time.time()\n",
    "            gb_regressor = GradientBoostingRegressor(best_params=best_params_dt_regressor, n_trees=no_tree, learning_rate=learning_rate)\n",
    "            gb_regressor.fit(housing_X_train, housing_y_train)\n",
    "            accuracy = gb_regressor.evaluate(housing_X_test, housing_y_test)\n",
    "            end_time = time.time()\n",
    "\n",
    "            accuracy_gb_regressor.append([accuracy, no_tree, learning_rate])\n",
    "            time_gb_regressor.append([end_time-start_time, no_tree, learning_rate])\n",
    "\n",
    "            pbar.update(1)\n",
    "\n",
    "accuracy_gb_classifier = np.array(accuracy_gb_classifier)\n",
    "time_gb_classifier = np.array(time_gb_classifier)\n",
    "accuracy_gb_regressor = np.array(accuracy_gb_regressor)\n",
    "time_gb_regressor = np.array(time_gb_regressor)"
   ]
  },
  {
   "cell_type": "code",
   "execution_count": 253,
   "metadata": {},
   "outputs": [],
   "source": [
    "best_index = np.argmax(accuracy_gb_classifier, axis=0)[0]\n",
    "best_accuracy_gb_classifier = accuracy_gb_classifier[best_index][0]\n",
    "best_no_tree_gb_classifier = accuracy_gb_classifier[best_index][1]\n",
    "best_learning_rate_gb_classifier = accuracy_gb_classifier[best_index][2]\n",
    "\n",
    "best_index = np.argmax(accuracy_gb_regressor, axis=0)[0]\n",
    "best_accuracy_gb_regressor = accuracy_gb_regressor[best_index][0]\n",
    "best_no_tree_gb_regressor = accuracy_gb_regressor[best_index][1]\n",
    "best_learning_rate_gb_regressor = accuracy_gb_regressor[best_index][2]"
   ]
  },
  {
   "cell_type": "code",
   "execution_count": 254,
   "metadata": {},
   "outputs": [
    {
     "name": "stdout",
     "output_type": "stream",
     "text": [
      "Best no. of estimators for GradientBoostingClassifier: 10.0\n",
      "Best learning rate for GradientBoostingClassifier: 0.1\n",
      "Best accuracy for GradientBoostingClassifier: 0.7205240174672489\n"
     ]
    },
    {
     "data": {
      "application/vnd.plotly.v1+json": {
       "config": {
        "plotlyServerURL": "https://plot.ly"
       },
       "data": [
        {
         "type": "surface",
         "x": [
          10,
          20,
          50,
          100
         ],
         "y": [
          0.1,
          0.5,
          1
         ],
         "z": [
          [
           0.7205240174672489,
           0.6986899563318777,
           0.7117903930131004
          ],
          [
           0.6986899563318777,
           0.6943231441048034,
           0.7117903930131004
          ],
          [
           0.6986899563318777,
           0.7117903930131004,
           0.7030567685589519
          ],
          [
           0.6986899563318777,
           0.7030567685589519,
           0.6986899563318777
          ]
         ]
        }
       ],
       "layout": {
        "autosize": false,
        "height": 500,
        "margin": {
         "b": 65,
         "l": 65,
         "r": 50,
         "t": 90
        },
        "scene": {
         "xaxis": {
          "title": {
           "text": "No. of Estimators"
          }
         },
         "yaxis": {
          "title": {
           "text": "Learning Rate"
          }
         },
         "zaxis": {
          "title": {
           "text": "Accuracy"
          }
         }
        },
        "template": {
         "data": {
          "bar": [
           {
            "error_x": {
             "color": "#2a3f5f"
            },
            "error_y": {
             "color": "#2a3f5f"
            },
            "marker": {
             "line": {
              "color": "#E5ECF6",
              "width": 0.5
             },
             "pattern": {
              "fillmode": "overlay",
              "size": 10,
              "solidity": 0.2
             }
            },
            "type": "bar"
           }
          ],
          "barpolar": [
           {
            "marker": {
             "line": {
              "color": "#E5ECF6",
              "width": 0.5
             },
             "pattern": {
              "fillmode": "overlay",
              "size": 10,
              "solidity": 0.2
             }
            },
            "type": "barpolar"
           }
          ],
          "carpet": [
           {
            "aaxis": {
             "endlinecolor": "#2a3f5f",
             "gridcolor": "white",
             "linecolor": "white",
             "minorgridcolor": "white",
             "startlinecolor": "#2a3f5f"
            },
            "baxis": {
             "endlinecolor": "#2a3f5f",
             "gridcolor": "white",
             "linecolor": "white",
             "minorgridcolor": "white",
             "startlinecolor": "#2a3f5f"
            },
            "type": "carpet"
           }
          ],
          "choropleth": [
           {
            "colorbar": {
             "outlinewidth": 0,
             "ticks": ""
            },
            "type": "choropleth"
           }
          ],
          "contour": [
           {
            "colorbar": {
             "outlinewidth": 0,
             "ticks": ""
            },
            "colorscale": [
             [
              0,
              "#0d0887"
             ],
             [
              0.1111111111111111,
              "#46039f"
             ],
             [
              0.2222222222222222,
              "#7201a8"
             ],
             [
              0.3333333333333333,
              "#9c179e"
             ],
             [
              0.4444444444444444,
              "#bd3786"
             ],
             [
              0.5555555555555556,
              "#d8576b"
             ],
             [
              0.6666666666666666,
              "#ed7953"
             ],
             [
              0.7777777777777778,
              "#fb9f3a"
             ],
             [
              0.8888888888888888,
              "#fdca26"
             ],
             [
              1,
              "#f0f921"
             ]
            ],
            "type": "contour"
           }
          ],
          "contourcarpet": [
           {
            "colorbar": {
             "outlinewidth": 0,
             "ticks": ""
            },
            "type": "contourcarpet"
           }
          ],
          "heatmap": [
           {
            "colorbar": {
             "outlinewidth": 0,
             "ticks": ""
            },
            "colorscale": [
             [
              0,
              "#0d0887"
             ],
             [
              0.1111111111111111,
              "#46039f"
             ],
             [
              0.2222222222222222,
              "#7201a8"
             ],
             [
              0.3333333333333333,
              "#9c179e"
             ],
             [
              0.4444444444444444,
              "#bd3786"
             ],
             [
              0.5555555555555556,
              "#d8576b"
             ],
             [
              0.6666666666666666,
              "#ed7953"
             ],
             [
              0.7777777777777778,
              "#fb9f3a"
             ],
             [
              0.8888888888888888,
              "#fdca26"
             ],
             [
              1,
              "#f0f921"
             ]
            ],
            "type": "heatmap"
           }
          ],
          "heatmapgl": [
           {
            "colorbar": {
             "outlinewidth": 0,
             "ticks": ""
            },
            "colorscale": [
             [
              0,
              "#0d0887"
             ],
             [
              0.1111111111111111,
              "#46039f"
             ],
             [
              0.2222222222222222,
              "#7201a8"
             ],
             [
              0.3333333333333333,
              "#9c179e"
             ],
             [
              0.4444444444444444,
              "#bd3786"
             ],
             [
              0.5555555555555556,
              "#d8576b"
             ],
             [
              0.6666666666666666,
              "#ed7953"
             ],
             [
              0.7777777777777778,
              "#fb9f3a"
             ],
             [
              0.8888888888888888,
              "#fdca26"
             ],
             [
              1,
              "#f0f921"
             ]
            ],
            "type": "heatmapgl"
           }
          ],
          "histogram": [
           {
            "marker": {
             "pattern": {
              "fillmode": "overlay",
              "size": 10,
              "solidity": 0.2
             }
            },
            "type": "histogram"
           }
          ],
          "histogram2d": [
           {
            "colorbar": {
             "outlinewidth": 0,
             "ticks": ""
            },
            "colorscale": [
             [
              0,
              "#0d0887"
             ],
             [
              0.1111111111111111,
              "#46039f"
             ],
             [
              0.2222222222222222,
              "#7201a8"
             ],
             [
              0.3333333333333333,
              "#9c179e"
             ],
             [
              0.4444444444444444,
              "#bd3786"
             ],
             [
              0.5555555555555556,
              "#d8576b"
             ],
             [
              0.6666666666666666,
              "#ed7953"
             ],
             [
              0.7777777777777778,
              "#fb9f3a"
             ],
             [
              0.8888888888888888,
              "#fdca26"
             ],
             [
              1,
              "#f0f921"
             ]
            ],
            "type": "histogram2d"
           }
          ],
          "histogram2dcontour": [
           {
            "colorbar": {
             "outlinewidth": 0,
             "ticks": ""
            },
            "colorscale": [
             [
              0,
              "#0d0887"
             ],
             [
              0.1111111111111111,
              "#46039f"
             ],
             [
              0.2222222222222222,
              "#7201a8"
             ],
             [
              0.3333333333333333,
              "#9c179e"
             ],
             [
              0.4444444444444444,
              "#bd3786"
             ],
             [
              0.5555555555555556,
              "#d8576b"
             ],
             [
              0.6666666666666666,
              "#ed7953"
             ],
             [
              0.7777777777777778,
              "#fb9f3a"
             ],
             [
              0.8888888888888888,
              "#fdca26"
             ],
             [
              1,
              "#f0f921"
             ]
            ],
            "type": "histogram2dcontour"
           }
          ],
          "mesh3d": [
           {
            "colorbar": {
             "outlinewidth": 0,
             "ticks": ""
            },
            "type": "mesh3d"
           }
          ],
          "parcoords": [
           {
            "line": {
             "colorbar": {
              "outlinewidth": 0,
              "ticks": ""
             }
            },
            "type": "parcoords"
           }
          ],
          "pie": [
           {
            "automargin": true,
            "type": "pie"
           }
          ],
          "scatter": [
           {
            "fillpattern": {
             "fillmode": "overlay",
             "size": 10,
             "solidity": 0.2
            },
            "type": "scatter"
           }
          ],
          "scatter3d": [
           {
            "line": {
             "colorbar": {
              "outlinewidth": 0,
              "ticks": ""
             }
            },
            "marker": {
             "colorbar": {
              "outlinewidth": 0,
              "ticks": ""
             }
            },
            "type": "scatter3d"
           }
          ],
          "scattercarpet": [
           {
            "marker": {
             "colorbar": {
              "outlinewidth": 0,
              "ticks": ""
             }
            },
            "type": "scattercarpet"
           }
          ],
          "scattergeo": [
           {
            "marker": {
             "colorbar": {
              "outlinewidth": 0,
              "ticks": ""
             }
            },
            "type": "scattergeo"
           }
          ],
          "scattergl": [
           {
            "marker": {
             "colorbar": {
              "outlinewidth": 0,
              "ticks": ""
             }
            },
            "type": "scattergl"
           }
          ],
          "scattermapbox": [
           {
            "marker": {
             "colorbar": {
              "outlinewidth": 0,
              "ticks": ""
             }
            },
            "type": "scattermapbox"
           }
          ],
          "scatterpolar": [
           {
            "marker": {
             "colorbar": {
              "outlinewidth": 0,
              "ticks": ""
             }
            },
            "type": "scatterpolar"
           }
          ],
          "scatterpolargl": [
           {
            "marker": {
             "colorbar": {
              "outlinewidth": 0,
              "ticks": ""
             }
            },
            "type": "scatterpolargl"
           }
          ],
          "scatterternary": [
           {
            "marker": {
             "colorbar": {
              "outlinewidth": 0,
              "ticks": ""
             }
            },
            "type": "scatterternary"
           }
          ],
          "surface": [
           {
            "colorbar": {
             "outlinewidth": 0,
             "ticks": ""
            },
            "colorscale": [
             [
              0,
              "#0d0887"
             ],
             [
              0.1111111111111111,
              "#46039f"
             ],
             [
              0.2222222222222222,
              "#7201a8"
             ],
             [
              0.3333333333333333,
              "#9c179e"
             ],
             [
              0.4444444444444444,
              "#bd3786"
             ],
             [
              0.5555555555555556,
              "#d8576b"
             ],
             [
              0.6666666666666666,
              "#ed7953"
             ],
             [
              0.7777777777777778,
              "#fb9f3a"
             ],
             [
              0.8888888888888888,
              "#fdca26"
             ],
             [
              1,
              "#f0f921"
             ]
            ],
            "type": "surface"
           }
          ],
          "table": [
           {
            "cells": {
             "fill": {
              "color": "#EBF0F8"
             },
             "line": {
              "color": "white"
             }
            },
            "header": {
             "fill": {
              "color": "#C8D4E3"
             },
             "line": {
              "color": "white"
             }
            },
            "type": "table"
           }
          ]
         },
         "layout": {
          "annotationdefaults": {
           "arrowcolor": "#2a3f5f",
           "arrowhead": 0,
           "arrowwidth": 1
          },
          "autotypenumbers": "strict",
          "coloraxis": {
           "colorbar": {
            "outlinewidth": 0,
            "ticks": ""
           }
          },
          "colorscale": {
           "diverging": [
            [
             0,
             "#8e0152"
            ],
            [
             0.1,
             "#c51b7d"
            ],
            [
             0.2,
             "#de77ae"
            ],
            [
             0.3,
             "#f1b6da"
            ],
            [
             0.4,
             "#fde0ef"
            ],
            [
             0.5,
             "#f7f7f7"
            ],
            [
             0.6,
             "#e6f5d0"
            ],
            [
             0.7,
             "#b8e186"
            ],
            [
             0.8,
             "#7fbc41"
            ],
            [
             0.9,
             "#4d9221"
            ],
            [
             1,
             "#276419"
            ]
           ],
           "sequential": [
            [
             0,
             "#0d0887"
            ],
            [
             0.1111111111111111,
             "#46039f"
            ],
            [
             0.2222222222222222,
             "#7201a8"
            ],
            [
             0.3333333333333333,
             "#9c179e"
            ],
            [
             0.4444444444444444,
             "#bd3786"
            ],
            [
             0.5555555555555556,
             "#d8576b"
            ],
            [
             0.6666666666666666,
             "#ed7953"
            ],
            [
             0.7777777777777778,
             "#fb9f3a"
            ],
            [
             0.8888888888888888,
             "#fdca26"
            ],
            [
             1,
             "#f0f921"
            ]
           ],
           "sequentialminus": [
            [
             0,
             "#0d0887"
            ],
            [
             0.1111111111111111,
             "#46039f"
            ],
            [
             0.2222222222222222,
             "#7201a8"
            ],
            [
             0.3333333333333333,
             "#9c179e"
            ],
            [
             0.4444444444444444,
             "#bd3786"
            ],
            [
             0.5555555555555556,
             "#d8576b"
            ],
            [
             0.6666666666666666,
             "#ed7953"
            ],
            [
             0.7777777777777778,
             "#fb9f3a"
            ],
            [
             0.8888888888888888,
             "#fdca26"
            ],
            [
             1,
             "#f0f921"
            ]
           ]
          },
          "colorway": [
           "#636efa",
           "#EF553B",
           "#00cc96",
           "#ab63fa",
           "#FFA15A",
           "#19d3f3",
           "#FF6692",
           "#B6E880",
           "#FF97FF",
           "#FECB52"
          ],
          "font": {
           "color": "#2a3f5f"
          },
          "geo": {
           "bgcolor": "white",
           "lakecolor": "white",
           "landcolor": "#E5ECF6",
           "showlakes": true,
           "showland": true,
           "subunitcolor": "white"
          },
          "hoverlabel": {
           "align": "left"
          },
          "hovermode": "closest",
          "mapbox": {
           "style": "light"
          },
          "paper_bgcolor": "white",
          "plot_bgcolor": "#E5ECF6",
          "polar": {
           "angularaxis": {
            "gridcolor": "white",
            "linecolor": "white",
            "ticks": ""
           },
           "bgcolor": "#E5ECF6",
           "radialaxis": {
            "gridcolor": "white",
            "linecolor": "white",
            "ticks": ""
           }
          },
          "scene": {
           "xaxis": {
            "backgroundcolor": "#E5ECF6",
            "gridcolor": "white",
            "gridwidth": 2,
            "linecolor": "white",
            "showbackground": true,
            "ticks": "",
            "zerolinecolor": "white"
           },
           "yaxis": {
            "backgroundcolor": "#E5ECF6",
            "gridcolor": "white",
            "gridwidth": 2,
            "linecolor": "white",
            "showbackground": true,
            "ticks": "",
            "zerolinecolor": "white"
           },
           "zaxis": {
            "backgroundcolor": "#E5ECF6",
            "gridcolor": "white",
            "gridwidth": 2,
            "linecolor": "white",
            "showbackground": true,
            "ticks": "",
            "zerolinecolor": "white"
           }
          },
          "shapedefaults": {
           "line": {
            "color": "#2a3f5f"
           }
          },
          "ternary": {
           "aaxis": {
            "gridcolor": "white",
            "linecolor": "white",
            "ticks": ""
           },
           "baxis": {
            "gridcolor": "white",
            "linecolor": "white",
            "ticks": ""
           },
           "bgcolor": "#E5ECF6",
           "caxis": {
            "gridcolor": "white",
            "linecolor": "white",
            "ticks": ""
           }
          },
          "title": {
           "x": 0.05
          },
          "xaxis": {
           "automargin": true,
           "gridcolor": "white",
           "linecolor": "white",
           "ticks": "",
           "title": {
            "standoff": 15
           },
           "zerolinecolor": "white",
           "zerolinewidth": 2
          },
          "yaxis": {
           "automargin": true,
           "gridcolor": "white",
           "linecolor": "white",
           "ticks": "",
           "title": {
            "standoff": 15
           },
           "zerolinecolor": "white",
           "zerolinewidth": 2
          }
         }
        },
        "title": {
         "text": "Accuracy vs No. of estimators and Learning Rate for GBC"
        },
        "width": 500
       }
      }
     },
     "metadata": {},
     "output_type": "display_data"
    },
    {
     "data": {
      "application/vnd.plotly.v1+json": {
       "config": {
        "plotlyServerURL": "https://plot.ly"
       },
       "data": [
        {
         "type": "surface",
         "x": [
          10,
          20,
          50,
          100
         ],
         "y": [
          0.1,
          0.5,
          1
         ],
         "z": [
          [
           0.12963080406188965,
           0.12117624282836914,
           0.12336277961730957
          ],
          [
           0.23328351974487305,
           0.2636418342590332,
           0.23938226699829102
          ],
          [
           0.5939910411834717,
           0.7361817359924316,
           0.6606099605560303
          ],
          [
           1.4541492462158203,
           1.6593077182769775,
           1.3144869804382324
          ]
         ]
        }
       ],
       "layout": {
        "autosize": false,
        "height": 500,
        "margin": {
         "b": 65,
         "l": 65,
         "r": 50,
         "t": 90
        },
        "scene": {
         "xaxis": {
          "title": {
           "text": "No. of Estimators"
          }
         },
         "yaxis": {
          "title": {
           "text": "Learning Rate"
          }
         },
         "zaxis": {
          "title": {
           "text": "Time"
          }
         }
        },
        "template": {
         "data": {
          "bar": [
           {
            "error_x": {
             "color": "#2a3f5f"
            },
            "error_y": {
             "color": "#2a3f5f"
            },
            "marker": {
             "line": {
              "color": "#E5ECF6",
              "width": 0.5
             },
             "pattern": {
              "fillmode": "overlay",
              "size": 10,
              "solidity": 0.2
             }
            },
            "type": "bar"
           }
          ],
          "barpolar": [
           {
            "marker": {
             "line": {
              "color": "#E5ECF6",
              "width": 0.5
             },
             "pattern": {
              "fillmode": "overlay",
              "size": 10,
              "solidity": 0.2
             }
            },
            "type": "barpolar"
           }
          ],
          "carpet": [
           {
            "aaxis": {
             "endlinecolor": "#2a3f5f",
             "gridcolor": "white",
             "linecolor": "white",
             "minorgridcolor": "white",
             "startlinecolor": "#2a3f5f"
            },
            "baxis": {
             "endlinecolor": "#2a3f5f",
             "gridcolor": "white",
             "linecolor": "white",
             "minorgridcolor": "white",
             "startlinecolor": "#2a3f5f"
            },
            "type": "carpet"
           }
          ],
          "choropleth": [
           {
            "colorbar": {
             "outlinewidth": 0,
             "ticks": ""
            },
            "type": "choropleth"
           }
          ],
          "contour": [
           {
            "colorbar": {
             "outlinewidth": 0,
             "ticks": ""
            },
            "colorscale": [
             [
              0,
              "#0d0887"
             ],
             [
              0.1111111111111111,
              "#46039f"
             ],
             [
              0.2222222222222222,
              "#7201a8"
             ],
             [
              0.3333333333333333,
              "#9c179e"
             ],
             [
              0.4444444444444444,
              "#bd3786"
             ],
             [
              0.5555555555555556,
              "#d8576b"
             ],
             [
              0.6666666666666666,
              "#ed7953"
             ],
             [
              0.7777777777777778,
              "#fb9f3a"
             ],
             [
              0.8888888888888888,
              "#fdca26"
             ],
             [
              1,
              "#f0f921"
             ]
            ],
            "type": "contour"
           }
          ],
          "contourcarpet": [
           {
            "colorbar": {
             "outlinewidth": 0,
             "ticks": ""
            },
            "type": "contourcarpet"
           }
          ],
          "heatmap": [
           {
            "colorbar": {
             "outlinewidth": 0,
             "ticks": ""
            },
            "colorscale": [
             [
              0,
              "#0d0887"
             ],
             [
              0.1111111111111111,
              "#46039f"
             ],
             [
              0.2222222222222222,
              "#7201a8"
             ],
             [
              0.3333333333333333,
              "#9c179e"
             ],
             [
              0.4444444444444444,
              "#bd3786"
             ],
             [
              0.5555555555555556,
              "#d8576b"
             ],
             [
              0.6666666666666666,
              "#ed7953"
             ],
             [
              0.7777777777777778,
              "#fb9f3a"
             ],
             [
              0.8888888888888888,
              "#fdca26"
             ],
             [
              1,
              "#f0f921"
             ]
            ],
            "type": "heatmap"
           }
          ],
          "heatmapgl": [
           {
            "colorbar": {
             "outlinewidth": 0,
             "ticks": ""
            },
            "colorscale": [
             [
              0,
              "#0d0887"
             ],
             [
              0.1111111111111111,
              "#46039f"
             ],
             [
              0.2222222222222222,
              "#7201a8"
             ],
             [
              0.3333333333333333,
              "#9c179e"
             ],
             [
              0.4444444444444444,
              "#bd3786"
             ],
             [
              0.5555555555555556,
              "#d8576b"
             ],
             [
              0.6666666666666666,
              "#ed7953"
             ],
             [
              0.7777777777777778,
              "#fb9f3a"
             ],
             [
              0.8888888888888888,
              "#fdca26"
             ],
             [
              1,
              "#f0f921"
             ]
            ],
            "type": "heatmapgl"
           }
          ],
          "histogram": [
           {
            "marker": {
             "pattern": {
              "fillmode": "overlay",
              "size": 10,
              "solidity": 0.2
             }
            },
            "type": "histogram"
           }
          ],
          "histogram2d": [
           {
            "colorbar": {
             "outlinewidth": 0,
             "ticks": ""
            },
            "colorscale": [
             [
              0,
              "#0d0887"
             ],
             [
              0.1111111111111111,
              "#46039f"
             ],
             [
              0.2222222222222222,
              "#7201a8"
             ],
             [
              0.3333333333333333,
              "#9c179e"
             ],
             [
              0.4444444444444444,
              "#bd3786"
             ],
             [
              0.5555555555555556,
              "#d8576b"
             ],
             [
              0.6666666666666666,
              "#ed7953"
             ],
             [
              0.7777777777777778,
              "#fb9f3a"
             ],
             [
              0.8888888888888888,
              "#fdca26"
             ],
             [
              1,
              "#f0f921"
             ]
            ],
            "type": "histogram2d"
           }
          ],
          "histogram2dcontour": [
           {
            "colorbar": {
             "outlinewidth": 0,
             "ticks": ""
            },
            "colorscale": [
             [
              0,
              "#0d0887"
             ],
             [
              0.1111111111111111,
              "#46039f"
             ],
             [
              0.2222222222222222,
              "#7201a8"
             ],
             [
              0.3333333333333333,
              "#9c179e"
             ],
             [
              0.4444444444444444,
              "#bd3786"
             ],
             [
              0.5555555555555556,
              "#d8576b"
             ],
             [
              0.6666666666666666,
              "#ed7953"
             ],
             [
              0.7777777777777778,
              "#fb9f3a"
             ],
             [
              0.8888888888888888,
              "#fdca26"
             ],
             [
              1,
              "#f0f921"
             ]
            ],
            "type": "histogram2dcontour"
           }
          ],
          "mesh3d": [
           {
            "colorbar": {
             "outlinewidth": 0,
             "ticks": ""
            },
            "type": "mesh3d"
           }
          ],
          "parcoords": [
           {
            "line": {
             "colorbar": {
              "outlinewidth": 0,
              "ticks": ""
             }
            },
            "type": "parcoords"
           }
          ],
          "pie": [
           {
            "automargin": true,
            "type": "pie"
           }
          ],
          "scatter": [
           {
            "fillpattern": {
             "fillmode": "overlay",
             "size": 10,
             "solidity": 0.2
            },
            "type": "scatter"
           }
          ],
          "scatter3d": [
           {
            "line": {
             "colorbar": {
              "outlinewidth": 0,
              "ticks": ""
             }
            },
            "marker": {
             "colorbar": {
              "outlinewidth": 0,
              "ticks": ""
             }
            },
            "type": "scatter3d"
           }
          ],
          "scattercarpet": [
           {
            "marker": {
             "colorbar": {
              "outlinewidth": 0,
              "ticks": ""
             }
            },
            "type": "scattercarpet"
           }
          ],
          "scattergeo": [
           {
            "marker": {
             "colorbar": {
              "outlinewidth": 0,
              "ticks": ""
             }
            },
            "type": "scattergeo"
           }
          ],
          "scattergl": [
           {
            "marker": {
             "colorbar": {
              "outlinewidth": 0,
              "ticks": ""
             }
            },
            "type": "scattergl"
           }
          ],
          "scattermapbox": [
           {
            "marker": {
             "colorbar": {
              "outlinewidth": 0,
              "ticks": ""
             }
            },
            "type": "scattermapbox"
           }
          ],
          "scatterpolar": [
           {
            "marker": {
             "colorbar": {
              "outlinewidth": 0,
              "ticks": ""
             }
            },
            "type": "scatterpolar"
           }
          ],
          "scatterpolargl": [
           {
            "marker": {
             "colorbar": {
              "outlinewidth": 0,
              "ticks": ""
             }
            },
            "type": "scatterpolargl"
           }
          ],
          "scatterternary": [
           {
            "marker": {
             "colorbar": {
              "outlinewidth": 0,
              "ticks": ""
             }
            },
            "type": "scatterternary"
           }
          ],
          "surface": [
           {
            "colorbar": {
             "outlinewidth": 0,
             "ticks": ""
            },
            "colorscale": [
             [
              0,
              "#0d0887"
             ],
             [
              0.1111111111111111,
              "#46039f"
             ],
             [
              0.2222222222222222,
              "#7201a8"
             ],
             [
              0.3333333333333333,
              "#9c179e"
             ],
             [
              0.4444444444444444,
              "#bd3786"
             ],
             [
              0.5555555555555556,
              "#d8576b"
             ],
             [
              0.6666666666666666,
              "#ed7953"
             ],
             [
              0.7777777777777778,
              "#fb9f3a"
             ],
             [
              0.8888888888888888,
              "#fdca26"
             ],
             [
              1,
              "#f0f921"
             ]
            ],
            "type": "surface"
           }
          ],
          "table": [
           {
            "cells": {
             "fill": {
              "color": "#EBF0F8"
             },
             "line": {
              "color": "white"
             }
            },
            "header": {
             "fill": {
              "color": "#C8D4E3"
             },
             "line": {
              "color": "white"
             }
            },
            "type": "table"
           }
          ]
         },
         "layout": {
          "annotationdefaults": {
           "arrowcolor": "#2a3f5f",
           "arrowhead": 0,
           "arrowwidth": 1
          },
          "autotypenumbers": "strict",
          "coloraxis": {
           "colorbar": {
            "outlinewidth": 0,
            "ticks": ""
           }
          },
          "colorscale": {
           "diverging": [
            [
             0,
             "#8e0152"
            ],
            [
             0.1,
             "#c51b7d"
            ],
            [
             0.2,
             "#de77ae"
            ],
            [
             0.3,
             "#f1b6da"
            ],
            [
             0.4,
             "#fde0ef"
            ],
            [
             0.5,
             "#f7f7f7"
            ],
            [
             0.6,
             "#e6f5d0"
            ],
            [
             0.7,
             "#b8e186"
            ],
            [
             0.8,
             "#7fbc41"
            ],
            [
             0.9,
             "#4d9221"
            ],
            [
             1,
             "#276419"
            ]
           ],
           "sequential": [
            [
             0,
             "#0d0887"
            ],
            [
             0.1111111111111111,
             "#46039f"
            ],
            [
             0.2222222222222222,
             "#7201a8"
            ],
            [
             0.3333333333333333,
             "#9c179e"
            ],
            [
             0.4444444444444444,
             "#bd3786"
            ],
            [
             0.5555555555555556,
             "#d8576b"
            ],
            [
             0.6666666666666666,
             "#ed7953"
            ],
            [
             0.7777777777777778,
             "#fb9f3a"
            ],
            [
             0.8888888888888888,
             "#fdca26"
            ],
            [
             1,
             "#f0f921"
            ]
           ],
           "sequentialminus": [
            [
             0,
             "#0d0887"
            ],
            [
             0.1111111111111111,
             "#46039f"
            ],
            [
             0.2222222222222222,
             "#7201a8"
            ],
            [
             0.3333333333333333,
             "#9c179e"
            ],
            [
             0.4444444444444444,
             "#bd3786"
            ],
            [
             0.5555555555555556,
             "#d8576b"
            ],
            [
             0.6666666666666666,
             "#ed7953"
            ],
            [
             0.7777777777777778,
             "#fb9f3a"
            ],
            [
             0.8888888888888888,
             "#fdca26"
            ],
            [
             1,
             "#f0f921"
            ]
           ]
          },
          "colorway": [
           "#636efa",
           "#EF553B",
           "#00cc96",
           "#ab63fa",
           "#FFA15A",
           "#19d3f3",
           "#FF6692",
           "#B6E880",
           "#FF97FF",
           "#FECB52"
          ],
          "font": {
           "color": "#2a3f5f"
          },
          "geo": {
           "bgcolor": "white",
           "lakecolor": "white",
           "landcolor": "#E5ECF6",
           "showlakes": true,
           "showland": true,
           "subunitcolor": "white"
          },
          "hoverlabel": {
           "align": "left"
          },
          "hovermode": "closest",
          "mapbox": {
           "style": "light"
          },
          "paper_bgcolor": "white",
          "plot_bgcolor": "#E5ECF6",
          "polar": {
           "angularaxis": {
            "gridcolor": "white",
            "linecolor": "white",
            "ticks": ""
           },
           "bgcolor": "#E5ECF6",
           "radialaxis": {
            "gridcolor": "white",
            "linecolor": "white",
            "ticks": ""
           }
          },
          "scene": {
           "xaxis": {
            "backgroundcolor": "#E5ECF6",
            "gridcolor": "white",
            "gridwidth": 2,
            "linecolor": "white",
            "showbackground": true,
            "ticks": "",
            "zerolinecolor": "white"
           },
           "yaxis": {
            "backgroundcolor": "#E5ECF6",
            "gridcolor": "white",
            "gridwidth": 2,
            "linecolor": "white",
            "showbackground": true,
            "ticks": "",
            "zerolinecolor": "white"
           },
           "zaxis": {
            "backgroundcolor": "#E5ECF6",
            "gridcolor": "white",
            "gridwidth": 2,
            "linecolor": "white",
            "showbackground": true,
            "ticks": "",
            "zerolinecolor": "white"
           }
          },
          "shapedefaults": {
           "line": {
            "color": "#2a3f5f"
           }
          },
          "ternary": {
           "aaxis": {
            "gridcolor": "white",
            "linecolor": "white",
            "ticks": ""
           },
           "baxis": {
            "gridcolor": "white",
            "linecolor": "white",
            "ticks": ""
           },
           "bgcolor": "#E5ECF6",
           "caxis": {
            "gridcolor": "white",
            "linecolor": "white",
            "ticks": ""
           }
          },
          "title": {
           "x": 0.05
          },
          "xaxis": {
           "automargin": true,
           "gridcolor": "white",
           "linecolor": "white",
           "ticks": "",
           "title": {
            "standoff": 15
           },
           "zerolinecolor": "white",
           "zerolinewidth": 2
          },
          "yaxis": {
           "automargin": true,
           "gridcolor": "white",
           "linecolor": "white",
           "ticks": "",
           "title": {
            "standoff": 15
           },
           "zerolinecolor": "white",
           "zerolinewidth": 2
          }
         }
        },
        "title": {
         "text": "Time vs No. of estimators and Learning Rate for GBC"
        },
        "width": 500
       }
      }
     },
     "metadata": {},
     "output_type": "display_data"
    }
   ],
   "source": [
    "print(f\"Best no. of estimators for GradientBoostingClassifier: {best_no_tree_gb_classifier}\")\n",
    "print(f\"Best learning rate for GradientBoostingClassifier: {best_learning_rate_gb_classifier}\")\n",
    "print(f\"Best accuracy for GradientBoostingClassifier: {best_accuracy_gb_classifier}\")\n",
    "\n",
    "fig = go.Figure(data=[go.Surface(z=accuracy_gb_classifier[:,0].reshape(len(no_trees), len(learning_rates)), x=no_trees, y=learning_rates)])\n",
    "fig.update_layout(\n",
    "    title='Accuracy vs No. of estimators and Learning Rate for GBC',\n",
    "    autosize=False,\n",
    "    width=500,\n",
    "    height=500,\n",
    "    margin=dict(l=65, r=50, b=65, t=90),\n",
    "    scene=dict(\n",
    "        xaxis_title='No. of Estimators',\n",
    "        yaxis_title='Learning Rate',\n",
    "        zaxis_title='Accuracy',\n",
    "    )\n",
    ")\n",
    "fig.show()\n",
    "\n",
    "fig = go.Figure(data=[go.Surface(z=time_gb_classifier[:,0].reshape(len(no_trees), len(learning_rates)), x=no_trees, y=learning_rates)])\n",
    "fig.update_layout(\n",
    "    title='Time vs No. of estimators and Learning Rate for GBC',\n",
    "    autosize=False,\n",
    "    width=500,\n",
    "    height=500,\n",
    "    margin=dict(l=65, r=50, b=65, t=90),\n",
    "    scene=dict(\n",
    "        xaxis_title='No. of Estimators',\n",
    "        yaxis_title='Learning Rate',\n",
    "        zaxis_title='Time'\n",
    "    )\n",
    ")\n",
    "fig.show()"
   ]
  },
  {
   "cell_type": "code",
   "execution_count": 255,
   "metadata": {},
   "outputs": [
    {
     "name": "stdout",
     "output_type": "stream",
     "text": [
      "Best no. of estimators for GradientBoostingRegressor: 100.0\n",
      "Best learning rate for GradientBoostingRegressor: 0.5\n",
      "Best score for GradientBoostingRegressor: 0.8282605093546157\n"
     ]
    },
    {
     "data": {
      "application/vnd.plotly.v1+json": {
       "config": {
        "plotlyServerURL": "https://plot.ly"
       },
       "data": [
        {
         "type": "surface",
         "x": [
          10,
          20,
          50,
          100
         ],
         "y": [
          0.1,
          0.5,
          1
         ],
         "z": [
          [
           0.6334828386593776,
           0.7724623946627973,
           0.7654023936517612
          ],
          [
           0.7513697436949363,
           0.7888809355876564,
           0.7727936377035447
          ],
          [
           0.8028136823946275,
           0.8034556787500368,
           0.7576166731158844
          ],
          [
           0.8136332181844894,
           0.8282605093546157,
           0.756350152125373
          ]
         ]
        }
       ],
       "layout": {
        "autosize": false,
        "height": 500,
        "margin": {
         "b": 65,
         "l": 65,
         "r": 50,
         "t": 90
        },
        "scene": {
         "xaxis": {
          "title": {
           "text": "No. of Estimators"
          }
         },
         "yaxis": {
          "title": {
           "text": "Learning Rate"
          }
         },
         "zaxis": {
          "title": {
           "text": "Score"
          }
         }
        },
        "template": {
         "data": {
          "bar": [
           {
            "error_x": {
             "color": "#2a3f5f"
            },
            "error_y": {
             "color": "#2a3f5f"
            },
            "marker": {
             "line": {
              "color": "#E5ECF6",
              "width": 0.5
             },
             "pattern": {
              "fillmode": "overlay",
              "size": 10,
              "solidity": 0.2
             }
            },
            "type": "bar"
           }
          ],
          "barpolar": [
           {
            "marker": {
             "line": {
              "color": "#E5ECF6",
              "width": 0.5
             },
             "pattern": {
              "fillmode": "overlay",
              "size": 10,
              "solidity": 0.2
             }
            },
            "type": "barpolar"
           }
          ],
          "carpet": [
           {
            "aaxis": {
             "endlinecolor": "#2a3f5f",
             "gridcolor": "white",
             "linecolor": "white",
             "minorgridcolor": "white",
             "startlinecolor": "#2a3f5f"
            },
            "baxis": {
             "endlinecolor": "#2a3f5f",
             "gridcolor": "white",
             "linecolor": "white",
             "minorgridcolor": "white",
             "startlinecolor": "#2a3f5f"
            },
            "type": "carpet"
           }
          ],
          "choropleth": [
           {
            "colorbar": {
             "outlinewidth": 0,
             "ticks": ""
            },
            "type": "choropleth"
           }
          ],
          "contour": [
           {
            "colorbar": {
             "outlinewidth": 0,
             "ticks": ""
            },
            "colorscale": [
             [
              0,
              "#0d0887"
             ],
             [
              0.1111111111111111,
              "#46039f"
             ],
             [
              0.2222222222222222,
              "#7201a8"
             ],
             [
              0.3333333333333333,
              "#9c179e"
             ],
             [
              0.4444444444444444,
              "#bd3786"
             ],
             [
              0.5555555555555556,
              "#d8576b"
             ],
             [
              0.6666666666666666,
              "#ed7953"
             ],
             [
              0.7777777777777778,
              "#fb9f3a"
             ],
             [
              0.8888888888888888,
              "#fdca26"
             ],
             [
              1,
              "#f0f921"
             ]
            ],
            "type": "contour"
           }
          ],
          "contourcarpet": [
           {
            "colorbar": {
             "outlinewidth": 0,
             "ticks": ""
            },
            "type": "contourcarpet"
           }
          ],
          "heatmap": [
           {
            "colorbar": {
             "outlinewidth": 0,
             "ticks": ""
            },
            "colorscale": [
             [
              0,
              "#0d0887"
             ],
             [
              0.1111111111111111,
              "#46039f"
             ],
             [
              0.2222222222222222,
              "#7201a8"
             ],
             [
              0.3333333333333333,
              "#9c179e"
             ],
             [
              0.4444444444444444,
              "#bd3786"
             ],
             [
              0.5555555555555556,
              "#d8576b"
             ],
             [
              0.6666666666666666,
              "#ed7953"
             ],
             [
              0.7777777777777778,
              "#fb9f3a"
             ],
             [
              0.8888888888888888,
              "#fdca26"
             ],
             [
              1,
              "#f0f921"
             ]
            ],
            "type": "heatmap"
           }
          ],
          "heatmapgl": [
           {
            "colorbar": {
             "outlinewidth": 0,
             "ticks": ""
            },
            "colorscale": [
             [
              0,
              "#0d0887"
             ],
             [
              0.1111111111111111,
              "#46039f"
             ],
             [
              0.2222222222222222,
              "#7201a8"
             ],
             [
              0.3333333333333333,
              "#9c179e"
             ],
             [
              0.4444444444444444,
              "#bd3786"
             ],
             [
              0.5555555555555556,
              "#d8576b"
             ],
             [
              0.6666666666666666,
              "#ed7953"
             ],
             [
              0.7777777777777778,
              "#fb9f3a"
             ],
             [
              0.8888888888888888,
              "#fdca26"
             ],
             [
              1,
              "#f0f921"
             ]
            ],
            "type": "heatmapgl"
           }
          ],
          "histogram": [
           {
            "marker": {
             "pattern": {
              "fillmode": "overlay",
              "size": 10,
              "solidity": 0.2
             }
            },
            "type": "histogram"
           }
          ],
          "histogram2d": [
           {
            "colorbar": {
             "outlinewidth": 0,
             "ticks": ""
            },
            "colorscale": [
             [
              0,
              "#0d0887"
             ],
             [
              0.1111111111111111,
              "#46039f"
             ],
             [
              0.2222222222222222,
              "#7201a8"
             ],
             [
              0.3333333333333333,
              "#9c179e"
             ],
             [
              0.4444444444444444,
              "#bd3786"
             ],
             [
              0.5555555555555556,
              "#d8576b"
             ],
             [
              0.6666666666666666,
              "#ed7953"
             ],
             [
              0.7777777777777778,
              "#fb9f3a"
             ],
             [
              0.8888888888888888,
              "#fdca26"
             ],
             [
              1,
              "#f0f921"
             ]
            ],
            "type": "histogram2d"
           }
          ],
          "histogram2dcontour": [
           {
            "colorbar": {
             "outlinewidth": 0,
             "ticks": ""
            },
            "colorscale": [
             [
              0,
              "#0d0887"
             ],
             [
              0.1111111111111111,
              "#46039f"
             ],
             [
              0.2222222222222222,
              "#7201a8"
             ],
             [
              0.3333333333333333,
              "#9c179e"
             ],
             [
              0.4444444444444444,
              "#bd3786"
             ],
             [
              0.5555555555555556,
              "#d8576b"
             ],
             [
              0.6666666666666666,
              "#ed7953"
             ],
             [
              0.7777777777777778,
              "#fb9f3a"
             ],
             [
              0.8888888888888888,
              "#fdca26"
             ],
             [
              1,
              "#f0f921"
             ]
            ],
            "type": "histogram2dcontour"
           }
          ],
          "mesh3d": [
           {
            "colorbar": {
             "outlinewidth": 0,
             "ticks": ""
            },
            "type": "mesh3d"
           }
          ],
          "parcoords": [
           {
            "line": {
             "colorbar": {
              "outlinewidth": 0,
              "ticks": ""
             }
            },
            "type": "parcoords"
           }
          ],
          "pie": [
           {
            "automargin": true,
            "type": "pie"
           }
          ],
          "scatter": [
           {
            "fillpattern": {
             "fillmode": "overlay",
             "size": 10,
             "solidity": 0.2
            },
            "type": "scatter"
           }
          ],
          "scatter3d": [
           {
            "line": {
             "colorbar": {
              "outlinewidth": 0,
              "ticks": ""
             }
            },
            "marker": {
             "colorbar": {
              "outlinewidth": 0,
              "ticks": ""
             }
            },
            "type": "scatter3d"
           }
          ],
          "scattercarpet": [
           {
            "marker": {
             "colorbar": {
              "outlinewidth": 0,
              "ticks": ""
             }
            },
            "type": "scattercarpet"
           }
          ],
          "scattergeo": [
           {
            "marker": {
             "colorbar": {
              "outlinewidth": 0,
              "ticks": ""
             }
            },
            "type": "scattergeo"
           }
          ],
          "scattergl": [
           {
            "marker": {
             "colorbar": {
              "outlinewidth": 0,
              "ticks": ""
             }
            },
            "type": "scattergl"
           }
          ],
          "scattermapbox": [
           {
            "marker": {
             "colorbar": {
              "outlinewidth": 0,
              "ticks": ""
             }
            },
            "type": "scattermapbox"
           }
          ],
          "scatterpolar": [
           {
            "marker": {
             "colorbar": {
              "outlinewidth": 0,
              "ticks": ""
             }
            },
            "type": "scatterpolar"
           }
          ],
          "scatterpolargl": [
           {
            "marker": {
             "colorbar": {
              "outlinewidth": 0,
              "ticks": ""
             }
            },
            "type": "scatterpolargl"
           }
          ],
          "scatterternary": [
           {
            "marker": {
             "colorbar": {
              "outlinewidth": 0,
              "ticks": ""
             }
            },
            "type": "scatterternary"
           }
          ],
          "surface": [
           {
            "colorbar": {
             "outlinewidth": 0,
             "ticks": ""
            },
            "colorscale": [
             [
              0,
              "#0d0887"
             ],
             [
              0.1111111111111111,
              "#46039f"
             ],
             [
              0.2222222222222222,
              "#7201a8"
             ],
             [
              0.3333333333333333,
              "#9c179e"
             ],
             [
              0.4444444444444444,
              "#bd3786"
             ],
             [
              0.5555555555555556,
              "#d8576b"
             ],
             [
              0.6666666666666666,
              "#ed7953"
             ],
             [
              0.7777777777777778,
              "#fb9f3a"
             ],
             [
              0.8888888888888888,
              "#fdca26"
             ],
             [
              1,
              "#f0f921"
             ]
            ],
            "type": "surface"
           }
          ],
          "table": [
           {
            "cells": {
             "fill": {
              "color": "#EBF0F8"
             },
             "line": {
              "color": "white"
             }
            },
            "header": {
             "fill": {
              "color": "#C8D4E3"
             },
             "line": {
              "color": "white"
             }
            },
            "type": "table"
           }
          ]
         },
         "layout": {
          "annotationdefaults": {
           "arrowcolor": "#2a3f5f",
           "arrowhead": 0,
           "arrowwidth": 1
          },
          "autotypenumbers": "strict",
          "coloraxis": {
           "colorbar": {
            "outlinewidth": 0,
            "ticks": ""
           }
          },
          "colorscale": {
           "diverging": [
            [
             0,
             "#8e0152"
            ],
            [
             0.1,
             "#c51b7d"
            ],
            [
             0.2,
             "#de77ae"
            ],
            [
             0.3,
             "#f1b6da"
            ],
            [
             0.4,
             "#fde0ef"
            ],
            [
             0.5,
             "#f7f7f7"
            ],
            [
             0.6,
             "#e6f5d0"
            ],
            [
             0.7,
             "#b8e186"
            ],
            [
             0.8,
             "#7fbc41"
            ],
            [
             0.9,
             "#4d9221"
            ],
            [
             1,
             "#276419"
            ]
           ],
           "sequential": [
            [
             0,
             "#0d0887"
            ],
            [
             0.1111111111111111,
             "#46039f"
            ],
            [
             0.2222222222222222,
             "#7201a8"
            ],
            [
             0.3333333333333333,
             "#9c179e"
            ],
            [
             0.4444444444444444,
             "#bd3786"
            ],
            [
             0.5555555555555556,
             "#d8576b"
            ],
            [
             0.6666666666666666,
             "#ed7953"
            ],
            [
             0.7777777777777778,
             "#fb9f3a"
            ],
            [
             0.8888888888888888,
             "#fdca26"
            ],
            [
             1,
             "#f0f921"
            ]
           ],
           "sequentialminus": [
            [
             0,
             "#0d0887"
            ],
            [
             0.1111111111111111,
             "#46039f"
            ],
            [
             0.2222222222222222,
             "#7201a8"
            ],
            [
             0.3333333333333333,
             "#9c179e"
            ],
            [
             0.4444444444444444,
             "#bd3786"
            ],
            [
             0.5555555555555556,
             "#d8576b"
            ],
            [
             0.6666666666666666,
             "#ed7953"
            ],
            [
             0.7777777777777778,
             "#fb9f3a"
            ],
            [
             0.8888888888888888,
             "#fdca26"
            ],
            [
             1,
             "#f0f921"
            ]
           ]
          },
          "colorway": [
           "#636efa",
           "#EF553B",
           "#00cc96",
           "#ab63fa",
           "#FFA15A",
           "#19d3f3",
           "#FF6692",
           "#B6E880",
           "#FF97FF",
           "#FECB52"
          ],
          "font": {
           "color": "#2a3f5f"
          },
          "geo": {
           "bgcolor": "white",
           "lakecolor": "white",
           "landcolor": "#E5ECF6",
           "showlakes": true,
           "showland": true,
           "subunitcolor": "white"
          },
          "hoverlabel": {
           "align": "left"
          },
          "hovermode": "closest",
          "mapbox": {
           "style": "light"
          },
          "paper_bgcolor": "white",
          "plot_bgcolor": "#E5ECF6",
          "polar": {
           "angularaxis": {
            "gridcolor": "white",
            "linecolor": "white",
            "ticks": ""
           },
           "bgcolor": "#E5ECF6",
           "radialaxis": {
            "gridcolor": "white",
            "linecolor": "white",
            "ticks": ""
           }
          },
          "scene": {
           "xaxis": {
            "backgroundcolor": "#E5ECF6",
            "gridcolor": "white",
            "gridwidth": 2,
            "linecolor": "white",
            "showbackground": true,
            "ticks": "",
            "zerolinecolor": "white"
           },
           "yaxis": {
            "backgroundcolor": "#E5ECF6",
            "gridcolor": "white",
            "gridwidth": 2,
            "linecolor": "white",
            "showbackground": true,
            "ticks": "",
            "zerolinecolor": "white"
           },
           "zaxis": {
            "backgroundcolor": "#E5ECF6",
            "gridcolor": "white",
            "gridwidth": 2,
            "linecolor": "white",
            "showbackground": true,
            "ticks": "",
            "zerolinecolor": "white"
           }
          },
          "shapedefaults": {
           "line": {
            "color": "#2a3f5f"
           }
          },
          "ternary": {
           "aaxis": {
            "gridcolor": "white",
            "linecolor": "white",
            "ticks": ""
           },
           "baxis": {
            "gridcolor": "white",
            "linecolor": "white",
            "ticks": ""
           },
           "bgcolor": "#E5ECF6",
           "caxis": {
            "gridcolor": "white",
            "linecolor": "white",
            "ticks": ""
           }
          },
          "title": {
           "x": 0.05
          },
          "xaxis": {
           "automargin": true,
           "gridcolor": "white",
           "linecolor": "white",
           "ticks": "",
           "title": {
            "standoff": 15
           },
           "zerolinecolor": "white",
           "zerolinewidth": 2
          },
          "yaxis": {
           "automargin": true,
           "gridcolor": "white",
           "linecolor": "white",
           "ticks": "",
           "title": {
            "standoff": 15
           },
           "zerolinecolor": "white",
           "zerolinewidth": 2
          }
         }
        },
        "title": {
         "text": "Score vs No. of estimators and Learning Rate for GBR"
        },
        "width": 500
       }
      }
     },
     "metadata": {},
     "output_type": "display_data"
    },
    {
     "data": {
      "application/vnd.plotly.v1+json": {
       "config": {
        "plotlyServerURL": "https://plot.ly"
       },
       "data": [
        {
         "type": "surface",
         "x": [
          10,
          20,
          50,
          100
         ],
         "y": [
          0.1,
          0.5,
          1
         ],
         "z": [
          [
           0.05249285697937012,
           0.05080747604370117,
           0.05274200439453125
          ],
          [
           0.10205698013305664,
           0.11068058013916016,
           0.10627126693725586
          ],
          [
           0.2660837173461914,
           0.2724888324737549,
           0.3294219970703125
          ],
          [
           0.5639305114746094,
           0.5701742172241211,
           0.6593892574310303
          ]
         ]
        }
       ],
       "layout": {
        "autosize": false,
        "height": 500,
        "margin": {
         "b": 65,
         "l": 65,
         "r": 50,
         "t": 90
        },
        "scene": {
         "xaxis": {
          "title": {
           "text": "No. of Estimators"
          }
         },
         "yaxis": {
          "title": {
           "text": "Learning Rate"
          }
         },
         "zaxis": {
          "title": {
           "text": "Time"
          }
         }
        },
        "template": {
         "data": {
          "bar": [
           {
            "error_x": {
             "color": "#2a3f5f"
            },
            "error_y": {
             "color": "#2a3f5f"
            },
            "marker": {
             "line": {
              "color": "#E5ECF6",
              "width": 0.5
             },
             "pattern": {
              "fillmode": "overlay",
              "size": 10,
              "solidity": 0.2
             }
            },
            "type": "bar"
           }
          ],
          "barpolar": [
           {
            "marker": {
             "line": {
              "color": "#E5ECF6",
              "width": 0.5
             },
             "pattern": {
              "fillmode": "overlay",
              "size": 10,
              "solidity": 0.2
             }
            },
            "type": "barpolar"
           }
          ],
          "carpet": [
           {
            "aaxis": {
             "endlinecolor": "#2a3f5f",
             "gridcolor": "white",
             "linecolor": "white",
             "minorgridcolor": "white",
             "startlinecolor": "#2a3f5f"
            },
            "baxis": {
             "endlinecolor": "#2a3f5f",
             "gridcolor": "white",
             "linecolor": "white",
             "minorgridcolor": "white",
             "startlinecolor": "#2a3f5f"
            },
            "type": "carpet"
           }
          ],
          "choropleth": [
           {
            "colorbar": {
             "outlinewidth": 0,
             "ticks": ""
            },
            "type": "choropleth"
           }
          ],
          "contour": [
           {
            "colorbar": {
             "outlinewidth": 0,
             "ticks": ""
            },
            "colorscale": [
             [
              0,
              "#0d0887"
             ],
             [
              0.1111111111111111,
              "#46039f"
             ],
             [
              0.2222222222222222,
              "#7201a8"
             ],
             [
              0.3333333333333333,
              "#9c179e"
             ],
             [
              0.4444444444444444,
              "#bd3786"
             ],
             [
              0.5555555555555556,
              "#d8576b"
             ],
             [
              0.6666666666666666,
              "#ed7953"
             ],
             [
              0.7777777777777778,
              "#fb9f3a"
             ],
             [
              0.8888888888888888,
              "#fdca26"
             ],
             [
              1,
              "#f0f921"
             ]
            ],
            "type": "contour"
           }
          ],
          "contourcarpet": [
           {
            "colorbar": {
             "outlinewidth": 0,
             "ticks": ""
            },
            "type": "contourcarpet"
           }
          ],
          "heatmap": [
           {
            "colorbar": {
             "outlinewidth": 0,
             "ticks": ""
            },
            "colorscale": [
             [
              0,
              "#0d0887"
             ],
             [
              0.1111111111111111,
              "#46039f"
             ],
             [
              0.2222222222222222,
              "#7201a8"
             ],
             [
              0.3333333333333333,
              "#9c179e"
             ],
             [
              0.4444444444444444,
              "#bd3786"
             ],
             [
              0.5555555555555556,
              "#d8576b"
             ],
             [
              0.6666666666666666,
              "#ed7953"
             ],
             [
              0.7777777777777778,
              "#fb9f3a"
             ],
             [
              0.8888888888888888,
              "#fdca26"
             ],
             [
              1,
              "#f0f921"
             ]
            ],
            "type": "heatmap"
           }
          ],
          "heatmapgl": [
           {
            "colorbar": {
             "outlinewidth": 0,
             "ticks": ""
            },
            "colorscale": [
             [
              0,
              "#0d0887"
             ],
             [
              0.1111111111111111,
              "#46039f"
             ],
             [
              0.2222222222222222,
              "#7201a8"
             ],
             [
              0.3333333333333333,
              "#9c179e"
             ],
             [
              0.4444444444444444,
              "#bd3786"
             ],
             [
              0.5555555555555556,
              "#d8576b"
             ],
             [
              0.6666666666666666,
              "#ed7953"
             ],
             [
              0.7777777777777778,
              "#fb9f3a"
             ],
             [
              0.8888888888888888,
              "#fdca26"
             ],
             [
              1,
              "#f0f921"
             ]
            ],
            "type": "heatmapgl"
           }
          ],
          "histogram": [
           {
            "marker": {
             "pattern": {
              "fillmode": "overlay",
              "size": 10,
              "solidity": 0.2
             }
            },
            "type": "histogram"
           }
          ],
          "histogram2d": [
           {
            "colorbar": {
             "outlinewidth": 0,
             "ticks": ""
            },
            "colorscale": [
             [
              0,
              "#0d0887"
             ],
             [
              0.1111111111111111,
              "#46039f"
             ],
             [
              0.2222222222222222,
              "#7201a8"
             ],
             [
              0.3333333333333333,
              "#9c179e"
             ],
             [
              0.4444444444444444,
              "#bd3786"
             ],
             [
              0.5555555555555556,
              "#d8576b"
             ],
             [
              0.6666666666666666,
              "#ed7953"
             ],
             [
              0.7777777777777778,
              "#fb9f3a"
             ],
             [
              0.8888888888888888,
              "#fdca26"
             ],
             [
              1,
              "#f0f921"
             ]
            ],
            "type": "histogram2d"
           }
          ],
          "histogram2dcontour": [
           {
            "colorbar": {
             "outlinewidth": 0,
             "ticks": ""
            },
            "colorscale": [
             [
              0,
              "#0d0887"
             ],
             [
              0.1111111111111111,
              "#46039f"
             ],
             [
              0.2222222222222222,
              "#7201a8"
             ],
             [
              0.3333333333333333,
              "#9c179e"
             ],
             [
              0.4444444444444444,
              "#bd3786"
             ],
             [
              0.5555555555555556,
              "#d8576b"
             ],
             [
              0.6666666666666666,
              "#ed7953"
             ],
             [
              0.7777777777777778,
              "#fb9f3a"
             ],
             [
              0.8888888888888888,
              "#fdca26"
             ],
             [
              1,
              "#f0f921"
             ]
            ],
            "type": "histogram2dcontour"
           }
          ],
          "mesh3d": [
           {
            "colorbar": {
             "outlinewidth": 0,
             "ticks": ""
            },
            "type": "mesh3d"
           }
          ],
          "parcoords": [
           {
            "line": {
             "colorbar": {
              "outlinewidth": 0,
              "ticks": ""
             }
            },
            "type": "parcoords"
           }
          ],
          "pie": [
           {
            "automargin": true,
            "type": "pie"
           }
          ],
          "scatter": [
           {
            "fillpattern": {
             "fillmode": "overlay",
             "size": 10,
             "solidity": 0.2
            },
            "type": "scatter"
           }
          ],
          "scatter3d": [
           {
            "line": {
             "colorbar": {
              "outlinewidth": 0,
              "ticks": ""
             }
            },
            "marker": {
             "colorbar": {
              "outlinewidth": 0,
              "ticks": ""
             }
            },
            "type": "scatter3d"
           }
          ],
          "scattercarpet": [
           {
            "marker": {
             "colorbar": {
              "outlinewidth": 0,
              "ticks": ""
             }
            },
            "type": "scattercarpet"
           }
          ],
          "scattergeo": [
           {
            "marker": {
             "colorbar": {
              "outlinewidth": 0,
              "ticks": ""
             }
            },
            "type": "scattergeo"
           }
          ],
          "scattergl": [
           {
            "marker": {
             "colorbar": {
              "outlinewidth": 0,
              "ticks": ""
             }
            },
            "type": "scattergl"
           }
          ],
          "scattermapbox": [
           {
            "marker": {
             "colorbar": {
              "outlinewidth": 0,
              "ticks": ""
             }
            },
            "type": "scattermapbox"
           }
          ],
          "scatterpolar": [
           {
            "marker": {
             "colorbar": {
              "outlinewidth": 0,
              "ticks": ""
             }
            },
            "type": "scatterpolar"
           }
          ],
          "scatterpolargl": [
           {
            "marker": {
             "colorbar": {
              "outlinewidth": 0,
              "ticks": ""
             }
            },
            "type": "scatterpolargl"
           }
          ],
          "scatterternary": [
           {
            "marker": {
             "colorbar": {
              "outlinewidth": 0,
              "ticks": ""
             }
            },
            "type": "scatterternary"
           }
          ],
          "surface": [
           {
            "colorbar": {
             "outlinewidth": 0,
             "ticks": ""
            },
            "colorscale": [
             [
              0,
              "#0d0887"
             ],
             [
              0.1111111111111111,
              "#46039f"
             ],
             [
              0.2222222222222222,
              "#7201a8"
             ],
             [
              0.3333333333333333,
              "#9c179e"
             ],
             [
              0.4444444444444444,
              "#bd3786"
             ],
             [
              0.5555555555555556,
              "#d8576b"
             ],
             [
              0.6666666666666666,
              "#ed7953"
             ],
             [
              0.7777777777777778,
              "#fb9f3a"
             ],
             [
              0.8888888888888888,
              "#fdca26"
             ],
             [
              1,
              "#f0f921"
             ]
            ],
            "type": "surface"
           }
          ],
          "table": [
           {
            "cells": {
             "fill": {
              "color": "#EBF0F8"
             },
             "line": {
              "color": "white"
             }
            },
            "header": {
             "fill": {
              "color": "#C8D4E3"
             },
             "line": {
              "color": "white"
             }
            },
            "type": "table"
           }
          ]
         },
         "layout": {
          "annotationdefaults": {
           "arrowcolor": "#2a3f5f",
           "arrowhead": 0,
           "arrowwidth": 1
          },
          "autotypenumbers": "strict",
          "coloraxis": {
           "colorbar": {
            "outlinewidth": 0,
            "ticks": ""
           }
          },
          "colorscale": {
           "diverging": [
            [
             0,
             "#8e0152"
            ],
            [
             0.1,
             "#c51b7d"
            ],
            [
             0.2,
             "#de77ae"
            ],
            [
             0.3,
             "#f1b6da"
            ],
            [
             0.4,
             "#fde0ef"
            ],
            [
             0.5,
             "#f7f7f7"
            ],
            [
             0.6,
             "#e6f5d0"
            ],
            [
             0.7,
             "#b8e186"
            ],
            [
             0.8,
             "#7fbc41"
            ],
            [
             0.9,
             "#4d9221"
            ],
            [
             1,
             "#276419"
            ]
           ],
           "sequential": [
            [
             0,
             "#0d0887"
            ],
            [
             0.1111111111111111,
             "#46039f"
            ],
            [
             0.2222222222222222,
             "#7201a8"
            ],
            [
             0.3333333333333333,
             "#9c179e"
            ],
            [
             0.4444444444444444,
             "#bd3786"
            ],
            [
             0.5555555555555556,
             "#d8576b"
            ],
            [
             0.6666666666666666,
             "#ed7953"
            ],
            [
             0.7777777777777778,
             "#fb9f3a"
            ],
            [
             0.8888888888888888,
             "#fdca26"
            ],
            [
             1,
             "#f0f921"
            ]
           ],
           "sequentialminus": [
            [
             0,
             "#0d0887"
            ],
            [
             0.1111111111111111,
             "#46039f"
            ],
            [
             0.2222222222222222,
             "#7201a8"
            ],
            [
             0.3333333333333333,
             "#9c179e"
            ],
            [
             0.4444444444444444,
             "#bd3786"
            ],
            [
             0.5555555555555556,
             "#d8576b"
            ],
            [
             0.6666666666666666,
             "#ed7953"
            ],
            [
             0.7777777777777778,
             "#fb9f3a"
            ],
            [
             0.8888888888888888,
             "#fdca26"
            ],
            [
             1,
             "#f0f921"
            ]
           ]
          },
          "colorway": [
           "#636efa",
           "#EF553B",
           "#00cc96",
           "#ab63fa",
           "#FFA15A",
           "#19d3f3",
           "#FF6692",
           "#B6E880",
           "#FF97FF",
           "#FECB52"
          ],
          "font": {
           "color": "#2a3f5f"
          },
          "geo": {
           "bgcolor": "white",
           "lakecolor": "white",
           "landcolor": "#E5ECF6",
           "showlakes": true,
           "showland": true,
           "subunitcolor": "white"
          },
          "hoverlabel": {
           "align": "left"
          },
          "hovermode": "closest",
          "mapbox": {
           "style": "light"
          },
          "paper_bgcolor": "white",
          "plot_bgcolor": "#E5ECF6",
          "polar": {
           "angularaxis": {
            "gridcolor": "white",
            "linecolor": "white",
            "ticks": ""
           },
           "bgcolor": "#E5ECF6",
           "radialaxis": {
            "gridcolor": "white",
            "linecolor": "white",
            "ticks": ""
           }
          },
          "scene": {
           "xaxis": {
            "backgroundcolor": "#E5ECF6",
            "gridcolor": "white",
            "gridwidth": 2,
            "linecolor": "white",
            "showbackground": true,
            "ticks": "",
            "zerolinecolor": "white"
           },
           "yaxis": {
            "backgroundcolor": "#E5ECF6",
            "gridcolor": "white",
            "gridwidth": 2,
            "linecolor": "white",
            "showbackground": true,
            "ticks": "",
            "zerolinecolor": "white"
           },
           "zaxis": {
            "backgroundcolor": "#E5ECF6",
            "gridcolor": "white",
            "gridwidth": 2,
            "linecolor": "white",
            "showbackground": true,
            "ticks": "",
            "zerolinecolor": "white"
           }
          },
          "shapedefaults": {
           "line": {
            "color": "#2a3f5f"
           }
          },
          "ternary": {
           "aaxis": {
            "gridcolor": "white",
            "linecolor": "white",
            "ticks": ""
           },
           "baxis": {
            "gridcolor": "white",
            "linecolor": "white",
            "ticks": ""
           },
           "bgcolor": "#E5ECF6",
           "caxis": {
            "gridcolor": "white",
            "linecolor": "white",
            "ticks": ""
           }
          },
          "title": {
           "x": 0.05
          },
          "xaxis": {
           "automargin": true,
           "gridcolor": "white",
           "linecolor": "white",
           "ticks": "",
           "title": {
            "standoff": 15
           },
           "zerolinecolor": "white",
           "zerolinewidth": 2
          },
          "yaxis": {
           "automargin": true,
           "gridcolor": "white",
           "linecolor": "white",
           "ticks": "",
           "title": {
            "standoff": 15
           },
           "zerolinecolor": "white",
           "zerolinewidth": 2
          }
         }
        },
        "title": {
         "text": "Time vs No. of estimators and Learning Rate for GBR"
        },
        "width": 500
       }
      }
     },
     "metadata": {},
     "output_type": "display_data"
    }
   ],
   "source": [
    "print(f\"Best no. of estimators for GradientBoostingRegressor: {best_no_tree_gb_regressor}\")\n",
    "print(f\"Best learning rate for GradientBoostingRegressor: {best_learning_rate_gb_regressor}\")\n",
    "print(f\"Best score for GradientBoostingRegressor: {best_accuracy_gb_regressor}\")\n",
    "\n",
    "fig = go.Figure(data=[go.Surface(z=accuracy_gb_regressor[:,0].reshape(len(no_trees), len(learning_rates)), x=no_trees, y=learning_rates)])\n",
    "fig.update_layout(\n",
    "    title='Score vs No. of estimators and Learning Rate for GBR',\n",
    "    autosize=False,\n",
    "    width=500,\n",
    "    height=500,\n",
    "    margin=dict(l=65, r=50, b=65, t=90),\n",
    "    scene=dict(\n",
    "        xaxis_title='No. of Estimators',\n",
    "        yaxis_title='Learning Rate',\n",
    "        zaxis_title='Score'\n",
    "    )\n",
    ")\n",
    "fig.show()\n",
    "\n",
    "fig = go.Figure(data=[go.Surface(z=time_gb_regressor[:,0].reshape(len(no_trees), len(learning_rates)), x=no_trees, y=learning_rates)])\n",
    "fig.update_layout(\n",
    "    title='Time vs No. of estimators and Learning Rate for GBR',\n",
    "    autosize=False,\n",
    "    width=500,\n",
    "    height=500,\n",
    "    margin=dict(l=65, r=50, b=65, t=90),\n",
    "    scene=dict(\n",
    "        xaxis_title='No. of Estimators',\n",
    "        yaxis_title='Learning Rate',\n",
    "        zaxis_title='Time'\n",
    "    )\n",
    ")\n",
    "fig.show()"
   ]
  },
  {
   "cell_type": "code",
   "execution_count": 256,
   "metadata": {},
   "outputs": [
    {
     "data": {
      "image/png": "[encoded data removed]",
      "text/plain": [
       "<Figure size 1500x500 with 1 Axes>"
      ]
     },
     "metadata": {},
     "output_type": "display_data"
    }
   ],
   "source": [
    "bins = ['Classifier', 'Regressor']\n",
    "best_accuracies_rf = [\n",
    "    best_accuracy_rf_classifier,\n",
    "    best_accuracy_rf_regressor\n",
    "]\n",
    "best_accuracies_adaboost = [\n",
    "    best_accuracy_adaboost_classifier,\n",
    "    best_accuracy_adaboost_regressor\n",
    "]\n",
    "best_accuracies_gb = [\n",
    "    best_accuracy_gb_classifier,\n",
    "    best_accuracy_gb_regressor\n",
    "]\n",
    "\n",
    "# Using Chat-GPT\n",
    "fig, ax = plt.subplots(figsize=(15, 5))\n",
    "width = 0.2\n",
    "ind = np.arange(len(bins))  # the x locations for the groups\n",
    "\n",
    "rects1 = ax.bar(ind - width, best_accuracies_rf, width, label='RandomForest')\n",
    "rects2 = ax.bar(ind, best_accuracies_adaboost, width, label='AdaBoost')\n",
    "rects3 = ax.bar(ind + width, best_accuracies_gb, width, label='GradientBoosting')\n",
    "\n",
    "for i, rect in enumerate(rects1):\n",
    "    height = rect.get_height()\n",
    "    ax.text(rect.get_x() + rect.get_width()/2., height, '%.2f' % best_accuracies_rf[i],\n",
    "            ha='center', va='bottom')\n",
    "\n",
    "for i, rect in enumerate(rects2):\n",
    "    height = rect.get_height()\n",
    "    ax.text(rect.get_x() + rect.get_width()/2., height, '%.2f' % best_accuracies_adaboost[i],\n",
    "            ha='center', va='bottom')\n",
    "\n",
    "for i, rect in enumerate(rects3):\n",
    "    height = rect.get_height()\n",
    "    ax.text(rect.get_x() + rect.get_width()/2., height, '%.2f' % best_accuracies_gb[i],\n",
    "            ha='center', va='bottom')\n",
    "\n",
    "ax.set_xlabel('Model Type')\n",
    "ax.set_ylabel('Values')\n",
    "ax.set_title('RandomForest vs AdaBoost vs GradientBoosting')\n",
    "ax.set_xticks(ind)\n",
    "ax.set_xticklabels(bins)\n",
    "ax.legend()\n",
    "\n",
    "plt.show()"
   ]
  },
  {
   "cell_type": "markdown",
   "metadata": {},
   "source": [
    "#### Analysis"
   ]
  },
  {
   "cell_type": "code",
   "execution_count": null,
   "metadata": {},
   "outputs": [],
   "source": [
    "y_gb_classifier = gb_classifier.predict(wine_X_test)\n",
    "misclassified_indices = np.where(y_gb_classifier != wine_y_test1)[0]\n",
    "\n",
    "misclassified_gb_samples = wine_X_test[misclassified_indices]\n",
    "misclassified_gb_predictions = y_gb_classifier[misclassified_indices]\n",
    "gb_true_labels = wine_y_test1[misclassified_indices]\n",
    "\n",
    "y_adaboost_classifier = adaboost_classifier.predict(wine_X_test)\n",
    "misclassified_ab_indices = np.where(y_adaboost_classifier != wine_y_test1)[0]\n",
    "\n",
    "misclassified_ab_samples = wine_X_test[misclassified_ab_indices]\n",
    "misclassified_ab_predictions = y_adaboost_classifier[misclassified_ab_indices]\n",
    "ab_true_labels = wine_y_test1[misclassified_ab_indices]"
   ]
  },
  {
   "cell_type": "code",
   "execution_count": null,
   "metadata": {},
   "outputs": [
    {
     "data": {
      "image/png": "[encoded data removed]",
      "text/plain": [
       "<Figure size 1500x500 with 2 Axes>"
      ]
     },
     "metadata": {},
     "output_type": "display_data"
    }
   ],
   "source": [
    "l_gb = []\n",
    "l_ab = []\n",
    "for i in [0,1]:\n",
    "    indices = np.where(gb_true_labels == i)[0]\n",
    "    l_gb.append([i, len(indices)])\n",
    "\n",
    "    indices = np.where(ab_true_labels == i)[0]\n",
    "    l_ab.append([i, len(indices)])\n",
    "\n",
    "l = np.array(l_gb)\n",
    "\n",
    "plt.figure(figsize=(15,5))\n",
    "plt.subplot(1,2,1)\n",
    "plt.bar(l[:,0], l[:,1])\n",
    "plt.xlabel('Labels')\n",
    "plt.ylabel('No. of samples')\n",
    "plt.title('Misclassified samples for GBC')\n",
    "\n",
    "l = np.array(l_ab)\n",
    "plt.subplot(1,2,2)\n",
    "plt.bar(l[:,0], l[:,1])\n",
    "plt.xlabel('Labels')\n",
    "plt.ylabel('No. of samples')\n",
    "plt.title('Misclassified samples for AdaBoost')\n",
    "\n",
    "plt.show()"
   ]
  },
  {
   "cell_type": "markdown",
   "metadata": {},
   "source": [
    "We can see from the above graphs that Gradient Boost gives more missclassified samples for the class 1 than the class 0. Whereas adaboost gives almost equal number of missclassified samples for both the classes. "
   ]
  },
  {
   "cell_type": "code",
   "execution_count": 214,
   "metadata": {},
   "outputs": [
    {
     "data": {
      "text/plain": [
       "(67, 12)"
      ]
     },
     "execution_count": 214,
     "metadata": {},
     "output_type": "execute_result"
    }
   ],
   "source": [
    "misclassified_gb_samples.shape"
   ]
  },
  {
   "cell_type": "code",
   "execution_count": 226,
   "metadata": {},
   "outputs": [],
   "source": [
    "misclassified_gb_samples_df = pd.DataFrame(misclassified_gb_samples, columns=np.delete(np.array(wine_dataset.columns), -2))\n",
    "misclassified_ab_samples_df = pd.DataFrame(misclassified_ab_samples, columns=np.delete(np.array(wine_dataset.columns), -2))"
   ]
  },
  {
   "cell_type": "code",
   "execution_count": 230,
   "metadata": {},
   "outputs": [
    {
     "data": {
      "text/html": [
       "<div>\n",
       "<style scoped>\n",
       "    .dataframe tbody tr th:only-of-type {\n",
       "        vertical-align: middle;\n",
       "    }\n",
       "\n",
       "    .dataframe tbody tr th {\n",
       "        vertical-align: top;\n",
       "    }\n",
       "\n",
       "    .dataframe thead th {\n",
       "        text-align: right;\n",
       "    }\n",
       "</style>\n",
       "<table border=\"1\" class=\"dataframe\">\n",
       "  <thead>\n",
       "    <tr style=\"text-align: right;\">\n",
       "      <th></th>\n",
       "      <th>fixed acidity</th>\n",
       "      <th>volatile acidity</th>\n",
       "      <th>citric acid</th>\n",
       "      <th>residual sugar</th>\n",
       "      <th>chlorides</th>\n",
       "      <th>free sulfur dioxide</th>\n",
       "      <th>total sulfur dioxide</th>\n",
       "      <th>density</th>\n",
       "      <th>pH</th>\n",
       "      <th>sulphates</th>\n",
       "      <th>alcohol</th>\n",
       "      <th>Id</th>\n",
       "    </tr>\n",
       "  </thead>\n",
       "  <tbody>\n",
       "    <tr>\n",
       "      <th>count</th>\n",
       "      <td>229.000000</td>\n",
       "      <td>229.000000</td>\n",
       "      <td>229.000000</td>\n",
       "      <td>229.000000</td>\n",
       "      <td>229.000000</td>\n",
       "      <td>229.000000</td>\n",
       "      <td>229.000000</td>\n",
       "      <td>229.000000</td>\n",
       "      <td>229.000000</td>\n",
       "      <td>229.000000</td>\n",
       "      <td>229.000000</td>\n",
       "      <td>229.000000</td>\n",
       "    </tr>\n",
       "    <tr>\n",
       "      <th>mean</th>\n",
       "      <td>0.121132</td>\n",
       "      <td>0.007137</td>\n",
       "      <td>0.052079</td>\n",
       "      <td>0.038461</td>\n",
       "      <td>0.038581</td>\n",
       "      <td>-0.035564</td>\n",
       "      <td>0.009266</td>\n",
       "      <td>0.098913</td>\n",
       "      <td>-0.082052</td>\n",
       "      <td>0.048326</td>\n",
       "      <td>0.010791</td>\n",
       "      <td>-0.091405</td>\n",
       "    </tr>\n",
       "    <tr>\n",
       "      <th>std</th>\n",
       "      <td>1.103820</td>\n",
       "      <td>1.015534</td>\n",
       "      <td>1.034898</td>\n",
       "      <td>1.137822</td>\n",
       "      <td>0.987244</td>\n",
       "      <td>1.006896</td>\n",
       "      <td>1.100433</td>\n",
       "      <td>1.018474</td>\n",
       "      <td>1.089614</td>\n",
       "      <td>1.095397</td>\n",
       "      <td>1.029509</td>\n",
       "      <td>0.989940</td>\n",
       "    </tr>\n",
       "    <tr>\n",
       "      <th>min</th>\n",
       "      <td>-1.895497</td>\n",
       "      <td>-1.956723</td>\n",
       "      <td>-1.365027</td>\n",
       "      <td>-0.982903</td>\n",
       "      <td>-1.120347</td>\n",
       "      <td>-1.231259</td>\n",
       "      <td>-1.187590</td>\n",
       "      <td>-3.061187</td>\n",
       "      <td>-2.880126</td>\n",
       "      <td>-1.278197</td>\n",
       "      <td>-1.887834</td>\n",
       "      <td>-1.729150</td>\n",
       "    </tr>\n",
       "    <tr>\n",
       "      <th>25%</th>\n",
       "      <td>-0.693319</td>\n",
       "      <td>-0.787162</td>\n",
       "      <td>-0.856379</td>\n",
       "      <td>-0.466421</td>\n",
       "      <td>-0.294891</td>\n",
       "      <td>-0.840863</td>\n",
       "      <td>-0.729823</td>\n",
       "      <td>-0.504313</td>\n",
       "      <td>-0.772786</td>\n",
       "      <td>-0.573658</td>\n",
       "      <td>-0.778491</td>\n",
       "      <td>-0.875322</td>\n",
       "    </tr>\n",
       "    <tr>\n",
       "      <th>50%</th>\n",
       "      <td>-0.120854</td>\n",
       "      <td>-0.007455</td>\n",
       "      <td>-0.042543</td>\n",
       "      <td>-0.245072</td>\n",
       "      <td>-0.104402</td>\n",
       "      <td>-0.255269</td>\n",
       "      <td>-0.333092</td>\n",
       "      <td>0.036165</td>\n",
       "      <td>-0.134198</td>\n",
       "      <td>-0.221388</td>\n",
       "      <td>-0.223820</td>\n",
       "      <td>-0.176737</td>\n",
       "    </tr>\n",
       "    <tr>\n",
       "      <th>75%</th>\n",
       "      <td>0.680598</td>\n",
       "      <td>0.605172</td>\n",
       "      <td>0.873023</td>\n",
       "      <td>0.050060</td>\n",
       "      <td>0.086088</td>\n",
       "      <td>0.525524</td>\n",
       "      <td>0.368817</td>\n",
       "      <td>0.732549</td>\n",
       "      <td>0.568248</td>\n",
       "      <td>0.424439</td>\n",
       "      <td>0.515741</td>\n",
       "      <td>0.739618</td>\n",
       "    </tr>\n",
       "    <tr>\n",
       "      <th>max</th>\n",
       "      <td>4.344377</td>\n",
       "      <td>4.448014</td>\n",
       "      <td>2.500695</td>\n",
       "      <td>9.494295</td>\n",
       "      <td>6.943716</td>\n",
       "      <td>5.112679</td>\n",
       "      <td>7.418423</td>\n",
       "      <td>3.616827</td>\n",
       "      <td>3.761188</td>\n",
       "      <td>7.587251</td>\n",
       "      <td>4.121103</td>\n",
       "      <td>1.692627</td>\n",
       "    </tr>\n",
       "  </tbody>\n",
       "</table>\n",
       "</div>"
      ],
      "text/plain": [
       "       fixed acidity  volatile acidity  citric acid  residual sugar  \\\n",
       "count     229.000000        229.000000   229.000000      229.000000   \n",
       "mean        0.121132          0.007137     0.052079        0.038461   \n",
       "std         1.103820          1.015534     1.034898        1.137822   \n",
       "min        -1.895497         -1.956723    -1.365027       -0.982903   \n",
       "25%        -0.693319         -0.787162    -0.856379       -0.466421   \n",
       "50%        -0.120854         -0.007455    -0.042543       -0.245072   \n",
       "75%         0.680598          0.605172     0.873023        0.050060   \n",
       "max         4.344377          4.448014     2.500695        9.494295   \n",
       "\n",
       "        chlorides  free sulfur dioxide  total sulfur dioxide     density  \\\n",
       "count  229.000000           229.000000            229.000000  229.000000   \n",
       "mean     0.038581            -0.035564              0.009266    0.098913   \n",
       "std      0.987244             1.006896              1.100433    1.018474   \n",
       "min     -1.120347            -1.231259             -1.187590   -3.061187   \n",
       "25%     -0.294891            -0.840863             -0.729823   -0.504313   \n",
       "50%     -0.104402            -0.255269             -0.333092    0.036165   \n",
       "75%      0.086088             0.525524              0.368817    0.732549   \n",
       "max      6.943716             5.112679              7.418423    3.616827   \n",
       "\n",
       "               pH   sulphates     alcohol          Id  \n",
       "count  229.000000  229.000000  229.000000  229.000000  \n",
       "mean    -0.082052    0.048326    0.010791   -0.091405  \n",
       "std      1.089614    1.095397    1.029509    0.989940  \n",
       "min     -2.880126   -1.278197   -1.887834   -1.729150  \n",
       "25%     -0.772786   -0.573658   -0.778491   -0.875322  \n",
       "50%     -0.134198   -0.221388   -0.223820   -0.176737  \n",
       "75%      0.568248    0.424439    0.515741    0.739618  \n",
       "max      3.761188    7.587251    4.121103    1.692627  "
      ]
     },
     "execution_count": 230,
     "metadata": {},
     "output_type": "execute_result"
    }
   ],
   "source": [
    "wine_X_test_df = pd.DataFrame(wine_X_test, columns=np.delete(np.array(wine_dataset.columns), -2))\n",
    "\n",
    "wine_X_test_df.describe()"
   ]
  },
  {
   "cell_type": "code",
   "execution_count": 232,
   "metadata": {},
   "outputs": [
    {
     "data": {
      "text/html": [
       "<div>\n",
       "<style scoped>\n",
       "    .dataframe tbody tr th:only-of-type {\n",
       "        vertical-align: middle;\n",
       "    }\n",
       "\n",
       "    .dataframe tbody tr th {\n",
       "        vertical-align: top;\n",
       "    }\n",
       "\n",
       "    .dataframe thead th {\n",
       "        text-align: right;\n",
       "    }\n",
       "</style>\n",
       "<table border=\"1\" class=\"dataframe\">\n",
       "  <thead>\n",
       "    <tr style=\"text-align: right;\">\n",
       "      <th></th>\n",
       "      <th>fixed acidity</th>\n",
       "      <th>volatile acidity</th>\n",
       "      <th>citric acid</th>\n",
       "      <th>residual sugar</th>\n",
       "      <th>chlorides</th>\n",
       "      <th>free sulfur dioxide</th>\n",
       "      <th>total sulfur dioxide</th>\n",
       "      <th>density</th>\n",
       "      <th>pH</th>\n",
       "      <th>sulphates</th>\n",
       "      <th>alcohol</th>\n",
       "      <th>Id</th>\n",
       "    </tr>\n",
       "  </thead>\n",
       "  <tbody>\n",
       "    <tr>\n",
       "      <th>count</th>\n",
       "      <td>67.000000</td>\n",
       "      <td>67.000000</td>\n",
       "      <td>67.000000</td>\n",
       "      <td>67.000000</td>\n",
       "      <td>67.000000</td>\n",
       "      <td>67.000000</td>\n",
       "      <td>67.000000</td>\n",
       "      <td>67.000000</td>\n",
       "      <td>67.000000</td>\n",
       "      <td>67.000000</td>\n",
       "      <td>67.000000</td>\n",
       "      <td>67.000000</td>\n",
       "    </tr>\n",
       "    <tr>\n",
       "      <th>mean</th>\n",
       "      <td>0.014145</td>\n",
       "      <td>0.024548</td>\n",
       "      <td>-0.053172</td>\n",
       "      <td>0.006011</td>\n",
       "      <td>0.184334</td>\n",
       "      <td>-0.062984</td>\n",
       "      <td>-0.148164</td>\n",
       "      <td>0.129709</td>\n",
       "      <td>0.049753</td>\n",
       "      <td>0.094953</td>\n",
       "      <td>-0.144713</td>\n",
       "      <td>-0.003764</td>\n",
       "    </tr>\n",
       "    <tr>\n",
       "      <th>std</th>\n",
       "      <td>1.178471</td>\n",
       "      <td>0.955905</td>\n",
       "      <td>1.044841</td>\n",
       "      <td>1.369199</td>\n",
       "      <td>1.312912</td>\n",
       "      <td>0.986868</td>\n",
       "      <td>0.823567</td>\n",
       "      <td>0.938073</td>\n",
       "      <td>1.336675</td>\n",
       "      <td>1.407370</td>\n",
       "      <td>0.998309</td>\n",
       "      <td>0.929286</td>\n",
       "    </tr>\n",
       "    <tr>\n",
       "      <th>min</th>\n",
       "      <td>-1.838250</td>\n",
       "      <td>-1.789643</td>\n",
       "      <td>-1.365027</td>\n",
       "      <td>-0.909120</td>\n",
       "      <td>-1.120347</td>\n",
       "      <td>-1.231259</td>\n",
       "      <td>-1.187590</td>\n",
       "      <td>-2.406377</td>\n",
       "      <td>-2.880126</td>\n",
       "      <td>-1.278197</td>\n",
       "      <td>-1.887834</td>\n",
       "      <td>-1.729150</td>\n",
       "    </tr>\n",
       "    <tr>\n",
       "      <th>25%</th>\n",
       "      <td>-0.779189</td>\n",
       "      <td>-0.592235</td>\n",
       "      <td>-0.958109</td>\n",
       "      <td>-0.503313</td>\n",
       "      <td>-0.252560</td>\n",
       "      <td>-0.792064</td>\n",
       "      <td>-0.745082</td>\n",
       "      <td>-0.275649</td>\n",
       "      <td>-0.900504</td>\n",
       "      <td>-0.514946</td>\n",
       "      <td>-0.870937</td>\n",
       "      <td>-0.597182</td>\n",
       "    </tr>\n",
       "    <tr>\n",
       "      <th>50%</th>\n",
       "      <td>-0.292593</td>\n",
       "      <td>-0.007455</td>\n",
       "      <td>-0.144273</td>\n",
       "      <td>-0.318855</td>\n",
       "      <td>-0.104402</td>\n",
       "      <td>-0.352868</td>\n",
       "      <td>-0.424646</td>\n",
       "      <td>0.036165</td>\n",
       "      <td>0.185096</td>\n",
       "      <td>-0.280100</td>\n",
       "      <td>-0.316266</td>\n",
       "      <td>-0.109897</td>\n",
       "    </tr>\n",
       "    <tr>\n",
       "      <th>75%</th>\n",
       "      <td>0.566105</td>\n",
       "      <td>0.465939</td>\n",
       "      <td>0.669563</td>\n",
       "      <td>0.050060</td>\n",
       "      <td>0.149584</td>\n",
       "      <td>0.476724</td>\n",
       "      <td>0.200969</td>\n",
       "      <td>0.659792</td>\n",
       "      <td>0.887542</td>\n",
       "      <td>0.307016</td>\n",
       "      <td>0.238406</td>\n",
       "      <td>0.619953</td>\n",
       "    </tr>\n",
       "    <tr>\n",
       "      <th>max</th>\n",
       "      <td>4.344377</td>\n",
       "      <td>2.999987</td>\n",
       "      <td>2.398965</td>\n",
       "      <td>9.494295</td>\n",
       "      <td>6.943716</td>\n",
       "      <td>3.843891</td>\n",
       "      <td>2.749203</td>\n",
       "      <td>3.616827</td>\n",
       "      <td>3.761188</td>\n",
       "      <td>7.587251</td>\n",
       "      <td>4.121103</td>\n",
       "      <td>1.645193</td>\n",
       "    </tr>\n",
       "  </tbody>\n",
       "</table>\n",
       "</div>"
      ],
      "text/plain": [
       "       fixed acidity  volatile acidity  citric acid  residual sugar  \\\n",
       "count      67.000000         67.000000    67.000000       67.000000   \n",
       "mean        0.014145          0.024548    -0.053172        0.006011   \n",
       "std         1.178471          0.955905     1.044841        1.369199   \n",
       "min        -1.838250         -1.789643    -1.365027       -0.909120   \n",
       "25%        -0.779189         -0.592235    -0.958109       -0.503313   \n",
       "50%        -0.292593         -0.007455    -0.144273       -0.318855   \n",
       "75%         0.566105          0.465939     0.669563        0.050060   \n",
       "max         4.344377          2.999987     2.398965        9.494295   \n",
       "\n",
       "       chlorides  free sulfur dioxide  total sulfur dioxide    density  \\\n",
       "count  67.000000            67.000000             67.000000  67.000000   \n",
       "mean    0.184334            -0.062984             -0.148164   0.129709   \n",
       "std     1.312912             0.986868              0.823567   0.938073   \n",
       "min    -1.120347            -1.231259             -1.187590  -2.406377   \n",
       "25%    -0.252560            -0.792064             -0.745082  -0.275649   \n",
       "50%    -0.104402            -0.352868             -0.424646   0.036165   \n",
       "75%     0.149584             0.476724              0.200969   0.659792   \n",
       "max     6.943716             3.843891              2.749203   3.616827   \n",
       "\n",
       "              pH  sulphates    alcohol         Id  \n",
       "count  67.000000  67.000000  67.000000  67.000000  \n",
       "mean    0.049753   0.094953  -0.144713  -0.003764  \n",
       "std     1.336675   1.407370   0.998309   0.929286  \n",
       "min    -2.880126  -1.278197  -1.887834  -1.729150  \n",
       "25%    -0.900504  -0.514946  -0.870937  -0.597182  \n",
       "50%     0.185096  -0.280100  -0.316266  -0.109897  \n",
       "75%     0.887542   0.307016   0.238406   0.619953  \n",
       "max     3.761188   7.587251   4.121103   1.645193  "
      ]
     },
     "execution_count": 232,
     "metadata": {},
     "output_type": "execute_result"
    }
   ],
   "source": [
    "misclassified_gb_samples_df.describe()"
   ]
  },
  {
   "cell_type": "code",
   "execution_count": 231,
   "metadata": {},
   "outputs": [
    {
     "data": {
      "text/html": [
       "<div>\n",
       "<style scoped>\n",
       "    .dataframe tbody tr th:only-of-type {\n",
       "        vertical-align: middle;\n",
       "    }\n",
       "\n",
       "    .dataframe tbody tr th {\n",
       "        vertical-align: top;\n",
       "    }\n",
       "\n",
       "    .dataframe thead th {\n",
       "        text-align: right;\n",
       "    }\n",
       "</style>\n",
       "<table border=\"1\" class=\"dataframe\">\n",
       "  <thead>\n",
       "    <tr style=\"text-align: right;\">\n",
       "      <th></th>\n",
       "      <th>fixed acidity</th>\n",
       "      <th>volatile acidity</th>\n",
       "      <th>citric acid</th>\n",
       "      <th>residual sugar</th>\n",
       "      <th>chlorides</th>\n",
       "      <th>free sulfur dioxide</th>\n",
       "      <th>total sulfur dioxide</th>\n",
       "      <th>density</th>\n",
       "      <th>pH</th>\n",
       "      <th>sulphates</th>\n",
       "      <th>alcohol</th>\n",
       "      <th>Id</th>\n",
       "    </tr>\n",
       "  </thead>\n",
       "  <tbody>\n",
       "    <tr>\n",
       "      <th>count</th>\n",
       "      <td>54.000000</td>\n",
       "      <td>54.000000</td>\n",
       "      <td>54.000000</td>\n",
       "      <td>54.000000</td>\n",
       "      <td>54.000000</td>\n",
       "      <td>54.000000</td>\n",
       "      <td>54.000000</td>\n",
       "      <td>54.000000</td>\n",
       "      <td>54.000000</td>\n",
       "      <td>54.000000</td>\n",
       "      <td>54.000000</td>\n",
       "      <td>54.000000</td>\n",
       "    </tr>\n",
       "    <tr>\n",
       "      <th>mean</th>\n",
       "      <td>-0.152657</td>\n",
       "      <td>0.062677</td>\n",
       "      <td>-0.057614</td>\n",
       "      <td>0.136824</td>\n",
       "      <td>0.062179</td>\n",
       "      <td>0.006803</td>\n",
       "      <td>-0.094602</td>\n",
       "      <td>0.098720</td>\n",
       "      <td>0.134245</td>\n",
       "      <td>0.171109</td>\n",
       "      <td>-0.072598</td>\n",
       "      <td>0.051374</td>\n",
       "    </tr>\n",
       "    <tr>\n",
       "      <th>std</th>\n",
       "      <td>1.074942</td>\n",
       "      <td>0.967647</td>\n",
       "      <td>0.992158</td>\n",
       "      <td>1.487261</td>\n",
       "      <td>1.096845</td>\n",
       "      <td>1.139268</td>\n",
       "      <td>0.862075</td>\n",
       "      <td>0.941434</td>\n",
       "      <td>1.161138</td>\n",
       "      <td>1.256215</td>\n",
       "      <td>0.989569</td>\n",
       "      <td>1.080069</td>\n",
       "    </tr>\n",
       "    <tr>\n",
       "      <th>min</th>\n",
       "      <td>-1.552017</td>\n",
       "      <td>-1.789643</td>\n",
       "      <td>-1.365027</td>\n",
       "      <td>-0.761554</td>\n",
       "      <td>-0.887526</td>\n",
       "      <td>-1.231259</td>\n",
       "      <td>-1.187590</td>\n",
       "      <td>-2.655829</td>\n",
       "      <td>-2.624691</td>\n",
       "      <td>-1.278197</td>\n",
       "      <td>-1.333163</td>\n",
       "      <td>-1.729150</td>\n",
       "    </tr>\n",
       "    <tr>\n",
       "      <th>25%</th>\n",
       "      <td>-0.807812</td>\n",
       "      <td>-0.606159</td>\n",
       "      <td>-0.907244</td>\n",
       "      <td>-0.447976</td>\n",
       "      <td>-0.337222</td>\n",
       "      <td>-0.840863</td>\n",
       "      <td>-0.813747</td>\n",
       "      <td>-0.315925</td>\n",
       "      <td>-0.533316</td>\n",
       "      <td>-0.456235</td>\n",
       "      <td>-0.686046</td>\n",
       "      <td>-0.803092</td>\n",
       "    </tr>\n",
       "    <tr>\n",
       "      <th>50%</th>\n",
       "      <td>-0.407087</td>\n",
       "      <td>0.076085</td>\n",
       "      <td>-0.246002</td>\n",
       "      <td>-0.245072</td>\n",
       "      <td>-0.136150</td>\n",
       "      <td>-0.401667</td>\n",
       "      <td>-0.333092</td>\n",
       "      <td>0.036165</td>\n",
       "      <td>0.153166</td>\n",
       "      <td>-0.192033</td>\n",
       "      <td>-0.223820</td>\n",
       "      <td>-0.012871</td>\n",
       "    </tr>\n",
       "    <tr>\n",
       "      <th>75%</th>\n",
       "      <td>0.236937</td>\n",
       "      <td>0.605172</td>\n",
       "      <td>0.669563</td>\n",
       "      <td>0.105397</td>\n",
       "      <td>0.064922</td>\n",
       "      <td>0.598723</td>\n",
       "      <td>0.368817</td>\n",
       "      <td>0.644202</td>\n",
       "      <td>1.111048</td>\n",
       "      <td>0.365727</td>\n",
       "      <td>0.215294</td>\n",
       "      <td>1.148744</td>\n",
       "    </tr>\n",
       "    <tr>\n",
       "      <th>max</th>\n",
       "      <td>4.344377</td>\n",
       "      <td>2.721520</td>\n",
       "      <td>2.093777</td>\n",
       "      <td>9.494295</td>\n",
       "      <td>6.922551</td>\n",
       "      <td>3.843891</td>\n",
       "      <td>2.474543</td>\n",
       "      <td>3.616827</td>\n",
       "      <td>2.611730</td>\n",
       "      <td>5.649769</td>\n",
       "      <td>4.121103</td>\n",
       "      <td>1.664598</td>\n",
       "    </tr>\n",
       "  </tbody>\n",
       "</table>\n",
       "</div>"
      ],
      "text/plain": [
       "       fixed acidity  volatile acidity  citric acid  residual sugar  \\\n",
       "count      54.000000         54.000000    54.000000       54.000000   \n",
       "mean       -0.152657          0.062677    -0.057614        0.136824   \n",
       "std         1.074942          0.967647     0.992158        1.487261   \n",
       "min        -1.552017         -1.789643    -1.365027       -0.761554   \n",
       "25%        -0.807812         -0.606159    -0.907244       -0.447976   \n",
       "50%        -0.407087          0.076085    -0.246002       -0.245072   \n",
       "75%         0.236937          0.605172     0.669563        0.105397   \n",
       "max         4.344377          2.721520     2.093777        9.494295   \n",
       "\n",
       "       chlorides  free sulfur dioxide  total sulfur dioxide    density  \\\n",
       "count  54.000000            54.000000             54.000000  54.000000   \n",
       "mean    0.062179             0.006803             -0.094602   0.098720   \n",
       "std     1.096845             1.139268              0.862075   0.941434   \n",
       "min    -0.887526            -1.231259             -1.187590  -2.655829   \n",
       "25%    -0.337222            -0.840863             -0.813747  -0.315925   \n",
       "50%    -0.136150            -0.401667             -0.333092   0.036165   \n",
       "75%     0.064922             0.598723              0.368817   0.644202   \n",
       "max     6.922551             3.843891              2.474543   3.616827   \n",
       "\n",
       "              pH  sulphates    alcohol         Id  \n",
       "count  54.000000  54.000000  54.000000  54.000000  \n",
       "mean    0.134245   0.171109  -0.072598   0.051374  \n",
       "std     1.161138   1.256215   0.989569   1.080069  \n",
       "min    -2.624691  -1.278197  -1.333163  -1.729150  \n",
       "25%    -0.533316  -0.456235  -0.686046  -0.803092  \n",
       "50%     0.153166  -0.192033  -0.223820  -0.012871  \n",
       "75%     1.111048   0.365727   0.215294   1.148744  \n",
       "max     2.611730   5.649769   4.121103   1.664598  "
      ]
     },
     "execution_count": 231,
     "metadata": {},
     "output_type": "execute_result"
    }
   ],
   "source": [
    "misclassified_ab_samples_df.describe()"
   ]
  },
  {
   "cell_type": "markdown",
   "metadata": {},
   "source": [
    "As we can see from the above data, and column `total sulfur dioxide` - the misclassified samples are for lower values of the column. This can be checked from the mean and max values for the column. \\\n",
    "Also, for the column `pH` - the misclassified samples come from higher value for the column. This can be checked from the mean for that column.\n",
    "\n",
    "This is common between both the methods.\n"
   ]
  },
  {
   "cell_type": "code",
   "execution_count": null,
   "metadata": {},
   "outputs": [],
   "source": []
  }
 ],
 "metadata": {
  "kernelspec": {
   "display_name": "Python 3",
   "language": "python",
   "name": "python3"
  },
  "language_info": {
   "codemirror_mode": {
    "name": "ipython",
    "version": 3
   },
   "file_extension": ".py",
   "mimetype": "text/x-python",
   "name": "python",
   "nbconvert_exporter": "python",
   "pygments_lexer": "ipython3",
   "version": "3.10.12"
  }
 },
 "nbformat": 4,
 "nbformat_minor": 2
}
